{
 "cells": [
  {
   "cell_type": "markdown",
   "metadata": {},
   "source": [
    "*Technology transfer for rapid family forest assessments and stewardship planning*"
   ]
  },
  {
   "cell_type": "markdown",
   "metadata": {
    "ExecuteTime": {
     "end_time": "2018-07-06T09:23:55.031428Z",
     "start_time": "2018-07-06T16:23:54.971Z"
    }
   },
   "source": [
    "# Generate forest indicators from Lidar data"
   ]
  },
  {
   "cell_type": "markdown",
   "metadata": {},
   "source": [
    "This notebook, in conjunction with the Forest Mapping Metrics - GIS notebook (which should be run before this notebook), generates wide variety forest indicators that will be used in predicting forest type maps for a sample area within Clackamas County Oregon.  This is a small subset of our larger study region and is intended for methodological demonstration. \n",
    "\n",
    "Airborne lidar data, sourced from the __[Oregon Department of Geology and Mineral Industries (DOGAMI)](http://www.oregongeology.org/lidar/)__, has shown exceptional potential for a wide range of forest resource assessments and will serve as a primary resource in this analysis. We will utilize lidar data in two focal areas, the Portland Metro 2014 LiDAR acquisition footprint, and a southern Oregon area running from east of Ashland, OR over to Klamath Falls with lidar acquisitions ranging from 2004-2017.  This subarea analysis is located entirely within the Portland Metro acquistion. "
   ]
  },
  {
   "cell_type": "code",
   "execution_count": 1,
   "metadata": {
    "ExecuteTime": {
     "end_time": "2018-07-09T11:43:29.442870Z",
     "start_time": "2018-07-09T18:43:29.355Z"
    },
    "collapsed": true
   },
   "outputs": [],
   "source": [
    "wd <- getwd()\n",
    "points <- file.path(wd, \"Data/Lidar/source/POINTS/ALL_POINTS\")\n",
    "dem <- file.path(wd, \"Data/Lidar/source/Bare_Earth\")\n",
    "outDir <- file.path(wd, \"Data/Lidar/output\")\n",
    "plots <- file.path(wd, \"Data/FIA/FIA_plots.shp\")"
   ]
  },
  {
   "cell_type": "code",
   "execution_count": 2,
   "metadata": {
    "ExecuteTime": {
     "end_time": "2018-07-09T11:43:30.019605Z",
     "start_time": "2018-07-09T18:43:29.922Z"
    },
    "collapsed": true
   },
   "outputs": [],
   "source": [
    "#generate list of .las files to be used as input for FUSION commands\n",
    "lasList <- list.files(points, pattern =\".las\", full.names = TRUE)"
   ]
  },
  {
   "cell_type": "code",
   "execution_count": 3,
   "metadata": {
    "ExecuteTime": {
     "end_time": "2018-07-09T11:43:33.753043Z",
     "start_time": "2018-07-09T18:43:33.418Z"
    }
   },
   "outputs": [
    {
     "data": {
      "text/html": [
       "TRUE"
      ],
      "text/latex": [
       "TRUE"
      ],
      "text/markdown": [
       "TRUE"
      ],
      "text/plain": [
       "[1] TRUE"
      ]
     },
     "metadata": {},
     "output_type": "display_data"
    }
   ],
   "source": [
    "#write list of .las file to .txt file\n",
    "las <- file.path(points, \"lasList.txt\")\n",
    "if (file.exists(las)) file.remove(las)\n",
    "d<-lapply(lasList, write, file.path(points, \"lasList.txt\"), append=T, ncolumns=1 )"
   ]
  },
  {
   "cell_type": "code",
   "execution_count": 4,
   "metadata": {
    "ExecuteTime": {
     "end_time": "2018-07-09T11:43:41.729263Z",
     "start_time": "2018-07-09T18:43:41.677Z"
    }
   },
   "outputs": [
    {
     "data": {
      "text/html": [
       "<ol class=list-inline>\n",
       "\t<li>'D:/ForestMappingCIG/Data/Lidar/source/POINTS/ALL_POINTS/45122D4118.las'</li>\n",
       "\t<li>'D:/ForestMappingCIG/Data/Lidar/source/POINTS/ALL_POINTS/45122D4224.las'</li>\n",
       "\t<li>'D:/ForestMappingCIG/Data/Lidar/source/POINTS/ALL_POINTS/45122D4313.las'</li>\n",
       "\t<li>'D:/ForestMappingCIG/Data/Lidar/source/POINTS/ALL_POINTS/45122D4401.las'</li>\n",
       "\t<li>'D:/ForestMappingCIG/Data/Lidar/source/POINTS/ALL_POINTS/45122D4413.las'</li>\n",
       "\t<li>'D:/ForestMappingCIG/Data/Lidar/source/POINTS/ALL_POINTS/45122D4414.las'</li>\n",
       "</ol>\n"
      ],
      "text/latex": [
       "\\begin{enumerate*}\n",
       "\\item 'D:/ForestMappingCIG/Data/Lidar/source/POINTS/ALL\\_POINTS/45122D4118.las'\n",
       "\\item 'D:/ForestMappingCIG/Data/Lidar/source/POINTS/ALL\\_POINTS/45122D4224.las'\n",
       "\\item 'D:/ForestMappingCIG/Data/Lidar/source/POINTS/ALL\\_POINTS/45122D4313.las'\n",
       "\\item 'D:/ForestMappingCIG/Data/Lidar/source/POINTS/ALL\\_POINTS/45122D4401.las'\n",
       "\\item 'D:/ForestMappingCIG/Data/Lidar/source/POINTS/ALL\\_POINTS/45122D4413.las'\n",
       "\\item 'D:/ForestMappingCIG/Data/Lidar/source/POINTS/ALL\\_POINTS/45122D4414.las'\n",
       "\\end{enumerate*}\n"
      ],
      "text/markdown": [
       "1. 'D:/ForestMappingCIG/Data/Lidar/source/POINTS/ALL_POINTS/45122D4118.las'\n",
       "2. 'D:/ForestMappingCIG/Data/Lidar/source/POINTS/ALL_POINTS/45122D4224.las'\n",
       "3. 'D:/ForestMappingCIG/Data/Lidar/source/POINTS/ALL_POINTS/45122D4313.las'\n",
       "4. 'D:/ForestMappingCIG/Data/Lidar/source/POINTS/ALL_POINTS/45122D4401.las'\n",
       "5. 'D:/ForestMappingCIG/Data/Lidar/source/POINTS/ALL_POINTS/45122D4413.las'\n",
       "6. 'D:/ForestMappingCIG/Data/Lidar/source/POINTS/ALL_POINTS/45122D4414.las'\n",
       "\n",
       "\n"
      ],
      "text/plain": [
       "[1] \"D:/ForestMappingCIG/Data/Lidar/source/POINTS/ALL_POINTS/45122D4118.las\"\n",
       "[2] \"D:/ForestMappingCIG/Data/Lidar/source/POINTS/ALL_POINTS/45122D4224.las\"\n",
       "[3] \"D:/ForestMappingCIG/Data/Lidar/source/POINTS/ALL_POINTS/45122D4313.las\"\n",
       "[4] \"D:/ForestMappingCIG/Data/Lidar/source/POINTS/ALL_POINTS/45122D4401.las\"\n",
       "[5] \"D:/ForestMappingCIG/Data/Lidar/source/POINTS/ALL_POINTS/45122D4413.las\"\n",
       "[6] \"D:/ForestMappingCIG/Data/Lidar/source/POINTS/ALL_POINTS/45122D4414.las\""
      ]
     },
     "metadata": {},
     "output_type": "display_data"
    }
   ],
   "source": [
    "lasList"
   ]
  },
  {
   "cell_type": "markdown",
   "metadata": {},
   "source": [
    "### Clip lidar point clouds to FIA plot footprints"
   ]
  },
  {
   "cell_type": "markdown",
   "metadata": {},
   "source": [
    "To manipulate and summary lidar data, we use the __[FUSION/LDV Lidar analysis and visualization](http://forsys.cfr.washington.edu/fusion/fusionlatest.html)__ software package developed by the Pacific Northwest Resaerch Station and University of Washington researchers. In order to run these tools, FUSION must be install on your local computer. \n",
    "\n",
    "First we clip the las files to the fia plot buffers that we created with the GIS notebook. "
   ]
  },
  {
   "cell_type": "code",
   "execution_count": 17,
   "metadata": {
    "ExecuteTime": {
     "end_time": "2018-07-06T10:03:59.204599Z",
     "start_time": "2018-07-06T16:59:59.555Z"
    }
   },
   "outputs": [
    {
     "data": {
      "text/html": [
       "<ol class=list-inline>\n",
       "\t<li><span style=white-space:pre-wrap>'PolyClipData v1.60 (FUSION v3.50) (Built on Oct  9 2015 10:10:55) DEBUG'</span></li>\n",
       "\t<li>' --Robert J. McGaughey--USDA Forest Service--Pacific Northwest Research Station'</li>\n",
       "\t<li>'Command line: C:\\\\Fusion\\\\POLYCL~1.EXE /multifile /shape:1,* D:/ForestMappingCIG/Data/FIA/FIA_plots.shp D:/ForestMappingCIG/Data/Lidar/output/clipLidar.las D:/ForestMappingCIG/Data/Lidar/source/POINTS/ALL_POINTS/lasList.txt'</li>\n",
       "\t<li>'Run started: Fri Jul 06 09:59:59 2018'</li>\n",
       "\t<li><span style=white-space:pre-wrap>'   D:/ForestMappingCIG/Data/Lidar/source/POINTS/ALL_POINTS/45122D4118.las: 37892714 points'</span></li>\n",
       "\t<li><span style=white-space:pre-wrap>'   D:/ForestMappingCIG/Data/Lidar/source/POINTS/ALL_POINTS/45122D4224.las: 20542100 points'</span></li>\n",
       "\t<li><span style=white-space:pre-wrap>'   D:/ForestMappingCIG/Data/Lidar/source/POINTS/ALL_POINTS/45122D4313.las: 15709351 points'</span></li>\n",
       "\t<li><span style=white-space:pre-wrap>'   D:/ForestMappingCIG/Data/Lidar/source/POINTS/ALL_POINTS/45122D4401.las: 19748596 points'</span></li>\n",
       "\t<li><span style=white-space:pre-wrap>'   D:/ForestMappingCIG/Data/Lidar/source/POINTS/ALL_POINTS/45122D4413.las: 15448670 points'</span></li>\n",
       "\t<li><span style=white-space:pre-wrap>'   D:/ForestMappingCIG/Data/Lidar/source/POINTS/ALL_POINTS/45122D4414.las: 16938202 points'</span></li>\n",
       "\t<li><span style=white-space:pre-wrap>'   Total: 126279633 points'</span></li>\n",
       "\t<li>''</li>\n",
       "\t<li><span style=white-space:pre-wrap>'Polygon 1:   ID:60634                              Pts:21   Parts:1'</span></li>\n",
       "\t<li><span style=white-space:pre-wrap>'   Extent: 822575.26,1338038.12   822935.26,1338398.12'</span></li>\n",
       "\t<li><span style=white-space:pre-wrap>'   Part 1:   CW    Pts:21   1st pt:0'</span></li>\n",
       "\t<li><span style=white-space:pre-wrap>'Polygon 2:   ID:65759                              Pts:21   Parts:1'</span></li>\n",
       "\t<li><span style=white-space:pre-wrap>'   Extent: 806593.72,1356780.50   806953.72,1357140.50'</span></li>\n",
       "\t<li><span style=white-space:pre-wrap>'   Part 1:   CW    Pts:21   1st pt:0'</span></li>\n",
       "\t<li><span style=white-space:pre-wrap>'Polygon 3:   ID:74773                              Pts:21   Parts:1'</span></li>\n",
       "\t<li><span style=white-space:pre-wrap>'   Extent: 825000.95,1353133.87   825360.95,1353493.87'</span></li>\n",
       "\t<li><span style=white-space:pre-wrap>'   Part 1:   CW    Pts:21   1st pt:0'</span></li>\n",
       "\t<li><span style=white-space:pre-wrap>'Polygon 4:   ID:76297                              Pts:21   Parts:1'</span></li>\n",
       "\t<li><span style=white-space:pre-wrap>'   Extent: 805589.92,1337277.77   805949.92,1337637.77'</span></li>\n",
       "\t<li><span style=white-space:pre-wrap>'   Part 1:   CW    Pts:21   1st pt:0'</span></li>\n",
       "\t<li><span style=white-space:pre-wrap>'   Scanning D:/ForestMappingCIG/Data/Lidar/source/POINTS/ALL_POINTS/45122D4118.las...376434 points out of 37892714 found in polygons'</span></li>\n",
       "\t<li><span style=white-space:pre-wrap>'   Scanning D:/ForestMappingCIG/Data/Lidar/source/POINTS/ALL_POINTS/45122D4224.las...92756 points out of 20542100 found in polygons'</span></li>\n",
       "\t<li><span style=white-space:pre-wrap>'   Scanning D:/ForestMappingCIG/Data/Lidar/source/POINTS/ALL_POINTS/45122D4313.las...96558 points out of 15709351 found in polygons'</span></li>\n",
       "\t<li><span style=white-space:pre-wrap>'   Scanning D:/ForestMappingCIG/Data/Lidar/source/POINTS/ALL_POINTS/45122D4401.las...0 points out of 19748596 found in polygons'</span></li>\n",
       "\t<li><span style=white-space:pre-wrap>'   Scanning D:/ForestMappingCIG/Data/Lidar/source/POINTS/ALL_POINTS/45122D4413.las...93964 points out of 15448670 found in polygons'</span></li>\n",
       "\t<li><span style=white-space:pre-wrap>'   Scanning D:/ForestMappingCIG/Data/Lidar/source/POINTS/ALL_POINTS/45122D4414.las...0 points out of 16938202 found in polygons'</span></li>\n",
       "\t<li><span style=white-space:pre-wrap>'   Creating output files for polygons 1 - 4 of 4...Done'</span></li>\n",
       "\t<li>'Overall: 659712 points out of 126279633 written to output file'</li>\n",
       "\t<li>'Run finished: Fri Jul 06 10:03:59 2018 (elapsed time: 240 seconds)'</li>\n",
       "\t<li>'Done'</li>\n",
       "</ol>\n"
      ],
      "text/latex": [
       "\\begin{enumerate*}\n",
       "\\item 'PolyClipData v1.60 (FUSION v3.50) (Built on Oct  9 2015 10:10:55) DEBUG'\n",
       "\\item ' --Robert J. McGaughey--USDA Forest Service--Pacific Northwest Research Station'\n",
       "\\item 'Command line: C:\\textbackslash{}\\textbackslash{}Fusion\\textbackslash{}\\textbackslash{}POLYCL\\textasciitilde{}1.EXE /multifile /shape:1,* D:/ForestMappingCIG/Data/FIA/FIA\\_plots.shp D:/ForestMappingCIG/Data/Lidar/output/clipLidar.las D:/ForestMappingCIG/Data/Lidar/source/POINTS/ALL\\_POINTS/lasList.txt'\n",
       "\\item 'Run started: Fri Jul 06 09:59:59 2018'\n",
       "\\item '   D:/ForestMappingCIG/Data/Lidar/source/POINTS/ALL\\_POINTS/45122D4118.las: 37892714 points'\n",
       "\\item '   D:/ForestMappingCIG/Data/Lidar/source/POINTS/ALL\\_POINTS/45122D4224.las: 20542100 points'\n",
       "\\item '   D:/ForestMappingCIG/Data/Lidar/source/POINTS/ALL\\_POINTS/45122D4313.las: 15709351 points'\n",
       "\\item '   D:/ForestMappingCIG/Data/Lidar/source/POINTS/ALL\\_POINTS/45122D4401.las: 19748596 points'\n",
       "\\item '   D:/ForestMappingCIG/Data/Lidar/source/POINTS/ALL\\_POINTS/45122D4413.las: 15448670 points'\n",
       "\\item '   D:/ForestMappingCIG/Data/Lidar/source/POINTS/ALL\\_POINTS/45122D4414.las: 16938202 points'\n",
       "\\item '   Total: 126279633 points'\n",
       "\\item ''\n",
       "\\item 'Polygon 1:   ID:60634                              Pts:21   Parts:1'\n",
       "\\item '   Extent: 822575.26,1338038.12   822935.26,1338398.12'\n",
       "\\item '   Part 1:   CW    Pts:21   1st pt:0'\n",
       "\\item 'Polygon 2:   ID:65759                              Pts:21   Parts:1'\n",
       "\\item '   Extent: 806593.72,1356780.50   806953.72,1357140.50'\n",
       "\\item '   Part 1:   CW    Pts:21   1st pt:0'\n",
       "\\item 'Polygon 3:   ID:74773                              Pts:21   Parts:1'\n",
       "\\item '   Extent: 825000.95,1353133.87   825360.95,1353493.87'\n",
       "\\item '   Part 1:   CW    Pts:21   1st pt:0'\n",
       "\\item 'Polygon 4:   ID:76297                              Pts:21   Parts:1'\n",
       "\\item '   Extent: 805589.92,1337277.77   805949.92,1337637.77'\n",
       "\\item '   Part 1:   CW    Pts:21   1st pt:0'\n",
       "\\item '   Scanning D:/ForestMappingCIG/Data/Lidar/source/POINTS/ALL\\_POINTS/45122D4118.las...376434 points out of 37892714 found in polygons'\n",
       "\\item '   Scanning D:/ForestMappingCIG/Data/Lidar/source/POINTS/ALL\\_POINTS/45122D4224.las...92756 points out of 20542100 found in polygons'\n",
       "\\item '   Scanning D:/ForestMappingCIG/Data/Lidar/source/POINTS/ALL\\_POINTS/45122D4313.las...96558 points out of 15709351 found in polygons'\n",
       "\\item '   Scanning D:/ForestMappingCIG/Data/Lidar/source/POINTS/ALL\\_POINTS/45122D4401.las...0 points out of 19748596 found in polygons'\n",
       "\\item '   Scanning D:/ForestMappingCIG/Data/Lidar/source/POINTS/ALL\\_POINTS/45122D4413.las...93964 points out of 15448670 found in polygons'\n",
       "\\item '   Scanning D:/ForestMappingCIG/Data/Lidar/source/POINTS/ALL\\_POINTS/45122D4414.las...0 points out of 16938202 found in polygons'\n",
       "\\item '   Creating output files for polygons 1 - 4 of 4...Done'\n",
       "\\item 'Overall: 659712 points out of 126279633 written to output file'\n",
       "\\item 'Run finished: Fri Jul 06 10:03:59 2018 (elapsed time: 240 seconds)'\n",
       "\\item 'Done'\n",
       "\\end{enumerate*}\n"
      ],
      "text/markdown": [
       "1. <span style=white-space:pre-wrap>'PolyClipData v1.60 (FUSION v3.50) (Built on Oct  9 2015 10:10:55) DEBUG'</span>\n",
       "2. ' --Robert J. McGaughey--USDA Forest Service--Pacific Northwest Research Station'\n",
       "3. 'Command line: C:\\\\Fusion\\\\POLYCL~1.EXE /multifile /shape:1,* D:/ForestMappingCIG/Data/FIA/FIA_plots.shp D:/ForestMappingCIG/Data/Lidar/output/clipLidar.las D:/ForestMappingCIG/Data/Lidar/source/POINTS/ALL_POINTS/lasList.txt'\n",
       "4. 'Run started: Fri Jul 06 09:59:59 2018'\n",
       "5. <span style=white-space:pre-wrap>'   D:/ForestMappingCIG/Data/Lidar/source/POINTS/ALL_POINTS/45122D4118.las: 37892714 points'</span>\n",
       "6. <span style=white-space:pre-wrap>'   D:/ForestMappingCIG/Data/Lidar/source/POINTS/ALL_POINTS/45122D4224.las: 20542100 points'</span>\n",
       "7. <span style=white-space:pre-wrap>'   D:/ForestMappingCIG/Data/Lidar/source/POINTS/ALL_POINTS/45122D4313.las: 15709351 points'</span>\n",
       "8. <span style=white-space:pre-wrap>'   D:/ForestMappingCIG/Data/Lidar/source/POINTS/ALL_POINTS/45122D4401.las: 19748596 points'</span>\n",
       "9. <span style=white-space:pre-wrap>'   D:/ForestMappingCIG/Data/Lidar/source/POINTS/ALL_POINTS/45122D4413.las: 15448670 points'</span>\n",
       "10. <span style=white-space:pre-wrap>'   D:/ForestMappingCIG/Data/Lidar/source/POINTS/ALL_POINTS/45122D4414.las: 16938202 points'</span>\n",
       "11. <span style=white-space:pre-wrap>'   Total: 126279633 points'</span>\n",
       "12. ''\n",
       "13. <span style=white-space:pre-wrap>'Polygon 1:   ID:60634                              Pts:21   Parts:1'</span>\n",
       "14. <span style=white-space:pre-wrap>'   Extent: 822575.26,1338038.12   822935.26,1338398.12'</span>\n",
       "15. <span style=white-space:pre-wrap>'   Part 1:   CW    Pts:21   1st pt:0'</span>\n",
       "16. <span style=white-space:pre-wrap>'Polygon 2:   ID:65759                              Pts:21   Parts:1'</span>\n",
       "17. <span style=white-space:pre-wrap>'   Extent: 806593.72,1356780.50   806953.72,1357140.50'</span>\n",
       "18. <span style=white-space:pre-wrap>'   Part 1:   CW    Pts:21   1st pt:0'</span>\n",
       "19. <span style=white-space:pre-wrap>'Polygon 3:   ID:74773                              Pts:21   Parts:1'</span>\n",
       "20. <span style=white-space:pre-wrap>'   Extent: 825000.95,1353133.87   825360.95,1353493.87'</span>\n",
       "21. <span style=white-space:pre-wrap>'   Part 1:   CW    Pts:21   1st pt:0'</span>\n",
       "22. <span style=white-space:pre-wrap>'Polygon 4:   ID:76297                              Pts:21   Parts:1'</span>\n",
       "23. <span style=white-space:pre-wrap>'   Extent: 805589.92,1337277.77   805949.92,1337637.77'</span>\n",
       "24. <span style=white-space:pre-wrap>'   Part 1:   CW    Pts:21   1st pt:0'</span>\n",
       "25. <span style=white-space:pre-wrap>'   Scanning D:/ForestMappingCIG/Data/Lidar/source/POINTS/ALL_POINTS/45122D4118.las...376434 points out of 37892714 found in polygons'</span>\n",
       "26. <span style=white-space:pre-wrap>'   Scanning D:/ForestMappingCIG/Data/Lidar/source/POINTS/ALL_POINTS/45122D4224.las...92756 points out of 20542100 found in polygons'</span>\n",
       "27. <span style=white-space:pre-wrap>'   Scanning D:/ForestMappingCIG/Data/Lidar/source/POINTS/ALL_POINTS/45122D4313.las...96558 points out of 15709351 found in polygons'</span>\n",
       "28. <span style=white-space:pre-wrap>'   Scanning D:/ForestMappingCIG/Data/Lidar/source/POINTS/ALL_POINTS/45122D4401.las...0 points out of 19748596 found in polygons'</span>\n",
       "29. <span style=white-space:pre-wrap>'   Scanning D:/ForestMappingCIG/Data/Lidar/source/POINTS/ALL_POINTS/45122D4413.las...93964 points out of 15448670 found in polygons'</span>\n",
       "30. <span style=white-space:pre-wrap>'   Scanning D:/ForestMappingCIG/Data/Lidar/source/POINTS/ALL_POINTS/45122D4414.las...0 points out of 16938202 found in polygons'</span>\n",
       "31. <span style=white-space:pre-wrap>'   Creating output files for polygons 1 - 4 of 4...Done'</span>\n",
       "32. 'Overall: 659712 points out of 126279633 written to output file'\n",
       "33. 'Run finished: Fri Jul 06 10:03:59 2018 (elapsed time: 240 seconds)'\n",
       "34. 'Done'\n",
       "\n",
       "\n"
      ],
      "text/plain": [
       " [1] \"PolyClipData v1.60 (FUSION v3.50) (Built on Oct  9 2015 10:10:55) DEBUG\"                                                                                                                                                        \n",
       " [2] \" --Robert J. McGaughey--USDA Forest Service--Pacific Northwest Research Station\"                                                                                                                                                \n",
       " [3] \"Command line: C:\\\\Fusion\\\\POLYCL~1.EXE /multifile /shape:1,* D:/ForestMappingCIG/Data/FIA/FIA_plots.shp D:/ForestMappingCIG/Data/Lidar/output/clipLidar.las D:/ForestMappingCIG/Data/Lidar/source/POINTS/ALL_POINTS/lasList.txt\"\n",
       " [4] \"Run started: Fri Jul 06 09:59:59 2018\"                                                                                                                                                                                          \n",
       " [5] \"   D:/ForestMappingCIG/Data/Lidar/source/POINTS/ALL_POINTS/45122D4118.las: 37892714 points\"                                                                                                                                     \n",
       " [6] \"   D:/ForestMappingCIG/Data/Lidar/source/POINTS/ALL_POINTS/45122D4224.las: 20542100 points\"                                                                                                                                     \n",
       " [7] \"   D:/ForestMappingCIG/Data/Lidar/source/POINTS/ALL_POINTS/45122D4313.las: 15709351 points\"                                                                                                                                     \n",
       " [8] \"   D:/ForestMappingCIG/Data/Lidar/source/POINTS/ALL_POINTS/45122D4401.las: 19748596 points\"                                                                                                                                     \n",
       " [9] \"   D:/ForestMappingCIG/Data/Lidar/source/POINTS/ALL_POINTS/45122D4413.las: 15448670 points\"                                                                                                                                     \n",
       "[10] \"   D:/ForestMappingCIG/Data/Lidar/source/POINTS/ALL_POINTS/45122D4414.las: 16938202 points\"                                                                                                                                     \n",
       "[11] \"   Total: 126279633 points\"                                                                                                                                                                                                     \n",
       "[12] \"\"                                                                                                                                                                                                                               \n",
       "[13] \"Polygon 1:   ID:60634                              Pts:21   Parts:1\"                                                                                                                                                            \n",
       "[14] \"   Extent: 822575.26,1338038.12   822935.26,1338398.12\"                                                                                                                                                                         \n",
       "[15] \"   Part 1:   CW    Pts:21   1st pt:0\"                                                                                                                                                                                           \n",
       "[16] \"Polygon 2:   ID:65759                              Pts:21   Parts:1\"                                                                                                                                                            \n",
       "[17] \"   Extent: 806593.72,1356780.50   806953.72,1357140.50\"                                                                                                                                                                         \n",
       "[18] \"   Part 1:   CW    Pts:21   1st pt:0\"                                                                                                                                                                                           \n",
       "[19] \"Polygon 3:   ID:74773                              Pts:21   Parts:1\"                                                                                                                                                            \n",
       "[20] \"   Extent: 825000.95,1353133.87   825360.95,1353493.87\"                                                                                                                                                                         \n",
       "[21] \"   Part 1:   CW    Pts:21   1st pt:0\"                                                                                                                                                                                           \n",
       "[22] \"Polygon 4:   ID:76297                              Pts:21   Parts:1\"                                                                                                                                                            \n",
       "[23] \"   Extent: 805589.92,1337277.77   805949.92,1337637.77\"                                                                                                                                                                         \n",
       "[24] \"   Part 1:   CW    Pts:21   1st pt:0\"                                                                                                                                                                                           \n",
       "[25] \"   Scanning D:/ForestMappingCIG/Data/Lidar/source/POINTS/ALL_POINTS/45122D4118.las...376434 points out of 37892714 found in polygons\"                                                                                           \n",
       "[26] \"   Scanning D:/ForestMappingCIG/Data/Lidar/source/POINTS/ALL_POINTS/45122D4224.las...92756 points out of 20542100 found in polygons\"                                                                                            \n",
       "[27] \"   Scanning D:/ForestMappingCIG/Data/Lidar/source/POINTS/ALL_POINTS/45122D4313.las...96558 points out of 15709351 found in polygons\"                                                                                            \n",
       "[28] \"   Scanning D:/ForestMappingCIG/Data/Lidar/source/POINTS/ALL_POINTS/45122D4401.las...0 points out of 19748596 found in polygons\"                                                                                                \n",
       "[29] \"   Scanning D:/ForestMappingCIG/Data/Lidar/source/POINTS/ALL_POINTS/45122D4413.las...93964 points out of 15448670 found in polygons\"                                                                                            \n",
       "[30] \"   Scanning D:/ForestMappingCIG/Data/Lidar/source/POINTS/ALL_POINTS/45122D4414.las...0 points out of 16938202 found in polygons\"                                                                                                \n",
       "[31] \"   Creating output files for polygons 1 - 4 of 4...Done\"                                                                                                                                                                        \n",
       "[32] \"Overall: 659712 points out of 126279633 written to output file\"                                                                                                                                                                 \n",
       "[33] \"Run finished: Fri Jul 06 10:03:59 2018 (elapsed time: 240 seconds)\"                                                                                                                                                             \n",
       "[34] \"Done\"                                                                                                                                                                                                                           "
      ]
     },
     "metadata": {},
     "output_type": "display_data"
    }
   ],
   "source": [
    "#clip las files to FIA plot circles\n",
    "system(paste(file.path(\"C:\",\"Fusion\", \"PolyClipData.exe\"), #path to FUSION executable on local computer\n",
    "        paste(\"/multifile /shape:1,*\"),\n",
    "        paste(plots),\n",
    "        paste(file.path(outDir, \"clipLidar.las\"), sep=\"\"),\n",
    "        paste(file.path(points, \"lasList.txt\"), sep=\"\")), intern = T)"
   ]
  },
  {
   "cell_type": "markdown",
   "metadata": {},
   "source": [
    "### Calculate statistical predictor variables from clipped lidar data"
   ]
  },
  {
   "cell_type": "markdown",
   "metadata": {},
   "source": [
    "Lidar predictor variables are computed using the FUSION *CloudMetrics* tool.  These metrics are computed using point elevations and intensity values.  This tool produces an output file containing a variety of statistical parameters describing the lidar data set. "
   ]
  },
  {
   "cell_type": "code",
   "execution_count": 9,
   "metadata": {
    "ExecuteTime": {
     "end_time": "2018-07-05T11:24:52.599886Z",
     "start_time": "2018-07-05T18:24:52.558Z"
    },
    "collapsed": true
   },
   "outputs": [],
   "source": [
    "#create a list of .las files to use as input for FUSION tool\n",
    "clippedList <- list.files(outDir, pattern=\".las\", full.names = TRUE)"
   ]
  },
  {
   "cell_type": "code",
   "execution_count": 10,
   "metadata": {
    "ExecuteTime": {
     "end_time": "2018-07-05T11:24:53.793986Z",
     "start_time": "2018-07-05T18:24:53.454Z"
    },
    "collapsed": true
   },
   "outputs": [],
   "source": [
    "#create a text file of the .las file list\n",
    "las <- file.path(outDir, \"clippedList.txt\")\n",
    "if (file.exists(las)) file.remove(las)\n",
    "d<-lapply(clippedList, write, file.path(outDir, \"clippedList.txt\"), append=T, ncolumns=1)"
   ]
  },
  {
   "cell_type": "code",
   "execution_count": 17,
   "metadata": {
    "ExecuteTime": {
     "end_time": "2018-07-05T11:29:47.651314Z",
     "start_time": "2018-07-05T18:29:40.640Z"
    },
    "collapsed": true
   },
   "outputs": [],
   "source": [
    "#calculate cloud metrics \n",
    "system(paste(file.path(\"C:\", \"Fusion\", \"CloudMetrics.exe\"),\n",
    "     paste(\"/above:4.5\"), \n",
    "     paste(\"/strata:[0,.15,1.37,5,10,20,30]\"),\n",
    "     paste(\"/id\"),\n",
    "     paste(file.path(outDir, \"clippedList.txt\")), \n",
    "     paste(file.path(outDir, \"cloudmetrics.csv\"))))"
   ]
  },
  {
   "cell_type": "markdown",
   "metadata": {
    "ExecuteTime": {
     "end_time": "2018-07-06T09:42:41.164595Z",
     "start_time": "2018-07-06T16:42:41.131Z"
    }
   },
   "source": [
    "### Calculate topographic predictor variables from Bare Earth Terrian Model "
   ]
  },
  {
   "cell_type": "markdown",
   "metadata": {},
   "source": [
    "A 3 meter x 3 meter resolution raster grid containing bare earth eleveation values for our study area was used to calculate a variety of topographic attributes. The FUSION *TopoMetrics* tool is used to compute these metrics.  The output from this tool is a text file containing topographic indicators for our study area. "
   ]
  },
  {
   "cell_type": "code",
   "execution_count": 21,
   "metadata": {
    "ExecuteTime": {
     "end_time": "2018-07-05T13:56:01.026173Z",
     "start_time": "2018-07-05T19:32:40.515Z"
    },
    "collapsed": true
   },
   "outputs": [],
   "source": [
    "#calculate topographic metrics\n",
    "system(paste(file.path(\"C:\", \"Fusion\", \"TopoMetrics.exe\"),\n",
    "     paste(file.path(dem, \"*.dtm\")), \n",
    "     paste(\"3 3 45.439128 5\"),\n",
    "     paste(file.path(outDir, \"topometrics.csv\"))))"
   ]
  },
  {
   "cell_type": "code",
   "execution_count": 23,
   "metadata": {
    "ExecuteTime": {
     "end_time": "2018-07-05T13:56:01.173460Z",
     "start_time": "2018-07-05T19:43:42.240Z"
    }
   },
   "outputs": [
    {
     "data": {
      "text/html": [
       "'D:/ForestMappingCIG/Data/Lidar/source/POINTS/ALL_POINTS'"
      ],
      "text/latex": [
       "'D:/ForestMappingCIG/Data/Lidar/source/POINTS/ALL\\_POINTS'"
      ],
      "text/markdown": [
       "'D:/ForestMappingCIG/Data/Lidar/source/POINTS/ALL_POINTS'"
      ],
      "text/plain": [
       "[1] \"D:/ForestMappingCIG/Data/Lidar/source/POINTS/ALL_POINTS\""
      ]
     },
     "metadata": {},
     "output_type": "display_data"
    }
   ],
   "source": []
  },
  {
   "cell_type": "code",
   "execution_count": null,
   "metadata": {
    "collapsed": true
   },
   "outputs": [],
   "source": []
  }
 ],
 "metadata": {
  "kernelspec": {
   "display_name": "R",
   "language": "R",
   "name": "ir"
  },
  "language_info": {
   "codemirror_mode": "r",
   "file_extension": ".r",
   "mimetype": "text/x-r-source",
   "name": "R",
   "pygments_lexer": "r",
   "version": "3.5.1"
  },
  "toc": {
   "colors": {
    "hover_highlight": "#DAA520",
    "navigate_num": "#000000",
    "navigate_text": "#333333",
    "running_highlight": "#FF0000",
    "selected_highlight": "#FFD700",
    "sidebar_border": "#EEEEEE",
    "wrapper_background": "#FFFFFF"
   },
   "moveMenuLeft": true,
   "nav_menu": {
    "height": "12px",
    "width": "252px"
   },
   "navigate_menu": true,
   "number_sections": false,
   "sideBar": true,
   "threshold": 4,
   "toc_cell": false,
   "toc_section_display": "block",
   "toc_window_display": true,
   "widenNotebook": false
  }
 },
 "nbformat": 4,
 "nbformat_minor": 2
}
