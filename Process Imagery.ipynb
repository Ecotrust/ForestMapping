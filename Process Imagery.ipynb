{
 "cells": [
  {
   "cell_type": "code",
   "execution_count": 118,
   "metadata": {},
   "outputs": [],
   "source": [
    "import ee\n",
    "from ee import batch\n",
    "from IPython.display import Image"
   ]
  },
  {
   "cell_type": "code",
   "execution_count": 119,
   "metadata": {},
   "outputs": [],
   "source": [
    "##Initialize connection to server\n",
    "ee.Initialize()"
   ]
  },
  {
   "cell_type": "code",
   "execution_count": 120,
   "metadata": {},
   "outputs": [],
   "source": [
    "##define region of interest\n",
    "region = ee.Geometry.Polygon([[\n",
    "                    [-123.6, 42.0], [-119.9, 41.9], [-121.1, 45.6],\n",
    "                     [-123.8, 45.9], [-123.6, 42.0]]])"
   ]
  },
  {
   "cell_type": "code",
   "execution_count": 121,
   "metadata": {},
   "outputs": [],
   "source": [
    "## Sentinel 2 2016-2018\n",
    "#load sentintial 2018\n",
    "s2_2018 = ee.ImageCollection('COPERNICUS/S2').filterDate('2018-04-01', '2018-08-31')\\\n",
    "            .filterBounds(region).median()"
   ]
  },
  {
   "cell_type": "code",
   "execution_count": 122,
   "metadata": {},
   "outputs": [],
   "source": [
    "#load sentintial 2017\n",
    "s2_2017 = ee.ImageCollection('COPERNICUS/S2').filterDate('2017-04-01', '2017-08-31')\\\n",
    "            .filterBounds(region).median()"
   ]
  },
  {
   "cell_type": "code",
   "execution_count": 123,
   "metadata": {},
   "outputs": [],
   "source": [
    "#load sentintial 2016\n",
    "s2_2016 = ee.ImageCollection('COPERNICUS/S2').filterDate('2016-04-01', '2016-08-31')\\\n",
    "            .filterBounds(region).median()"
   ]
  },
  {
   "cell_type": "code",
   "execution_count": 124,
   "metadata": {},
   "outputs": [],
   "source": [
    "## Landsat 8 2013-2015\n",
    "# Load landsat 8 2015\n",
    "land8_2015 = ee.ImageCollection('LANDSAT/LC08/C01/T1_SR').filterDate('2015-04-01', '2015-08-31')\\\n",
    "             .filterBounds(region).median()"
   ]
  },
  {
   "cell_type": "code",
   "execution_count": 125,
   "metadata": {},
   "outputs": [],
   "source": [
    "# Load landsat 8 2014\n",
    "land8_2014 = ee.ImageCollection('LANDSAT/LC08/C01/T1_SR').filterDate('2014-04-01', '2014-08-31')\\\n",
    "             .filterBounds(region).median()"
   ]
  },
  {
   "cell_type": "code",
   "execution_count": 126,
   "metadata": {},
   "outputs": [],
   "source": [
    "# Load landsat 8 2013\n",
    "land8_2013 = ee.ImageCollection('LANDSAT/LC08/C01/T1_SR').filterDate('2013-04-01', '2013-08-31')\\\n",
    "             .filterBounds(region).median()"
   ]
  },
  {
   "cell_type": "code",
   "execution_count": 127,
   "metadata": {},
   "outputs": [],
   "source": [
    "## Landsat 7 2012\n",
    "land7_2012 = ee.ImageCollection('LANDSAT/LE07/C01/T1_SR').filterDate('2012-04-01', '2012-08-31')\\\n",
    "             .filterBounds(region).median()"
   ]
  },
  {
   "cell_type": "code",
   "execution_count": 128,
   "metadata": {},
   "outputs": [],
   "source": [
    "## Landsat 5 2002-2011\n",
    "#load landsat 5 2011\n",
    "land5_2011 = ee.ImageCollection(\"LANDSAT/LT05/C01/T1_SR\").filterDate('2011-04-01', '2011-08-31')\\\n",
    "             .filterBounds(region).median()"
   ]
  },
  {
   "cell_type": "code",
   "execution_count": 129,
   "metadata": {},
   "outputs": [],
   "source": [
    "#load landsat 5 2010\n",
    "land5_2010 = ee.ImageCollection(\"LANDSAT/LT05/C01/T1_SR\").filterDate('2010-04-01', '2010-08-31')\\\n",
    "             .filterBounds(region).median()"
   ]
  },
  {
   "cell_type": "code",
   "execution_count": 130,
   "metadata": {},
   "outputs": [],
   "source": [
    "#load landsat 5 2009\n",
    "land5_2009 = ee.ImageCollection(\"LANDSAT/LT05/C01/T1_SR\").filterDate('2009-04-01', '2009-08-31')\\\n",
    "             .filterBounds(region).median()"
   ]
  },
  {
   "cell_type": "code",
   "execution_count": 131,
   "metadata": {},
   "outputs": [],
   "source": [
    "#load landsat 5 2008\n",
    "land5_2008 = ee.ImageCollection(\"LANDSAT/LT05/C01/T1_SR\").filterDate('2008-04-01', '2008-08-31')\\\n",
    "             .filterBounds(region).median()"
   ]
  },
  {
   "cell_type": "code",
   "execution_count": 132,
   "metadata": {},
   "outputs": [],
   "source": [
    "#load landsat 5 2007\n",
    "land5_2007 = ee.ImageCollection(\"LANDSAT/LT05/C01/T1_SR\").filterDate('2007-04-01', '2007-08-31')\\\n",
    "             .filterBounds(region).median()"
   ]
  },
  {
   "cell_type": "code",
   "execution_count": 133,
   "metadata": {},
   "outputs": [],
   "source": [
    "#load landsat 5 2006\n",
    "land5_2006 = ee.ImageCollection(\"LANDSAT/LT05/C01/T1_SR\").filterDate('2006-04-01', '2006-08-31')\\\n",
    "             .filterBounds(region).median()"
   ]
  },
  {
   "cell_type": "code",
   "execution_count": 134,
   "metadata": {},
   "outputs": [],
   "source": [
    "#load landsat 5 2005\n",
    "land5_2005 = ee.ImageCollection(\"LANDSAT/LT05/C01/T1_SR\").filterDate('2005-04-01', '2005-08-31')\\\n",
    "             .filterBounds(region).median()"
   ]
  },
  {
   "cell_type": "code",
   "execution_count": 135,
   "metadata": {},
   "outputs": [],
   "source": [
    "#load landsat 5 2004\n",
    "land5_2004 = ee.ImageCollection(\"LANDSAT/LT05/C01/T1_SR\").filterDate('2004-04-01', '2004-08-31')\\\n",
    "             .filterBounds(region).median()"
   ]
  },
  {
   "cell_type": "code",
   "execution_count": 136,
   "metadata": {},
   "outputs": [],
   "source": [
    "#load landsat 5 2003\n",
    "land5_2003 = ee.ImageCollection(\"LANDSAT/LT05/C01/T1_SR\").filterDate('2003-04-01', '2003-08-31')\\\n",
    "             .filterBounds(region).median()"
   ]
  },
  {
   "cell_type": "code",
   "execution_count": 137,
   "metadata": {},
   "outputs": [],
   "source": [
    "#load landsat 5 2002\n",
    "land5_2002 = ee.ImageCollection(\"LANDSAT/LT05/C01/T1_SR\").filterDate('2002-04-01', '2002-08-31')\\\n",
    "             .filterBounds(region).median()"
   ]
  },
  {
   "cell_type": "code",
   "execution_count": null,
   "metadata": {},
   "outputs": [],
   "source": []
  },
  {
   "cell_type": "code",
   "execution_count": null,
   "metadata": {},
   "outputs": [],
   "source": []
  },
  {
   "cell_type": "code",
   "execution_count": null,
   "metadata": {},
   "outputs": [],
   "source": []
  }
 ],
 "metadata": {
  "kernelspec": {
   "display_name": "Environment (conda_ee_py3)",
   "language": "python",
   "name": "conda_ee_py3"
  },
  "language_info": {
   "codemirror_mode": {
    "name": "ipython",
    "version": 3
   },
   "file_extension": ".py",
   "mimetype": "text/x-python",
   "name": "python",
   "nbconvert_exporter": "python",
   "pygments_lexer": "ipython3",
   "version": "3.6.6"
  }
 },
 "nbformat": 4,
 "nbformat_minor": 2
}
