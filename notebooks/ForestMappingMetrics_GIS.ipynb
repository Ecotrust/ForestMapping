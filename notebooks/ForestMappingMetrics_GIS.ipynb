{
 "cells": [
  {
   "cell_type": "markdown",
   "metadata": {},
   "source": [
    "*Technology transfer for rapid family forest assessments and stewardship planning*"
   ]
  },
  {
   "cell_type": "markdown",
   "metadata": {},
   "source": [
    "# Generate forest indicators from remotely sensed and climate data"
   ]
  },
  {
   "cell_type": "markdown",
   "metadata": {},
   "source": [
    "This notebook facilitates the first steps in developing a predictive model to characterize forest conditions using lidar, high-resolution imagery, and field-based inventory data. The follow methods generate a wide variety forest indicators that will be used in predicting forest type maps for a sample area within Clackamas County Oregon.  This is a small subset of our larger study region and is intended for methodological demonstration. "
   ]
  },
  {
   "cell_type": "code",
   "execution_count": 45,
   "metadata": {
    "ExecuteTime": {
     "end_time": "2018-07-11T10:23:37.381298Z",
     "start_time": "2018-07-11T17:23:37.285Z"
    }
   },
   "outputs": [],
   "source": [
    "#load libraries\n",
    "library(sp)\n",
    "library(raster)\n",
    "library(rgdal)\n",
    "library(rgeos)\n",
    "library(dismo)\n",
    "library(maptools)\n",
    "library(ggmap)"
   ]
  },
  {
   "cell_type": "code",
   "execution_count": 2,
   "metadata": {
    "ExecuteTime": {
     "end_time": "2018-07-11T10:23:40.056467Z",
     "start_time": "2018-07-11T17:23:40.022Z"
    }
   },
   "outputs": [],
   "source": [
    "#set plot size\n",
    "options(repr.plot.width  = 5,\n",
    "        repr.plot.height = 4)"
   ]
  },
  {
   "cell_type": "markdown",
   "metadata": {},
   "source": [
    "## Create spatial layer of FIA plots within the area of interest"
   ]
  },
  {
   "cell_type": "markdown",
   "metadata": {
    "ExecuteTime": {
     "end_time": "2018-07-05T13:13:15.071772Z",
     "start_time": "2018-07-05T20:13:15.032Z"
    }
   },
   "source": [
    "The Forest Inventory and Analysis (FIA) program of the USDA Forest Service collects inventory data for all forested lands in the U.S., regardless of ownership or availability for harvesting. Data are collected on permanent field plots and consist of a wide variety of attributes, spanning ecological, topographic, and structural characteristics.  Due to privacy requirements specified in the amendments of the FOod Security act of 1985, publicily available FIA plot locations are approximate and can be downloaded via __[FIA Data Mart](https://apps.fs.usda.gov/fia/datamart/datamart_access.html)__. \n",
    "\n",
    "The metrics generated for the entire study area will be based on non-fuzzed plot coordinates, made available through a partnership with FIA researchers at the PNW Forest Service Research Station. For demonstration purposes, fuzzed FIA plots are utilized for this sample case. The PLOT table of the Oregon FIA inventory database was exported as a text file is used to plot the locations of forested plots in Clackamas County. "
   ]
  },
  {
   "cell_type": "code",
   "execution_count": 89,
   "metadata": {
    "ExecuteTime": {
     "end_time": "2018-07-11T10:23:45.334054Z",
     "start_time": "2018-07-11T17:23:45.284Z"
    }
   },
   "outputs": [],
   "source": [
    "#read in fia plot data text filea\n",
    "fia <- read.csv(\"./Data/FIA/FIA_OregonStatePlots.csv\", header=TRUE, sep=\",\")"
   ]
  },
  {
   "cell_type": "code",
   "execution_count": 90,
   "metadata": {
    "ExecuteTime": {
     "end_time": "2018-07-11T10:23:46.490981Z",
     "start_time": "2018-07-11T17:23:46.434Z"
    }
   },
   "outputs": [],
   "source": [
    "#plot points using lat/lon coordinates\n",
    "pts <- SpatialPointsDataFrame(fia[,c(\"LON\", \"LAT\")], fia[c(5:9, 20:21)])\n",
    "pts_m <- data.frame(fia[c(5:9,20:21)])"
   ]
  },
  {
   "cell_type": "code",
   "execution_count": 91,
   "metadata": {
    "ExecuteTime": {
     "end_time": "2018-07-11T10:23:54.732176Z",
     "start_time": "2018-07-11T17:23:54.682Z"
    }
   },
   "outputs": [
    {
     "data": {
      "text/html": [
       "<table>\n",
       "<thead><tr><th scope=col>INVYR</th><th scope=col>STATECD</th><th scope=col>UNITCD</th><th scope=col>COUNTYCD</th><th scope=col>PLOT</th><th scope=col>LAT</th><th scope=col>LON</th></tr></thead>\n",
       "<tbody>\n",
       "\t<tr><td>2011   </td><td>41     </td><td>2      </td><td>11     </td><td>60402  </td><td>43.04  </td><td>-123.90</td></tr>\n",
       "\t<tr><td>2005   </td><td>41     </td><td>4      </td><td>59     </td><td>81694  </td><td>45.06  </td><td>-118.76</td></tr>\n",
       "\t<tr><td>2005   </td><td>41     </td><td>4      </td><td>59     </td><td>67643  </td><td>45.08  </td><td>-118.58</td></tr>\n",
       "\t<tr><td>2005   </td><td>41     </td><td>4      </td><td>59     </td><td>95355  </td><td>45.19  </td><td>-119.12</td></tr>\n",
       "\t<tr><td>2005   </td><td>41     </td><td>4      </td><td>59     </td><td>50581  </td><td>45.23  </td><td>-118.77</td></tr>\n",
       "</tbody>\n",
       "</table>\n"
      ],
      "text/latex": [
       "\\begin{tabular}{r|lllllll}\n",
       " INVYR & STATECD & UNITCD & COUNTYCD & PLOT & LAT & LON\\\\\n",
       "\\hline\n",
       "\t 2011    & 41      & 2       & 11      & 60402   & 43.04   & -123.90\\\\\n",
       "\t 2005    & 41      & 4       & 59      & 81694   & 45.06   & -118.76\\\\\n",
       "\t 2005    & 41      & 4       & 59      & 67643   & 45.08   & -118.58\\\\\n",
       "\t 2005    & 41      & 4       & 59      & 95355   & 45.19   & -119.12\\\\\n",
       "\t 2005    & 41      & 4       & 59      & 50581   & 45.23   & -118.77\\\\\n",
       "\\end{tabular}\n"
      ],
      "text/markdown": [
       "\n",
       "INVYR | STATECD | UNITCD | COUNTYCD | PLOT | LAT | LON | \n",
       "|---|---|---|---|---|\n",
       "| 2011    | 41      | 2       | 11      | 60402   | 43.04   | -123.90 | \n",
       "| 2005    | 41      | 4       | 59      | 81694   | 45.06   | -118.76 | \n",
       "| 2005    | 41      | 4       | 59      | 67643   | 45.08   | -118.58 | \n",
       "| 2005    | 41      | 4       | 59      | 95355   | 45.19   | -119.12 | \n",
       "| 2005    | 41      | 4       | 59      | 50581   | 45.23   | -118.77 | \n",
       "\n",
       "\n"
      ],
      "text/plain": [
       "  INVYR STATECD UNITCD COUNTYCD PLOT  LAT   LON    \n",
       "1 2011  41      2      11       60402 43.04 -123.90\n",
       "2 2005  41      4      59       81694 45.06 -118.76\n",
       "3 2005  41      4      59       67643 45.08 -118.58\n",
       "4 2005  41      4      59       95355 45.19 -119.12\n",
       "5 2005  41      4      59       50581 45.23 -118.77"
      ]
     },
     "metadata": {},
     "output_type": "display_data"
    }
   ],
   "source": [
    "#print first five rows\n",
    "head(pts,n=5)"
   ]
  },
  {
   "cell_type": "code",
   "execution_count": 92,
   "metadata": {
    "ExecuteTime": {
     "end_time": "2018-07-11T10:23:58.104088Z",
     "start_time": "2018-07-11T17:23:58.059Z"
    }
   },
   "outputs": [],
   "source": [
    "#set coordinate system\n",
    "crs(pts) <- NA\n",
    "crs(pts) <- CRS(\"+proj=longlat +datum=NAD83\")"
   ]
  },
  {
   "cell_type": "code",
   "execution_count": 93,
   "metadata": {
    "ExecuteTime": {
     "end_time": "2018-07-11T10:23:59.325858Z",
     "start_time": "2018-07-11T17:23:59.255Z"
    }
   },
   "outputs": [],
   "source": [
    "#reproject to NAD83_2011 Oregon Lambert\n",
    "utm <- \"+proj=utm +zone=10 +ellps=GRS80 +datum=NAD83 +units=m +no_defs\"\n",
    "nad83 <- \"+proj=lcc +lat_1=43 +lat_2=45.5 +lat_0=41.75 +lon_0=-120.5 +x_0=399999.9999984 +y_0=0 +ellps=GRS80 +units=ft +no_defs\"\n",
    "pts <- spTransform(pts, nad83)"
   ]
  },
  {
   "cell_type": "markdown",
   "metadata": {
    "ExecuteTime": {
     "end_time": "2018-07-05T13:22:22.078919Z",
     "start_time": "2018-07-05T20:22:22.040Z"
    }
   },
   "source": [
    "## Create plot polygons"
   ]
  },
  {
   "cell_type": "markdown",
   "metadata": {},
   "source": [
    "In this step we remove plots that fall outside of our study region, plots that were inventoried after the lidar acquistion, and plots that had some time of disturbance event occur since the inventory date.  We also add a buffer around the plot center to match the plot dimensions and create a hexagonal grid within each buffer for imputation purposes. "
   ]
  },
  {
   "cell_type": "markdown",
   "metadata": {},
   "source": [
    "### Remove plots that fall outside the study area."
   ]
  },
  {
   "cell_type": "code",
   "execution_count": 94,
   "metadata": {
    "ExecuteTime": {
     "end_time": "2018-07-11T10:24:05.035509Z",
     "start_time": "2018-07-11T17:24:04.487Z"
    }
   },
   "outputs": [
    {
     "name": "stdout",
     "output_type": "stream",
     "text": [
      "OGR data source with driver: ESRI Shapefile \n",
      "Source: \"C:\\Users\\sloreno\\ForestMapping\\Data\\Misc\\Study_Area.shp\", layer: \"Study_Area\"\n",
      "with 6 features\n",
      "It has 4 fields\n",
      "Integer64 fields read as strings:  Year Acres \n"
     ]
    }
   ],
   "source": [
    "#read in study area polygon\n",
    "#reproject to NAD83_2011 Oregon Lambert\n",
    "area_o <- readOGR(\"./Data/Misc/Study_Area.shp\")\n",
    "area <- spTransform(area_o, nad83)\n",
    "area_m <-spTransform(area_o, \"+proj=longlat +datum=NAD83\")"
   ]
  },
  {
   "cell_type": "code",
   "execution_count": 95,
   "metadata": {
    "ExecuteTime": {
     "end_time": "2018-07-11T10:24:23.041154Z",
     "start_time": "2018-07-11T17:24:22.992Z"
    }
   },
   "outputs": [
    {
     "name": "stderr",
     "output_type": "stream",
     "text": [
      "Regions defined for each Polygons\n"
     ]
    }
   ],
   "source": [
    "area_df <- fortify(area_m)\n"
   ]
  },
  {
   "cell_type": "code",
   "execution_count": 96,
   "metadata": {
    "ExecuteTime": {
     "end_time": "2018-07-11T10:50:21.252930Z",
     "start_time": "2018-07-11T17:50:21.177Z"
    }
   },
   "outputs": [
    {
     "data": {
      "image/png": "[encoded data removed]",
      "text/plain": [
       "plot without title"
      ]
     },
     "metadata": {},
     "output_type": "display_data"
    }
   ],
   "source": [
    "#plot spatial layers\n",
    "plot(area)\n",
    "plot(pts, add=T)"
   ]
  },
  {
   "cell_type": "code",
   "execution_count": 97,
   "metadata": {
    "ExecuteTime": {
     "end_time": "2018-07-11T10:50:38.586081Z",
     "start_time": "2018-07-11T17:50:38.526Z"
    }
   },
   "outputs": [
    {
     "data": {
      "text/html": [
       "<table>\n",
       "<thead><tr><th></th><th scope=col>INVYR</th><th scope=col>STATECD</th><th scope=col>UNITCD</th><th scope=col>COUNTYCD</th><th scope=col>PLOT</th><th scope=col>LAT</th><th scope=col>LON</th><th scope=col>Project</th><th scope=col>PROGRAM</th><th scope=col>lidarYear</th><th scope=col>Acres</th></tr></thead>\n",
       "<tbody>\n",
       "\t<tr><th scope=row>81</th><td>2005          </td><td>41            </td><td>3             </td><td>35            </td><td>56137         </td><td>42.39         </td><td>-122.07       </td><td>Klamath       </td><td>OLC           </td><td>2010          </td><td>1280462       </td></tr>\n",
       "\t<tr><th scope=row>82</th><td>2005          </td><td>41            </td><td>3             </td><td>35            </td><td>85209         </td><td>42.44         </td><td>-121.56       </td><td>Sprague River </td><td>Klamath Tribes</td><td>2004          </td><td>337155        </td></tr>\n",
       "\t<tr><th scope=row>85</th><td>2005          </td><td>41            </td><td>3             </td><td>35            </td><td>67025         </td><td>42.54         </td><td>-122.09       </td><td>Klamath       </td><td>OLC           </td><td>2010          </td><td>1280462       </td></tr>\n",
       "\t<tr><th scope=row>90</th><td>2005          </td><td>41            </td><td>3             </td><td>35            </td><td>99771         </td><td>42.63         </td><td>-121.29       </td><td>Klamath       </td><td>OLC           </td><td>2010          </td><td>1280462       </td></tr>\n",
       "\t<tr><th scope=row>91</th><td>2005          </td><td>41            </td><td>3             </td><td>35            </td><td>69709         </td><td>42.70         </td><td>-122.10       </td><td>Klamath       </td><td>OLC           </td><td>2010          </td><td>1280462       </td></tr>\n",
       "\t<tr><th scope=row>92</th><td>2005          </td><td>41            </td><td>3             </td><td>35            </td><td>72880         </td><td>42.65         </td><td>-120.93       </td><td>Klamath       </td><td>OLC           </td><td>2010          </td><td>1280462       </td></tr>\n",
       "</tbody>\n",
       "</table>\n"
      ],
      "text/latex": [
       "\\begin{tabular}{r|lllllllllll}\n",
       "  & INVYR & STATECD & UNITCD & COUNTYCD & PLOT & LAT & LON & Project & PROGRAM & lidarYear & Acres\\\\\n",
       "\\hline\n",
       "\t81 & 2005           & 41             & 3              & 35             & 56137          & 42.39          & -122.07        & Klamath        & OLC            & 2010           & 1280462       \\\\\n",
       "\t82 & 2005           & 41             & 3              & 35             & 85209          & 42.44          & -121.56        & Sprague River  & Klamath Tribes & 2004           & 337155        \\\\\n",
       "\t85 & 2005           & 41             & 3              & 35             & 67025          & 42.54          & -122.09        & Klamath        & OLC            & 2010           & 1280462       \\\\\n",
       "\t90 & 2005           & 41             & 3              & 35             & 99771          & 42.63          & -121.29        & Klamath        & OLC            & 2010           & 1280462       \\\\\n",
       "\t91 & 2005           & 41             & 3              & 35             & 69709          & 42.70          & -122.10        & Klamath        & OLC            & 2010           & 1280462       \\\\\n",
       "\t92 & 2005           & 41             & 3              & 35             & 72880          & 42.65          & -120.93        & Klamath        & OLC            & 2010           & 1280462       \\\\\n",
       "\\end{tabular}\n"
      ],
      "text/markdown": [
       "\n",
       "| <!--/--> | INVYR | STATECD | UNITCD | COUNTYCD | PLOT | LAT | LON | Project | PROGRAM | lidarYear | Acres | \n",
       "|---|---|---|---|---|---|\n",
       "| 81 | 2005           | 41             | 3              | 35             | 56137          | 42.39          | -122.07        | Klamath        | OLC            | 2010           | 1280462        | \n",
       "| 82 | 2005           | 41             | 3              | 35             | 85209          | 42.44          | -121.56        | Sprague River  | Klamath Tribes | 2004           | 337155         | \n",
       "| 85 | 2005           | 41             | 3              | 35             | 67025          | 42.54          | -122.09        | Klamath        | OLC            | 2010           | 1280462        | \n",
       "| 90 | 2005           | 41             | 3              | 35             | 99771          | 42.63          | -121.29        | Klamath        | OLC            | 2010           | 1280462        | \n",
       "| 91 | 2005           | 41             | 3              | 35             | 69709          | 42.70          | -122.10        | Klamath        | OLC            | 2010           | 1280462        | \n",
       "| 92 | 2005           | 41             | 3              | 35             | 72880          | 42.65          | -120.93        | Klamath        | OLC            | 2010           | 1280462        | \n",
       "\n",
       "\n"
      ],
      "text/plain": [
       "   INVYR STATECD UNITCD COUNTYCD PLOT  LAT   LON     Project      \n",
       "81 2005  41      3      35       56137 42.39 -122.07 Klamath      \n",
       "82 2005  41      3      35       85209 42.44 -121.56 Sprague River\n",
       "85 2005  41      3      35       67025 42.54 -122.09 Klamath      \n",
       "90 2005  41      3      35       99771 42.63 -121.29 Klamath      \n",
       "91 2005  41      3      35       69709 42.70 -122.10 Klamath      \n",
       "92 2005  41      3      35       72880 42.65 -120.93 Klamath      \n",
       "   PROGRAM        lidarYear Acres  \n",
       "81 OLC            2010      1280462\n",
       "82 Klamath Tribes 2004      337155 \n",
       "85 OLC            2010      1280462\n",
       "90 OLC            2010      1280462\n",
       "91 OLC            2010      1280462\n",
       "92 OLC            2010      1280462"
      ]
     },
     "metadata": {},
     "output_type": "display_data"
    }
   ],
   "source": [
    "#clip points to study area and attach lidar acquistion year\n",
    "pts_clip_lidar <- intersect(pts, area)\n",
    "names(pts_clip_lidar)[10]<-\"lidarYear\"\n",
    "pts_clip_lidar$lidarYear <-as.numeric(as.character(pts_clip_lidar$lidarYear))\n",
    "head(pts_clip_lidar)"
   ]
  },
  {
   "cell_type": "code",
   "execution_count": 98,
   "metadata": {
    "scrolled": true
   },
   "outputs": [
    {
     "data": {
      "image/png": "[encoded data removed]",
      "text/plain": [
       "plot without title"
      ]
     },
     "metadata": {},
     "output_type": "display_data"
    }
   ],
   "source": [
    "#plot spatial layers\n",
    "plot(area)\n",
    "plot(pts_clip_lidar, add=T)"
   ]
  },
  {
   "cell_type": "markdown",
   "metadata": {
    "ExecuteTime": {
     "end_time": "2018-07-05T14:58:32.538883Z",
     "start_time": "2018-07-05T21:58:32.505Z"
    }
   },
   "source": [
    "### Delete plots that were inventoried *after* the lidar acquisition date"
   ]
  },
  {
   "cell_type": "code",
   "execution_count": 128,
   "metadata": {
    "ExecuteTime": {
     "end_time": "2018-07-11T10:50:39.986769Z",
     "start_time": "2018-07-11T17:50:39.951Z"
    }
   },
   "outputs": [
    {
     "data": {
      "text/html": [
       "'318 plots remain after filter'"
      ],
      "text/latex": [
       "'318 plots remain after filter'"
      ],
      "text/markdown": [
       "'318 plots remain after filter'"
      ],
      "text/plain": [
       "[1] \"318 plots remain after filter\""
      ]
     },
     "metadata": {},
     "output_type": "display_data"
    },
    {
     "data": {
      "text/html": [
       "<table>\n",
       "<thead><tr><th></th><th scope=col>INVYR</th><th scope=col>STATECD</th><th scope=col>UNITCD</th><th scope=col>COUNTYCD</th><th scope=col>PLOT</th><th scope=col>LAT</th><th scope=col>LON</th><th scope=col>Project</th><th scope=col>PROGRAM</th><th scope=col>lidarYear</th><th scope=col>Acres</th></tr></thead>\n",
       "<tbody>\n",
       "\t<tr><th scope=row>81</th><td>2005   </td><td>41     </td><td>3      </td><td>35     </td><td>56137  </td><td>42.39  </td><td>-122.07</td><td>Klamath</td><td>OLC    </td><td>2010   </td><td>1280462</td></tr>\n",
       "</tbody>\n",
       "</table>\n"
      ],
      "text/latex": [
       "\\begin{tabular}{r|lllllllllll}\n",
       "  & INVYR & STATECD & UNITCD & COUNTYCD & PLOT & LAT & LON & Project & PROGRAM & lidarYear & Acres\\\\\n",
       "\\hline\n",
       "\t81 & 2005    & 41      & 3       & 35      & 56137   & 42.39   & -122.07 & Klamath & OLC     & 2010    & 1280462\\\\\n",
       "\\end{tabular}\n"
      ],
      "text/markdown": [
       "\n",
       "| <!--/--> | INVYR | STATECD | UNITCD | COUNTYCD | PLOT | LAT | LON | Project | PROGRAM | lidarYear | Acres | \n",
       "|---|\n",
       "| 81 | 2005    | 41      | 3       | 35      | 56137   | 42.39   | -122.07 | Klamath | OLC     | 2010    | 1280462 | \n",
       "\n",
       "\n"
      ],
      "text/plain": [
       "   INVYR STATECD UNITCD COUNTYCD PLOT  LAT   LON     Project PROGRAM lidarYear\n",
       "81 2005  41      3      35       56137 42.39 -122.07 Klamath OLC     2010     \n",
       "   Acres  \n",
       "81 1280462"
      ]
     },
     "metadata": {},
     "output_type": "display_data"
    }
   ],
   "source": [
    "#delete plots with inventory year > lidar acquistion year\n",
    "pts_clip_lidar_filter <- pts_clip_lidar[pts_clip_lidar$lidarYear > pts_clip_lidar$INVYR, ]\n",
    "paste(nrow(pts_clip_lidar_filter), \"plots remain after filter\")\n",
    "head(pts_clip_lidar_filter, n=1)"
   ]
  },
  {
   "cell_type": "markdown",
   "metadata": {},
   "source": [
    "### Delete duplicate plots - remove earliest inventory instance"
   ]
  },
  {
   "cell_type": "code",
   "execution_count": 129,
   "metadata": {},
   "outputs": [
    {
     "data": {
      "text/html": [
       "'274 plots remain after filter'"
      ],
      "text/latex": [
       "'274 plots remain after filter'"
      ],
      "text/markdown": [
       "'274 plots remain after filter'"
      ],
      "text/plain": [
       "[1] \"274 plots remain after filter\""
      ]
     },
     "metadata": {},
     "output_type": "display_data"
    },
    {
     "data": {
      "text/html": [
       "<table>\n",
       "<thead><tr><th scope=col>PLOT</th><th scope=col>INVYR</th></tr></thead>\n",
       "<tbody>\n",
       "\t<tr><td>50077</td><td>2005 </td></tr>\n",
       "</tbody>\n",
       "</table>\n"
      ],
      "text/latex": [
       "\\begin{tabular}{r|ll}\n",
       " PLOT & INVYR\\\\\n",
       "\\hline\n",
       "\t 50077 & 2005 \\\\\n",
       "\\end{tabular}\n"
      ],
      "text/markdown": [
       "\n",
       "PLOT | INVYR | \n",
       "|---|\n",
       "| 50077 | 2005  | \n",
       "\n",
       "\n"
      ],
      "text/plain": [
       "  PLOT  INVYR\n",
       "1 50077 2005 "
      ]
     },
     "metadata": {},
     "output_type": "display_data"
    }
   ],
   "source": [
    "plot_year <- aggregate(INVYR ~ PLOT, pts_clip_lidar_filter, max)\n",
    "paste(nrow(plot_year), \"plots remain after filter\")\n",
    "head(plot_year, n=1)"
   ]
  },
  {
   "cell_type": "code",
   "execution_count": 130,
   "metadata": {},
   "outputs": [
    {
     "data": {
      "text/html": [
       "<table>\n",
       "<thead><tr><th></th><th scope=col>INVYR</th><th scope=col>PLOT</th><th scope=col>STATECD</th><th scope=col>UNITCD</th><th scope=col>COUNTYCD</th><th scope=col>LAT</th><th scope=col>LON</th><th scope=col>Project</th><th scope=col>PROGRAM</th><th scope=col>lidarYear</th><th scope=col>Acres</th></tr></thead>\n",
       "<tbody>\n",
       "\t<tr><th scope=row>82</th><td>2005   </td><td>56137  </td><td>41     </td><td>3      </td><td>35     </td><td>42.39  </td><td>-122.07</td><td>Klamath</td><td>OLC    </td><td>2010   </td><td>1280462</td></tr>\n",
       "</tbody>\n",
       "</table>\n"
      ],
      "text/latex": [
       "\\begin{tabular}{r|lllllllllll}\n",
       "  & INVYR & PLOT & STATECD & UNITCD & COUNTYCD & LAT & LON & Project & PROGRAM & lidarYear & Acres\\\\\n",
       "\\hline\n",
       "\t82 & 2005    & 56137   & 41      & 3       & 35      & 42.39   & -122.07 & Klamath & OLC     & 2010    & 1280462\\\\\n",
       "\\end{tabular}\n"
      ],
      "text/markdown": [
       "\n",
       "| <!--/--> | INVYR | PLOT | STATECD | UNITCD | COUNTYCD | LAT | LON | Project | PROGRAM | lidarYear | Acres | \n",
       "|---|\n",
       "| 82 | 2005    | 56137   | 41      | 3       | 35      | 42.39   | -122.07 | Klamath | OLC     | 2010    | 1280462 | \n",
       "\n",
       "\n"
      ],
      "text/plain": [
       "   INVYR PLOT  STATECD UNITCD COUNTYCD LAT   LON     Project PROGRAM lidarYear\n",
       "82 2005  56137 41      3      35       42.39 -122.07 Klamath OLC     2010     \n",
       "   Acres  \n",
       "82 1280462"
      ]
     },
     "metadata": {},
     "output_type": "display_data"
    },
    {
     "data": {
      "text/html": [
       "'274 plots remain after filter'"
      ],
      "text/latex": [
       "'274 plots remain after filter'"
      ],
      "text/markdown": [
       "'274 plots remain after filter'"
      ],
      "text/plain": [
       "[1] \"274 plots remain after filter\""
      ]
     },
     "metadata": {},
     "output_type": "display_data"
    }
   ],
   "source": [
    "pts_clip_lidar_filter <- merge(pts_clip_lidar_filter, plot_year, by.x=c(\"INVYR\", \"PLOT\"), by.y=c(\"INVYR\", \"PLOT\"), all.x = FALSE)\n",
    "head(pts_clip_lidar_filter, n=1)\n",
    "paste(nrow(pts_clip_lidar_filter), \"plots remain after filter\")"
   ]
  },
  {
   "cell_type": "code",
   "execution_count": 131,
   "metadata": {},
   "outputs": [
    {
     "data": {
      "text/html": [
       "'SpatialPointsDataFrame'"
      ],
      "text/latex": [
       "'SpatialPointsDataFrame'"
      ],
      "text/markdown": [
       "'SpatialPointsDataFrame'"
      ],
      "text/plain": [
       "[1] \"SpatialPointsDataFrame\"\n",
       "attr(,\"package\")\n",
       "[1] \"sp\""
      ]
     },
     "metadata": {},
     "output_type": "display_data"
    }
   ],
   "source": [
    "class(pts_clip_lidar_filter)"
   ]
  },
  {
   "cell_type": "markdown",
   "metadata": {},
   "source": [
    "### Add a buffer of 180 ft to each point center"
   ]
  },
  {
   "cell_type": "code",
   "execution_count": 132,
   "metadata": {
    "ExecuteTime": {
     "end_time": "2018-07-11T10:50:41.605611Z",
     "start_time": "2018-07-11T17:50:41.562Z"
    }
   },
   "outputs": [],
   "source": [
    "#add buffer of 180 feet to points \n",
    "pts_clip_lidar_filter_buff <- gBuffer(pts_clip_lidar_filter, width=180, byid=TRUE)"
   ]
  },
  {
   "cell_type": "code",
   "execution_count": 133,
   "metadata": {
    "ExecuteTime": {
     "end_time": "2018-07-11T10:50:42.201826Z",
     "start_time": "2018-07-11T17:50:42.163Z"
    }
   },
   "outputs": [
    {
     "data": {
      "text/html": [
       "<table>\n",
       "<thead><tr><th></th><th scope=col>INVYR</th><th scope=col>PLOT</th><th scope=col>STATECD</th><th scope=col>UNITCD</th><th scope=col>COUNTYCD</th><th scope=col>LAT</th><th scope=col>LON</th><th scope=col>Project</th><th scope=col>PROGRAM</th><th scope=col>lidarYear</th><th scope=col>Acres</th></tr></thead>\n",
       "<tbody>\n",
       "\t<tr><th scope=row>82</th><td>2005   </td><td>56137  </td><td>41     </td><td>3      </td><td>35     </td><td>42.39  </td><td>-122.07</td><td>Klamath</td><td>OLC    </td><td>2010   </td><td>1280462</td></tr>\n",
       "</tbody>\n",
       "</table>\n"
      ],
      "text/latex": [
       "\\begin{tabular}{r|lllllllllll}\n",
       "  & INVYR & PLOT & STATECD & UNITCD & COUNTYCD & LAT & LON & Project & PROGRAM & lidarYear & Acres\\\\\n",
       "\\hline\n",
       "\t82 & 2005    & 56137   & 41      & 3       & 35      & 42.39   & -122.07 & Klamath & OLC     & 2010    & 1280462\\\\\n",
       "\\end{tabular}\n"
      ],
      "text/markdown": [
       "\n",
       "| <!--/--> | INVYR | PLOT | STATECD | UNITCD | COUNTYCD | LAT | LON | Project | PROGRAM | lidarYear | Acres | \n",
       "|---|\n",
       "| 82 | 2005    | 56137   | 41      | 3       | 35      | 42.39   | -122.07 | Klamath | OLC     | 2010    | 1280462 | \n",
       "\n",
       "\n"
      ],
      "text/plain": [
       "   INVYR PLOT  STATECD UNITCD COUNTYCD LAT   LON     Project PROGRAM lidarYear\n",
       "82 2005  56137 41      3      35       42.39 -122.07 Klamath OLC     2010     \n",
       "   Acres  \n",
       "82 1280462"
      ]
     },
     "metadata": {},
     "output_type": "display_data"
    }
   ],
   "source": [
    "pts_clip_lidar_filter_buff <- SpatialPolygonsDataFrame( pts_clip_lidar_filter_buff, data=pts_clip_lidar_filter_buff@data )\n",
    "head(pts_clip_lidar_filter_buff, n=1)"
   ]
  },
  {
   "cell_type": "code",
   "execution_count": 134,
   "metadata": {},
   "outputs": [
    {
     "name": "stdout",
     "output_type": "stream",
     "text": [
      "[1] 274\n"
     ]
    }
   ],
   "source": [
    "print(nrow(pts_clip_lidar_filter_buff))"
   ]
  },
  {
   "cell_type": "markdown",
   "metadata": {
    "ExecuteTime": {
     "end_time": "2018-07-05T15:00:49.042058Z",
     "start_time": "2018-07-05T22:00:49.009Z"
    }
   },
   "source": [
    "### Remove plots that have experienced a disturbance event since inventory"
   ]
  },
  {
   "cell_type": "markdown",
   "metadata": {},
   "source": [
    "Disturbance data is sourced from the __[Global Forest Watch](http://data.globalforestwatch.org/)__ and is a product of the alogrithms that capture, label, and map land cover change."
   ]
  },
  {
   "cell_type": "code",
   "execution_count": 135,
   "metadata": {
    "ExecuteTime": {
     "end_time": "2018-07-11T10:50:44.654025Z",
     "start_time": "2018-07-11T17:50:44.575Z"
    }
   },
   "outputs": [],
   "source": [
    "#load landtrendr distrubance (year of disturbance) raster\n",
    "disturb <- raster(\"./Data/Landtrendr/ForestLoss_year.tif\")"
   ]
  },
  {
   "cell_type": "code",
   "execution_count": 18,
   "metadata": {
    "ExecuteTime": {
     "end_time": "2018-07-11T10:51:15.345199Z",
     "start_time": "2018-07-11T17:50:45.563Z"
    }
   },
   "outputs": [
    {
     "name": "stderr",
     "output_type": "stream",
     "text": [
      "Loading required namespace: parallel\n",
      "Using cluster with 4 nodes\n"
     ]
    }
   ],
   "source": [
    "#project raster to nad83\n",
    "beginCluster(4) \n",
    "disturb<- projectRaster(disturb, crs=nad83)\n",
    "endCluster()"
   ]
  },
  {
   "cell_type": "code",
   "execution_count": 136,
   "metadata": {
    "ExecuteTime": {
     "end_time": "2018-07-11T10:51:22.897470Z",
     "start_time": "2018-07-11T17:50:46.692Z"
    }
   },
   "outputs": [
    {
     "name": "stderr",
     "output_type": "stream",
     "text": [
      "Warning message in .local(x, y, ...):\n",
      "\"Transforming SpatialPolygons to the CRS of the Raster\"Using cluster with 4 nodes\n"
     ]
    }
   ],
   "source": [
    "#extract max disturbance year for each plot polygon\n",
    "beginCluster(4) \n",
    "pts_clip_lidar_filter_buff_disturb <- extract(disturb, pts_clip_lidar_filter_buff, fun=max, df=TRUE)\n",
    "endCluster()"
   ]
  },
  {
   "cell_type": "code",
   "execution_count": 137,
   "metadata": {
    "ExecuteTime": {
     "end_time": "2018-07-11T10:51:22.956512Z",
     "start_time": "2018-07-11T17:50:48.483Z"
    }
   },
   "outputs": [
    {
     "name": "stdout",
     "output_type": "stream",
     "text": [
      "[1] 274\n"
     ]
    },
    {
     "data": {
      "text/html": [
       "<table>\n",
       "<thead><tr><th scope=col>ID</th><th scope=col>distYear</th><th scope=col>plot</th></tr></thead>\n",
       "<tbody>\n",
       "\t<tr><td>1    </td><td>0    </td><td>56137</td></tr>\n",
       "\t<tr><td>2    </td><td>0    </td><td>67025</td></tr>\n",
       "\t<tr><td>3    </td><td>0    </td><td>99771</td></tr>\n",
       "\t<tr><td>4    </td><td>0    </td><td>69709</td></tr>\n",
       "\t<tr><td>5    </td><td>0    </td><td>72880</td></tr>\n",
       "</tbody>\n",
       "</table>\n"
      ],
      "text/latex": [
       "\\begin{tabular}{r|lll}\n",
       " ID & distYear & plot\\\\\n",
       "\\hline\n",
       "\t 1     & 0     & 56137\\\\\n",
       "\t 2     & 0     & 67025\\\\\n",
       "\t 3     & 0     & 99771\\\\\n",
       "\t 4     & 0     & 69709\\\\\n",
       "\t 5     & 0     & 72880\\\\\n",
       "\\end{tabular}\n"
      ],
      "text/markdown": [
       "\n",
       "ID | distYear | plot | \n",
       "|---|---|---|---|---|\n",
       "| 1     | 0     | 56137 | \n",
       "| 2     | 0     | 67025 | \n",
       "| 3     | 0     | 99771 | \n",
       "| 4     | 0     | 69709 | \n",
       "| 5     | 0     | 72880 | \n",
       "\n",
       "\n"
      ],
      "text/plain": [
       "  ID distYear plot \n",
       "1 1  0        56137\n",
       "2 2  0        67025\n",
       "3 3  0        99771\n",
       "4 4  0        69709\n",
       "5 5  0        72880"
      ]
     },
     "metadata": {},
     "output_type": "display_data"
    }
   ],
   "source": [
    "#add plot id\n",
    "pts_clip_lidar_filter_buff_disturb$plot <- pts_clip_lidar_filter_buff$PLOT\n",
    "#clean up column names\n",
    "names(pts_clip_lidar_filter_buff_disturb) <- c('ID', 'distYear', 'plot')\n",
    "#convert NA distYear values to 0\n",
    "pts_clip_lidar_filter_buff_disturb$distYear[is.na(pts_clip_lidar_filter_buff_disturb$distYear)] <- 0 \n",
    "print(nrow(pts_clip_lidar_filter_buff_disturb))\n",
    "head(pts_clip_lidar_filter_buff_disturb, n=5)"
   ]
  },
  {
   "cell_type": "code",
   "execution_count": 138,
   "metadata": {
    "ExecuteTime": {
     "end_time": "2018-07-11T10:51:23.033564Z",
     "start_time": "2018-07-11T17:50:51.749Z"
    },
    "scrolled": true
   },
   "outputs": [
    {
     "data": {
      "text/html": [
       "<table>\n",
       "<thead><tr><th></th><th scope=col>PLOT</th><th scope=col>INVYR</th><th scope=col>STATECD</th><th scope=col>UNITCD</th><th scope=col>COUNTYCD</th><th scope=col>LAT</th><th scope=col>LON</th><th scope=col>Project</th><th scope=col>PROGRAM</th><th scope=col>lidarYear</th><th scope=col>Acres</th><th scope=col>ID</th><th scope=col>distYear</th></tr></thead>\n",
       "<tbody>\n",
       "\t<tr><th scope=row>30</th><td>56137  </td><td>2005   </td><td>41     </td><td>3      </td><td>35     </td><td>42.39  </td><td>-122.07</td><td>Klamath</td><td>OLC    </td><td>2010   </td><td>1280462</td><td>1      </td><td>0      </td></tr>\n",
       "\t<tr><th scope=row>96</th><td>67025  </td><td>2005   </td><td>41     </td><td>3      </td><td>35     </td><td>42.54  </td><td>-122.09</td><td>Klamath</td><td>OLC    </td><td>2010   </td><td>1280462</td><td>2      </td><td>0      </td></tr>\n",
       "\t<tr><th scope=row>273</th><td>99771  </td><td>2005   </td><td>41     </td><td>3      </td><td>35     </td><td>42.63  </td><td>-121.29</td><td>Klamath</td><td>OLC    </td><td>2010   </td><td>1280462</td><td>3      </td><td>0      </td></tr>\n",
       "\t<tr><th scope=row>110</th><td>69709  </td><td>2005   </td><td>41     </td><td>3      </td><td>35     </td><td>42.70  </td><td>-122.10</td><td>Klamath</td><td>OLC    </td><td>2010   </td><td>1280462</td><td>4      </td><td>0      </td></tr>\n",
       "\t<tr><th scope=row>125</th><td>72880  </td><td>2005   </td><td>41     </td><td>3      </td><td>35     </td><td>42.65  </td><td>-120.93</td><td>Klamath</td><td>OLC    </td><td>2010   </td><td>1280462</td><td>5      </td><td>0      </td></tr>\n",
       "\t<tr><th scope=row>71</th><td>63792  </td><td>2005   </td><td>41     </td><td>3      </td><td>35     </td><td>42.75  </td><td>-121.46</td><td>Klamath</td><td>OLC    </td><td>2010   </td><td>1280462</td><td>6      </td><td>0      </td></tr>\n",
       "</tbody>\n",
       "</table>\n"
      ],
      "text/latex": [
       "\\begin{tabular}{r|lllllllllllll}\n",
       "  & PLOT & INVYR & STATECD & UNITCD & COUNTYCD & LAT & LON & Project & PROGRAM & lidarYear & Acres & ID & distYear\\\\\n",
       "\\hline\n",
       "\t30 & 56137   & 2005    & 41      & 3       & 35      & 42.39   & -122.07 & Klamath & OLC     & 2010    & 1280462 & 1       & 0      \\\\\n",
       "\t96 & 67025   & 2005    & 41      & 3       & 35      & 42.54   & -122.09 & Klamath & OLC     & 2010    & 1280462 & 2       & 0      \\\\\n",
       "\t273 & 99771   & 2005    & 41      & 3       & 35      & 42.63   & -121.29 & Klamath & OLC     & 2010    & 1280462 & 3       & 0      \\\\\n",
       "\t110 & 69709   & 2005    & 41      & 3       & 35      & 42.70   & -122.10 & Klamath & OLC     & 2010    & 1280462 & 4       & 0      \\\\\n",
       "\t125 & 72880   & 2005    & 41      & 3       & 35      & 42.65   & -120.93 & Klamath & OLC     & 2010    & 1280462 & 5       & 0      \\\\\n",
       "\t71 & 63792   & 2005    & 41      & 3       & 35      & 42.75   & -121.46 & Klamath & OLC     & 2010    & 1280462 & 6       & 0      \\\\\n",
       "\\end{tabular}\n"
      ],
      "text/markdown": [
       "\n",
       "| <!--/--> | PLOT | INVYR | STATECD | UNITCD | COUNTYCD | LAT | LON | Project | PROGRAM | lidarYear | Acres | ID | distYear | \n",
       "|---|---|---|---|---|---|\n",
       "| 30 | 56137   | 2005    | 41      | 3       | 35      | 42.39   | -122.07 | Klamath | OLC     | 2010    | 1280462 | 1       | 0       | \n",
       "| 96 | 67025   | 2005    | 41      | 3       | 35      | 42.54   | -122.09 | Klamath | OLC     | 2010    | 1280462 | 2       | 0       | \n",
       "| 273 | 99771   | 2005    | 41      | 3       | 35      | 42.63   | -121.29 | Klamath | OLC     | 2010    | 1280462 | 3       | 0       | \n",
       "| 110 | 69709   | 2005    | 41      | 3       | 35      | 42.70   | -122.10 | Klamath | OLC     | 2010    | 1280462 | 4       | 0       | \n",
       "| 125 | 72880   | 2005    | 41      | 3       | 35      | 42.65   | -120.93 | Klamath | OLC     | 2010    | 1280462 | 5       | 0       | \n",
       "| 71 | 63792   | 2005    | 41      | 3       | 35      | 42.75   | -121.46 | Klamath | OLC     | 2010    | 1280462 | 6       | 0       | \n",
       "\n",
       "\n"
      ],
      "text/plain": [
       "    PLOT  INVYR STATECD UNITCD COUNTYCD LAT   LON     Project PROGRAM lidarYear\n",
       "30  56137 2005  41      3      35       42.39 -122.07 Klamath OLC     2010     \n",
       "96  67025 2005  41      3      35       42.54 -122.09 Klamath OLC     2010     \n",
       "273 99771 2005  41      3      35       42.63 -121.29 Klamath OLC     2010     \n",
       "110 69709 2005  41      3      35       42.70 -122.10 Klamath OLC     2010     \n",
       "125 72880 2005  41      3      35       42.65 -120.93 Klamath OLC     2010     \n",
       "71  63792 2005  41      3      35       42.75 -121.46 Klamath OLC     2010     \n",
       "    Acres   ID distYear\n",
       "30  1280462 1  0       \n",
       "96  1280462 2  0       \n",
       "273 1280462 3  0       \n",
       "110 1280462 4  0       \n",
       "125 1280462 5  0       \n",
       "71  1280462 6  0       "
      ]
     },
     "metadata": {},
     "output_type": "display_data"
    }
   ],
   "source": [
    "#merge back with rest of dataframe\n",
    "pts_clip_lidar_filter_buff_disturb <- merge(pts_clip_lidar_filter_buff, pts_clip_lidar_filter_buff_disturb, by.x='PLOT', by.y=\"plot\")\n",
    "#print header\n",
    "head(pts_clip_lidar_filter_buff_disturb)"
   ]
  },
  {
   "cell_type": "code",
   "execution_count": 139,
   "metadata": {
    "ExecuteTime": {
     "end_time": "2018-07-11T10:51:23.079595Z",
     "start_time": "2018-07-11T17:51:07.760Z"
    }
   },
   "outputs": [],
   "source": [
    "#delete plots with disturbance > FIA inv year\n",
    "pts_clip_lidar_filter_buff_disturb_filter <- pts_clip_lidar_filter_buff_disturb[pts_clip_lidar_filter_buff_disturb$distYear < pts_clip_lidar_filter_buff_disturb$INVYR, ]"
   ]
  },
  {
   "cell_type": "markdown",
   "metadata": {},
   "source": [
    "### Create hexagon grid within each FIA buffered plot"
   ]
  },
  {
   "cell_type": "markdown",
   "metadata": {
    "ExecuteTime": {
     "end_time": "2018-07-05T17:45:40.178538Z",
     "start_time": "2018-07-06T00:45:40.151Z"
    }
   },
   "source": [
    "Make_grid function sourced from __[Matt Strimas-Mackey](http://strimas.com/spatial/hexagonal-grids/)__"
   ]
  },
  {
   "cell_type": "code",
   "execution_count": 140,
   "metadata": {
    "ExecuteTime": {
     "end_time": "2018-07-11T10:51:45.921692Z",
     "start_time": "2018-07-11T17:51:45.887Z"
    }
   },
   "outputs": [],
   "source": [
    "make_grid <- function(x, cell_diameter, cell_area, clip = FALSE) {\n",
    "  if (missing(cell_diameter)) {\n",
    "    if (missing(cell_area)) {\n",
    "      stop(\"Must provide cell_diameter or cell_area\")\n",
    "    } else {\n",
    "      cell_diameter <- sqrt(2 * cell_area / sqrt(3))\n",
    "    }\n",
    "  }\n",
    "  ext <- as(extent(x) + cell_diameter, \"SpatialPolygons\")\n",
    "  projection(ext) <- projection(x)\n",
    "  # generate array of hexagon centers\n",
    "  g <- spsample(ext, type = \"hexagonal\", cellsize = cell_diameter, \n",
    "                offset = c(0.5, 0.5))\n",
    "  # convert center points to hexagons\n",
    "  g <- HexPoints2SpatialPolygons(g, dx = cell_diameter)\n",
    "  # clip to boundary of study area\n",
    "  if (clip) {\n",
    "    g <- gIntersection(g, x, byid = TRUE)\n",
    "  } else {\n",
    "    g <- g[x, ]\n",
    "  }\n",
    "  # clean up feature IDs\n",
    "  row.names(g) <- as.character(1:length(g))\n",
    "  return(g)\n",
    "}"
   ]
  },
  {
   "cell_type": "code",
   "execution_count": 141,
   "metadata": {
    "ExecuteTime": {
     "end_time": "2018-07-11T10:52:12.519657Z",
     "start_time": "2018-07-11T17:51:46.792Z"
    }
   },
   "outputs": [
    {
     "ename": "ERROR",
     "evalue": "Error: memory exhausted (limit reached?)\n",
     "output_type": "error",
     "traceback": [
      "Error: memory exhausted (limit reached?)\nTraceback:\n",
      "1. make_grid(pts_clip_lidar_filter_buff_disturb_filter, cell_area = 10890, \n .     clip = FALSE)",
      "2. HexPoints2SpatialPolygons(g, dx = cell_diameter)   # at line 15 of file <text>",
      "3. genPolyList(data.frame(coordinates(hex)), dx = dx)",
      "4. lapply(1:length(hexGrid$x), f)",
      "5. FUN(X[[i]], ...)",
      "6. hexGrid$y",
      "7. `$.data.frame`(hexGrid, \"y\")",
      "8. x[[name]]"
     ]
    }
   ],
   "source": [
    "#make grid - 1/4 acre hexagons\n",
    "fia_grid <- make_grid(pts_clip_lidar_filter_buff_disturb_filter, cell_area = 10890, clip = FALSE)"
   ]
  },
  {
   "cell_type": "code",
   "execution_count": 46,
   "metadata": {
    "ExecuteTime": {
     "end_time": "2018-07-11T10:52:12.605717Z",
     "start_time": "2018-07-11T17:51:48.220Z"
    },
    "collapsed": true
   },
   "outputs": [],
   "source": [
    "#intersect with plot buffer layer to get attributes\n",
    "fia_grid <- intersect(fia_grid, pts_clip_lidar_filter_buff_disturb_filter)"
   ]
  },
  {
   "cell_type": "code",
   "execution_count": 73,
   "metadata": {
    "ExecuteTime": {
     "end_time": "2018-07-05T19:17:01.772508Z",
     "start_time": "2018-07-06T02:17:01.737Z"
    },
    "collapsed": true
   },
   "outputs": [],
   "source": [
    "#add unique id field to fia_grid layer\n",
    "fia_grid$hex_id <- 1:nrow(fia_grid)"
   ]
  },
  {
   "cell_type": "markdown",
   "metadata": {
    "ExecuteTime": {
     "end_time": "2018-07-05T15:05:54.312964Z",
     "start_time": "2018-07-05T22:05:54.281Z"
    }
   },
   "source": [
    "### Export Data"
   ]
  },
  {
   "cell_type": "code",
   "execution_count": 142,
   "metadata": {
    "ExecuteTime": {
     "end_time": "2018-07-05T19:17:29.152255Z",
     "start_time": "2018-07-06T02:17:28.809Z"
    }
   },
   "outputs": [],
   "source": [
    "#export csv of plot ids, lidar years, and disturbance years to be used to create FVS input\n",
    "write.csv(pts_clip_lidar_filter_buff_disturb_filter, \"./FVS/FVS_input.csv\",  row.names=FALSE)"
   ]
  },
  {
   "cell_type": "code",
   "execution_count": 143,
   "metadata": {
    "ExecuteTime": {
     "end_time": "2018-07-11T10:52:15.464143Z",
     "start_time": "2018-07-11T17:52:14.867Z"
    }
   },
   "outputs": [],
   "source": [
    "#export shapefile of plots (w/buffer)\n",
    "writeOGR(obj=pts_clip_lidar_filter_buff_disturb_filter, dsn=\"./Data/FIA\", layer=\"FIA_plots\", driver=\"ESRI Shapefile\",\n",
    "        overwrite_layer=TRUE)\n",
    "#export shapefile of plots with hexes\n",
    "#writeOGR(obj=fia_grid, dsn=\"./Data/FIA\", layer=\"FIA_plots_hex\", driver=\"ESRI Shapefile\", overwrite_layer=TRUE)"
   ]
  },
  {
   "cell_type": "markdown",
   "metadata": {
    "ExecuteTime": {
     "end_time": "2018-07-05T15:06:48.414200Z",
     "start_time": "2018-07-05T22:06:48.379Z"
    }
   },
   "source": [
    "## Calculate predictor variables from LANDSAT remotely sensed imagery"
   ]
  },
  {
   "cell_type": "markdown",
   "metadata": {},
   "source": [
    "For over 40 years, a series of __[LANDSAT](https://earthexplorer.usgs.gov/)__ satellites have recorded a temporal record of multispectral data of the Earth’s surface at a global level. At a moderate resolution, 30m x 30m, Landsat imagery is a valuable resource for regional forestry applications.  It is expected that a substantial effort will be required to gather suitable cloud-free LANDSAT images for a given year and to follow procedures such as histogram equalization to normalize images across years. However, Analysis Ready Data (ARD) -- imagery processed to significantly reduce the magnitude of data processing by users, will be utilized whenever possible. \n",
    "\n",
    "Remotely sensed imagery will be summarized within areal units defined by a hexagonal tessellation overlaid on the FIA plots. To respect USFS concerns to conceal FIA plot locations, no data layers with a resolution finer than this tessellation will be taken off-site. This hexagonal tessellation will also be reproduced across the entire LiDAR footprints, and these hexagons will be the level at which forest type predictions are made. "
   ]
  },
  {
   "cell_type": "code",
   "execution_count": 48,
   "metadata": {
    "ExecuteTime": {
     "end_time": "2018-07-11T10:52:19.481806Z",
     "start_time": "2018-07-11T17:52:19.136Z"
    },
    "collapsed": true
   },
   "outputs": [],
   "source": [
    "#create a list of all the landsat bands from landsat directory\n",
    "landsat_names <-  Sys.glob(file.path(\"./Data/Landsat/sampleArea\", \"*.tif\"))\n",
    "images <- sapply(landsat_names, raster) "
   ]
  },
  {
   "cell_type": "code",
   "execution_count": 49,
   "metadata": {
    "ExecuteTime": {
     "end_time": "2018-07-11T10:52:20.063689Z",
     "start_time": "2018-07-11T17:52:20.003Z"
    },
    "collapsed": true
   },
   "outputs": [],
   "source": [
    "#create raster brick from .tif files\n",
    "ls8<-stack(images)"
   ]
  },
  {
   "cell_type": "code",
   "execution_count": 50,
   "metadata": {
    "ExecuteTime": {
     "end_time": "2018-07-11T10:52:20.742703Z",
     "start_time": "2018-07-11T17:52:20.700Z"
    },
    "collapsed": true
   },
   "outputs": [],
   "source": [
    "## tasseled cap coefficients\n",
    "refB = c(0.3029, 0.2786, 0.4733, 0.5599, 0.508, 0.1872) \n",
    "refG = c(-0.2941, -0.243, -0.5424, 0.7276, -0.0713,-0.1608)\n",
    "refW = c(0.1511, 0.1973, 0.3283, 0.3407, -0.7117, -0.4559)"
   ]
  },
  {
   "cell_type": "code",
   "execution_count": 51,
   "metadata": {
    "ExecuteTime": {
     "end_time": "2018-07-11T10:52:21.657848Z",
     "start_time": "2018-07-11T17:52:21.623Z"
    },
    "collapsed": true
   },
   "outputs": [],
   "source": [
    "#function to calculate tasseled cap and band ratio metrics 'calc_landsMets'\n",
    "calc_landMets <- function(r) {\n",
    "    b <- r[[2]] * refB[1] + r[[3]] * refB[2] + r[[4]] * refB[3] + r[[5]] * refB[4] + r[[6]] * refB[5] + r[[7]] * refB[6]\n",
    "    g <- r[[2]] * refG[1] + r[[3]] * refG[2] + r[[4]] * refG[3] + r[[5]] * refG[4] + r[[6]] * refG[5] + r[[7]] * refG[6]\n",
    "    w <- r[[2]] * refW[1] + r[[3]] * refW[2] + r[[4]] * refW[3] + r[[5]] * refW[4] + r[[6]] * refW[5] + r[[7]] * refW[6]\n",
    "    ndvi <- (r[[5]] - r[[4]])/(r[[5]] + r[[4]])\n",
    "    gndvi <- (r[[5]] - r[[3]])/(r[[5]] + r[[3]])\n",
    "    nbr <- (r[[5]] - r[[7]])/(r[[5]] + r[[7]])\n",
    "    g_ratio <- r[[5]] - r[[3]]\n",
    "    b1 <- r[[1]]\n",
    "    b2 <- r[[2]]\n",
    "    b3 <- r[[3]]\n",
    "    b4 <- r[[4]]\n",
    "    b5 <- r[[5]]\n",
    "    b7 <- r[[7]]\n",
    "    l_mets <- stack(b, g, w, ndvi, gndvi, nbr, g_ratio, b1, b2, b3, b4, b5, b7)\n",
    "    names(l_mets) <- c('brightness', 'greenness', 'wetness', 'ndvi', 'gndvi', 'nbr', 'g_ratio', 'b1', 'b2', 'b3', 'b4', 'b5', 'b7')  \n",
    "return(l_mets)\n",
    "}"
   ]
  },
  {
   "cell_type": "code",
   "execution_count": 52,
   "metadata": {
    "ExecuteTime": {
     "end_time": "2018-07-11T10:53:21.613944Z",
     "start_time": "2018-07-11T17:52:22.364Z"
    },
    "collapsed": true
   },
   "outputs": [],
   "source": [
    "#calculate metrics using 'calc_landsMets' function on landsat stack\n",
    "l_mets <- calc_landMets(ls8)"
   ]
  },
  {
   "cell_type": "code",
   "execution_count": null,
   "metadata": {
    "ExecuteTime": {
     "start_time": "2018-07-11T17:52:23.486Z"
    }
   },
   "outputs": [
    {
     "name": "stderr",
     "output_type": "stream",
     "text": [
      "Using cluster with 4 nodes\n"
     ]
    }
   ],
   "source": [
    "beginCluster(4)\n",
    "l_mets<- projectRaster(l_mets, crs=nad83)\n",
    "endCluster()"
   ]
  },
  {
   "cell_type": "code",
   "execution_count": 84,
   "metadata": {
    "ExecuteTime": {
     "end_time": "2018-07-05T19:42:27.115519Z",
     "start_time": "2018-07-06T02:42:24.511Z"
    }
   },
   "outputs": [
    {
     "name": "stderr",
     "output_type": "stream",
     "text": [
      "Using cluster with 4 nodes\n"
     ]
    }
   ],
   "source": [
    "#calculate mean zonal statistics for tasseled cap and indices for each plot hexagon\n",
    "ext_mets <- extract(l_mets, fia_grid, fun = mean, na.rm = T, df=T)"
   ]
  },
  {
   "cell_type": "code",
   "execution_count": 89,
   "metadata": {
    "ExecuteTime": {
     "end_time": "2018-07-05T19:44:10.813414Z",
     "start_time": "2018-07-06T02:44:10.706Z"
    }
   },
   "outputs": [
    {
     "data": {
      "text/html": [
       "<table>\n",
       "<thead><tr><th scope=col>hex_id</th><th scope=col>PLOT</th><th scope=col>INVYR</th><th scope=col>STATECD</th><th scope=col>UNITCD</th><th scope=col>COUNTYCD</th><th scope=col>lidarYear</th><th scope=col>ID</th><th scope=col>distYear</th><th scope=col>brightness</th><th scope=col>...</th><th scope=col>ndvi</th><th scope=col>gndvi</th><th scope=col>nbr</th><th scope=col>g_ratio</th><th scope=col>b1</th><th scope=col>b2</th><th scope=col>b3</th><th scope=col>b4</th><th scope=col>b5</th><th scope=col>b7</th></tr></thead>\n",
       "<tbody>\n",
       "\t<tr><td>1        </td><td>76297    </td><td>2010     </td><td>41       </td><td>0        </td><td>5        </td><td>2014     </td><td>3        </td><td>0        </td><td>3173.539 </td><td>...      </td><td>0.7960520</td><td>0.6763965</td><td>0.7212062</td><td>2618.572 </td><td>1032.874 </td><td>789.6469 </td><td>625.3897 </td><td>367.9398 </td><td>3243.961 </td><td>525.7991 </td></tr>\n",
       "\t<tr><td>2        </td><td>76297    </td><td>2010     </td><td>41       </td><td>0        </td><td>5        </td><td>2014     </td><td>3        </td><td>0        </td><td>3732.965 </td><td>...      </td><td>0.7108046</td><td>0.6215294</td><td>0.6022540</td><td>2579.660 </td><td>1072.725 </td><td>860.5886 </td><td>785.6359 </td><td>569.7339 </td><td>3365.296 </td><td>838.8910 </td></tr>\n",
       "\t<tr><td>3        </td><td>76297    </td><td>2010     </td><td>41       </td><td>0        </td><td>5        </td><td>2014     </td><td>3        </td><td>0        </td><td>3171.986 </td><td>...      </td><td>0.8071797</td><td>0.6908115</td><td>0.7437822</td><td>2722.041 </td><td>1032.325 </td><td>788.6950 </td><td>607.7817 </td><td>354.4156 </td><td>3329.823 </td><td>489.0071 </td></tr>\n",
       "\t<tr><td>4        </td><td>76297    </td><td>2010     </td><td>41       </td><td>0        </td><td>5        </td><td>2014     </td><td>3        </td><td>0        </td><td>3153.335 </td><td>...      </td><td>0.7966665</td><td>0.6784129</td><td>0.7268147</td><td>2618.748 </td><td>1034.515 </td><td>792.9394 </td><td>619.3289 </td><td>365.8104 </td><td>3238.077 </td><td>513.8638 </td></tr>\n",
       "\t<tr><td>5        </td><td>76297    </td><td>2010     </td><td>41       </td><td>0        </td><td>5        </td><td>2014     </td><td>3        </td><td>0        </td><td>2871.043 </td><td>...      </td><td>0.7884614</td><td>0.6701534</td><td>0.7390763</td><td>2378.499 </td><td>1031.097 </td><td>786.9896 </td><td>581.2408 </td><td>348.4653 </td><td>2959.740 </td><td>447.0334 </td></tr>\n",
       "\t<tr><td>6        </td><td>76297    </td><td>2010     </td><td>41       </td><td>0        </td><td>5        </td><td>2014     </td><td>3        </td><td>0        </td><td>3330.206 </td><td>...      </td><td>0.7918375</td><td>0.6746353</td><td>0.7108012</td><td>2724.389 </td><td>1041.384 </td><td>802.5393 </td><td>656.9908 </td><td>392.8430 </td><td>3381.379 </td><td>572.6086 </td></tr>\n",
       "</tbody>\n",
       "</table>\n"
      ],
      "text/latex": [
       "\\begin{tabular}{r|llllllllllllllllllllll}\n",
       " hex\\_id & PLOT & INVYR & STATECD & UNITCD & COUNTYCD & lidarYear & ID & distYear & brightness & ... & ndvi & gndvi & nbr & g\\_ratio & b1 & b2 & b3 & b4 & b5 & b7\\\\\n",
       "\\hline\n",
       "\t 1         & 76297     & 2010      & 41        & 0         & 5         & 2014      & 3         & 0         & 3173.539  & ...       & 0.7960520 & 0.6763965 & 0.7212062 & 2618.572  & 1032.874  & 789.6469  & 625.3897  & 367.9398  & 3243.961  & 525.7991 \\\\\n",
       "\t 2         & 76297     & 2010      & 41        & 0         & 5         & 2014      & 3         & 0         & 3732.965  & ...       & 0.7108046 & 0.6215294 & 0.6022540 & 2579.660  & 1072.725  & 860.5886  & 785.6359  & 569.7339  & 3365.296  & 838.8910 \\\\\n",
       "\t 3         & 76297     & 2010      & 41        & 0         & 5         & 2014      & 3         & 0         & 3171.986  & ...       & 0.8071797 & 0.6908115 & 0.7437822 & 2722.041  & 1032.325  & 788.6950  & 607.7817  & 354.4156  & 3329.823  & 489.0071 \\\\\n",
       "\t 4         & 76297     & 2010      & 41        & 0         & 5         & 2014      & 3         & 0         & 3153.335  & ...       & 0.7966665 & 0.6784129 & 0.7268147 & 2618.748  & 1034.515  & 792.9394  & 619.3289  & 365.8104  & 3238.077  & 513.8638 \\\\\n",
       "\t 5         & 76297     & 2010      & 41        & 0         & 5         & 2014      & 3         & 0         & 2871.043  & ...       & 0.7884614 & 0.6701534 & 0.7390763 & 2378.499  & 1031.097  & 786.9896  & 581.2408  & 348.4653  & 2959.740  & 447.0334 \\\\\n",
       "\t 6         & 76297     & 2010      & 41        & 0         & 5         & 2014      & 3         & 0         & 3330.206  & ...       & 0.7918375 & 0.6746353 & 0.7108012 & 2724.389  & 1041.384  & 802.5393  & 656.9908  & 392.8430  & 3381.379  & 572.6086 \\\\\n",
       "\\end{tabular}\n"
      ],
      "text/markdown": [
       "\n",
       "hex_id | PLOT | INVYR | STATECD | UNITCD | COUNTYCD | lidarYear | ID | distYear | brightness | ... | ndvi | gndvi | nbr | g_ratio | b1 | b2 | b3 | b4 | b5 | b7 | \n",
       "|---|---|---|---|---|---|\n",
       "| 1         | 76297     | 2010      | 41        | 0         | 5         | 2014      | 3         | 0         | 3173.539  | ...       | 0.7960520 | 0.6763965 | 0.7212062 | 2618.572  | 1032.874  | 789.6469  | 625.3897  | 367.9398  | 3243.961  | 525.7991  | \n",
       "| 2         | 76297     | 2010      | 41        | 0         | 5         | 2014      | 3         | 0         | 3732.965  | ...       | 0.7108046 | 0.6215294 | 0.6022540 | 2579.660  | 1072.725  | 860.5886  | 785.6359  | 569.7339  | 3365.296  | 838.8910  | \n",
       "| 3         | 76297     | 2010      | 41        | 0         | 5         | 2014      | 3         | 0         | 3171.986  | ...       | 0.8071797 | 0.6908115 | 0.7437822 | 2722.041  | 1032.325  | 788.6950  | 607.7817  | 354.4156  | 3329.823  | 489.0071  | \n",
       "| 4         | 76297     | 2010      | 41        | 0         | 5         | 2014      | 3         | 0         | 3153.335  | ...       | 0.7966665 | 0.6784129 | 0.7268147 | 2618.748  | 1034.515  | 792.9394  | 619.3289  | 365.8104  | 3238.077  | 513.8638  | \n",
       "| 5         | 76297     | 2010      | 41        | 0         | 5         | 2014      | 3         | 0         | 2871.043  | ...       | 0.7884614 | 0.6701534 | 0.7390763 | 2378.499  | 1031.097  | 786.9896  | 581.2408  | 348.4653  | 2959.740  | 447.0334  | \n",
       "| 6         | 76297     | 2010      | 41        | 0         | 5         | 2014      | 3         | 0         | 3330.206  | ...       | 0.7918375 | 0.6746353 | 0.7108012 | 2724.389  | 1041.384  | 802.5393  | 656.9908  | 392.8430  | 3381.379  | 572.6086  | \n",
       "\n",
       "\n"
      ],
      "text/plain": [
       "  hex_id PLOT  INVYR STATECD UNITCD COUNTYCD lidarYear ID distYear brightness\n",
       "1 1      76297 2010  41      0      5        2014      3  0        3173.539  \n",
       "2 2      76297 2010  41      0      5        2014      3  0        3732.965  \n",
       "3 3      76297 2010  41      0      5        2014      3  0        3171.986  \n",
       "4 4      76297 2010  41      0      5        2014      3  0        3153.335  \n",
       "5 5      76297 2010  41      0      5        2014      3  0        2871.043  \n",
       "6 6      76297 2010  41      0      5        2014      3  0        3330.206  \n",
       "  ... ndvi      gndvi     nbr       g_ratio  b1       b2       b3      \n",
       "1 ... 0.7960520 0.6763965 0.7212062 2618.572 1032.874 789.6469 625.3897\n",
       "2 ... 0.7108046 0.6215294 0.6022540 2579.660 1072.725 860.5886 785.6359\n",
       "3 ... 0.8071797 0.6908115 0.7437822 2722.041 1032.325 788.6950 607.7817\n",
       "4 ... 0.7966665 0.6784129 0.7268147 2618.748 1034.515 792.9394 619.3289\n",
       "5 ... 0.7884614 0.6701534 0.7390763 2378.499 1031.097 786.9896 581.2408\n",
       "6 ... 0.7918375 0.6746353 0.7108012 2724.389 1041.384 802.5393 656.9908\n",
       "  b4       b5       b7      \n",
       "1 367.9398 3243.961 525.7991\n",
       "2 569.7339 3365.296 838.8910\n",
       "3 354.4156 3329.823 489.0071\n",
       "4 365.8104 3238.077 513.8638\n",
       "5 348.4653 2959.740 447.0334\n",
       "6 392.8430 3381.379 572.6086"
      ]
     },
     "metadata": {},
     "output_type": "display_data"
    }
   ],
   "source": [
    "ext_mets <- merge(fia_grid, ext_mets, by.x='hex_id', by.y=\"ID\")\n",
    "head(ext_mets)"
   ]
  },
  {
   "cell_type": "code",
   "execution_count": 90,
   "metadata": {
    "ExecuteTime": {
     "end_time": "2018-07-05T19:44:19.899754Z",
     "start_time": "2018-07-06T02:44:19.315Z"
    },
    "collapsed": true
   },
   "outputs": [],
   "source": [
    "#write landsat variables to csv\n",
    "write.csv(ext_mets, \"./Classification/land_mets.csv\",  row.names=FALSE)"
   ]
  },
  {
   "cell_type": "markdown",
   "metadata": {
    "ExecuteTime": {
     "end_time": "2018-07-06T09:04:53.979709Z",
     "start_time": "2018-07-06T16:04:53.946Z"
    }
   },
   "source": [
    "## Create predictor variables from Climate Data"
   ]
  },
  {
   "cell_type": "markdown",
   "metadata": {},
   "source": [
    "To estimate climate attributes for our study area, we will be using __[ClimateWNA](https://sites.ualberta.ca/~ahamann/data/climatewna.html)__ software. This application provides historical and projected climate data for North America, including monthly, seasonal, and annual attributes, as well as derived metrics such as Growing Degree Days, Potential Evapotranspiration, etc. that are useful for vegetation modeling. \n",
    "\n",
    "A ClimateWNA executable file is included within this repository. In the next couple steps, we create the input needed to derive our selected attributes.  Once that input table is created, the ClimateWNA executable is run and will pop up in an external window.  Set the created text file as input and run the application to create an additional text file containing attributes for our study area. "
   ]
  },
  {
   "cell_type": "code",
   "execution_count": 22,
   "metadata": {
    "ExecuteTime": {
     "end_time": "2018-07-06T09:11:12.106643Z",
     "start_time": "2018-07-06T16:11:12.059Z"
    }
   },
   "outputs": [
    {
     "data": {
      "text/html": [
       "<table>\n",
       "<thead><tr><th scope=col>CN</th><th scope=col>SRV_CN</th><th scope=col>CTY_CN</th><th scope=col>PREV_PLT_CN</th><th scope=col>INVYR</th><th scope=col>STATECD</th><th scope=col>UNITCD</th><th scope=col>COUNTYCD</th><th scope=col>PLOT</th><th scope=col>PLOT_STATUS_CD</th><th scope=col>...</th><th scope=col>NF_SAMPLING_STATUS_CD</th><th scope=col>NF_PLOT_STATUS_CD</th><th scope=col>NF_PLOT_NONSAMPLE_REASN_CD</th><th scope=col>P2VEG_SAMPLING_STATUS_CD</th><th scope=col>P2VEG_SAMPLING_LEVEL_DETAIL_CD</th><th scope=col>INVASIVE_SAMPLING_STATUS_CD</th><th scope=col>INVASIVE_SPECIMEN_RULE_CD</th><th scope=col>DESIGNCD_P2A</th><th scope=col>MANUAL_DB</th><th scope=col>SUBPANEL</th></tr></thead>\n",
       "<tbody>\n",
       "\t<tr><td>1.28607e+13 </td><td>1.277713e+13</td><td>102010497   </td><td>NA          </td><td>2005        </td><td>41          </td><td>0           </td><td>5           </td><td>93124       </td><td>1           </td><td>...         </td><td>NA          </td><td>NA          </td><td>NA          </td><td>NA          </td><td>NA          </td><td>NA          </td><td>NA          </td><td>NA          </td><td>7           </td><td>2           </td></tr>\n",
       "</tbody>\n",
       "</table>\n"
      ],
      "text/latex": [
       "\\begin{tabular}{r|llllllllllllllllllllllllllllllllllllllllllllllllllllllllll}\n",
       " CN & SRV\\_CN & CTY\\_CN & PREV\\_PLT\\_CN & INVYR & STATECD & UNITCD & COUNTYCD & PLOT & PLOT\\_STATUS\\_CD & ... & NF\\_SAMPLING\\_STATUS\\_CD & NF\\_PLOT\\_STATUS\\_CD & NF\\_PLOT\\_NONSAMPLE\\_REASN\\_CD & P2VEG\\_SAMPLING\\_STATUS\\_CD & P2VEG\\_SAMPLING\\_LEVEL\\_DETAIL\\_CD & INVASIVE\\_SAMPLING\\_STATUS\\_CD & INVASIVE\\_SPECIMEN\\_RULE\\_CD & DESIGNCD\\_P2A & MANUAL\\_DB & SUBPANEL\\\\\n",
       "\\hline\n",
       "\t 1.28607e+13  & 1.277713e+13 & 102010497    & NA           & 2005         & 41           & 0            & 5            & 93124        & 1            & ...          & NA           & NA           & NA           & NA           & NA           & NA           & NA           & NA           & 7            & 2           \\\\\n",
       "\\end{tabular}\n"
      ],
      "text/markdown": [
       "\n",
       "CN | SRV_CN | CTY_CN | PREV_PLT_CN | INVYR | STATECD | UNITCD | COUNTYCD | PLOT | PLOT_STATUS_CD | ... | NF_SAMPLING_STATUS_CD | NF_PLOT_STATUS_CD | NF_PLOT_NONSAMPLE_REASN_CD | P2VEG_SAMPLING_STATUS_CD | P2VEG_SAMPLING_LEVEL_DETAIL_CD | INVASIVE_SAMPLING_STATUS_CD | INVASIVE_SPECIMEN_RULE_CD | DESIGNCD_P2A | MANUAL_DB | SUBPANEL | \n",
       "|---|\n",
       "| 1.28607e+13  | 1.277713e+13 | 102010497    | NA           | 2005         | 41           | 0            | 5            | 93124        | 1            | ...          | NA           | NA           | NA           | NA           | NA           | NA           | NA           | NA           | 7            | 2            | \n",
       "\n",
       "\n"
      ],
      "text/plain": [
       "  CN          SRV_CN       CTY_CN    PREV_PLT_CN INVYR STATECD UNITCD COUNTYCD\n",
       "1 1.28607e+13 1.277713e+13 102010497 NA          2005  41      0      5       \n",
       "  PLOT  PLOT_STATUS_CD ... NF_SAMPLING_STATUS_CD NF_PLOT_STATUS_CD\n",
       "1 93124 1              ... NA                    NA               \n",
       "  NF_PLOT_NONSAMPLE_REASN_CD P2VEG_SAMPLING_STATUS_CD\n",
       "1 NA                         NA                      \n",
       "  P2VEG_SAMPLING_LEVEL_DETAIL_CD INVASIVE_SAMPLING_STATUS_CD\n",
       "1 NA                             NA                         \n",
       "  INVASIVE_SPECIMEN_RULE_CD DESIGNCD_P2A MANUAL_DB SUBPANEL\n",
       "1 NA                        NA           7         2       "
      ]
     },
     "metadata": {},
     "output_type": "display_data"
    }
   ],
   "source": [
    "#create csv for climateWNA application\n",
    "head(fia, n=1)"
   ]
  },
  {
   "cell_type": "code",
   "execution_count": 92,
   "metadata": {
    "ExecuteTime": {
     "end_time": "2018-07-05T19:44:28.905949Z",
     "start_time": "2018-07-06T02:44:28.860Z"
    },
    "collapsed": true
   },
   "outputs": [],
   "source": [
    "fia_vars <- c(\"PLOT\", \"LON\", \"LAT\", \"ELEV\")\n",
    "fia_coords <- fia[fia_vars]"
   ]
  },
  {
   "cell_type": "code",
   "execution_count": 93,
   "metadata": {
    "ExecuteTime": {
     "end_time": "2018-07-05T19:44:34.687398Z",
     "start_time": "2018-07-06T02:44:34.638Z"
    },
    "collapsed": true
   },
   "outputs": [],
   "source": [
    "fia_coords <- merge(fia_coords, pts_clip_lidar_filter_buff_disturb_filter)"
   ]
  },
  {
   "cell_type": "code",
   "execution_count": 94,
   "metadata": {
    "ExecuteTime": {
     "end_time": "2018-07-05T19:44:35.854660Z",
     "start_time": "2018-07-06T02:44:35.815Z"
    },
    "collapsed": true
   },
   "outputs": [],
   "source": [
    "fia_vars2 <- c(\"PLOT\", \"STATECD\", \"LAT\", \"LON\", \"ELEV\")\n",
    "fia_coords <- fia_coords[fia_vars2]\n",
    "names(fia_coords) <- c(\"ID1\", \"ID2\", \"lat\", \"lon\", 'el')"
   ]
  },
  {
   "cell_type": "code",
   "execution_count": 95,
   "metadata": {
    "ExecuteTime": {
     "end_time": "2018-07-05T19:44:39.722710Z",
     "start_time": "2018-07-06T02:44:39.613Z"
    },
    "collapsed": true
   },
   "outputs": [],
   "source": [
    "write.csv(fia_coords, \"./Data/Climate/climate_input.csv\",  row.names=FALSE)"
   ]
  },
  {
   "cell_type": "markdown",
   "metadata": {},
   "source": [
    "This next cell will open the ClimateWNA application. Select the 'climate_input.csv\" created in the last cell as input.  Save the output as 'climate_input_year_2014Y.csv\". "
   ]
  },
  {
   "cell_type": "code",
   "execution_count": 12,
   "metadata": {
    "ExecuteTime": {
     "end_time": "2018-07-09T11:39:56.547839Z",
     "start_time": "2018-07-09T18:39:35.803Z"
    },
    "collapsed": true
   },
   "outputs": [],
   "source": [
    "#Open climateWNA application\n",
    "wd<-getwd()\n",
    "system(paste(file.path(wd, \"Data/Climate/ClimateWNA_v5.51.exe\")))\n",
    "\n",
    "#select climate_input.csv as input\n",
    "#output file to data/climate"
   ]
  },
  {
   "cell_type": "code",
   "execution_count": 97,
   "metadata": {
    "ExecuteTime": {
     "end_time": "2018-07-05T19:44:51.351432Z",
     "start_time": "2018-07-06T02:44:51.225Z"
    }
   },
   "outputs": [
    {
     "data": {
      "text/html": [
       "<table>\n",
       "<thead><tr><th scope=col>ID1</th><th scope=col>ID2</th><th scope=col>Latitude</th><th scope=col>Longitude</th><th scope=col>Elevation</th><th scope=col>MAT</th><th scope=col>MWMT</th><th scope=col>MCMT</th><th scope=col>TD</th><th scope=col>MAP</th><th scope=col>...</th><th scope=col>bFFP</th><th scope=col>eFFP</th><th scope=col>FFP</th><th scope=col>PAS</th><th scope=col>EMT</th><th scope=col>EXT</th><th scope=col>Eref</th><th scope=col>CMD</th><th scope=col>MAR</th><th scope=col>RH</th></tr></thead>\n",
       "<tbody>\n",
       "\t<tr><td>60634    </td><td>41       </td><td>45.40564 </td><td>-122.4063</td><td>300      </td><td>11.7     </td><td>20.1     </td><td>3.8      </td><td>16.3     </td><td>1791     </td><td>...      </td><td> 86      </td><td>327      </td><td>241      </td><td>50       </td><td>-16.4    </td><td>37.8     </td><td>874      </td><td>311      </td><td>-9999    </td><td>67       </td></tr>\n",
       "\t<tr><td>65759    </td><td>41       </td><td>45.45600 </td><td>-122.4703</td><td>500      </td><td>10.7     </td><td>19.3     </td><td>2.9      </td><td>16.4     </td><td>2128     </td><td>...      </td><td>102      </td><td>319      </td><td>218      </td><td>91       </td><td>-18.5    </td><td>37.4     </td><td>859      </td><td>309      </td><td>-9999    </td><td>67       </td></tr>\n",
       "\t<tr><td>74773    </td><td>41       </td><td>45.44719 </td><td>-122.3982</td><td>700      </td><td>10.7     </td><td>19.1     </td><td>3.1      </td><td>15.9     </td><td>1847     </td><td>...      </td><td>110      </td><td>317      </td><td>208      </td><td>74       </td><td>-18.6    </td><td>38.1     </td><td>873      </td><td>334      </td><td>-9999    </td><td>65       </td></tr>\n",
       "\t<tr><td>76297    </td><td>41       </td><td>45.40246 </td><td>-122.4724</td><td>100      </td><td>12.8     </td><td>21.4     </td><td>5.0      </td><td>16.4     </td><td>1368     </td><td>...      </td><td> 69      </td><td>335      </td><td>266      </td><td>23       </td><td>-14.0    </td><td>39.0     </td><td>912      </td><td>411      </td><td>-9999    </td><td>67       </td></tr>\n",
       "</tbody>\n",
       "</table>\n"
      ],
      "text/latex": [
       "\\begin{tabular}{r|llllllllllllllllllllllllllll}\n",
       " ID1 & ID2 & Latitude & Longitude & Elevation & MAT & MWMT & MCMT & TD & MAP & ... & bFFP & eFFP & FFP & PAS & EMT & EXT & Eref & CMD & MAR & RH\\\\\n",
       "\\hline\n",
       "\t 60634     & 41        & 45.40564  & -122.4063 & 300       & 11.7      & 20.1      & 3.8       & 16.3      & 1791      & ...       &  86       & 327       & 241       & 50        & -16.4     & 37.8      & 874       & 311       & -9999     & 67       \\\\\n",
       "\t 65759     & 41        & 45.45600  & -122.4703 & 500       & 10.7      & 19.3      & 2.9       & 16.4      & 2128      & ...       & 102       & 319       & 218       & 91        & -18.5     & 37.4      & 859       & 309       & -9999     & 67       \\\\\n",
       "\t 74773     & 41        & 45.44719  & -122.3982 & 700       & 10.7      & 19.1      & 3.1       & 15.9      & 1847      & ...       & 110       & 317       & 208       & 74        & -18.6     & 38.1      & 873       & 334       & -9999     & 65       \\\\\n",
       "\t 76297     & 41        & 45.40246  & -122.4724 & 100       & 12.8      & 21.4      & 5.0       & 16.4      & 1368      & ...       &  69       & 335       & 266       & 23        & -14.0     & 39.0      & 912       & 411       & -9999     & 67       \\\\\n",
       "\\end{tabular}\n"
      ],
      "text/markdown": [
       "\n",
       "ID1 | ID2 | Latitude | Longitude | Elevation | MAT | MWMT | MCMT | TD | MAP | ... | bFFP | eFFP | FFP | PAS | EMT | EXT | Eref | CMD | MAR | RH | \n",
       "|---|---|---|---|\n",
       "| 60634     | 41        | 45.40564  | -122.4063 | 300       | 11.7      | 20.1      | 3.8       | 16.3      | 1791      | ...       |  86       | 327       | 241       | 50        | -16.4     | 37.8      | 874       | 311       | -9999     | 67        | \n",
       "| 65759     | 41        | 45.45600  | -122.4703 | 500       | 10.7      | 19.3      | 2.9       | 16.4      | 2128      | ...       | 102       | 319       | 218       | 91        | -18.5     | 37.4      | 859       | 309       | -9999     | 67        | \n",
       "| 74773     | 41        | 45.44719  | -122.3982 | 700       | 10.7      | 19.1      | 3.1       | 15.9      | 1847      | ...       | 110       | 317       | 208       | 74        | -18.6     | 38.1      | 873       | 334       | -9999     | 65        | \n",
       "| 76297     | 41        | 45.40246  | -122.4724 | 100       | 12.8      | 21.4      | 5.0       | 16.4      | 1368      | ...       |  69       | 335       | 266       | 23        | -14.0     | 39.0      | 912       | 411       | -9999     | 67        | \n",
       "\n",
       "\n"
      ],
      "text/plain": [
       "  ID1   ID2 Latitude Longitude Elevation MAT  MWMT MCMT TD   MAP  ... bFFP eFFP\n",
       "1 60634 41  45.40564 -122.4063 300       11.7 20.1 3.8  16.3 1791 ...  86  327 \n",
       "2 65759 41  45.45600 -122.4703 500       10.7 19.3 2.9  16.4 2128 ... 102  319 \n",
       "3 74773 41  45.44719 -122.3982 700       10.7 19.1 3.1  15.9 1847 ... 110  317 \n",
       "4 76297 41  45.40246 -122.4724 100       12.8 21.4 5.0  16.4 1368 ...  69  335 \n",
       "  FFP PAS EMT   EXT  Eref CMD MAR   RH\n",
       "1 241 50  -16.4 37.8 874  311 -9999 67\n",
       "2 218 91  -18.5 37.4 859  309 -9999 67\n",
       "3 208 74  -18.6 38.1 873  334 -9999 65\n",
       "4 266 23  -14.0 39.0 912  411 -9999 67"
      ]
     },
     "metadata": {},
     "output_type": "display_data"
    }
   ],
   "source": [
    "#read in output created in last step from CLIMATEWNA\n",
    "climate <- read.csv(\"./Data/Climate/climate_input_year_2014Y.csv\", header=TRUE, sep=\",\")\n",
    "head(climate)"
   ]
  },
  {
   "cell_type": "code",
   "execution_count": 98,
   "metadata": {
    "ExecuteTime": {
     "end_time": "2018-07-05T19:44:52.337727Z",
     "start_time": "2018-07-06T02:44:52.283Z"
    },
    "collapsed": true
   },
   "outputs": [],
   "source": [
    "#keep variables we are intrested in\n",
    "climate_vars <- c(\"ID1\", \"ID2\", \"MAT\", \"MAP\", \"MWMT\", \"MSP\", \"MCMT\", \"PAS\", \"DD5\", \"Eref\", \"NFFD\", \"CMD\")\n",
    "climate_mets <- climate[climate_vars]\n",
    "#rename ID1 and ID2 fields\n",
    "names(climate_mets)[1]<-\"plot\"\n",
    "names(climate_mets)[2]<-\"state\"\n",
    "#write to csv file\n",
    "write.csv(climate_mets, \"./Classification/climate_mets.csv\",  row.names=FALSE)"
   ]
  }
 ],
 "metadata": {
  "kernelspec": {
   "display_name": "R",
   "language": "R",
   "name": "ir"
  },
  "language_info": {
   "codemirror_mode": "r",
   "file_extension": ".r",
   "mimetype": "text/x-r-source",
   "name": "R",
   "pygments_lexer": "r",
   "version": "3.5.1"
  },
  "toc": {
   "colors": {
    "hover_highlight": "#DAA520",
    "navigate_num": "#000000",
    "navigate_text": "#333333",
    "running_highlight": "#FF0000",
    "selected_highlight": "#FFD700",
    "sidebar_border": "#EEEEEE",
    "wrapper_background": "#FFFFFF"
   },
   "moveMenuLeft": true,
   "nav_menu": {
    "height": "298px",
    "width": "252px"
   },
   "navigate_menu": true,
   "number_sections": false,
   "sideBar": true,
   "threshold": 4,
   "toc_cell": false,
   "toc_section_display": "block",
   "toc_window_display": true,
   "widenNotebook": false
  }
 },
 "nbformat": 4,
 "nbformat_minor": 2
}
