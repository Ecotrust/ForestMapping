{
 "cells": [
  {
   "cell_type": "markdown",
   "metadata": {},
   "source": [
    "This notebook clips 1/10th-acre plots from 1 hectuare clips that have been made from lidar data served by the Washington Department of Natural Resources. These data were provided by Guy McWethy. There are other lidar acquisitions that will also be considered which DNR does not serve, but those are not addressed here. Similarly, this notebook does not deal with any forest inventory plots other than those measured by WA DNR."
   ]
  },
  {
   "cell_type": "code",
   "execution_count": 29,
   "metadata": {},
   "outputs": [],
   "source": [
    "import geopandas as gpd\n",
    "import pandas as pd\n",
    "import glob\n",
    "import os\n",
    "import subprocess\n",
    "import dask\n",
    "from dask.distributed import Client, LocalCluster, progress\n",
    "from matplotlib import pyplot as plt\n",
    "%matplotlib inline"
   ]
  },
  {
   "cell_type": "code",
   "execution_count": 2,
   "metadata": {},
   "outputs": [
    {
     "name": "stdout",
     "output_type": "stream",
     "text": [
      "<class 'geopandas.geodataframe.GeoDataFrame'>\n",
      "Int64Index: 2487 entries, 2602 to 5088\n",
      "Data columns (total 10 columns):\n",
      "comments     0 non-null object\n",
      "lat          2487 non-null float64\n",
      "lon          2487 non-null float64\n",
      "meas_date    2487 non-null object\n",
      "orig_id      2487 non-null object\n",
      "plot_id      2487 non-null object\n",
      "source       2487 non-null object\n",
      "meas_yr      2487 non-null int64\n",
      "uuid         2487 non-null object\n",
      "geometry     2487 non-null object\n",
      "dtypes: float64(2), int64(1), object(7)\n",
      "memory usage: 213.7+ KB\n"
     ]
    }
   ],
   "source": [
    "ha_plots = gpd.read_file('../data/processed/blm_usfs_wadnr_plots_1ha.shp')\n",
    "dnr_plots = ha_plots.loc[ha_plots.source == 'WA-DNR']\n",
    "dnr_plots.info()"
   ]
  },
  {
   "cell_type": "code",
   "execution_count": 3,
   "metadata": {},
   "outputs": [
    {
     "data": {
      "text/plain": [
       "{'init': 'epsg:4326'}"
      ]
     },
     "execution_count": 3,
     "metadata": {},
     "output_type": "execute_result"
    }
   ],
   "source": [
    "dnr_plots.crs"
   ]
  },
  {
   "cell_type": "code",
   "execution_count": 15,
   "metadata": {},
   "outputs": [],
   "source": [
    "sp_plots = dnr_plots.to_crs({'init': 'epsg:2927'})\n",
    "sp_plots['x'] = sp_plots.centroid.x\n",
    "sp_plots['y'] = sp_plots.centroid.y\n",
    "sp_plots = sp_plots[['uuid', 'x', 'y']].set_index('uuid')"
   ]
  },
  {
   "cell_type": "code",
   "execution_count": 5,
   "metadata": {},
   "outputs": [
    {
     "data": {
      "text/plain": [
       "'../data/raw/lidar/dnr_portal/dnrplot_clips/hectare_clips_epsg2927/0083eb5e-aed6-4c22-9412-bc116d072ed9_ahtanum-2006.laz'"
      ]
     },
     "execution_count": 5,
     "metadata": {},
     "output_type": "execute_result"
    }
   ],
   "source": [
    "HA_CLIPS = '../data/raw/lidar/dnr_portal/dnrplot_clips/hectare_clips_epsg2927/*.laz'\n",
    "ha_plot_clips = glob.glob(HA_CLIPS)\n",
    "ha_plot_clips[0]"
   ]
  },
  {
   "cell_type": "code",
   "execution_count": 6,
   "metadata": {},
   "outputs": [],
   "source": [
    "dnr_plot_clips = [p for p in ha_plot_clips if \n",
    "                  os.path.basename(p).split('_')[0] in dnr_plots.uuid.values]"
   ]
  },
  {
   "cell_type": "code",
   "execution_count": 7,
   "metadata": {},
   "outputs": [
    {
     "data": {
      "text/plain": [
       "2735"
      ]
     },
     "execution_count": 7,
     "metadata": {},
     "output_type": "execute_result"
    }
   ],
   "source": [
    "len(dnr_plot_clips)"
   ]
  },
  {
   "cell_type": "code",
   "execution_count": 8,
   "metadata": {},
   "outputs": [
    {
     "data": {
      "text/plain": [
       "'../data/raw/lidar/dnr_portal/dnrplot_clips/hectare_clips_epsg2927/0083eb5e-aed6-4c22-9412-bc116d072ed9_ahtanum-2006.laz'"
      ]
     },
     "execution_count": 8,
     "metadata": {},
     "output_type": "execute_result"
    }
   ],
   "source": [
    "dnr_plot_clips[0]"
   ]
  },
  {
   "cell_type": "code",
   "execution_count": 9,
   "metadata": {},
   "outputs": [
    {
     "data": {
      "text/html": [
       "<div>\n",
       "<style scoped>\n",
       "    .dataframe tbody tr th:only-of-type {\n",
       "        vertical-align: middle;\n",
       "    }\n",
       "\n",
       "    .dataframe tbody tr th {\n",
       "        vertical-align: top;\n",
       "    }\n",
       "\n",
       "    .dataframe thead th {\n",
       "        text-align: right;\n",
       "    }\n",
       "</style>\n",
       "<table border=\"1\" class=\"dataframe\">\n",
       "  <thead>\n",
       "    <tr style=\"text-align: right;\">\n",
       "      <th></th>\n",
       "      <th>comments</th>\n",
       "      <th>lat</th>\n",
       "      <th>lon</th>\n",
       "      <th>meas_date</th>\n",
       "      <th>orig_id</th>\n",
       "      <th>plot_id</th>\n",
       "      <th>source</th>\n",
       "      <th>meas_yr</th>\n",
       "      <th>uuid</th>\n",
       "      <th>geometry</th>\n",
       "      <th>x</th>\n",
       "      <th>y</th>\n",
       "    </tr>\n",
       "  </thead>\n",
       "  <tbody>\n",
       "    <tr>\n",
       "      <th>2602</th>\n",
       "      <td>None</td>\n",
       "      <td>45.741098</td>\n",
       "      <td>-122.354746</td>\n",
       "      <td>2014-07-01</td>\n",
       "      <td>a4879c7d-86eb-4b9f-a910-3840cecded33</td>\n",
       "      <td>a4879c7d-86eb-4b9f-a910-3840cecded33</td>\n",
       "      <td>WA-DNR</td>\n",
       "      <td>2014</td>\n",
       "      <td>a4879c7d-86eb-4b9f-a910-3840cecded33</td>\n",
       "      <td>POLYGON ((1167105.510143428 154272.714178029, ...</td>\n",
       "      <td>1166883.3</td>\n",
       "      <td>154266.9</td>\n",
       "    </tr>\n",
       "    <tr>\n",
       "      <th>2603</th>\n",
       "      <td>None</td>\n",
       "      <td>46.971436</td>\n",
       "      <td>-123.153256</td>\n",
       "      <td>2013-12-19</td>\n",
       "      <td>7b78b711-ba71-447f-8d77-4b35f0c8c3c0</td>\n",
       "      <td>7b78b711-ba71-447f-8d77-4b35f0c8c3c0</td>\n",
       "      <td>WA-DNR</td>\n",
       "      <td>2013</td>\n",
       "      <td>7b78b711-ba71-447f-8d77-4b35f0c8c3c0</td>\n",
       "      <td>POLYGON ((978393.410143432 608512.5141780027, ...</td>\n",
       "      <td>978171.2</td>\n",
       "      <td>608506.7</td>\n",
       "    </tr>\n",
       "    <tr>\n",
       "      <th>2604</th>\n",
       "      <td>None</td>\n",
       "      <td>46.512896</td>\n",
       "      <td>-121.025579</td>\n",
       "      <td>2013-06-11</td>\n",
       "      <td>5f915933-fc79-40aa-acc1-f852029f4d69</td>\n",
       "      <td>5f915933-fc79-40aa-acc1-f852029f4d69</td>\n",
       "      <td>WA-DNR</td>\n",
       "      <td>2013</td>\n",
       "      <td>5f915933-fc79-40aa-acc1-f852029f4d69</td>\n",
       "      <td>POLYGON ((1508317.710143427 430590.0141782704,...</td>\n",
       "      <td>1508095.5</td>\n",
       "      <td>430584.2</td>\n",
       "    </tr>\n",
       "    <tr>\n",
       "      <th>2605</th>\n",
       "      <td>None</td>\n",
       "      <td>46.460500</td>\n",
       "      <td>-122.033348</td>\n",
       "      <td>2014-03-20</td>\n",
       "      <td>fa818ffa-a433-452b-8561-cb4d266a431f</td>\n",
       "      <td>fa818ffa-a433-452b-8561-cb4d266a431f</td>\n",
       "      <td>WA-DNR</td>\n",
       "      <td>2014</td>\n",
       "      <td>fa818ffa-a433-452b-8561-cb4d266a431f</td>\n",
       "      <td>POLYGON ((1254249.210143431 414797.6141780733,...</td>\n",
       "      <td>1254027.0</td>\n",
       "      <td>414791.8</td>\n",
       "    </tr>\n",
       "    <tr>\n",
       "      <th>2606</th>\n",
       "      <td>None</td>\n",
       "      <td>46.476230</td>\n",
       "      <td>-122.002239</td>\n",
       "      <td>2014-03-20</td>\n",
       "      <td>7b6023d4-5349-4e23-aa53-63897d642292</td>\n",
       "      <td>7b6023d4-5349-4e23-aa53-63897d642292</td>\n",
       "      <td>WA-DNR</td>\n",
       "      <td>2014</td>\n",
       "      <td>7b6023d4-5349-4e23-aa53-63897d642292</td>\n",
       "      <td>POLYGON ((1262196.710143433 420382.0141780211,...</td>\n",
       "      <td>1261974.5</td>\n",
       "      <td>420376.2</td>\n",
       "    </tr>\n",
       "  </tbody>\n",
       "</table>\n",
       "</div>"
      ],
      "text/plain": [
       "     comments        lat         lon   meas_date  \\\n",
       "2602     None  45.741098 -122.354746  2014-07-01   \n",
       "2603     None  46.971436 -123.153256  2013-12-19   \n",
       "2604     None  46.512896 -121.025579  2013-06-11   \n",
       "2605     None  46.460500 -122.033348  2014-03-20   \n",
       "2606     None  46.476230 -122.002239  2014-03-20   \n",
       "\n",
       "                                   orig_id  \\\n",
       "2602  a4879c7d-86eb-4b9f-a910-3840cecded33   \n",
       "2603  7b78b711-ba71-447f-8d77-4b35f0c8c3c0   \n",
       "2604  5f915933-fc79-40aa-acc1-f852029f4d69   \n",
       "2605  fa818ffa-a433-452b-8561-cb4d266a431f   \n",
       "2606  7b6023d4-5349-4e23-aa53-63897d642292   \n",
       "\n",
       "                                   plot_id  source  meas_yr  \\\n",
       "2602  a4879c7d-86eb-4b9f-a910-3840cecded33  WA-DNR     2014   \n",
       "2603  7b78b711-ba71-447f-8d77-4b35f0c8c3c0  WA-DNR     2013   \n",
       "2604  5f915933-fc79-40aa-acc1-f852029f4d69  WA-DNR     2013   \n",
       "2605  fa818ffa-a433-452b-8561-cb4d266a431f  WA-DNR     2014   \n",
       "2606  7b6023d4-5349-4e23-aa53-63897d642292  WA-DNR     2014   \n",
       "\n",
       "                                      uuid  \\\n",
       "2602  a4879c7d-86eb-4b9f-a910-3840cecded33   \n",
       "2603  7b78b711-ba71-447f-8d77-4b35f0c8c3c0   \n",
       "2604  5f915933-fc79-40aa-acc1-f852029f4d69   \n",
       "2605  fa818ffa-a433-452b-8561-cb4d266a431f   \n",
       "2606  7b6023d4-5349-4e23-aa53-63897d642292   \n",
       "\n",
       "                                               geometry          x         y  \n",
       "2602  POLYGON ((1167105.510143428 154272.714178029, ...  1166883.3  154266.9  \n",
       "2603  POLYGON ((978393.410143432 608512.5141780027, ...   978171.2  608506.7  \n",
       "2604  POLYGON ((1508317.710143427 430590.0141782704,...  1508095.5  430584.2  \n",
       "2605  POLYGON ((1254249.210143431 414797.6141780733,...  1254027.0  414791.8  \n",
       "2606  POLYGON ((1262196.710143433 420382.0141780211,...  1261974.5  420376.2  "
      ]
     },
     "execution_count": 9,
     "metadata": {},
     "output_type": "execute_result"
    }
   ],
   "source": [
    "sp_plots.head()"
   ]
  },
  {
   "cell_type": "code",
   "execution_count": 19,
   "metadata": {},
   "outputs": [],
   "source": [
    "@dask.delayed\n",
    "def clip_smaller_plot(infile):\n",
    "    basename = os.path.basename(infile)\n",
    "    ODIR = '../data/raw/lidar/dnr_portal/dnrplot_clips/plot_clips_epsg2927/'\n",
    "    outfile = os.path.join(ODIR, basename)\n",
    "    plot_id = basename.split('_')[0]\n",
    "    match = sp_plots.loc[plot_id][['x', 'y']]\n",
    "    x, y = match.x, match.y\n",
    "    \n",
    "    proc = subprocess.run(['wine', '/storage/lidar/LAStools/bin/las2las.exe',\n",
    "                           '-i', infile,\n",
    "                           '-o', outfile,\n",
    "                           # radius of 1/10th-acre plot in feet\n",
    "                           '-keep_circle', str(x), str(y), '37.2'], \n",
    "                          stderr=subprocess.PIPE,\n",
    "                          stdout=subprocess.PIPE)\n",
    "#     print(outfile)\n",
    "    return proc"
   ]
  },
  {
   "cell_type": "code",
   "execution_count": 41,
   "metadata": {},
   "outputs": [],
   "source": [
    "@dask.delayed\n",
    "def get_boundary(infile, odir):\n",
    "    proc = subprocess.run(['wine', '/storage/lidar/LAStools/bin/lasboundary.exe',\n",
    "                           '-i', infile,\n",
    "                           '-odir', odir,\n",
    "                           '-oshp',\n",
    "                           '-labels'], \n",
    "                          stderr=subprocess.PIPE,\n",
    "                          stdout=subprocess.PIPE)\n",
    "#     print(outfile)\n",
    "    return proc"
   ]
  },
  {
   "cell_type": "code",
   "execution_count": 13,
   "metadata": {},
   "outputs": [],
   "source": [
    "cluster=LocalCluster(scheduler_port=7001, diagnostics_port=7002)\n",
    "c = Client(cluster)"
   ]
  },
  {
   "cell_type": "code",
   "execution_count": 20,
   "metadata": {},
   "outputs": [
    {
     "data": {
      "application/vnd.jupyter.widget-view+json": {
       "model_id": "25ec3f7283fa4fa5b0a914ccfcd6ed51",
       "version_major": 2,
       "version_minor": 0
      },
      "text/plain": [
       "VBox()"
      ]
     },
     "metadata": {},
     "output_type": "display_data"
    }
   ],
   "source": [
    "odir = '../data/raw/lidar/dnr_portal/dnrplot_clips/plot_clips_epsg2927_coverage/'\n",
    "res = c.persist([clip_smaller_plot(p, odir=odir) for p in dnr_plot_clips])\n",
    "progress(res)"
   ]
  },
  {
   "cell_type": "code",
   "execution_count": 37,
   "metadata": {},
   "outputs": [
    {
     "data": {
      "text/plain": [
       "2735"
      ]
     },
     "execution_count": 37,
     "metadata": {},
     "output_type": "execute_result"
    }
   ],
   "source": [
    "ODIR = '../data/raw/lidar/dnr_portal/dnrplot_clips/plot_clips_epsg2927/'\n",
    "PLOT_CLIPS = os.path.join(ODIR, '*.laz')\n",
    "clipped = glob.glob(PLOT_CLIPS)\n",
    "len(clipped)"
   ]
  },
  {
   "cell_type": "code",
   "execution_count": 23,
   "metadata": {},
   "outputs": [
    {
     "data": {
      "application/vnd.jupyter.widget-view+json": {
       "model_id": "09d85b4a4e8d425a885b8ccc85794a15",
       "version_major": 2,
       "version_minor": 0
      },
      "text/plain": [
       "VBox()"
      ]
     },
     "metadata": {},
     "output_type": "display_data"
    }
   ],
   "source": [
    "res = c.persist([get_boundary(p, odir=ODIR) for p in clipped])\n",
    "progress(res)"
   ]
  },
  {
   "cell_type": "code",
   "execution_count": 40,
   "metadata": {},
   "outputs": [
    {
     "data": {
      "text/plain": [
       "2735"
      ]
     },
     "execution_count": 40,
     "metadata": {},
     "output_type": "execute_result"
    }
   ],
   "source": [
    "HA_ODIR = '../data/raw/lidar/dnr_portal/dnrplot_clips/hectare_clips_epsg2927/'\n",
    "HA_PLOT_CLIPS = os.path.join(HA_ODIR, '*.laz')\n",
    "ha_clipped = glob.glob(HA_PLOT_CLIPS)\n",
    "len(ha_clipped)"
   ]
  },
  {
   "cell_type": "code",
   "execution_count": 42,
   "metadata": {},
   "outputs": [
    {
     "data": {
      "application/vnd.jupyter.widget-view+json": {
       "model_id": "fb3ca358a6a84b519ec4cfd49b9c509b",
       "version_major": 2,
       "version_minor": 0
      },
      "text/plain": [
       "VBox()"
      ]
     },
     "metadata": {},
     "output_type": "display_data"
    }
   ],
   "source": [
    "res = c.persist([get_boundary(p, odir=HA_ODIR) for p in ha_clipped])\n",
    "progress(res)"
   ]
  },
  {
   "cell_type": "code",
   "execution_count": 57,
   "metadata": {},
   "outputs": [],
   "source": [
    "# c.close()\n",
    "# cluster.close()"
   ]
  },
  {
   "cell_type": "code",
   "execution_count": 24,
   "metadata": {},
   "outputs": [
    {
     "data": {
      "text/plain": [
       "2735"
      ]
     },
     "execution_count": 24,
     "metadata": {},
     "output_type": "execute_result"
    }
   ],
   "source": [
    "# inspect coverages\n",
    "SHPS = '../data/raw/lidar/dnr_portal/dnrplot_clips/plot_clips_epsg2927_coverage/*.shp'\n",
    "shps = glob.glob(SHPS)\n",
    "len(shps)"
   ]
  },
  {
   "cell_type": "code",
   "execution_count": 49,
   "metadata": {},
   "outputs": [
    {
     "data": {
      "text/plain": [
       "2735"
      ]
     },
     "execution_count": 49,
     "metadata": {},
     "output_type": "execute_result"
    }
   ],
   "source": [
    "# inspect coverages\n",
    "HA_SHPS = '../data/raw/lidar/dnr_portal/dnrplot_clips/hectare_clips_epsg2927/*.shp'\n",
    "ha_shps = glob.glob(HA_SHPS)\n",
    "len(ha_shps)"
   ]
  },
  {
   "cell_type": "code",
   "execution_count": 25,
   "metadata": {},
   "outputs": [
    {
     "name": "stdout",
     "output_type": "stream",
     "text": [
      "<class 'geopandas.geodataframe.GeoDataFrame'>\n",
      "RangeIndex: 2735 entries, 0 to 2734\n",
      "Data columns (total 12 columns):\n",
      "file_name     2735 non-null object\n",
      "version       2735 non-null object\n",
      "num_points    2735 non-null int64\n",
      "point_type    2735 non-null int64\n",
      "point_size    2735 non-null int64\n",
      "min_x         2735 non-null float64\n",
      "max_x         2735 non-null float64\n",
      "min_y         2735 non-null float64\n",
      "max_y         2735 non-null float64\n",
      "min_z         2735 non-null float64\n",
      "max_z         2735 non-null float64\n",
      "geometry      2735 non-null object\n",
      "dtypes: float64(6), int64(3), object(3)\n",
      "memory usage: 256.5+ KB\n"
     ]
    }
   ],
   "source": [
    "# read in all the shapefiles of clipped plot boundaries into a list\n",
    "gdfs = [gpd.read_file(shp) for shp in shps]\n",
    "# concatentate them into a single geodataframe\n",
    "gdf = pd.concat(gdfs, axis=0, ignore_index=True)\n",
    "gdf.info()"
   ]
  },
  {
   "cell_type": "code",
   "execution_count": 50,
   "metadata": {},
   "outputs": [
    {
     "name": "stdout",
     "output_type": "stream",
     "text": [
      "<class 'geopandas.geodataframe.GeoDataFrame'>\n",
      "RangeIndex: 2735 entries, 0 to 2734\n",
      "Data columns (total 12 columns):\n",
      "file_name     2735 non-null object\n",
      "version       2735 non-null object\n",
      "num_points    2735 non-null int64\n",
      "point_type    2735 non-null int64\n",
      "point_size    2735 non-null int64\n",
      "min_x         2735 non-null float64\n",
      "max_x         2735 non-null float64\n",
      "min_y         2735 non-null float64\n",
      "max_y         2735 non-null float64\n",
      "min_z         2735 non-null float64\n",
      "max_z         2735 non-null float64\n",
      "geometry      2735 non-null object\n",
      "dtypes: float64(6), int64(3), object(3)\n",
      "memory usage: 256.5+ KB\n"
     ]
    }
   ],
   "source": [
    "# read in all the shapefiles of clipped plot boundaries into a list\n",
    "ha_gdfs = [gpd.read_file(shp) for shp in ha_shps]\n",
    "# concatentate them into a single geodataframe\n",
    "ha_gdf = pd.concat(ha_gdfs, axis=0, ignore_index=True)\n",
    "ha_gdf.info()"
   ]
  },
  {
   "cell_type": "code",
   "execution_count": 26,
   "metadata": {},
   "outputs": [
    {
     "data": {
      "text/plain": [
       "{'init': 'epsg:2927'}"
      ]
     },
     "execution_count": 26,
     "metadata": {},
     "output_type": "execute_result"
    }
   ],
   "source": [
    "gdf.crs"
   ]
  },
  {
   "cell_type": "code",
   "execution_count": 54,
   "metadata": {},
   "outputs": [],
   "source": [
    "gdf['acres'] = gdf.area / 43560  # sq ft per acre\n",
    "ha_gdf['acres'] = ha_gdf.area / 43560"
   ]
  },
  {
   "cell_type": "code",
   "execution_count": 28,
   "metadata": {},
   "outputs": [
    {
     "data": {
      "text/plain": [
       "0    0.099091\n",
       "1    0.098656\n",
       "2    0.097294\n",
       "3    0.098573\n",
       "4    0.099199\n",
       "Name: acres, dtype: float64"
      ]
     },
     "execution_count": 28,
     "metadata": {},
     "output_type": "execute_result"
    }
   ],
   "source": [
    "gdf.acres.head()"
   ]
  },
  {
   "cell_type": "code",
   "execution_count": 55,
   "metadata": {},
   "outputs": [
    {
     "data": {
      "text/plain": [
       "0    2.464116\n",
       "1    2.455857\n",
       "2    2.469404\n",
       "3    2.464307\n",
       "4    2.469219\n",
       "Name: acres, dtype: float64"
      ]
     },
     "execution_count": 55,
     "metadata": {},
     "output_type": "execute_result"
    }
   ],
   "source": [
    "ha_gdf.acres.head()"
   ]
  },
  {
   "cell_type": "code",
   "execution_count": 32,
   "metadata": {},
   "outputs": [
    {
     "data": {
      "image/png": "[encoded data removed]",
      "text/plain": [
       "<Figure size 432x288 with 1 Axes>"
      ]
     },
     "metadata": {
      "needs_background": "light"
     },
     "output_type": "display_data"
    }
   ],
   "source": [
    "plt.hist(gdf.acres, bins=50);"
   ]
  },
  {
   "cell_type": "code",
   "execution_count": 56,
   "metadata": {},
   "outputs": [
    {
     "data": {
      "image/png": "[encoded data removed]",
      "text/plain": [
       "<Figure size 432x288 with 1 Axes>"
      ]
     },
     "metadata": {
      "needs_background": "light"
     },
     "output_type": "display_data"
    }
   ],
   "source": [
    "plt.hist(ha_gdf.acres, bins=50);"
   ]
  }
 ],
 "metadata": {
  "kernelspec": {
   "display_name": "Python [conda env:pyFIRS] *",
   "language": "python",
   "name": "conda-env-pyFIRS-py"
  },
  "language_info": {
   "codemirror_mode": {
    "name": "ipython",
    "version": 3
   },
   "file_extension": ".py",
   "mimetype": "text/x-python",
   "name": "python",
   "nbconvert_exporter": "python",
   "pygments_lexer": "ipython3",
   "version": "3.6.7"
  }
 },
 "nbformat": 4,
 "nbformat_minor": 2
}
