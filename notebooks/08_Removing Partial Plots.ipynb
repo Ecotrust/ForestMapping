{
 "cells": [
  {
   "cell_type": "markdown",
   "metadata": {},
   "source": [
    "In this notebook, we'll identify any lidar clips that do not completely cover the inventory plot and copy any nearly-complete coverage plots to our processed data folder."
   ]
  },
  {
   "cell_type": "code",
   "execution_count": 1,
   "metadata": {},
   "outputs": [],
   "source": [
    "import geopandas as gpd\n",
    "import pandas as pd\n",
    "import glob\n",
    "import shutil\n",
    "import os\n",
    "from matplotlib import pyplot as plt\n",
    "import numpy as np\n",
    "%matplotlib inline"
   ]
  },
  {
   "cell_type": "code",
   "execution_count": 2,
   "metadata": {},
   "outputs": [],
   "source": [
    "# USFS Region 6 Albers Equal Area Map Projection, proj4 string format\n",
    "# we'll use this later for calculating the area of each plot\n",
    "USFS_ALB = '+proj=aea +lat_1=41 +lat_2=47 +lat_0=44 +lon_0=-120 +x_0=0 +y_0=0 +ellps=GRS80 +datum=NAD83 +units=m +no_defs'"
   ]
  },
  {
   "cell_type": "code",
   "execution_count": 3,
   "metadata": {},
   "outputs": [],
   "source": [
    "PLOT_CLIPS = '../data/interim/lidar/plot_clips/'"
   ]
  },
  {
   "cell_type": "code",
   "execution_count": 4,
   "metadata": {},
   "outputs": [
    {
     "data": {
      "text/plain": [
       "['../data/interim/lidar/plot_clips/dnr_portal/usfs_plots/hectare_clips',\n",
       " '../data/interim/lidar/plot_clips/dnr_portal/dnr_plots/hectare_clips',\n",
       " '../data/interim/lidar/plot_clips/noaa/blm_plots/hectare_clips',\n",
       " '../data/interim/lidar/plot_clips/noaa/usfs_plots/hectare_clips',\n",
       " '../data/interim/lidar/plot_clips/noaa/dnr_plots/hectare_clips',\n",
       " '../data/interim/lidar/plot_clips/osu/usfs_plots/hectare_clips',\n",
       " '../data/interim/lidar/plot_clips/osu/blm_plots/hectare_clips']"
      ]
     },
     "execution_count": 4,
     "metadata": {},
     "output_type": "execute_result"
    }
   ],
   "source": [
    "ha_clip_dirs = [x for x,_,_ in os.walk(PLOT_CLIPS) if 'hectare_clips' in x]\n",
    "ha_clip_dirs"
   ]
  },
  {
   "cell_type": "code",
   "execution_count": 5,
   "metadata": {},
   "outputs": [
    {
     "data": {
      "text/plain": [
       "['../data/interim/lidar/plot_clips/dnr_portal/usfs_plots/plot_clips',\n",
       " '../data/interim/lidar/plot_clips/dnr_portal/dnr_plots/plot_clips',\n",
       " '../data/interim/lidar/plot_clips/noaa/blm_plots/plot_clips',\n",
       " '../data/interim/lidar/plot_clips/noaa/usfs_plots/plot_clips',\n",
       " '../data/interim/lidar/plot_clips/noaa/dnr_plots/plot_clips',\n",
       " '../data/interim/lidar/plot_clips/osu/usfs_plots/plot_clips',\n",
       " '../data/interim/lidar/plot_clips/osu/blm_plots/plot_clips']"
      ]
     },
     "execution_count": 5,
     "metadata": {},
     "output_type": "execute_result"
    }
   ],
   "source": [
    "plot_clip_dirs = [x for x,_,_ in os.walk(PLOT_CLIPS) if 'plot_clips' in x.split('/')[-1]]\n",
    "plot_clip_dirs"
   ]
  },
  {
   "cell_type": "code",
   "execution_count": 6,
   "metadata": {},
   "outputs": [
    {
     "data": {
      "text/plain": [
       "105"
      ]
     },
     "execution_count": 6,
     "metadata": {},
     "output_type": "execute_result"
    }
   ],
   "source": [
    "shps = glob.glob(os.path.join(ha_clip_dirs[0], '*.shp'))\n",
    "len(shps)"
   ]
  },
  {
   "cell_type": "code",
   "execution_count": 7,
   "metadata": {},
   "outputs": [
    {
     "data": {
      "text/plain": [
       "(['../data/interim/lidar/plot_clips/dnr_portal/dnr_plots/plot_clips',\n",
       "  '../data/interim/lidar/plot_clips/noaa/dnr_plots/plot_clips'],\n",
       " ['../data/interim/lidar/plot_clips/dnr_portal/dnr_plots/hectare_clips',\n",
       "  '../data/interim/lidar/plot_clips/noaa/dnr_plots/hectare_clips'])"
      ]
     },
     "execution_count": 7,
     "metadata": {},
     "output_type": "execute_result"
    }
   ],
   "source": [
    "dnr_plots = [d for d in plot_clip_dirs if 'dnr_plots' in d]\n",
    "dnr_hectares = [d for d in ha_clip_dirs if 'dnr_plots' in d]\n",
    "dnr_plots, dnr_hectares"
   ]
  },
  {
   "cell_type": "code",
   "execution_count": 8,
   "metadata": {},
   "outputs": [
    {
     "data": {
      "text/plain": [
       "(['../data/interim/lidar/plot_clips/noaa/blm_plots/plot_clips',\n",
       "  '../data/interim/lidar/plot_clips/osu/blm_plots/plot_clips'],\n",
       " ['../data/interim/lidar/plot_clips/noaa/blm_plots/hectare_clips',\n",
       "  '../data/interim/lidar/plot_clips/osu/blm_plots/hectare_clips'])"
      ]
     },
     "execution_count": 8,
     "metadata": {},
     "output_type": "execute_result"
    }
   ],
   "source": [
    "blm_plots = [d for d in plot_clip_dirs if 'blm_plots' in d]\n",
    "blm_hectares = [d for d in ha_clip_dirs if 'blm_plots' in d]\n",
    "blm_plots, blm_hectares"
   ]
  },
  {
   "cell_type": "code",
   "execution_count": 9,
   "metadata": {},
   "outputs": [
    {
     "data": {
      "text/plain": [
       "(['../data/interim/lidar/plot_clips/dnr_portal/usfs_plots/plot_clips',\n",
       "  '../data/interim/lidar/plot_clips/noaa/usfs_plots/plot_clips',\n",
       "  '../data/interim/lidar/plot_clips/osu/usfs_plots/plot_clips'],\n",
       " ['../data/interim/lidar/plot_clips/dnr_portal/usfs_plots/hectare_clips',\n",
       "  '../data/interim/lidar/plot_clips/noaa/usfs_plots/hectare_clips',\n",
       "  '../data/interim/lidar/plot_clips/osu/usfs_plots/hectare_clips'])"
      ]
     },
     "execution_count": 9,
     "metadata": {},
     "output_type": "execute_result"
    }
   ],
   "source": [
    "usfs_plots = [d for d in plot_clip_dirs if 'usfs_plots' in d]\n",
    "usfs_hectares = [d for d in ha_clip_dirs if 'usfs_plots' in d]\n",
    "usfs_plots, usfs_hectares"
   ]
  },
  {
   "cell_type": "code",
   "execution_count": 10,
   "metadata": {},
   "outputs": [
    {
     "data": {
      "text/plain": [
       "647"
      ]
     },
     "execution_count": 10,
     "metadata": {},
     "output_type": "execute_result"
    }
   ],
   "source": [
    "usfs_plot_shps = [glob.glob(os.path.join(d,'*.shp')) for d in usfs_plots]\n",
    "# flatten the list of shapefiles\n",
    "usfs_plot_shps = [shp for shps in usfs_plot_shps for shp in shps]\n",
    "len(usfs_plot_shps)"
   ]
  },
  {
   "cell_type": "code",
   "execution_count": 11,
   "metadata": {},
   "outputs": [
    {
     "data": {
      "text/plain": [
       "1435"
      ]
     },
     "execution_count": 11,
     "metadata": {},
     "output_type": "execute_result"
    }
   ],
   "source": [
    "blm_plot_shps = [glob.glob(os.path.join(d,'*.shp')) for d in blm_plots]\n",
    "# flatten the list of shapefiles\n",
    "blm_plot_shps = [shp for shps in blm_plot_shps for shp in shps]\n",
    "len(blm_plot_shps)"
   ]
  },
  {
   "cell_type": "code",
   "execution_count": 12,
   "metadata": {},
   "outputs": [
    {
     "data": {
      "text/plain": [
       "4278"
      ]
     },
     "execution_count": 12,
     "metadata": {},
     "output_type": "execute_result"
    }
   ],
   "source": [
    "dnr_plot_shps = [glob.glob(os.path.join(d,'*.shp')) for d in dnr_plots]\n",
    "# flatten the list of shapefiles\n",
    "dnr_plot_shps = [shp for shps in dnr_plot_shps for shp in shps]\n",
    "len(dnr_plot_shps)"
   ]
  },
  {
   "cell_type": "code",
   "execution_count": 13,
   "metadata": {},
   "outputs": [
    {
     "name": "stdout",
     "output_type": "stream",
     "text": [
      "<class 'geopandas.geodataframe.GeoDataFrame'>\n",
      "RangeIndex: 4273 entries, 0 to 4272\n",
      "Data columns (total 12 columns):\n",
      "file_name     4273 non-null object\n",
      "geometry      4273 non-null object\n",
      "max_x         4273 non-null float64\n",
      "max_y         4273 non-null float64\n",
      "max_z         4273 non-null float64\n",
      "min_x         4273 non-null float64\n",
      "min_y         4273 non-null float64\n",
      "min_z         4273 non-null float64\n",
      "num_points    4273 non-null float64\n",
      "point_size    4273 non-null float64\n",
      "point_type    4273 non-null float64\n",
      "version       4273 non-null object\n",
      "dtypes: float64(9), object(3)\n",
      "memory usage: 400.7+ KB\n"
     ]
    }
   ],
   "source": [
    "dnr_plot_gdfs = [gpd.read_file(shp).to_crs({'init':'epsg:4326'}) for shp in dnr_plot_shps]\n",
    "dnr_plot_gdf = pd.concat(dnr_plot_gdfs, axis=0, ignore_index=True, sort=True)\n",
    "dnr_plot_gdf.info()"
   ]
  },
  {
   "cell_type": "code",
   "execution_count": 14,
   "metadata": {},
   "outputs": [
    {
     "data": {
      "text/plain": [
       "(5, 4278)"
      ]
     },
     "execution_count": 14,
     "metadata": {},
     "output_type": "execute_result"
    }
   ],
   "source": [
    "basenames = [os.path.basename(shp).split('.')[0] for shp in dnr_plot_shps]\n",
    "missing = [x for x in basenames if x not in dnr_plot_gdf.file_name.apply(lambda x: x.split('.')[0]).values]\n",
    "len(missing), len(basenames)"
   ]
  },
  {
   "cell_type": "code",
   "execution_count": 15,
   "metadata": {},
   "outputs": [
    {
     "data": {
      "text/plain": [
       "['81c6c096-2710-4374-b848-0b209ca72a0c_kitsap_2000',\n",
       " '7af6509c-cb39-4d2f-ab59-08e88c6928ac_clallam-county_2001-2002',\n",
       " 'bc9db40a-ca12-48bb-bd32-be8f51d49cb7_kitsap_2000',\n",
       " '0aa62f02-d7a0-45df-86ed-49f94e5b0e67_kitsap_2000',\n",
       " 'b8d0b1b7-ddfe-44b1-9815-ebccf994e3c2_kitsap_2000']"
      ]
     },
     "execution_count": 15,
     "metadata": {},
     "output_type": "execute_result"
    }
   ],
   "source": [
    "missing"
   ]
  },
  {
   "cell_type": "code",
   "execution_count": 16,
   "metadata": {},
   "outputs": [],
   "source": [
    "def get_wild_file(path):\n",
    "    dirname, basename = os.path.split(path)\n",
    "    return os.path.join(dirname, basename.split('.')[0]+'.*')"
   ]
  },
  {
   "cell_type": "code",
   "execution_count": 17,
   "metadata": {},
   "outputs": [],
   "source": [
    "paths = [get_wild_file(x) for x in dnr_plot_shps if os.path.basename(x).split('.')[0] not in missing]\n",
    "dnr_plot_gdf['path'] = paths"
   ]
  },
  {
   "cell_type": "code",
   "execution_count": 18,
   "metadata": {},
   "outputs": [],
   "source": [
    "dnr_plot_gdf['area_m2'] = dnr_plot_gdf.to_crs(USFS_ALB).area\n",
    "dnr_plot_gdf['acres'] = dnr_plot_gdf['area_m2'] / 4046.86"
   ]
  },
  {
   "cell_type": "code",
   "execution_count": 19,
   "metadata": {},
   "outputs": [],
   "source": [
    "# keep the plot clip that has the largest area among duplicates\n",
    "dnr_plot_gdf = dnr_plot_gdf.sort_values(by=['file_name', 'acres']).drop_duplicates(subset='file_name', keep='last')"
   ]
  },
  {
   "cell_type": "code",
   "execution_count": 20,
   "metadata": {},
   "outputs": [],
   "source": [
    "# drop plots that have more than 25% of the plot area missing from the point cloud\n",
    "dnr_plot_gdf = dnr_plot_gdf.loc[dnr_plot_gdf.acres >= (0.75* 0.10)]"
   ]
  },
  {
   "cell_type": "code",
   "execution_count": 21,
   "metadata": {},
   "outputs": [
    {
     "data": {
      "image/png": "[encoded data removed]",
      "text/plain": [
       "<Figure size 432x288 with 1 Axes>"
      ]
     },
     "metadata": {
      "needs_background": "light"
     },
     "output_type": "display_data"
    }
   ],
   "source": [
    "plt.hist(dnr_plot_gdf.acres, bins=50)\n",
    "plt.ylim(0,1200);"
   ]
  },
  {
   "cell_type": "code",
   "execution_count": 22,
   "metadata": {},
   "outputs": [
    {
     "data": {
      "text/plain": [
       "<matplotlib.axes._subplots.AxesSubplot at 0x7fb45155c6d8>"
      ]
     },
     "execution_count": 22,
     "metadata": {},
     "output_type": "execute_result"
    },
    {
     "data": {
      "image/png": "[encoded data removed]",
      "text/plain": [
       "<Figure size 432x288 with 1 Axes>"
      ]
     },
     "metadata": {
      "needs_background": "light"
     },
     "output_type": "display_data"
    }
   ],
   "source": [
    "dnr_plot_gdf.loc[dnr_plot_gdf.acres < (0.77* 0.10)].sort_values(by='acres', ascending=False).iloc[[0]].to_crs(USFS_ALB).plot()"
   ]
  },
  {
   "cell_type": "code",
   "execution_count": 23,
   "metadata": {},
   "outputs": [],
   "source": [
    "def get_hec_path(plot_path):\n",
    "    dirname, basename = os.path.split(plot_path)\n",
    "    hec_dir = os.path.abspath(os.path.join(dirname, '..', 'hectare_clips'))\n",
    "    return os.path.join(hec_dir, basename)"
   ]
  },
  {
   "cell_type": "code",
   "execution_count": 24,
   "metadata": {},
   "outputs": [
    {
     "name": "stdout",
     "output_type": "stream",
     "text": [
      "Moved 3118 laz files to ../data/processed/lidar/plot_clips/dnr_plots/plot_clips/\n"
     ]
    }
   ],
   "source": [
    "# move the remaining plot clips to the processed directory\n",
    "DEST = '../data/processed/lidar/plot_clips/dnr_plots/plot_clips/'\n",
    "for p in dnr_plot_gdf.path:\n",
    "    for f in glob.glob(p):\n",
    "        shutil.copy(f, DEST)\n",
    "    for f in glob.glob(get_hec_path(p)):\n",
    "        shutil.copy(f, get_hec_path(DEST))\n",
    "\n",
    "moved = glob.glob(os.path.join(DEST,'*.laz'))\n",
    "print('Moved {} laz files to {}'.format(len(moved), DEST))"
   ]
  },
  {
   "cell_type": "code",
   "execution_count": 25,
   "metadata": {},
   "outputs": [],
   "source": [
    "dnr_plot_gdf.to_file('../data/processed/lidar/plot_clips/dnr_plots/dnr_plots_lidar_coverage.shp')"
   ]
  },
  {
   "cell_type": "code",
   "execution_count": 26,
   "metadata": {},
   "outputs": [
    {
     "name": "stdout",
     "output_type": "stream",
     "text": [
      "<class 'geopandas.geodataframe.GeoDataFrame'>\n",
      "RangeIndex: 647 entries, 0 to 646\n",
      "Data columns (total 13 columns):\n",
      "file_name     647 non-null object\n",
      "geometry      647 non-null object\n",
      "max_x         647 non-null float64\n",
      "max_y         647 non-null float64\n",
      "max_z         647 non-null float64\n",
      "min_x         647 non-null float64\n",
      "min_y         647 non-null float64\n",
      "min_z         647 non-null float64\n",
      "num_points    647 non-null int64\n",
      "point_size    647 non-null int64\n",
      "point_type    647 non-null int64\n",
      "version       647 non-null object\n",
      "path          647 non-null object\n",
      "dtypes: float64(6), int64(3), object(4)\n",
      "memory usage: 65.8+ KB\n"
     ]
    }
   ],
   "source": [
    "usfs_plot_gdfs = [gpd.read_file(shp).to_crs({'init':'epsg:4326'}) for shp in usfs_plot_shps]\n",
    "usfs_plot_gdf = pd.concat(usfs_plot_gdfs, axis=0, ignore_index=True, sort=True)\n",
    "usfs_plot_gdf['path'] = [get_wild_file(f) for f in usfs_plot_shps]\n",
    "usfs_plot_gdf.info()"
   ]
  },
  {
   "cell_type": "code",
   "execution_count": 27,
   "metadata": {},
   "outputs": [],
   "source": [
    "usfs_plot_gdf['area_m2'] = usfs_plot_gdf.to_crs(USFS_ALB).area\n",
    "usfs_plot_gdf['acres'] = usfs_plot_gdf['area_m2'] / 4046.86\n",
    "usfs_plot_gdf = usfs_plot_gdf.loc[usfs_plot_gdf.acres >= (0.90 * 0.25)]"
   ]
  },
  {
   "cell_type": "code",
   "execution_count": 28,
   "metadata": {},
   "outputs": [
    {
     "data": {
      "image/png": "[encoded data removed]",
      "text/plain": [
       "<Figure size 432x288 with 1 Axes>"
      ]
     },
     "metadata": {
      "needs_background": "light"
     },
     "output_type": "display_data"
    }
   ],
   "source": [
    "plt.hist(usfs_plot_gdf.acres, bins=50)\n",
    "plt.ylim(0,10);"
   ]
  },
  {
   "cell_type": "code",
   "execution_count": null,
   "metadata": {},
   "outputs": [],
   "source": [
    "# usfs_plot_gdf.loc[usfs_plot_gdf.acres < (0.80* 0.25)].sort_values(by='acres', ascending=False).iloc[[0]].to_crs(USFS_ALB).plot()"
   ]
  },
  {
   "cell_type": "code",
   "execution_count": 42,
   "metadata": {},
   "outputs": [
    {
     "name": "stdout",
     "output_type": "stream",
     "text": [
      "Moved 565 laz files to ../data/processed/lidar/plot_clips/usfs_plots/plot_clips/\n"
     ]
    }
   ],
   "source": [
    "# move the remaining plot clips to the processed directory\n",
    "DEST = '../data/processed/lidar/plot_clips/usfs_plots/plot_clips/'\n",
    "for p in usfs_plot_gdf.path:\n",
    "    for f in glob.glob(p):\n",
    "        shutil.copy(f, DEST)\n",
    "    for f in glob.glob(get_hec_path(p)):\n",
    "        shutil.copy(f, get_hec_path(DEST))\n",
    "\n",
    "moved = glob.glob(os.path.join(DEST,'*.laz'))\n",
    "print('Moved {} laz files to {}'.format(len(moved), DEST))"
   ]
  },
  {
   "cell_type": "code",
   "execution_count": 43,
   "metadata": {},
   "outputs": [],
   "source": [
    "usfs_plot_gdf.to_file('../data/processed/lidar/plot_clips/usfs_plots/usfs_plots_lidar_coverage.shp')"
   ]
  },
  {
   "cell_type": "code",
   "execution_count": 44,
   "metadata": {},
   "outputs": [
    {
     "name": "stdout",
     "output_type": "stream",
     "text": [
      "<class 'geopandas.geodataframe.GeoDataFrame'>\n",
      "RangeIndex: 1435 entries, 0 to 1434\n",
      "Data columns (total 13 columns):\n",
      "file_name     1435 non-null object\n",
      "geometry      1435 non-null object\n",
      "max_x         1435 non-null float64\n",
      "max_y         1435 non-null float64\n",
      "max_z         1435 non-null float64\n",
      "min_x         1435 non-null float64\n",
      "min_y         1435 non-null float64\n",
      "min_z         1435 non-null float64\n",
      "num_points    1435 non-null int64\n",
      "point_size    1435 non-null int64\n",
      "point_type    1435 non-null int64\n",
      "version       1435 non-null object\n",
      "path          1435 non-null object\n",
      "dtypes: float64(6), int64(3), object(4)\n",
      "memory usage: 145.8+ KB\n"
     ]
    }
   ],
   "source": [
    "blm_plot_gdfs = [gpd.read_file(shp).to_crs({'init':'epsg:4326'}) for shp in blm_plot_shps]\n",
    "blm_plot_gdf = pd.concat(blm_plot_gdfs, axis=0, ignore_index=True, sort=True)\n",
    "blm_plot_gdf['path'] = [get_wild_file(f) for f in blm_plot_shps]\n",
    "blm_plot_gdf.info()"
   ]
  },
  {
   "cell_type": "code",
   "execution_count": 45,
   "metadata": {},
   "outputs": [],
   "source": [
    "blm_plot_gdf['area_m2'] = blm_plot_gdf.to_crs(USFS_ALB).area\n",
    "blm_plot_gdf['acres'] = blm_plot_gdf['area_m2'] / 4046.86\n",
    "blm_plot_gdf = blm_plot_gdf.loc[blm_plot_gdf.acres >= (0.90 * 1/8)]"
   ]
  },
  {
   "cell_type": "code",
   "execution_count": 46,
   "metadata": {},
   "outputs": [
    {
     "data": {
      "image/png": "[encoded data removed]",
      "text/plain": [
       "<Figure size 432x288 with 1 Axes>"
      ]
     },
     "metadata": {
      "needs_background": "light"
     },
     "output_type": "display_data"
    }
   ],
   "source": [
    "plt.hist(blm_plot_gdf.acres, bins=50)\n",
    "plt.ylim(0,10);"
   ]
  },
  {
   "cell_type": "code",
   "execution_count": null,
   "metadata": {},
   "outputs": [],
   "source": [
    "# blm_plot_gdf.loc[blm_plot_gdf.acres < (0.90 * 1/8)].sort_values(by='acres', ascending=False).iloc[[0]].to_crs(USFS_ALB).plot()"
   ]
  },
  {
   "cell_type": "code",
   "execution_count": 47,
   "metadata": {},
   "outputs": [
    {
     "name": "stdout",
     "output_type": "stream",
     "text": [
      "Moved 1139 laz files to ../data/processed/lidar/plot_clips/blm_plots/plot_clips/\n"
     ]
    }
   ],
   "source": [
    "# move the remaining plot clips to the processed directory\n",
    "DEST = '../data/processed/lidar/plot_clips/blm_plots/plot_clips/'\n",
    "for p in blm_plot_gdf.path:\n",
    "    for f in glob.glob(p):\n",
    "        shutil.copy(f, DEST)\n",
    "    for f in glob.glob(get_hec_path(p)):\n",
    "        shutil.copy(f, get_hec_path(DEST))\n",
    "\n",
    "moved = glob.glob(os.path.join(DEST,'*.laz'))\n",
    "print('Moved {} laz files to {}'.format(len(moved), DEST))"
   ]
  },
  {
   "cell_type": "code",
   "execution_count": 48,
   "metadata": {},
   "outputs": [],
   "source": [
    "blm_plot_gdf.to_file('../data/processed/lidar/plot_clips/blm_plots/blm_plots_lidar_coverage.shp')"
   ]
  }
 ],
 "metadata": {
  "kernelspec": {
   "display_name": "Python [conda env:pyFIRS] *",
   "language": "python",
   "name": "conda-env-pyFIRS-py"
  },
  "language_info": {
   "codemirror_mode": {
    "name": "ipython",
    "version": 3
   },
   "file_extension": ".py",
   "mimetype": "text/x-python",
   "name": "python",
   "nbconvert_exporter": "python",
   "pygments_lexer": "ipython3",
   "version": "3.6.7"
  }
 },
 "nbformat": 4,
 "nbformat_minor": 2
}
