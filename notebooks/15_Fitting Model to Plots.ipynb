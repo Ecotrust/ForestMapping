{
 "cells": [
  {
   "cell_type": "code",
   "execution_count": 1,
   "metadata": {},
   "outputs": [],
   "source": [
    "import geopandas as gpd\n",
    "import pandas as pd\n",
    "import numpy as np\n",
    "import h2o\n",
    "from h2o.estimators.random_forest import H2ORandomForestEstimator\n",
    "from h2o.estimators.gbm import H2OGradientBoostingEstimator"
   ]
  },
  {
   "cell_type": "markdown",
   "metadata": {},
   "source": [
    "## Grab the data\n",
    "We'll pull in some moderately pre-processed data from our forest inventory plots."
   ]
  },
  {
   "cell_type": "code",
   "execution_count": 2,
   "metadata": {},
   "outputs": [],
   "source": [
    "DATA = '../data/processed/training_data_annual.csv'\n",
    "df = pd.read_csv(DATA)\n",
    "\n",
    "PLOTS = '../data/processed/blm_usfs_wadnr_plot_footprints.shp'\n",
    "gdf = gpd.read_file(PLOTS)\n",
    "gdf['agency'] = gdf['source'].apply(lambda x: x.split('-')[0].replace('WA', 'WADNR'))"
   ]
  },
  {
   "cell_type": "code",
   "execution_count": 3,
   "metadata": {},
   "outputs": [],
   "source": [
    "pd.set_option('display.max_columns', None)  \n",
    "pd.set_option('display.max_info_columns', 999)"
   ]
  },
  {
   "cell_type": "markdown",
   "metadata": {},
   "source": [
    "## Splitting the data into training and testing sets\n",
    "Because our data include several records from the same plots at different years, both observed (lidar) and simulated (growth-and-yield), we want to make sure that all records for any given plot will be assigned to either the training set or testing set. Similarly, we will assign all records of a plot to one of five folds that will be used for cross-validation. This is to ensure that the testing datasets do not include very-closely-related plot records to those the model has already been trained on. "
   ]
  },
  {
   "cell_type": "code",
   "execution_count": 4,
   "metadata": {},
   "outputs": [],
   "source": [
    "# a dataframe with the plot ids and agency sources\n",
    "splits = pd.DataFrame(pd.unique(df['uuid']), \n",
    "                      columns=['uuid']).merge(gdf[['uuid', 'agency']], on='uuid').set_index('uuid')\n",
    "\n",
    "# randomly assign each plot-id to train(0) or test(1) sets\n",
    "np.random.seed(127)\n",
    "splits['train0_test1'] = np.random.choice(2,\n",
    "                                          size=len(splits),\n",
    "                                          p=[0.8,0.2])"
   ]
  },
  {
   "cell_type": "code",
   "execution_count": 5,
   "metadata": {},
   "outputs": [
    {
     "data": {
      "text/plain": [
       "agency  train0_test1\n",
       "BLM     0               0.81\n",
       "        1               0.19\n",
       "USFS    0               0.81\n",
       "        1               0.19\n",
       "WADNR   0               0.79\n",
       "        1               0.21\n",
       "Name: uuid, dtype: float64"
      ]
     },
     "execution_count": 5,
     "metadata": {},
     "output_type": "execute_result"
    }
   ],
   "source": [
    "# confirm how the split falls out for the plots from each agency\n",
    "(splits.reset_index().groupby(by=['agency', 'train0_test1'])['uuid'].count() / \\\n",
    "    splits.reset_index().groupby(by=['agency'])['uuid'].count()).round(2)"
   ]
  },
  {
   "cell_type": "code",
   "execution_count": 6,
   "metadata": {},
   "outputs": [],
   "source": [
    "# add set assignments to the dataframe\n",
    "df['agency'] = splits.loc[df['uuid']]['agency'].values\n",
    "df['train0_test1'] = splits.loc[df['uuid']]['train0_test1'].values"
   ]
  },
  {
   "cell_type": "code",
   "execution_count": 7,
   "metadata": {},
   "outputs": [],
   "source": [
    "# identify the fold that each training plot will belong to\n",
    "# we will try to balance the number of plots from each agency and forest type in each fold\n",
    "min_yr_idx = df.loc[df['train0_test1'] == 0].groupby(by=['uuid'])['year_diff'].idxmin()\n",
    "min_yrs = df.loc[min_yr_idx]\n",
    "grouped = min_yrs.loc[min_yrs['train0_test1'] == 0].groupby(by=['sppgrp_forest_type_name', 'uuid'])['pot_veg_type'].count().reset_index().sort_values(by='sppgrp_forest_type_name')\n",
    "grouped['fold_assignment'] = grouped.index % 5\n",
    "grouped = grouped.set_index('uuid')\n",
    "\n",
    "# add fold assignments to dataframe\n",
    "df.loc[df['train0_test1'] == 0, 'fold_assignment'] = grouped.loc[df.loc[df['train0_test1'] == 0]['uuid']]['fold_assignment'].values\n",
    "\n",
    "# join to the dataframe identify the train/test split for each lot\n",
    "splits = splits.join(grouped['fold_assignment'])"
   ]
  },
  {
   "cell_type": "code",
   "execution_count": 11,
   "metadata": {},
   "outputs": [
    {
     "data": {
      "text/plain": [
       "agency  fold_assignment\n",
       "BLM     0.0                0.21\n",
       "        1.0                0.19\n",
       "        2.0                0.20\n",
       "        3.0                0.20\n",
       "        4.0                0.21\n",
       "USFS    0.0                0.21\n",
       "        1.0                0.21\n",
       "        2.0                0.20\n",
       "        3.0                0.21\n",
       "        4.0                0.17\n",
       "WADNR   0.0                0.20\n",
       "        1.0                0.20\n",
       "        2.0                0.20\n",
       "        3.0                0.21\n",
       "        4.0                0.19\n",
       "Name: uuid, dtype: float64"
      ]
     },
     "execution_count": 11,
     "metadata": {},
     "output_type": "execute_result"
    }
   ],
   "source": [
    "# confirm how the fold assignments fall out for the plots from each agency\n",
    "train_plots = df.loc[df['train0_test1'] == 0]\n",
    "(train_plots.reset_index().groupby(by=['agency', 'fold_assignment'])['uuid'].count() / \\\n",
    "    train_plots.reset_index().groupby(by=['agency'])['uuid'].count()).round(2)"
   ]
  },
  {
   "cell_type": "code",
   "execution_count": 12,
   "metadata": {},
   "outputs": [
    {
     "data": {
      "text/plain": [
       "sppgrp_forest_type_name                  fold_assignment\n",
       "COTTONWOOD-AND-ASPEN                     0.0                0.25\n",
       "                                         1.0                0.25\n",
       "                                         2.0                0.25\n",
       "                                         3.0                0.25\n",
       "COTTONWOOD-AND-ASPEN_LODGEPOLE-PINE      0.0                0.50\n",
       "                                         3.0                0.50\n",
       "DOUGLAS-FIR                              0.0                0.20\n",
       "                                         1.0                0.20\n",
       "                                         2.0                0.20\n",
       "                                         3.0                0.20\n",
       "                                         4.0                0.20\n",
       "DOUGLAS-FIR_ENGELMANN-AND-OTHER-SPRUCES  4.0                1.00\n",
       "DOUGLAS-FIR_INCENSE-CEDAR                0.0                0.50\n",
       "                                         1.0                0.50\n",
       "DOUGLAS-FIR_LODGEPOLE-PINE               2.0                1.00\n",
       "DOUGLAS-FIR_OTHER-WESTERN-SOFTWOODS      0.0                0.14\n",
       "                                         1.0                0.14\n",
       "                                         2.0                0.14\n",
       "                                         3.0                0.29\n",
       "                                         4.0                0.29\n",
       "DOUGLAS-FIR_PONDEROSA-AND-JEFFREY-PINES  0.0                0.24\n",
       "                                         1.0                0.17\n",
       "                                         2.0                0.17\n",
       "                                         3.0                0.20\n",
       "                                         4.0                0.22\n",
       "DOUGLAS-FIR_RED-ALDER                    0.0                0.18\n",
       "                                         1.0                0.21\n",
       "                                         2.0                0.18\n",
       "                                         3.0                0.21\n",
       "                                         4.0                0.21\n",
       "                                                            ... \n",
       "TRUE-FIR_WESTERN-LARCH                   3.0                0.17\n",
       "                                         4.0                0.33\n",
       "TRUE-FIR_WESTERN-REDCEDAR                4.0                1.00\n",
       "TRUE-FIR_WESTERN-WHITE-PINE              3.0                1.00\n",
       "WESTERN-HEMLOCK                          0.0                0.20\n",
       "                                         1.0                0.20\n",
       "                                         2.0                0.20\n",
       "                                         3.0                0.20\n",
       "                                         4.0                0.20\n",
       "WESTERN-LARCH                            0.0                0.22\n",
       "                                         1.0                0.17\n",
       "                                         2.0                0.17\n",
       "                                         3.0                0.17\n",
       "                                         4.0                0.26\n",
       "WESTERN-LARCH_WESTERN-WHITE-PINE         1.0                1.00\n",
       "WESTERN-REDCEDAR                         0.0                0.19\n",
       "                                         1.0                0.19\n",
       "                                         2.0                0.19\n",
       "                                         3.0                0.23\n",
       "                                         4.0                0.19\n",
       "WESTERN-REDCEDAR_SITKA-SPRUCE            0.0                1.00\n",
       "WESTERN-REDCEDAR_WESTERN-HEMLOCK         0.0                0.18\n",
       "                                         1.0                0.21\n",
       "                                         2.0                0.25\n",
       "                                         3.0                0.18\n",
       "                                         4.0                0.18\n",
       "WESTERN-REDCEDAR_WESTERN-LARCH           3.0                1.00\n",
       "WESTERN-WHITE-PINE                       0.0                0.33\n",
       "                                         1.0                0.33\n",
       "                                         4.0                0.33\n",
       "Name: uuid, Length: 235, dtype: float64"
      ]
     },
     "execution_count": 12,
     "metadata": {},
     "output_type": "execute_result"
    }
   ],
   "source": [
    "#  confirm how the fold assignments fall out for the forest types\n",
    "train_plots = df.loc[df['train0_test1'] == 0]\n",
    "(train_plots.reset_index().groupby(by=['sppgrp_forest_type_name', 'fold_assignment'])['uuid'].nunique() / \\\n",
    "    train_plots.reset_index().groupby(by=['sppgrp_forest_type_name'])['uuid'].nunique()).round(2)"
   ]
  },
  {
   "cell_type": "markdown",
   "metadata": {},
   "source": [
    "## Weighting inventory plots by their area\n",
    "This will intensify the model's attention on larger plots where the inventory attributes are presumably easier to distinguish from remote sensing, partly due to concept that inventory attributes should be lower in variance at this slightly larger scale, as well as the fact that edge effects associated with co-registration errors between field-based and remotely-sensed data that are likely to be larger on smaller plots."
   ]
  },
  {
   "cell_type": "code",
   "execution_count": 8,
   "metadata": {},
   "outputs": [],
   "source": [
    "# assign per-sample weights based on the size of the inventory plots\n",
    "# dnr plots are 1/10th acre, and will have weight of 1\n",
    "# blm plots are 1/8th acre, will have weight of 1.25\n",
    "# usfs plots are 1/4 acre, will have weight of 2.5\n",
    "df.loc[df['agency'] == 'WADNR', 'weights'] = 1.0\n",
    "df.loc[df['agency'] == 'BLM', 'weights'] = 1.25\n",
    "df.loc[df['agency'] == 'USFS', 'weights'] = 2.5"
   ]
  },
  {
   "cell_type": "markdown",
   "metadata": {},
   "source": [
    "## Generate categories for diameter class and canopy cover"
   ]
  },
  {
   "cell_type": "code",
   "execution_count": 9,
   "metadata": {},
   "outputs": [],
   "source": [
    "# SIZE CLASS\n",
    "# 0 – Nonstocked 0-1\" qmd\n",
    "# 1 – Seedling/Sapling 1-5\" qmd\n",
    "# 2 – Small Tree 5-10\" qmd\n",
    "# 3 – Medium Tree 10-15\" qmd\n",
    "# 4 – Large Tree 15-20\" qmd\n",
    "# 5 – Very Large Tree 20\"+ qmd\n",
    "df['size_class'] = pd.cut(df['qmd'],\n",
    "                          bins=[0,1,5,10,15,20,999],\n",
    "                          labels=['Nonstocked', 'Seedling-Sapling', 'Small', 'Medium', 'Large', 'Very Large'],\n",
    "                          right=True,\n",
    "                          include_lowest=True).astype(str)"
   ]
  },
  {
   "cell_type": "code",
   "execution_count": 10,
   "metadata": {},
   "outputs": [],
   "source": [
    "# CANOPY COVER\n",
    "# 0 – Sparse 0-10%\n",
    "# 1 – Open 10-40%\n",
    "# 2 – Moderate 40-70%\n",
    "# 3 – Closed 70%+\n",
    "df['cover_class'] = pd.cut(df['total_cover'],\n",
    "                           bins=[0,10,40,70,100],\n",
    "                           labels=['Sparse', 'Open', 'Moderate', 'Closed'],\n",
    "                           right=True,\n",
    "                           include_lowest=True).astype(str)"
   ]
  },
  {
   "cell_type": "markdown",
   "metadata": {},
   "source": [
    "## Getting the data into h2o\n",
    "We'll migrate over from Pandas into h2o now."
   ]
  },
  {
   "cell_type": "code",
   "execution_count": 13,
   "metadata": {},
   "outputs": [
    {
     "name": "stdout",
     "output_type": "stream",
     "text": [
      "Checking whether there is an H2O instance running at http://localhost:54321 ..... not found.\n",
      "Attempting to start a local H2O server...\n",
      "  Java Version: java version \"1.8.0_45\"; Java(TM) SE Runtime Environment (build 1.8.0_45-b14); Java HotSpot(TM) 64-Bit Server VM (build 25.45-b02, mixed mode)\n",
      "  Starting server from /storage/anaconda3/envs/forest_mapping/lib/python3.6/site-packages/h2o/backend/bin/h2o.jar\n",
      "  Ice root: /tmp/tmp2ggkqp9y\n",
      "  JVM stdout: /tmp/tmp2ggkqp9y/h2o_ubuntu_started_from_python.out\n",
      "  JVM stderr: /tmp/tmp2ggkqp9y/h2o_ubuntu_started_from_python.err\n",
      "  Server is running at http://127.0.0.1:54321\n",
      "Connecting to H2O server at http://127.0.0.1:54321 ... successful.\n"
     ]
    },
    {
     "data": {
      "text/html": [
       "<div style=\"overflow:auto\"><table style=\"width:50%\"><tr><td>H2O cluster uptime:</td>\n",
       "<td>01 secs</td></tr>\n",
       "<tr><td>H2O cluster timezone:</td>\n",
       "<td>America/Los_Angeles</td></tr>\n",
       "<tr><td>H2O data parsing timezone:</td>\n",
       "<td>UTC</td></tr>\n",
       "<tr><td>H2O cluster version:</td>\n",
       "<td>3.24.0.5</td></tr>\n",
       "<tr><td>H2O cluster version age:</td>\n",
       "<td>13 days </td></tr>\n",
       "<tr><td>H2O cluster name:</td>\n",
       "<td>H2O_from_python_ubuntu_3i8jzv</td></tr>\n",
       "<tr><td>H2O cluster total nodes:</td>\n",
       "<td>1</td></tr>\n",
       "<tr><td>H2O cluster free memory:</td>\n",
       "<td>13.98 Gb</td></tr>\n",
       "<tr><td>H2O cluster total cores:</td>\n",
       "<td>32</td></tr>\n",
       "<tr><td>H2O cluster allowed cores:</td>\n",
       "<td>32</td></tr>\n",
       "<tr><td>H2O cluster status:</td>\n",
       "<td>accepting new members, healthy</td></tr>\n",
       "<tr><td>H2O connection url:</td>\n",
       "<td>http://127.0.0.1:54321</td></tr>\n",
       "<tr><td>H2O connection proxy:</td>\n",
       "<td>None</td></tr>\n",
       "<tr><td>H2O internal security:</td>\n",
       "<td>False</td></tr>\n",
       "<tr><td>H2O API Extensions:</td>\n",
       "<td>Amazon S3, XGBoost, Algos, AutoML, Core V3, Core V4</td></tr>\n",
       "<tr><td>Python version:</td>\n",
       "<td>3.6.7 final</td></tr></table></div>"
      ],
      "text/plain": [
       "--------------------------  ---------------------------------------------------\n",
       "H2O cluster uptime:         01 secs\n",
       "H2O cluster timezone:       America/Los_Angeles\n",
       "H2O data parsing timezone:  UTC\n",
       "H2O cluster version:        3.24.0.5\n",
       "H2O cluster version age:    13 days\n",
       "H2O cluster name:           H2O_from_python_ubuntu_3i8jzv\n",
       "H2O cluster total nodes:    1\n",
       "H2O cluster free memory:    13.98 Gb\n",
       "H2O cluster total cores:    32\n",
       "H2O cluster allowed cores:  32\n",
       "H2O cluster status:         accepting new members, healthy\n",
       "H2O connection url:         http://127.0.0.1:54321\n",
       "H2O connection proxy:\n",
       "H2O internal security:      False\n",
       "H2O API Extensions:         Amazon S3, XGBoost, Algos, AutoML, Core V3, Core V4\n",
       "Python version:             3.6.7 final\n",
       "--------------------------  ---------------------------------------------------"
      ]
     },
     "metadata": {},
     "output_type": "display_data"
    }
   ],
   "source": [
    "h2o.init()"
   ]
  },
  {
   "cell_type": "code",
   "execution_count": 14,
   "metadata": {},
   "outputs": [
    {
     "name": "stdout",
     "output_type": "stream",
     "text": [
      "Parse progress: |█████████████████████████████████████████████████████████| 100%\n"
     ]
    }
   ],
   "source": [
    "hf = h2o.H2OFrame(df)"
   ]
  },
  {
   "cell_type": "code",
   "execution_count": 15,
   "metadata": {},
   "outputs": [
    {
     "name": "stdout",
     "output_type": "stream",
     "text": [
      "Rows:37911\n",
      "Cols:89\n",
      "\n",
      "\n"
     ]
    },
    {
     "data": {
      "text/html": [
       "<table>\n",
       "<thead>\n",
       "<tr><th>       </th><th>uuid                                </th><th>year              </th><th>mat               </th><th>mwmt              </th><th>mcmt              </th><th>td                </th><th>map               </th><th>msp               </th><th>ahm               </th><th>shm               </th><th>dd_0              </th><th>dd5               </th><th>dd_18            </th><th>dd18             </th><th>nffd             </th><th>bffp              </th><th>effp              </th><th>ffp               </th><th>pas               </th><th>emt               </th><th>ext               </th><th>eref              </th><th>cmd               </th><th>rh               </th><th>distance_to_water_m  </th><th>strat0_return-proportion  </th><th>strat1_return-proportion  </th><th>strat2_return-proportion  </th><th>strat3_return-proportion  </th><th>strat4_return-proportion  </th><th>strat5_return-proportion  </th><th>strat0_intensity-median  </th><th>strat1_intensity-median  </th><th>strat2_intensity-median  </th><th>strat3_intensity-median  </th><th>strat4_intensity-median  </th><th>strat5_intensity-median  </th><th>height_05-percentile  </th><th>height_25-percentile  </th><th>height_50-percentile  </th><th>height_75-percentile  </th><th>height_95_percentile  </th><th>height_max       </th><th>cover             </th><th>potential_volume  </th><th>stddev_height     </th><th>surface_area_ratio  </th><th>surface_volume    </th><th>surface_volume_ratio  </th><th>aspect            </th><th>elevation         </th><th>overall_curvature  </th><th>plan_curvature      </th><th>profile_curvature  </th><th>slope             </th><th>solar_radiation_index  </th><th>bulk_dens         </th><th>soil_depth             </th><th>pct_clay_surf     </th><th>pct_rock_surf     </th><th>pct_sand_surf     </th><th>green             </th><th>blue              </th><th>red               </th><th>nir              </th><th>endvi              </th><th>ndvi              </th><th>savi              </th><th>swir1             </th><th>swir2             </th><th>wetness           </th><th>greenness         </th><th>brightness        </th><th>pot_veg_type      </th><th>tpa               </th><th>ba                </th><th>qmd               </th><th>total_cover      </th><th>sdi               </th><th>structure_class  </th><th>year_diff         </th><th>spp_forest_type_name  </th><th>sppgrp_forest_type_name    </th><th>agency  </th><th>train0_test1       </th><th>fold_assignment   </th><th>weights           </th><th>size_class  </th><th>cover_class  </th></tr>\n",
       "</thead>\n",
       "<tbody>\n",
       "<tr><td>type   </td><td>uuid                                </td><td>int               </td><td>real              </td><td>real              </td><td>real              </td><td>real              </td><td>int               </td><td>int               </td><td>real              </td><td>real              </td><td>int               </td><td>int               </td><td>int              </td><td>int              </td><td>int              </td><td>int               </td><td>int               </td><td>int               </td><td>int               </td><td>real              </td><td>real              </td><td>int               </td><td>int               </td><td>int              </td><td>real                 </td><td>real                      </td><td>real                      </td><td>real                      </td><td>real                      </td><td>real                      </td><td>real                      </td><td>real                     </td><td>real                     </td><td>real                     </td><td>real                     </td><td>real                     </td><td>real                     </td><td>real                  </td><td>real                  </td><td>real                  </td><td>real                  </td><td>real                  </td><td>real             </td><td>real              </td><td>real              </td><td>real              </td><td>real                </td><td>real              </td><td>real                  </td><td>real              </td><td>real              </td><td>real               </td><td>real                </td><td>real               </td><td>real              </td><td>real                   </td><td>int               </td><td>real                   </td><td>int               </td><td>int               </td><td>int               </td><td>real              </td><td>real              </td><td>real              </td><td>real             </td><td>real               </td><td>real              </td><td>real              </td><td>real              </td><td>real              </td><td>real              </td><td>real              </td><td>real              </td><td>int               </td><td>int               </td><td>int               </td><td>real              </td><td>int              </td><td>int               </td><td>enum             </td><td>int               </td><td>enum                  </td><td>enum                       </td><td>enum    </td><td>int                </td><td>int               </td><td>real              </td><td>enum        </td><td>enum         </td></tr>\n",
       "<tr><td>mins   </td><td>NaN                                 </td><td>2003.0            </td><td>2.2               </td><td>12.6              </td><td>-10.4             </td><td>9.8               </td><td>290.0             </td><td>41.0              </td><td>3.8               </td><td>13.4              </td><td>37.0              </td><td>740.0             </td><td>2075.0           </td><td>6.0              </td><td>125.0            </td><td>55.0              </td><td>243.0             </td><td>58.0              </td><td>6.0               </td><td>-39.6             </td><td>29.1              </td><td>434.0             </td><td>18.0              </td><td>46.0             </td><td>0.042366231          </td><td>0.0                       </td><td>0.0                       </td><td>0.0                       </td><td>0.0                       </td><td>0.0                       </td><td>0.0                       </td><td>-9999.0                  </td><td>-9999.0                  </td><td>-9999.0                  </td><td>-9999.0                  </td><td>-9999.0                  </td><td>-9999.0                  </td><td>-0.03                 </td><td>0.0                   </td><td>0.0                   </td><td>0.0                   </td><td>0.0                   </td><td>0.0              </td><td>0.0               </td><td>0.0               </td><td>0.0               </td><td>1.0                 </td><td>0.0               </td><td>0.014305000193417072  </td><td>1.8655999898910516</td><td>4.382550239562988 </td><td>-21.215700149536133</td><td>-12.874150276184082 </td><td>-11.851350784301758</td><td>0.4023000001907349</td><td>0.7843999862670898     </td><td>0.0               </td><td>-3.4028199999999998e+38</td><td>-9999.0           </td><td>-9999.0           </td><td>-9999.0           </td><td>107.8387087       </td><td>25.24             </td><td>72.0              </td><td>636.0971429      </td><td>-0.396288015       </td><td>-0.327946509      </td><td>-0.491880839      </td><td>265.791445        </td><td>89.92465753       </td><td>-370.1401315      </td><td>-317.0603333      </td><td>69.42755593       </td><td>11.0              </td><td>4.0               </td><td>10.0              </td><td>0.64              </td><td>3.0              </td><td>14.0              </td><td>                 </td><td>0.0               </td><td>                      </td><td>                           </td><td>        </td><td>0.0                </td><td>0.0               </td><td>1.0               </td><td>            </td><td>             </td></tr>\n",
       "<tr><td>mean   </td><td>NaN                                 </td><td>2012.7337712009692</td><td>9.735092717153325 </td><td>18.569140882593434</td><td>1.6232940307562456</td><td>16.945461739336853</td><td>1843.6942048481963</td><td>233.70341061960917</td><td>13.805721294611066</td><td>118.40592176413189</td><td>172.22687346680382</td><td>2153.6994803619004</td><td>3146.43483421698 </td><td>137.3364722639869</td><td>274.7484107514969</td><td>110.82313840310192</td><td>304.06233019440236</td><td>193.23987760808203</td><td>121.99221861728769</td><td>-21.11207828862334</td><td>36.52884914668567 </td><td>805.0048798501753 </td><td>396.07193162934186</td><td>66.41705573580221</td><td>248.95836077744565   </td><td>0.14454461414892772       </td><td>0.09002573279523092       </td><td>0.08004946886128034       </td><td>0.1434881144258921        </td><td>0.12412265558808808       </td><td>0.3426702104929965        </td><td>2800.6180528078903       </td><td>2437.1609823006515       </td><td>1823.6223127852086       </td><td>1251.8632586848153       </td><td>976.8962702118115        </td><td>-505.7246313734795       </td><td>1.3467843224921514    </td><td>13.860238678826736    </td><td>26.866026906016717    </td><td>38.771367558043835    </td><td>51.96224084505816     </td><td>62.71825931159827</td><td>76.54296530452893 </td><td>3135.4257045122445</td><td>6.1444030599740875</td><td>4.439864150432785   </td><td>1878.7819624237627</td><td>2.2444880655277377e+34</td><td>182.61962846933264</td><td>566.8458773029316 </td><td>-0.4407490372181566</td><td>-0.05267046275679865</td><td>-0.3387914803773819</td><td>21.334789538756862</td><td>1.638848224937499      </td><td>109.46442984885655</td><td>-6.103552003376337e+35 </td><td>2.1109176756086616</td><td>1.7307114030228499</td><td>14.616180000527551</td><td>393.8855174269897 </td><td>240.20695421417273</td><td>293.5538805945269 </td><td>2512.657706881919</td><td>0.7307190518196305 </td><td>0.7932382358799822</td><td>1.189630158673445 </td><td>1051.7888962850952</td><td>474.12650080260556</td><td>-44.67920696473714</td><td>147.78473594741178</td><td>237.21283742502615</td><td>1062.2558096594648</td><td>279.40996016987185</td><td>196.22869351903142</td><td>16.649762865659085</td><td>57.82371870960936</td><td>295.90786315317445</td><td>                 </td><td>5.7255677771623015</td><td>                      </td><td>                           </td><td>        </td><td>0.21405396850518318</td><td>1.9968116525708153</td><td>1.2767600432592106</td><td>            </td><td>             </td></tr>\n",
       "<tr><td>maxs   </td><td>NaN                                 </td><td>2017.0            </td><td>13.4              </td><td>23.2              </td><td>7.2               </td><td>28.9              </td><td>4789.0            </td><td>1240.0            </td><td>62.0              </td><td>553.9             </td><td>993.0             </td><td>3189.0            </td><td>5746.0           </td><td>465.0            </td><td>336.0            </td><td>193.0             </td><td>344.0             </td><td>279.0             </td><td>1432.0            </td><td>-11.1             </td><td>41.8              </td><td>1197.0            </td><td>880.0             </td><td>80.0             </td><td>34254.80025          </td><td>1.0                       </td><td>0.6256970000000001        </td><td>0.710214                  </td><td>0.897681                  </td><td>0.8748600000000001        </td><td>0.996817                  </td><td>57257.0                  </td><td>55521.5                  </td><td>60032.0                  </td><td>40633.0                  </td><td>36822.0                  </td><td>28704.0                  </td><td>73.25                 </td><td>93.225006             </td><td>110.880005            </td><td>118.277496            </td><td>121.407501            </td><td>122.0            </td><td>100.0             </td><td>10990.0           </td><td>28.33873176574707 </td><td>18.446910858154297  </td><td>10787.2880859375  </td><td>1.7014117331926445e+38</td><td>357.6234130859375 </td><td>2089.6982421875   </td><td>25.27804946899414  </td><td>11.132100105285645  </td><td>13.916950225830078 </td><td>61.56449890136719 </td><td>1.9931000471115112     </td><td>200.0             </td><td>178.0                  </td><td>41.0              </td><td>95.0              </td><td>83.0              </td><td>5926.0            </td><td>5844.196448       </td><td>5881.7143799999985</td><td>5387.339391      </td><td>0.942984214        </td><td>0.929363581       </td><td>1.393873647       </td><td>3951.47098        </td><td>3027.505696       </td><td>79.87442131       </td><td>359.788159        </td><td>1030.508122       </td><td>1178.0            </td><td>25356.0           </td><td>951.0             </td><td>82.12             </td><td>100.0            </td><td>1578.0            </td><td>                 </td><td>10.0              </td><td>                      </td><td>                           </td><td>        </td><td>1.0                </td><td>4.0               </td><td>2.5               </td><td>            </td><td>             </td></tr>\n",
       "<tr><td>sigma  </td><td>NaN                                 </td><td>3.1337121353228174</td><td>1.8687817853774324</td><td>1.5062424219471016</td><td>3.404076330593434 </td><td>3.1476135868830224</td><td>854.496358563407  </td><td>170.77281963430514</td><td>8.22820943269226  </td><td>73.93047749420269 </td><td>156.10874011642088</td><td>396.2184225050115 </td><td>626.8981306635368</td><td>75.55041604305423</td><td>41.2617959415169 </td><td>21.39194050378206 </td><td>19.16778277298544 </td><td>39.30073920632875 </td><td>126.21756857234564</td><td>6.270073497641846 </td><td>1.8889052409929208</td><td>103.14778488253269</td><td>140.53115043556912</td><td>4.485455059350698</td><td>1019.7007894314727   </td><td>0.17686342057249968       </td><td>0.09168590615081892       </td><td>0.1057148483924281        </td><td>0.16601869167059877       </td><td>0.14917350149039466       </td><td>0.31098788358468527       </td><td>8165.955210008992        </td><td>7454.824374939028        </td><td>6141.135607992979        </td><td>4733.317344180611        </td><td>4441.204405264867        </td><td>6682.674200084088        </td><td>4.690107599318413     </td><td>17.99683784703265     </td><td>25.220806991825576    </td><td>29.583999519544147    </td><td>33.098768967240396    </td><td>35.56202288638247</td><td>22.684309205598563</td><td>1695.2591319663397</td><td>4.07382074667197  </td><td>2.2063454239766553  </td><td>1355.338287279818 </td><td>1.9540714677135495e+36</td><td>90.15117513121143 </td><td>416.0821793884306 </td><td>3.9506864646219415 </td><td>1.9997322757221205  </td><td>2.174785113229838  </td><td>11.676451717025188</td><td>0.1940606035597847     </td><td>16.611986804996235</td><td>1.4398813269218666e+37 </td><td>424.0056765330994 </td><td>424.0921041342856 </td><td>424.6628034698694 </td><td>236.05793783790588</td><td>280.5559422032443 </td><td>294.95850377533935</td><td>658.1583082900864</td><td>0.12428409818712903</td><td>0.1353337756702627</td><td>0.2029682497043859</td><td>441.561226146426  </td><td>331.0283024308225 </td><td>46.307496862583875</td><td>53.458565675476095</td><td>67.11607938040802 </td><td>55.498413873196235</td><td>1020.8138595545155</td><td>127.96508929703012</td><td>8.210327081019305 </td><td>21.55444782040182</td><td>175.1665210046589 </td><td>                 </td><td>2.838113472198769 </td><td>                      </td><td>                           </td><td>        </td><td>0.4101698487409271 </td><td>1.4079425778896228</td><td>0.4922031751276477</td><td>            </td><td>             </td></tr>\n",
       "<tr><td>zeros  </td><td>0                                   </td><td>0                 </td><td>0                 </td><td>0                 </td><td>519               </td><td>0                 </td><td>0                 </td><td>0                 </td><td>0                 </td><td>0                 </td><td>0                 </td><td>0                 </td><td>0                </td><td>0                </td><td>0                </td><td>0                 </td><td>0                 </td><td>0                 </td><td>0                 </td><td>0                 </td><td>0                 </td><td>0                 </td><td>0                 </td><td>0                </td><td>0                    </td><td>34                        </td><td>67                        </td><td>739                       </td><td>1295                      </td><td>4251                      </td><td>7918                      </td><td>125                      </td><td>186                      </td><td>99                       </td><td>109                      </td><td>35                       </td><td>15                       </td><td>21859                 </td><td>5365                  </td><td>1936                  </td><td>481                   </td><td>37                    </td><td>21               </td><td>179               </td><td>36                </td><td>36                </td><td>0                   </td><td>31                </td><td>0                     </td><td>0                 </td><td>0                 </td><td>24                 </td><td>0                   </td><td>0                  </td><td>0                 </td><td>0                      </td><td>68                </td><td>0                      </td><td>0                 </td><td>118               </td><td>0                 </td><td>0                 </td><td>0                 </td><td>0                 </td><td>0                </td><td>0                  </td><td>0                 </td><td>0                 </td><td>0                 </td><td>0                 </td><td>0                 </td><td>0                 </td><td>0                 </td><td>0                 </td><td>0                 </td><td>0                 </td><td>0                 </td><td>0                </td><td>0                 </td><td>                 </td><td>892               </td><td>                      </td><td>                           </td><td>        </td><td>29796              </td><td>5973              </td><td>0                 </td><td>            </td><td>             </td></tr>\n",
       "<tr><td>missing</td><td>0                                   </td><td>0                 </td><td>0                 </td><td>0                 </td><td>0                 </td><td>0                 </td><td>0                 </td><td>0                 </td><td>0                 </td><td>0                 </td><td>0                 </td><td>0                 </td><td>0                </td><td>0                </td><td>0                </td><td>0                 </td><td>0                 </td><td>0                 </td><td>0                 </td><td>0                 </td><td>0                 </td><td>0                 </td><td>0                 </td><td>0                </td><td>0                    </td><td>0                         </td><td>0                         </td><td>0                         </td><td>0                         </td><td>0                         </td><td>0                         </td><td>0                        </td><td>0                        </td><td>0                        </td><td>0                        </td><td>0                        </td><td>0                        </td><td>0                     </td><td>0                     </td><td>0                     </td><td>0                     </td><td>0                     </td><td>0                </td><td>0                 </td><td>0                 </td><td>0                 </td><td>0                   </td><td>0                 </td><td>9                     </td><td>428               </td><td>0                 </td><td>428                </td><td>428                 </td><td>428                </td><td>428               </td><td>428                    </td><td>0                 </td><td>0                      </td><td>0                 </td><td>0                 </td><td>0                 </td><td>0                 </td><td>0                 </td><td>0                 </td><td>0                </td><td>0                  </td><td>0                 </td><td>0                 </td><td>0                 </td><td>0                 </td><td>0                 </td><td>0                 </td><td>0                 </td><td>0                 </td><td>0                 </td><td>0                 </td><td>0                 </td><td>0                </td><td>0                 </td><td>0                </td><td>0                 </td><td>0                     </td><td>0                          </td><td>0       </td><td>0                  </td><td>8115              </td><td>0                 </td><td>0           </td><td>0            </td></tr>\n",
       "<tr><td>0      </td><td>00027724-39D2-42B3-954D-CF2DBE527A44</td><td>2015.0            </td><td>8.2               </td><td>19.8              </td><td>-2.5              </td><td>22.4              </td><td>435.0             </td><td>104.0             </td><td>41.8              </td><td>191.1             </td><td>357.0             </td><td>2029.0            </td><td>3744.0           </td><td>182.0            </td><td>192.0            </td><td>140.0             </td><td>259.0             </td><td>118.0             </td><td>98.0              </td><td>-34.5             </td><td>38.1              </td><td>936.0             </td><td>700.0             </td><td>53.0             </td><td>89.72353573          </td><td>0.911437                  </td><td>0.015141                  </td><td>0.038568                  </td><td>0.01038                   </td><td>0.0                       </td><td>0.0                       </td><td>91.0                     </td><td>99.0                     </td><td>55.0                     </td><td>61.0                     </td><td>86.0                     </td><td>-9999.0                  </td><td>0.0                   </td><td>0.0                   </td><td>0.0                   </td><td>0.0                   </td><td>4.83                  </td><td>12.91            </td><td>7.342158          </td><td>94.0              </td><td>0.0795459970831871</td><td>1.0243749618530271  </td><td>1.406838059425354 </td><td>0.0256744995713234    </td><td>131.97630310058594</td><td>1328.897216796875 </td><td>0.4869999885559082 </td><td>-0.07015000283718109</td><td>0.10244999825954436</td><td>11.935199737548828</td><td>1.7980999946594238     </td><td>106.0             </td><td>118.0                  </td><td>18.0              </td><td>22.0              </td><td>16.0              </td><td>812.2624377999998 </td><td>549.7394279       </td><td>978.8905473       </td><td>2124.200871      </td><td>0.458227581        </td><td>0.370752561       </td><td>0.556038605       </td><td>2304.209577       </td><td>1702.5907960000004</td><td>-153.2668939      </td><td>64.11187174       </td><td>345.6270828000001 </td><td>1159.0            </td><td>8.0               </td><td>10.0              </td><td>15.31             </td><td>5.0              </td><td>16.0              </td><td>0=BG             </td><td>3.0               </td><td>PP                    </td><td>PONDEROSA-AND-JEFFREY-PINES</td><td>USFS    </td><td>0.0                </td><td>0.0               </td><td>2.5               </td><td>Large       </td><td>Sparse       </td></tr>\n",
       "<tr><td>1      </td><td>00027724-39D2-42B3-954D-CF2DBE527A44</td><td>2015.0            </td><td>8.2               </td><td>19.8              </td><td>-2.5              </td><td>22.4              </td><td>435.0             </td><td>104.0             </td><td>41.8              </td><td>191.1             </td><td>357.0             </td><td>2029.0            </td><td>3744.0           </td><td>182.0            </td><td>192.0            </td><td>140.0             </td><td>259.0             </td><td>118.0             </td><td>98.0              </td><td>-34.5             </td><td>38.1              </td><td>936.0             </td><td>700.0             </td><td>53.0             </td><td>89.72353573          </td><td>0.911437                  </td><td>0.015141                  </td><td>0.038568                  </td><td>0.01038                   </td><td>0.0                       </td><td>0.0                       </td><td>91.0                     </td><td>99.0                     </td><td>55.0                     </td><td>61.0                     </td><td>86.0                     </td><td>-9999.0                  </td><td>0.0                   </td><td>0.0                   </td><td>0.0                   </td><td>0.0                   </td><td>4.83                  </td><td>12.91            </td><td>7.342158          </td><td>94.0              </td><td>0.0795459970831871</td><td>1.0243749618530271  </td><td>1.406838059425354 </td><td>0.0256744995713234    </td><td>131.97630310058594</td><td>1328.897216796875 </td><td>0.4869999885559082 </td><td>-0.07015000283718109</td><td>0.10244999825954436</td><td>11.935199737548828</td><td>1.7980999946594238     </td><td>106.0             </td><td>118.0                  </td><td>18.0              </td><td>22.0              </td><td>16.0              </td><td>812.2624377999998 </td><td>549.7394279       </td><td>978.8905473       </td><td>2124.200871      </td><td>0.458227581        </td><td>0.370752561       </td><td>0.556038605       </td><td>2304.209577       </td><td>1702.5907960000004</td><td>-153.2668939      </td><td>64.11187174       </td><td>345.6270828000001 </td><td>1159.0            </td><td>8.0               </td><td>10.0              </td><td>15.57             </td><td>5.0              </td><td>16.0              </td><td>0=BG             </td><td>4.0               </td><td>PP                    </td><td>PONDEROSA-AND-JEFFREY-PINES</td><td>USFS    </td><td>0.0                </td><td>0.0               </td><td>2.5               </td><td>Large       </td><td>Sparse       </td></tr>\n",
       "<tr><td>2      </td><td>00027724-39D2-42B3-954D-CF2DBE527A44</td><td>2015.0            </td><td>8.2               </td><td>19.8              </td><td>-2.5              </td><td>22.4              </td><td>435.0             </td><td>104.0             </td><td>41.8              </td><td>191.1             </td><td>357.0             </td><td>2029.0            </td><td>3744.0           </td><td>182.0            </td><td>192.0            </td><td>140.0             </td><td>259.0             </td><td>118.0             </td><td>98.0              </td><td>-34.5             </td><td>38.1              </td><td>936.0             </td><td>700.0             </td><td>53.0             </td><td>89.72353573          </td><td>0.911437                  </td><td>0.015141                  </td><td>0.038568                  </td><td>0.01038                   </td><td>0.0                       </td><td>0.0                       </td><td>91.0                     </td><td>99.0                     </td><td>55.0                     </td><td>61.0                     </td><td>86.0                     </td><td>-9999.0                  </td><td>0.0                   </td><td>0.0                   </td><td>0.0                   </td><td>0.0                   </td><td>4.83                  </td><td>12.91            </td><td>7.342158          </td><td>94.0              </td><td>0.0795459970831871</td><td>1.0243749618530271  </td><td>1.406838059425354 </td><td>0.0256744995713234    </td><td>131.97630310058594</td><td>1328.897216796875 </td><td>0.4869999885559082 </td><td>-0.07015000283718109</td><td>0.10244999825954436</td><td>11.935199737548828</td><td>1.7980999946594238     </td><td>106.0             </td><td>118.0                  </td><td>18.0              </td><td>22.0              </td><td>16.0              </td><td>812.2624377999998 </td><td>549.7394279       </td><td>978.8905473       </td><td>2124.200871      </td><td>0.458227581        </td><td>0.370752561       </td><td>0.556038605       </td><td>2304.209577       </td><td>1702.5907960000004</td><td>-153.2668939      </td><td>64.11187174       </td><td>345.6270828000001 </td><td>1159.0            </td><td>8.0               </td><td>11.0              </td><td>15.82             </td><td>5.0              </td><td>17.0              </td><td>0=BG             </td><td>5.0               </td><td>PP                    </td><td>PONDEROSA-AND-JEFFREY-PINES</td><td>USFS    </td><td>0.0                </td><td>0.0               </td><td>2.5               </td><td>Large       </td><td>Sparse       </td></tr>\n",
       "<tr><td>3      </td><td>00027724-39D2-42B3-954D-CF2DBE527A44</td><td>2015.0            </td><td>8.2               </td><td>19.8              </td><td>-2.5              </td><td>22.4              </td><td>435.0             </td><td>104.0             </td><td>41.8              </td><td>191.1             </td><td>357.0             </td><td>2029.0            </td><td>3744.0           </td><td>182.0            </td><td>192.0            </td><td>140.0             </td><td>259.0             </td><td>118.0             </td><td>98.0              </td><td>-34.5             </td><td>38.1              </td><td>936.0             </td><td>700.0             </td><td>53.0             </td><td>89.72353573          </td><td>0.911437                  </td><td>0.015141                  </td><td>0.038568                  </td><td>0.01038                   </td><td>0.0                       </td><td>0.0                       </td><td>91.0                     </td><td>99.0                     </td><td>55.0                     </td><td>61.0                     </td><td>86.0                     </td><td>-9999.0                  </td><td>0.0                   </td><td>0.0                   </td><td>0.0                   </td><td>0.0                   </td><td>4.83                  </td><td>12.91            </td><td>7.342158          </td><td>94.0              </td><td>0.0795459970831871</td><td>1.0243749618530271  </td><td>1.406838059425354 </td><td>0.0256744995713234    </td><td>131.97630310058594</td><td>1328.897216796875 </td><td>0.4869999885559082 </td><td>-0.07015000283718109</td><td>0.10244999825954436</td><td>11.935199737548828</td><td>1.7980999946594238     </td><td>106.0             </td><td>118.0                  </td><td>18.0              </td><td>22.0              </td><td>16.0              </td><td>812.2624377999998 </td><td>549.7394279       </td><td>978.8905473       </td><td>2124.200871      </td><td>0.458227581        </td><td>0.370752561       </td><td>0.556038605       </td><td>2304.209577       </td><td>1702.5907960000004</td><td>-153.2668939      </td><td>64.11187174       </td><td>345.6270828000001 </td><td>1159.0            </td><td>8.0               </td><td>11.0              </td><td>16.06             </td><td>5.0              </td><td>17.0              </td><td>0=BG             </td><td>6.0               </td><td>PP                    </td><td>PONDEROSA-AND-JEFFREY-PINES</td><td>USFS    </td><td>0.0                </td><td>0.0               </td><td>2.5               </td><td>Large       </td><td>Sparse       </td></tr>\n",
       "<tr><td>4      </td><td>00027724-39D2-42B3-954D-CF2DBE527A44</td><td>2015.0            </td><td>8.2               </td><td>19.8              </td><td>-2.5              </td><td>22.4              </td><td>435.0             </td><td>104.0             </td><td>41.8              </td><td>191.1             </td><td>357.0             </td><td>2029.0            </td><td>3744.0           </td><td>182.0            </td><td>192.0            </td><td>140.0             </td><td>259.0             </td><td>118.0             </td><td>98.0              </td><td>-34.5             </td><td>38.1              </td><td>936.0             </td><td>700.0             </td><td>53.0             </td><td>89.72353573          </td><td>0.911437                  </td><td>0.015141                  </td><td>0.038568                  </td><td>0.01038                   </td><td>0.0                       </td><td>0.0                       </td><td>91.0                     </td><td>99.0                     </td><td>55.0                     </td><td>61.0                     </td><td>86.0                     </td><td>-9999.0                  </td><td>0.0                   </td><td>0.0                   </td><td>0.0                   </td><td>0.0                   </td><td>4.83                  </td><td>12.91            </td><td>7.342158          </td><td>94.0              </td><td>0.0795459970831871</td><td>1.0243749618530271  </td><td>1.406838059425354 </td><td>0.0256744995713234    </td><td>131.97630310058594</td><td>1328.897216796875 </td><td>0.4869999885559082 </td><td>-0.07015000283718109</td><td>0.10244999825954436</td><td>11.935199737548828</td><td>1.7980999946594238     </td><td>106.0             </td><td>118.0                  </td><td>18.0              </td><td>22.0              </td><td>16.0              </td><td>812.2624377999998 </td><td>549.7394279       </td><td>978.8905473       </td><td>2124.200871      </td><td>0.458227581        </td><td>0.370752561       </td><td>0.556038605       </td><td>2304.209577       </td><td>1702.5907960000004</td><td>-153.2668939      </td><td>64.11187174       </td><td>345.6270828000001 </td><td>1159.0            </td><td>8.0               </td><td>11.0              </td><td>16.3              </td><td>5.0              </td><td>17.0              </td><td>0=BG             </td><td>7.0               </td><td>PP                    </td><td>PONDEROSA-AND-JEFFREY-PINES</td><td>USFS    </td><td>0.0                </td><td>0.0               </td><td>2.5               </td><td>Large       </td><td>Sparse       </td></tr>\n",
       "<tr><td>5      </td><td>00027724-39D2-42B3-954D-CF2DBE527A44</td><td>2015.0            </td><td>8.2               </td><td>19.8              </td><td>-2.5              </td><td>22.4              </td><td>435.0             </td><td>104.0             </td><td>41.8              </td><td>191.1             </td><td>357.0             </td><td>2029.0            </td><td>3744.0           </td><td>182.0            </td><td>192.0            </td><td>140.0             </td><td>259.0             </td><td>118.0             </td><td>98.0              </td><td>-34.5             </td><td>38.1              </td><td>936.0             </td><td>700.0             </td><td>53.0             </td><td>89.72353573          </td><td>0.911437                  </td><td>0.015141                  </td><td>0.038568                  </td><td>0.01038                   </td><td>0.0                       </td><td>0.0                       </td><td>91.0                     </td><td>99.0                     </td><td>55.0                     </td><td>61.0                     </td><td>86.0                     </td><td>-9999.0                  </td><td>0.0                   </td><td>0.0                   </td><td>0.0                   </td><td>0.0                   </td><td>4.83                  </td><td>12.91            </td><td>7.342158          </td><td>94.0              </td><td>0.0795459970831871</td><td>1.0243749618530271  </td><td>1.406838059425354 </td><td>0.0256744995713234    </td><td>131.97630310058594</td><td>1328.897216796875 </td><td>0.4869999885559082 </td><td>-0.07015000283718109</td><td>0.10244999825954436</td><td>11.935199737548828</td><td>1.7980999946594238     </td><td>106.0             </td><td>118.0                  </td><td>18.0              </td><td>22.0              </td><td>16.0              </td><td>812.2624377999998 </td><td>549.7394279       </td><td>978.8905473       </td><td>2124.200871      </td><td>0.458227581        </td><td>0.370752561       </td><td>0.556038605       </td><td>2304.209577       </td><td>1702.5907960000004</td><td>-153.2668939      </td><td>64.11187174       </td><td>345.6270828000001 </td><td>1159.0            </td><td>8.0               </td><td>12.0              </td><td>16.53             </td><td>5.0              </td><td>18.0              </td><td>0=BG             </td><td>8.0               </td><td>PP                    </td><td>PONDEROSA-AND-JEFFREY-PINES</td><td>USFS    </td><td>0.0                </td><td>0.0               </td><td>2.5               </td><td>Large       </td><td>Sparse       </td></tr>\n",
       "<tr><td>6      </td><td>00027724-39D2-42B3-954D-CF2DBE527A44</td><td>2015.0            </td><td>8.2               </td><td>19.8              </td><td>-2.5              </td><td>22.4              </td><td>435.0             </td><td>104.0             </td><td>41.8              </td><td>191.1             </td><td>357.0             </td><td>2029.0            </td><td>3744.0           </td><td>182.0            </td><td>192.0            </td><td>140.0             </td><td>259.0             </td><td>118.0             </td><td>98.0              </td><td>-34.5             </td><td>38.1              </td><td>936.0             </td><td>700.0             </td><td>53.0             </td><td>89.72353573          </td><td>0.911437                  </td><td>0.015141                  </td><td>0.038568                  </td><td>0.01038                   </td><td>0.0                       </td><td>0.0                       </td><td>91.0                     </td><td>99.0                     </td><td>55.0                     </td><td>61.0                     </td><td>86.0                     </td><td>-9999.0                  </td><td>0.0                   </td><td>0.0                   </td><td>0.0                   </td><td>0.0                   </td><td>4.83                  </td><td>12.91            </td><td>7.342158          </td><td>94.0              </td><td>0.0795459970831871</td><td>1.0243749618530271  </td><td>1.406838059425354 </td><td>0.0256744995713234    </td><td>131.97630310058594</td><td>1328.897216796875 </td><td>0.4869999885559082 </td><td>-0.07015000283718109</td><td>0.10244999825954436</td><td>11.935199737548828</td><td>1.7980999946594238     </td><td>106.0             </td><td>118.0                  </td><td>18.0              </td><td>22.0              </td><td>16.0              </td><td>812.2624377999998 </td><td>549.7394279       </td><td>978.8905473       </td><td>2124.200871      </td><td>0.458227581        </td><td>0.370752561       </td><td>0.556038605       </td><td>2304.209577       </td><td>1702.5907960000004</td><td>-153.2668939      </td><td>64.11187174       </td><td>345.6270828000001 </td><td>1159.0            </td><td>8.0               </td><td>12.0              </td><td>16.76             </td><td>5.0              </td><td>18.0              </td><td>0=BG             </td><td>9.0               </td><td>PP                    </td><td>PONDEROSA-AND-JEFFREY-PINES</td><td>USFS    </td><td>0.0                </td><td>0.0               </td><td>2.5               </td><td>Large       </td><td>Sparse       </td></tr>\n",
       "<tr><td>7      </td><td>00027724-39D2-42B3-954D-CF2DBE527A44</td><td>2015.0            </td><td>8.2               </td><td>19.8              </td><td>-2.5              </td><td>22.4              </td><td>435.0             </td><td>104.0             </td><td>41.8              </td><td>191.1             </td><td>357.0             </td><td>2029.0            </td><td>3744.0           </td><td>182.0            </td><td>192.0            </td><td>140.0             </td><td>259.0             </td><td>118.0             </td><td>98.0              </td><td>-34.5             </td><td>38.1              </td><td>936.0             </td><td>700.0             </td><td>53.0             </td><td>89.72353573          </td><td>0.911437                  </td><td>0.015141                  </td><td>0.038568                  </td><td>0.01038                   </td><td>0.0                       </td><td>0.0                       </td><td>91.0                     </td><td>99.0                     </td><td>55.0                     </td><td>61.0                     </td><td>86.0                     </td><td>-9999.0                  </td><td>0.0                   </td><td>0.0                   </td><td>0.0                   </td><td>0.0                   </td><td>4.83                  </td><td>12.91            </td><td>7.342158          </td><td>94.0              </td><td>0.0795459970831871</td><td>1.0243749618530271  </td><td>1.406838059425354 </td><td>0.0256744995713234    </td><td>131.97630310058594</td><td>1328.897216796875 </td><td>0.4869999885559082 </td><td>-0.07015000283718109</td><td>0.10244999825954436</td><td>11.935199737548828</td><td>1.7980999946594238     </td><td>106.0             </td><td>118.0                  </td><td>18.0              </td><td>22.0              </td><td>16.0              </td><td>812.2624377999998 </td><td>549.7394279       </td><td>978.8905473       </td><td>2124.200871      </td><td>0.458227581        </td><td>0.370752561       </td><td>0.556038605       </td><td>2304.209577       </td><td>1702.5907960000004</td><td>-153.2668939      </td><td>64.11187174       </td><td>345.6270828000001 </td><td>1159.0            </td><td>8.0               </td><td>12.0              </td><td>16.98             </td><td>5.0              </td><td>18.0              </td><td>0=BG             </td><td>10.0              </td><td>PP                    </td><td>PONDEROSA-AND-JEFFREY-PINES</td><td>USFS    </td><td>0.0                </td><td>0.0               </td><td>2.5               </td><td>Large       </td><td>Sparse       </td></tr>\n",
       "<tr><td>8      </td><td>0080963B-A3FF-4081-BE77-02EB7B458D30</td><td>2008.0            </td><td>10.5              </td><td>18.0              </td><td>4.1               </td><td>14.0              </td><td>1409.0            </td><td>112.0             </td><td>14.5              </td><td>160.9             </td><td>83.0              </td><td>2216.0            </td><td>2856.0           </td><td>109.0            </td><td>300.0            </td><td>99.0              </td><td>315.0             </td><td>215.0             </td><td>47.0              </td><td>-14.5             </td><td>37.7              </td><td>840.0             </td><td>469.0             </td><td>68.0             </td><td>180.1948587          </td><td>0.065025                  </td><td>0.070458                  </td><td>0.024363                  </td><td>0.104669                  </td><td>0.16562000000000002       </td><td>0.5023770000000001        </td><td>83.0                     </td><td>74.0                     </td><td>32.0                     </td><td>28.0                     </td><td>26.0                     </td><td>33.0                     </td><td>0.0                   </td><td>12.577499             </td><td>30.09                 </td><td>37.939999             </td><td>46.5005               </td><td>55.369999        </td><td>86.451613         </td><td>5046.0            </td><td>11.256772994995115</td><td>7.121908664703369   </td><td>3391.4521484375   </td><td>0.7170140147209167    </td><td>79.73994445800781 </td><td>473.59185791015625</td><td>-3.583899974822998 </td><td>1.7758500576019287  </td><td>-1.8042500019073489</td><td>21.870651245117188</td><td>1.6547000408172607     </td><td>103.0             </td><td>113.0                  </td><td>23.0              </td><td>16.0              </td><td>33.0              </td><td>379.6633701       </td><td>172.0519783       </td><td>236.9958759       </td><td>2350.873762      </td><td>0.776169032        </td><td>0.816865636       </td><td>1.225061799       </td><td>912.6971895       </td><td>364.2780426000001 </td><td>-45.97344383      </td><td>146.6754455       </td><td>210.4050909       </td><td>1037.0            </td><td>64.0              </td><td>338.0             </td><td>31.11             </td><td>64.0             </td><td>396.0             </td><td>5=OS             </td><td>3.0               </td><td>DF                    </td><td>DOUGLAS-FIR                </td><td>BLM     </td><td>0.0                </td><td>4.0               </td><td>1.25              </td><td>Very Large  </td><td>Moderate     </td></tr>\n",
       "<tr><td>9      </td><td>0080963B-A3FF-4081-BE77-02EB7B458D30</td><td>2008.0            </td><td>10.5              </td><td>18.0              </td><td>4.1               </td><td>14.0              </td><td>1409.0            </td><td>112.0             </td><td>14.5              </td><td>160.9             </td><td>83.0              </td><td>2216.0            </td><td>2856.0           </td><td>109.0            </td><td>300.0            </td><td>99.0              </td><td>315.0             </td><td>215.0             </td><td>47.0              </td><td>-14.5             </td><td>37.7              </td><td>840.0             </td><td>469.0             </td><td>68.0             </td><td>180.1948587          </td><td>0.065025                  </td><td>0.070458                  </td><td>0.024363                  </td><td>0.104669                  </td><td>0.16562000000000002       </td><td>0.5023770000000001        </td><td>83.0                     </td><td>74.0                     </td><td>32.0                     </td><td>28.0                     </td><td>26.0                     </td><td>33.0                     </td><td>0.0                   </td><td>12.577499             </td><td>30.09                 </td><td>37.939999             </td><td>46.5005               </td><td>55.369999        </td><td>86.451613         </td><td>5046.0            </td><td>11.256772994995115</td><td>7.121908664703369   </td><td>3391.4521484375   </td><td>0.7170140147209167    </td><td>79.73994445800781 </td><td>473.59185791015625</td><td>-3.583899974822998 </td><td>1.7758500576019287  </td><td>-1.8042500019073489</td><td>21.870651245117188</td><td>1.6547000408172607     </td><td>103.0             </td><td>113.0                  </td><td>23.0              </td><td>16.0              </td><td>33.0              </td><td>379.6633701       </td><td>172.0519783       </td><td>236.9958759       </td><td>2350.873762      </td><td>0.776169032        </td><td>0.816865636       </td><td>1.225061799       </td><td>912.6971895       </td><td>364.2780426000001 </td><td>-45.97344383      </td><td>146.6754455       </td><td>210.4050909       </td><td>1037.0            </td><td>64.0              </td><td>341.0             </td><td>31.33             </td><td>64.0             </td><td>399.0             </td><td>5=OS             </td><td>4.0               </td><td>DF                    </td><td>DOUGLAS-FIR                </td><td>BLM     </td><td>0.0                </td><td>4.0               </td><td>1.25              </td><td>Very Large  </td><td>Moderate     </td></tr>\n",
       "</tbody>\n",
       "</table>"
      ]
     },
     "metadata": {},
     "output_type": "display_data"
    }
   ],
   "source": [
    "hf.describe()"
   ]
  },
  {
   "cell_type": "markdown",
   "metadata": {},
   "source": [
    "Identify our categorical variables."
   ]
  },
  {
   "cell_type": "code",
   "execution_count": 16,
   "metadata": {},
   "outputs": [],
   "source": [
    "hf['uuid'] = hf['uuid'].ascharacter().asfactor()\n",
    "hf['pot_veg_type'] = hf['pot_veg_type'].asfactor()"
   ]
  },
  {
   "cell_type": "markdown",
   "metadata": {},
   "source": [
    "We'll create a couple boolean masks that we can use to separate our data into train and test sets."
   ]
  },
  {
   "cell_type": "code",
   "execution_count": 17,
   "metadata": {},
   "outputs": [],
   "source": [
    "train_mask = hf['train0_test1'] == 0\n",
    "test_mask = hf['train0_test1'] == 1"
   ]
  },
  {
   "cell_type": "code",
   "execution_count": 18,
   "metadata": {},
   "outputs": [],
   "source": [
    "LIDAR_COLS = ['strat0_return-proportion', 'strat1_return-proportion', \n",
    "              'strat2_return-proportion', 'strat3_return-proportion', 'strat4_return-proportion', \n",
    "              'strat5_return-proportion', 'strat0_intensity-median', 'strat1_intensity-median', \n",
    "              'strat2_intensity-median', 'strat3_intensity-median', 'strat4_intensity-median', \n",
    "              'strat5_intensity-median', 'height_05-percentile', 'height_25-percentile', \n",
    "              'height_50-percentile', 'height_75-percentile', 'height_95_percentile', \n",
    "              'height_max', 'cover', 'potential_volume', 'stddev_height', 'surface_area_ratio', \n",
    "              'surface_volume', 'surface_volume_ratio', 'aspect', 'elevation', 'overall_curvature', \n",
    "              'plan_curvature', 'profile_curvature', 'slope', 'solar_radiation_index']\n",
    "LANDSAT_COLS = ['green', 'blue', 'red', 'nir', 'endvi', 'ndvi', 'savi', 'swir1',\n",
    "                'swir2', 'wetness', 'greenness', 'brightness']\n",
    "CLIMATE_COLS = ['mat','mwmt','mcmt','td','map','msp',\n",
    "                'ahm','shm','dd_0','dd5','dd_18','dd18',\n",
    "                'nffd','bffp','effp','ffp','pas','emt',\n",
    "                'ext','eref','cmd','rh']\n",
    "SOIL_COLS = ['bulk_dens', 'soil_depth', 'pct_clay_surf', 'pct_rock_surf', 'pct_sand_surf']"
   ]
  },
  {
   "cell_type": "markdown",
   "metadata": {},
   "source": [
    "## Fitting models in h2o\n",
    "First, split into train and test h2o dataframes."
   ]
  },
  {
   "cell_type": "code",
   "execution_count": 19,
   "metadata": {},
   "outputs": [],
   "source": [
    "train_hf, test_hf = hf[train_mask,:], hf[test_mask,:]"
   ]
  },
  {
   "cell_type": "markdown",
   "metadata": {},
   "source": [
    "Then, define several models to train."
   ]
  },
  {
   "cell_type": "code",
   "execution_count": 20,
   "metadata": {},
   "outputs": [],
   "source": [
    "# initialize the estimator then train the model\n",
    "rf_qmd = H2ORandomForestEstimator(\n",
    "    model_id=\"rf_qmd\",\n",
    "    ntrees=200,\n",
    "    stopping_rounds=2,\n",
    "    score_each_iteration=True,\n",
    "    seed=127,\n",
    "    fold_column='fold_assignment',\n",
    "    weights_column='weights')"
   ]
  },
  {
   "cell_type": "code",
   "execution_count": 21,
   "metadata": {},
   "outputs": [],
   "source": [
    "# initialize the estimator then train the model\n",
    "rf_size_class = H2ORandomForestEstimator(\n",
    "    model_id=\"rf_size_class\",\n",
    "    ntrees=200,\n",
    "    stopping_rounds=2,\n",
    "    score_each_iteration=True,\n",
    "    seed=127,\n",
    "    fold_column='fold_assignment',\n",
    "    weights_column='weights')"
   ]
  },
  {
   "cell_type": "code",
   "execution_count": 22,
   "metadata": {},
   "outputs": [],
   "source": [
    "# initialize the estimator then train the model\n",
    "rf_cov = H2ORandomForestEstimator(\n",
    "    model_id=\"rf_cov\",\n",
    "    ntrees=200,\n",
    "    stopping_rounds=2,\n",
    "    score_each_iteration=True,\n",
    "    seed=127,\n",
    "    fold_column='fold_assignment',\n",
    "    weights_column='weights')"
   ]
  },
  {
   "cell_type": "code",
   "execution_count": 23,
   "metadata": {},
   "outputs": [],
   "source": [
    "# initialize the estimator then train the model\n",
    "rf_cov_class = H2ORandomForestEstimator(\n",
    "    model_id=\"rf_cov_class\",\n",
    "    ntrees=200,\n",
    "    stopping_rounds=2,\n",
    "    score_each_iteration=True,\n",
    "    seed=127,\n",
    "    fold_column='fold_assignment',\n",
    "    weights_column='weights')"
   ]
  },
  {
   "cell_type": "code",
   "execution_count": 24,
   "metadata": {},
   "outputs": [],
   "source": [
    "rf_type = H2ORandomForestEstimator(\n",
    "    model_id=\"rf_type\",\n",
    "    ntrees=200,\n",
    "    stopping_rounds=2,\n",
    "    score_each_iteration=True,\n",
    "    seed=127,\n",
    "    fold_column='fold_assignment',\n",
    "    weights_column='weights')"
   ]
  },
  {
   "cell_type": "code",
   "execution_count": 25,
   "metadata": {},
   "outputs": [],
   "source": [
    "gbm_size_class = H2OGradientBoostingEstimator(\n",
    "    ntrees=200,\n",
    "    learn_rate=0.05,\n",
    "    sample_rate=0.7,\n",
    "    col_sample_rate=0.7,\n",
    "    stopping_rounds=2,\n",
    "    stopping_tolerance=0.01, \n",
    "    score_each_iteration=True,\n",
    "    model_id=\"gbm_size_class\",\n",
    "    seed=127,\n",
    "    fold_column='fold_assignment',\n",
    "    weights_column='weights')"
   ]
  },
  {
   "cell_type": "code",
   "execution_count": 26,
   "metadata": {},
   "outputs": [],
   "source": [
    "gbm_cov_class = H2OGradientBoostingEstimator(\n",
    "    ntrees=200,\n",
    "    learn_rate=0.05,\n",
    "    sample_rate=0.7,\n",
    "    col_sample_rate=0.7,\n",
    "    stopping_rounds=2,\n",
    "    stopping_tolerance=0.01, \n",
    "    score_each_iteration=True,\n",
    "    model_id=\"gbm_cov_class\",\n",
    "    seed=127,\n",
    "    fold_column='fold_assignment',\n",
    "    weights_column='weights')"
   ]
  },
  {
   "cell_type": "code",
   "execution_count": 27,
   "metadata": {},
   "outputs": [],
   "source": [
    "gbm_type = H2OGradientBoostingEstimator(\n",
    "    ntrees=200,\n",
    "    learn_rate=0.05,\n",
    "    sample_rate=0.7,\n",
    "    col_sample_rate=0.7,\n",
    "    stopping_rounds=2,\n",
    "    stopping_tolerance=0.01, \n",
    "    score_each_iteration=True,\n",
    "    model_id=\"gbm_type\",\n",
    "    seed=127,\n",
    "    fold_column='fold_assignment',\n",
    "    weights_column='weights')"
   ]
  },
  {
   "cell_type": "markdown",
   "metadata": {},
   "source": [
    "Gradient Boosting Machines will accept a per-category sampling rate to help balance out the fact that classes are highly imbalanced (e.g., we have a lot more Douglas-fir forest types than other forest types). We'll calculate the sampling rate as an inverse of the number of plots of each category, set at a floor of 25% of available samples."
   ]
  },
  {
   "cell_type": "code",
   "execution_count": 28,
   "metadata": {},
   "outputs": [],
   "source": [
    "table = hf['sppgrp_forest_type_name'].table(dense=False).as_data_frame()\n",
    "sample_rate = (1 / (table.Count / table.Count.sum())) / (1 / (table.Count / table.Count.sum())).max()\n",
    "sample_rate[sample_rate < 0.25] = 0.25"
   ]
  },
  {
   "cell_type": "code",
   "execution_count": 62,
   "metadata": {},
   "outputs": [
    {
     "data": {
      "text/plain": [
       "Index(['sppgrp_forest_type_name', 'Count'], dtype='object')"
      ]
     },
     "execution_count": 62,
     "metadata": {},
     "output_type": "execute_result"
    }
   ],
   "source": [
    "table.columns"
   ]
  },
  {
   "cell_type": "code",
   "execution_count": 63,
   "metadata": {},
   "outputs": [],
   "source": [
    "table[['sppgrp_forest_type_name']].to_csv('../data/processed/sppgrp_forest_type_crosswalk.csv')"
   ]
  },
  {
   "cell_type": "code",
   "execution_count": 29,
   "metadata": {},
   "outputs": [],
   "source": [
    "gbm_type_rebalance = H2OGradientBoostingEstimator(\n",
    "    ntrees=200,\n",
    "    learn_rate=0.05,\n",
    "    sample_rate_per_class=list(sample_rate),\n",
    "    col_sample_rate=0.6,\n",
    "    stopping_rounds=2,\n",
    "    stopping_tolerance=0.01, \n",
    "    score_each_iteration=True,\n",
    "    model_id=\"gbm_type_rebalance\",\n",
    "    seed=127,\n",
    "    fold_column='fold_assignment',\n",
    "    weights_column='weights')"
   ]
  },
  {
   "cell_type": "code",
   "execution_count": 30,
   "metadata": {},
   "outputs": [],
   "source": [
    "gbm_qmd = H2OGradientBoostingEstimator(\n",
    "    ntrees=200,\n",
    "    learn_rate=0.05,\n",
    "    col_sample_rate=0.6,\n",
    "    stopping_rounds=2,\n",
    "    stopping_tolerance=0.01, \n",
    "    score_each_iteration=True,\n",
    "    model_id=\"gbm_qmd\",\n",
    "    seed=127,\n",
    "    fold_column='fold_assignment',\n",
    "    weights_column='weights')"
   ]
  },
  {
   "cell_type": "code",
   "execution_count": 31,
   "metadata": {},
   "outputs": [],
   "source": [
    "gbm_cov = H2OGradientBoostingEstimator(\n",
    "    ntrees=200,\n",
    "    learn_rate=0.05,\n",
    "    col_sample_rate=0.6,\n",
    "    stopping_rounds=2,\n",
    "    stopping_tolerance=0.01, \n",
    "    score_each_iteration=True,\n",
    "    model_id=\"gbm_cov\",\n",
    "    seed=127,\n",
    "    fold_column='fold_assignment',\n",
    "    weights_column='weights')"
   ]
  },
  {
   "cell_type": "markdown",
   "metadata": {},
   "source": [
    "### Fit the models"
   ]
  },
  {
   "cell_type": "code",
   "execution_count": 32,
   "metadata": {},
   "outputs": [
    {
     "name": "stdout",
     "output_type": "stream",
     "text": [
      "drf Model Build progress: |███████████████████████████████████████████████| 100%\n"
     ]
    }
   ],
   "source": [
    "X_COLS = LIDAR_COLS + LANDSAT_COLS + ['year_diff']\n",
    "rf_qmd.train(X_COLS, 'qmd', train_hf)"
   ]
  },
  {
   "cell_type": "code",
   "execution_count": 33,
   "metadata": {},
   "outputs": [
    {
     "name": "stdout",
     "output_type": "stream",
     "text": [
      "drf Model Build progress: |███████████████████████████████████████████████| 100%\n"
     ]
    }
   ],
   "source": [
    "X_COLS = LIDAR_COLS + LANDSAT_COLS + ['year_diff']\n",
    "rf_size_class.train(X_COLS, 'size_class', train_hf)"
   ]
  },
  {
   "cell_type": "code",
   "execution_count": 34,
   "metadata": {},
   "outputs": [
    {
     "name": "stdout",
     "output_type": "stream",
     "text": [
      "gbm Model Build progress: |███████████████████████████████████████████████| 100%\n"
     ]
    }
   ],
   "source": [
    "X_COLS = LIDAR_COLS + LANDSAT_COLS + ['year_diff']\n",
    "gbm_qmd.train(X_COLS, 'qmd', train_hf)"
   ]
  },
  {
   "cell_type": "code",
   "execution_count": 35,
   "metadata": {},
   "outputs": [
    {
     "name": "stdout",
     "output_type": "stream",
     "text": [
      "gbm Model Build progress: |███████████████████████████████████████████████| 100%\n"
     ]
    }
   ],
   "source": [
    "X_COLS = LIDAR_COLS + LANDSAT_COLS + ['year_diff']\n",
    "gbm_size_class.train(X_COLS, 'size_class', train_hf)"
   ]
  },
  {
   "cell_type": "code",
   "execution_count": 36,
   "metadata": {},
   "outputs": [
    {
     "name": "stdout",
     "output_type": "stream",
     "text": [
      "drf Model Build progress: |███████████████████████████████████████████████| 100%\n"
     ]
    }
   ],
   "source": [
    "X_COLS = LIDAR_COLS + LANDSAT_COLS + ['year_diff']\n",
    "rf_cov.train(X_COLS, 'total_cover', train_hf)"
   ]
  },
  {
   "cell_type": "code",
   "execution_count": 37,
   "metadata": {},
   "outputs": [
    {
     "name": "stdout",
     "output_type": "stream",
     "text": [
      "drf Model Build progress: |███████████████████████████████████████████████| 100%\n"
     ]
    }
   ],
   "source": [
    "X_COLS = LIDAR_COLS + LANDSAT_COLS + ['year_diff']\n",
    "rf_cov_class.train(X_COLS, 'cover_class', train_hf)"
   ]
  },
  {
   "cell_type": "code",
   "execution_count": 38,
   "metadata": {},
   "outputs": [
    {
     "name": "stdout",
     "output_type": "stream",
     "text": [
      "gbm Model Build progress: |███████████████████████████████████████████████| 100%\n"
     ]
    }
   ],
   "source": [
    "X_COLS = LIDAR_COLS + LANDSAT_COLS + ['year_diff']\n",
    "gbm_cov.train(X_COLS, 'total_cover', train_hf)"
   ]
  },
  {
   "cell_type": "code",
   "execution_count": 39,
   "metadata": {},
   "outputs": [
    {
     "name": "stdout",
     "output_type": "stream",
     "text": [
      "gbm Model Build progress: |███████████████████████████████████████████████| 100%\n"
     ]
    }
   ],
   "source": [
    "X_COLS = LIDAR_COLS + LANDSAT_COLS + ['year_diff']\n",
    "gbm_cov_class.train(X_COLS, 'cover_class', train_hf)"
   ]
  },
  {
   "cell_type": "code",
   "execution_count": 40,
   "metadata": {},
   "outputs": [
    {
     "name": "stdout",
     "output_type": "stream",
     "text": [
      "drf Model Build progress: |███████████████████████████████████████████████| 100%\n"
     ]
    }
   ],
   "source": [
    "X_COLS = LIDAR_COLS + LANDSAT_COLS + CLIMATE_COLS + SOIL_COLS + ['pot_veg_type', 'distance_to_water_m', 'year_diff']\n",
    "rf_type.train(X_COLS, 'sppgrp_forest_type_name', train_hf)"
   ]
  },
  {
   "cell_type": "code",
   "execution_count": 41,
   "metadata": {},
   "outputs": [
    {
     "name": "stdout",
     "output_type": "stream",
     "text": [
      "gbm Model Build progress: |███████████████████████████████████████████████| 100%\n"
     ]
    }
   ],
   "source": [
    "X_COLS = LIDAR_COLS + LANDSAT_COLS + CLIMATE_COLS + SOIL_COLS + ['pot_veg_type', 'distance_to_water_m', 'year_diff']\n",
    "gbm_type.train(X_COLS, 'sppgrp_forest_type_name', train_hf)"
   ]
  },
  {
   "cell_type": "code",
   "execution_count": 42,
   "metadata": {},
   "outputs": [
    {
     "name": "stdout",
     "output_type": "stream",
     "text": [
      "gbm Model Build progress: |███████████████████████████████████████████████| 100%\n"
     ]
    }
   ],
   "source": [
    "X_COLS = LIDAR_COLS + LANDSAT_COLS + CLIMATE_COLS + SOIL_COLS + ['pot_veg_type', 'distance_to_water_m', 'year_diff']\n",
    "gbm_type_rebalance.train(X_COLS, 'sppgrp_forest_type_name', train_hf)"
   ]
  },
  {
   "cell_type": "markdown",
   "metadata": {},
   "source": [
    "## Inspect model performance\n",
    "Also, check out [Flow](http://localhost:54321) for more model statistics and visualizations."
   ]
  },
  {
   "cell_type": "code",
   "execution_count": 43,
   "metadata": {},
   "outputs": [
    {
     "data": {
      "text/plain": [
       "(3.90304167441095, 11.09470763866289)"
      ]
     },
     "execution_count": 43,
     "metadata": {},
     "output_type": "execute_result"
    }
   ],
   "source": [
    "rf_qmd.mae(xval=True), rf_cov.mae(xval=True)"
   ]
  },
  {
   "cell_type": "code",
   "execution_count": 44,
   "metadata": {},
   "outputs": [
    {
     "data": {
      "text/plain": [
       "(4.054358450491799, 11.699167114601577)"
      ]
     },
     "execution_count": 44,
     "metadata": {},
     "output_type": "execute_result"
    }
   ],
   "source": [
    "gbm_qmd.mae(xval=True), gbm_cov.mae(xval=True)"
   ]
  },
  {
   "cell_type": "code",
   "execution_count": 45,
   "metadata": {},
   "outputs": [
    {
     "data": {
      "text/plain": [
       "3.537234896694631"
      ]
     },
     "execution_count": 45,
     "metadata": {},
     "output_type": "execute_result"
    }
   ],
   "source": [
    "perf_qmd = rf_qmd.model_performance(test_hf)\n",
    "perf_qmd.mae()"
   ]
  },
  {
   "cell_type": "code",
   "execution_count": 46,
   "metadata": {},
   "outputs": [
    {
     "data": {
      "text/plain": [
       "10.376527119098988"
      ]
     },
     "execution_count": 46,
     "metadata": {},
     "output_type": "execute_result"
    }
   ],
   "source": [
    "perf_cov = rf_cov.model_performance(test_hf)\n",
    "perf_cov.mae()"
   ]
  },
  {
   "cell_type": "code",
   "execution_count": 47,
   "metadata": {},
   "outputs": [
    {
     "data": {
      "text/plain": [
       "3.2715075572139423"
      ]
     },
     "execution_count": 47,
     "metadata": {},
     "output_type": "execute_result"
    }
   ],
   "source": [
    "perf_rf_type = rf_type.model_performance(test_hf)\n",
    "perf_rf_type.logloss()"
   ]
  },
  {
   "cell_type": "code",
   "execution_count": 48,
   "metadata": {},
   "outputs": [
    {
     "data": {
      "text/plain": [
       "1.8777599755971215"
      ]
     },
     "execution_count": 48,
     "metadata": {},
     "output_type": "execute_result"
    }
   ],
   "source": [
    "perf_gbm_type = gbm_type.model_performance(test_hf)\n",
    "perf_gbm_type.logloss()"
   ]
  },
  {
   "cell_type": "code",
   "execution_count": 49,
   "metadata": {},
   "outputs": [
    {
     "data": {
      "text/plain": [
       "1.8489639468522543"
      ]
     },
     "execution_count": 49,
     "metadata": {},
     "output_type": "execute_result"
    }
   ],
   "source": [
    "perf_gbm_type_rebalance = gbm_type_rebalance.model_performance(test_hf)\n",
    "perf_gbm_type_rebalance.logloss()  # 25% min. sampling rate"
   ]
  },
  {
   "cell_type": "code",
   "execution_count": 50,
   "metadata": {},
   "outputs": [
    {
     "data": {
      "text/plain": [
       "1.0941957092034764"
      ]
     },
     "execution_count": 50,
     "metadata": {},
     "output_type": "execute_result"
    }
   ],
   "source": [
    "perf = gbm_size_class.model_performance(test_hf)\n",
    "perf.logloss()"
   ]
  },
  {
   "cell_type": "code",
   "execution_count": 51,
   "metadata": {},
   "outputs": [
    {
     "data": {
      "text/plain": [
       "1.2937358135120287"
      ]
     },
     "execution_count": 51,
     "metadata": {},
     "output_type": "execute_result"
    }
   ],
   "source": [
    "perf = rf_size_class.model_performance(test_hf)\n",
    "perf.logloss()"
   ]
  },
  {
   "cell_type": "code",
   "execution_count": 52,
   "metadata": {},
   "outputs": [
    {
     "data": {
      "text/plain": [
       "0.9392128510406111"
      ]
     },
     "execution_count": 52,
     "metadata": {},
     "output_type": "execute_result"
    }
   ],
   "source": [
    "perf = gbm_cov_class.model_performance(test_hf)\n",
    "perf.logloss()"
   ]
  },
  {
   "cell_type": "code",
   "execution_count": 53,
   "metadata": {},
   "outputs": [
    {
     "data": {
      "text/plain": [
       "1.0829109758829785"
      ]
     },
     "execution_count": 53,
     "metadata": {},
     "output_type": "execute_result"
    }
   ],
   "source": [
    "perf = rf_cov_class.model_performance(test_hf)\n",
    "perf.logloss()"
   ]
  },
  {
   "cell_type": "markdown",
   "metadata": {},
   "source": [
    "## Save our favorite models to disk"
   ]
  },
  {
   "cell_type": "code",
   "execution_count": 54,
   "metadata": {},
   "outputs": [
    {
     "name": "stdout",
     "output_type": "stream",
     "text": [
      "/storage/forestmapping/models/gbm_forest_type_rebalance/gbm_type_rebalance\n"
     ]
    }
   ],
   "source": [
    "# save the model\n",
    "gbm_type_rebalance_path = h2o.save_model(model=gbm_type_rebalance, \n",
    "                                         path=\"../models/gbm_forest_type_rebalance\", \n",
    "                                         force=True)\n",
    "print(gbm_type_rebalance_path)"
   ]
  },
  {
   "cell_type": "code",
   "execution_count": 55,
   "metadata": {},
   "outputs": [
    {
     "name": "stdout",
     "output_type": "stream",
     "text": [
      "/storage/forestmapping/models/rf_qmd/rf_qmd\n"
     ]
    }
   ],
   "source": [
    "# save the qmd model\n",
    "rf_qmd_path = h2o.save_model(model=rf_qmd, \n",
    "                             path=\"../models/rf_qmd\",\n",
    "                             force=True)\n",
    "print(rf_qmd_path)"
   ]
  },
  {
   "cell_type": "code",
   "execution_count": 56,
   "metadata": {},
   "outputs": [
    {
     "name": "stdout",
     "output_type": "stream",
     "text": [
      "/storage/forestmapping/models/rf_cov/rf_cov\n"
     ]
    }
   ],
   "source": [
    "# save the qmd model\n",
    "rf_cov_path = h2o.save_model(model=rf_cov, \n",
    "                             path=\"../models/rf_cov\",\n",
    "                             force=True)\n",
    "print(rf_cov_path)"
   ]
  },
  {
   "cell_type": "code",
   "execution_count": 57,
   "metadata": {},
   "outputs": [
    {
     "name": "stdout",
     "output_type": "stream",
     "text": [
      "/storage/forestmapping/models/gbm_cov_class/gbm_cov_class\n"
     ]
    }
   ],
   "source": [
    "# save the model\n",
    "gbm_cov_class_path = h2o.save_model(model=gbm_cov_class,\n",
    "                                    path=\"../models/gbm_cov_class\",\n",
    "                                    force=True)\n",
    "print(gbm_cov_class_path)"
   ]
  },
  {
   "cell_type": "code",
   "execution_count": 58,
   "metadata": {},
   "outputs": [
    {
     "name": "stdout",
     "output_type": "stream",
     "text": [
      "/storage/forestmapping/models/gbm_size_class/gbm_size_class\n"
     ]
    }
   ],
   "source": [
    "# save the model\n",
    "gbm_size_class_path = h2o.save_model(model=gbm_size_class,\n",
    "                                    path=\"../models/gbm_size_class\",\n",
    "                                    force=True)\n",
    "print(gbm_size_class_path)"
   ]
  },
  {
   "cell_type": "markdown",
   "metadata": {},
   "source": [
    "## Shutdown the h2o cluster"
   ]
  },
  {
   "cell_type": "code",
   "execution_count": 59,
   "metadata": {},
   "outputs": [
    {
     "name": "stdout",
     "output_type": "stream",
     "text": [
      "H2O session _sid_9480 closed.\n"
     ]
    }
   ],
   "source": [
    "# h2o.cluster().shutdown()"
   ]
  }
 ],
 "metadata": {
  "kernelspec": {
   "display_name": "Python [conda env:forest_mapping]",
   "language": "python",
   "name": "conda-env-forest_mapping-py"
  },
  "language_info": {
   "codemirror_mode": {
    "name": "ipython",
    "version": 3
   },
   "file_extension": ".py",
   "mimetype": "text/x-python",
   "name": "python",
   "nbconvert_exporter": "python",
   "pygments_lexer": "ipython3",
   "version": "3.6.7"
  }
 },
 "nbformat": 4,
 "nbformat_minor": 2
}
