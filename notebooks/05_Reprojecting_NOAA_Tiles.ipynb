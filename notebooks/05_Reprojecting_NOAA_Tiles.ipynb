{
 "cells": [
  {
   "cell_type": "markdown",
   "metadata": {},
   "source": [
    "In this notebook, we reproject all point clouds from the geographic coordinate system they come with from the NOAA lidar server over to UTM. We will need to get the NOAA tiles into a projected coordinate system before we can clip plots from them."
   ]
  },
  {
   "cell_type": "code",
   "execution_count": 1,
   "metadata": {},
   "outputs": [],
   "source": [
    "import geopandas as gpd\n",
    "import pandas as pd\n",
    "import os\n",
    "import glob\n",
    "import subprocess\n",
    "import dask\n",
    "from dask.distributed import Client, LocalCluster, progress"
   ]
  },
  {
   "cell_type": "markdown",
   "metadata": {},
   "source": [
    "We will need to know which UTM zone each tile is in.\n",
    "\n",
    "If you haven't created a tile index already, you can do so like this:"
   ]
  },
  {
   "cell_type": "code",
   "execution_count": 4,
   "metadata": {},
   "outputs": [],
   "source": [
    "TILE_DIR = '../data/raw/lidar/noaa_tiles/orig_laz/'\n",
    "tiles = glob.glob(os.path.join(TILE_DIR, '*.laz'))\n",
    "\n",
    "@dask.delayed\n",
    "def get_boundary(infile, odir):\n",
    "    proc = subprocess.run(['wine', '/storage/lidar/LAStools/bin/lasboundary.exe',\n",
    "                           '-i', infile,\n",
    "                           '-odir', odir,\n",
    "                           '-oshp',\n",
    "                           '-use_bb',\n",
    "                           '-labels'], \n",
    "                          stderr=subprocess.PIPE,\n",
    "                          stdout=subprocess.PIPE)\n",
    "#     print(outfile)\n",
    "    return proc"
   ]
  },
  {
   "cell_type": "code",
   "execution_count": 2,
   "metadata": {},
   "outputs": [],
   "source": [
    "cluster=LocalCluster(scheduler_port=7001, diagnostics_port=7002)\n",
    "c = Client(cluster)"
   ]
  },
  {
   "cell_type": "code",
   "execution_count": null,
   "metadata": {},
   "outputs": [],
   "source": [
    "res = c.persist([get_boundary(t, odir=TILE_DIR) for t in tiles])\n",
    "progress(res)"
   ]
  },
  {
   "cell_type": "code",
   "execution_count": null,
   "metadata": {},
   "outputs": [],
   "source": [
    "# c.cancel(res)"
   ]
  },
  {
   "cell_type": "code",
   "execution_count": null,
   "metadata": {},
   "outputs": [],
   "source": [
    "# c.close()\n",
    "# cluster.close()"
   ]
  },
  {
   "cell_type": "code",
   "execution_count": 5,
   "metadata": {},
   "outputs": [
    {
     "data": {
      "text/plain": [
       "3617"
      ]
     },
     "execution_count": 5,
     "metadata": {},
     "output_type": "execute_result"
    }
   ],
   "source": [
    "# gather coverages of each tile\n",
    "shps = glob.glob(os.path.join(TILE_DIR, '*.shp'))\n",
    "len(shps)"
   ]
  },
  {
   "cell_type": "code",
   "execution_count": 6,
   "metadata": {},
   "outputs": [
    {
     "name": "stdout",
     "output_type": "stream",
     "text": [
      "<class 'geopandas.geodataframe.GeoDataFrame'>\n",
      "RangeIndex: 3617 entries, 0 to 3616\n",
      "Data columns (total 12 columns):\n",
      "file_name     3617 non-null object\n",
      "version       3617 non-null object\n",
      "num_points    3617 non-null int64\n",
      "point_type    3617 non-null int64\n",
      "point_size    3617 non-null int64\n",
      "min_x         3617 non-null float64\n",
      "max_x         3617 non-null float64\n",
      "min_y         3617 non-null float64\n",
      "max_y         3617 non-null float64\n",
      "min_z         3617 non-null float64\n",
      "max_z         3617 non-null float64\n",
      "geometry      3617 non-null object\n",
      "dtypes: float64(6), int64(3), object(3)\n",
      "memory usage: 339.2+ KB\n"
     ]
    }
   ],
   "source": [
    "# read in all the shapefiles of tile boudnaries into a list\n",
    "gdfs = [gpd.read_file(shp) for shp in shps]\n",
    "# concatentate them into a single geodataframe\n",
    "gdf = pd.concat(gdfs, axis=0, ignore_index=True)\n",
    "gdf.info()"
   ]
  },
  {
   "cell_type": "code",
   "execution_count": 7,
   "metadata": {},
   "outputs": [
    {
     "data": {
      "text/plain": [
       "{'init': 'epsg:4269'}"
      ]
     },
     "execution_count": 7,
     "metadata": {},
     "output_type": "execute_result"
    }
   ],
   "source": [
    "gdf.crs"
   ]
  },
  {
   "cell_type": "code",
   "execution_count": 14,
   "metadata": {},
   "outputs": [],
   "source": [
    "tile_idx = gdf.to_crs({'init':'epsg:4326'})\n",
    "tile_idx.to_file('../data/raw/lidar/noaa_tiles/noaa_tileindex.shp')"
   ]
  },
  {
   "cell_type": "markdown",
   "metadata": {},
   "source": [
    "Now we'll grab our UTM zones and do some spatial joins to assign each lidar tile to a UTM zone."
   ]
  },
  {
   "cell_type": "code",
   "execution_count": 9,
   "metadata": {},
   "outputs": [
    {
     "name": "stdout",
     "output_type": "stream",
     "text": [
      "<class 'geopandas.geodataframe.GeoDataFrame'>\n",
      "RangeIndex: 1 entries, 0 to 0\n",
      "Data columns (total 7 columns):\n",
      "SWLON         1 non-null object\n",
      "SWLAT         1 non-null object\n",
      "HEMISPHERE    1 non-null object\n",
      "ZONE          1 non-null object\n",
      "CM            1 non-null object\n",
      "Zone_Hemi     1 non-null object\n",
      "geometry      1 non-null object\n",
      "dtypes: object(7)\n",
      "memory usage: 136.0+ bytes\n"
     ]
    }
   ],
   "source": [
    "UTM_10 = '../data/external/utm_zone10_epsg4326.shp'\n",
    "UTM_11 = '../data/external/utm_zone11_epsg4326.shp'\n",
    "utm_10 = gpd.read_file(UTM_10)\n",
    "utm_11 = gpd.read_file(UTM_11)\n",
    "utm_10.info()"
   ]
  },
  {
   "cell_type": "code",
   "execution_count": 10,
   "metadata": {},
   "outputs": [
    {
     "data": {
      "text/plain": [
       "(3617, 3518, 99)"
      ]
     },
     "execution_count": 10,
     "metadata": {},
     "output_type": "execute_result"
    }
   ],
   "source": [
    "utm10_tiles = gpd.sjoin(tile_idx, utm_10)\n",
    "utm11_tiles = gpd.sjoin(tile_idx, utm_11)\n",
    "len(tile_idx), len(utm10_tiles), len(utm11_tiles)"
   ]
  },
  {
   "cell_type": "code",
   "execution_count": 11,
   "metadata": {},
   "outputs": [
    {
     "data": {
      "text/html": [
       "<div>\n",
       "<style scoped>\n",
       "    .dataframe tbody tr th:only-of-type {\n",
       "        vertical-align: middle;\n",
       "    }\n",
       "\n",
       "    .dataframe tbody tr th {\n",
       "        vertical-align: top;\n",
       "    }\n",
       "\n",
       "    .dataframe thead th {\n",
       "        text-align: right;\n",
       "    }\n",
       "</style>\n",
       "<table border=\"1\" class=\"dataframe\">\n",
       "  <thead>\n",
       "    <tr style=\"text-align: right;\">\n",
       "      <th></th>\n",
       "      <th>ZONE</th>\n",
       "      <th>epsg</th>\n",
       "    </tr>\n",
       "    <tr>\n",
       "      <th>file_name</th>\n",
       "      <th></th>\n",
       "      <th></th>\n",
       "    </tr>\n",
       "  </thead>\n",
       "  <tbody>\n",
       "    <tr>\n",
       "      <th>NOAA2482_124a3317.laz</th>\n",
       "      <td>10</td>\n",
       "      <td>6339</td>\n",
       "    </tr>\n",
       "    <tr>\n",
       "      <th>NOAA2482_124h4322.laz</th>\n",
       "      <td>10</td>\n",
       "      <td>6339</td>\n",
       "    </tr>\n",
       "    <tr>\n",
       "      <th>NOAA2482_123a5225.laz</th>\n",
       "      <td>10</td>\n",
       "      <td>6339</td>\n",
       "    </tr>\n",
       "    <tr>\n",
       "      <th>NOAA2496_q46123h3419.laz</th>\n",
       "      <td>10</td>\n",
       "      <td>6339</td>\n",
       "    </tr>\n",
       "    <tr>\n",
       "      <th>NOAA6331_20160318_USGS_LPC_WA_Western_North_2016_q47121H7301_LAS_2018.laz</th>\n",
       "      <td>10</td>\n",
       "      <td>6339</td>\n",
       "    </tr>\n",
       "  </tbody>\n",
       "</table>\n",
       "</div>"
      ],
      "text/plain": [
       "                                                   ZONE  epsg\n",
       "file_name                                                    \n",
       "NOAA2482_124a3317.laz                                10  6339\n",
       "NOAA2482_124h4322.laz                                10  6339\n",
       "NOAA2482_123a5225.laz                                10  6339\n",
       "NOAA2496_q46123h3419.laz                             10  6339\n",
       "NOAA6331_20160318_USGS_LPC_WA_Western_North_201...   10  6339"
      ]
     },
     "execution_count": 11,
     "metadata": {},
     "output_type": "execute_result"
    }
   ],
   "source": [
    "utm_lookup = pd.concat((utm10_tiles, utm11_tiles),\n",
    "                       axis=0, ignore_index=True)[['file_name', 'ZONE']].set_index('file_name')\n",
    "utm_lookup['epsg'] = utm_lookup.ZONE.apply(lambda x: 6339 if x == '10' else 6340)\n",
    "utm_lookup.head()"
   ]
  },
  {
   "cell_type": "code",
   "execution_count": 12,
   "metadata": {},
   "outputs": [],
   "source": [
    "@dask.delayed\n",
    "def reproject(infile, odir):\n",
    "    basename = os.path.basename(infile)\n",
    "    outfile = os.path.join(odir, basename)\n",
    "    \n",
    "    target_epsg = utm_lookup.loc[basename]['epsg']\n",
    "    \n",
    "    proc = subprocess.run(['wine', '/storage/lidar/LAStools/bin/las2las.exe',\n",
    "                           '-i', infile,\n",
    "                           '-o', outfile,\n",
    "                           '-target_epsg', str(target_epsg)],\n",
    "                          stderr=subprocess.PIPE,\n",
    "                          stdout=subprocess.PIPE)\n",
    "    return proc"
   ]
  },
  {
   "cell_type": "code",
   "execution_count": 13,
   "metadata": {},
   "outputs": [
    {
     "data": {
      "application/vnd.jupyter.widget-view+json": {
       "model_id": "627c96c100ab4bdb8bd8bf7ecd1597f5",
       "version_major": 2,
       "version_minor": 0
      },
      "text/plain": [
       "VBox()"
      ]
     },
     "metadata": {},
     "output_type": "display_data"
    }
   ],
   "source": [
    "ODIR = '../data/raw/lidar/noaa_tiles/utm_laz/'\n",
    "res = c.persist([reproject(t, odir=ODIR) for t in tiles])\n",
    "progress(res)"
   ]
  },
  {
   "cell_type": "code",
   "execution_count": 1,
   "metadata": {},
   "outputs": [
    {
     "ename": "NameError",
     "evalue": "name 'c' is not defined",
     "output_type": "error",
     "traceback": [
      "\u001b[0;31m---------------------------------------------------------------------------\u001b[0m",
      "\u001b[0;31mNameError\u001b[0m                                 Traceback (most recent call last)",
      "\u001b[0;32m<ipython-input-1-f7b4c7867871>\u001b[0m in \u001b[0;36m<module>\u001b[0;34m\u001b[0m\n\u001b[0;32m----> 1\u001b[0;31m \u001b[0mc\u001b[0m\u001b[0;34m.\u001b[0m\u001b[0mclose\u001b[0m\u001b[0;34m(\u001b[0m\u001b[0;34m)\u001b[0m\u001b[0;34m\u001b[0m\u001b[0;34m\u001b[0m\u001b[0m\n\u001b[0m\u001b[1;32m      2\u001b[0m \u001b[0mcluster\u001b[0m\u001b[0;34m.\u001b[0m\u001b[0mclose\u001b[0m\u001b[0;34m(\u001b[0m\u001b[0;34m)\u001b[0m\u001b[0;34m\u001b[0m\u001b[0;34m\u001b[0m\u001b[0m\n",
      "\u001b[0;31mNameError\u001b[0m: name 'c' is not defined"
     ]
    }
   ],
   "source": [
    "# c.close()\n",
    "# cluster.close()"
   ]
  }
 ],
 "metadata": {
  "kernelspec": {
   "display_name": "Python [conda env:pyFIRS] *",
   "language": "python",
   "name": "conda-env-pyFIRS-py"
  },
  "language_info": {
   "codemirror_mode": {
    "name": "ipython",
    "version": 3
   },
   "file_extension": ".py",
   "mimetype": "text/x-python",
   "name": "python",
   "nbconvert_exporter": "python",
   "pygments_lexer": "ipython3",
   "version": "3.6.7"
  }
 },
 "nbformat": 4,
 "nbformat_minor": 2
}
