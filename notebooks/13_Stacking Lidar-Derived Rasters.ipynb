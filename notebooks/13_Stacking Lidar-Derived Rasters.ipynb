{
 "cells": [
  {
   "cell_type": "code",
   "execution_count": 1,
   "metadata": {},
   "outputs": [],
   "source": [
    "import rasterio\n",
    "import numpy as np\n",
    "import os\n",
    "# from matplotlib import pyplot as plt\n",
    "# %matplotlib inline"
   ]
  },
  {
   "cell_type": "code",
   "execution_count": 2,
   "metadata": {},
   "outputs": [],
   "source": [
    "ACQ_NAME = 'portland-metro_2014'"
   ]
  },
  {
   "cell_type": "code",
   "execution_count": 3,
   "metadata": {},
   "outputs": [],
   "source": [
    "COL_ORDER = ['strat0_return-proportion','strat1_return-proportion','strat2_return-proportion',\n",
    "             'strat3_return-proportion','strat4_return-proportion','strat5_return-proportion',\n",
    "             'strat0_intensity-median','strat1_intensity-median','strat2_intensity-median',\n",
    "             'strat3_intensity-median','strat4_intensity-median','strat5_intensity-median',\n",
    "             'height_05-percentile','height_25-percentile','height_50-percentile',\n",
    "             'height_75-percentile','height_95_percentile','height_max','cover',\n",
    "             'potential_volume','stddev_height','surface_area_ratio','surface_volume',\n",
    "             'surface_volume_ratio','aspect','elevation','overall_curvature','plan_curvature',\n",
    "             'profile_curvature','slope','solar_radiation_index']"
   ]
  },
  {
   "cell_type": "code",
   "execution_count": 4,
   "metadata": {},
   "outputs": [],
   "source": [
    "LOOK_IN = '../data/interim/lidar/processed_lidar_acquisitions/lidar_derived_rasters/{}'.format(ACQ_NAME)\n",
    "for col in COL_ORDER:\n",
    "    if not os.path.exists(os.path.join(LOOK_IN, col + '.tif')):\n",
    "        print('Unable to find {}'.format(col))"
   ]
  },
  {
   "cell_type": "code",
   "execution_count": 5,
   "metadata": {},
   "outputs": [],
   "source": [
    "with rasterio.open(os.path.join(LOOK_IN, col+'.tif')) as src:\n",
    "    img = src.read(1, masked=True)"
   ]
  },
  {
   "cell_type": "code",
   "execution_count": 6,
   "metadata": {},
   "outputs": [],
   "source": [
    "STACK_RASTER = '../data/processed/lidar/processed_lidar_acquisitions/lidar_derived_rasters/{}.tif'.format(ACQ_NAME)\n",
    "stack_meta = src.meta.copy()\n",
    "num_layers = len(COL_ORDER)\n",
    "stack_meta.update(count=num_layers,\n",
    "                  bigtiff='YES',\n",
    "                  compress='LZW',\n",
    "                  num_threads='ALL_CPUS'\n",
    "                 )\n",
    "\n",
    "with rasterio.open(STACK_RASTER, 'w', **stack_meta) as dst:\n",
    "    for i in range(num_layers):\n",
    "        to_open = os.path.join(LOOK_IN, COL_ORDER[i] + '.tif')\n",
    "        with rasterio.open(to_open) as src:\n",
    "            img = src.read(1, masked=True)\n",
    "        dst.write_band(i+1, img)\n",
    "        dst.set_band_description(i+1, COL_ORDER[i])"
   ]
  },
  {
   "cell_type": "code",
   "execution_count": 7,
   "metadata": {},
   "outputs": [],
   "source": [
    "# with rasterio.open(STACK_RASTER) as src:\n",
    "#     img = src.read(masked=True)"
   ]
  },
  {
   "cell_type": "code",
   "execution_count": 8,
   "metadata": {},
   "outputs": [],
   "source": [
    "# img.shape"
   ]
  }
 ],
 "metadata": {
  "kernelspec": {
   "display_name": "Python [conda env:forest_mapping]",
   "language": "python",
   "name": "conda-env-forest_mapping-py"
  },
  "language_info": {
   "codemirror_mode": {
    "name": "ipython",
    "version": 3
   },
   "file_extension": ".py",
   "mimetype": "text/x-python",
   "name": "python",
   "nbconvert_exporter": "python",
   "pygments_lexer": "ipython3",
   "version": "3.6.7"
  }
 },
 "nbformat": 4,
 "nbformat_minor": 2
}
