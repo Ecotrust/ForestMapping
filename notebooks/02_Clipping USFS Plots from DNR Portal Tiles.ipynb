{
 "cells": [
  {
   "cell_type": "markdown",
   "metadata": {},
   "source": [
    "This notebook clips 1 hectare and appropriate plot-sized clips for USFS plots within the Mount Adams 2016 lidar acquisition, 1 plot that fills within the Yakima K2K-2014 acquisition, and three plots that fall within the DNR-Klickitat_2015 lidar acquisition."
   ]
  },
  {
   "cell_type": "code",
   "execution_count": 1,
   "metadata": {},
   "outputs": [],
   "source": [
    "import geopandas as gpd\n",
    "import pandas as pd\n",
    "import glob\n",
    "import os\n",
    "import subprocess\n",
    "from functools import partial\n",
    "import dask\n",
    "from dask.distributed import Client, LocalCluster, progress\n",
    "from matplotlib import pyplot as plt\n",
    "%matplotlib inline"
   ]
  },
  {
   "cell_type": "code",
   "execution_count": 2,
   "metadata": {},
   "outputs": [
    {
     "name": "stdout",
     "output_type": "stream",
     "text": [
      "<class 'geopandas.geodataframe.GeoDataFrame'>\n",
      "RangeIndex: 155 entries, 0 to 154\n",
      "Data columns (total 12 columns):\n",
      "file_name     155 non-null object\n",
      "version       155 non-null object\n",
      "num_points    155 non-null int64\n",
      "point_type    155 non-null int64\n",
      "point_size    155 non-null int64\n",
      "min_x         155 non-null float64\n",
      "max_x         155 non-null float64\n",
      "min_y         155 non-null float64\n",
      "max_y         155 non-null float64\n",
      "min_z         155 non-null float64\n",
      "max_z         155 non-null float64\n",
      "geometry      155 non-null object\n",
      "dtypes: float64(6), int64(3), object(3)\n",
      "memory usage: 14.6+ KB\n"
     ]
    }
   ],
   "source": [
    "MTADAMS_SHP = '../data/raw/lidar/dnr_portal/dnr_portal_tiles/mt-adams_2016/mt-adams_2016_tiles_with_usfs_plots.shp'\n",
    "mtadams_tiles = gpd.read_file(MTADAMS_SHP)\n",
    "mtadams_tiles.info()"
   ]
  },
  {
   "cell_type": "code",
   "execution_count": 3,
   "metadata": {},
   "outputs": [
    {
     "data": {
      "text/plain": [
       "{'init': 'epsg:2927'}"
      ]
     },
     "execution_count": 3,
     "metadata": {},
     "output_type": "execute_result"
    }
   ],
   "source": [
    "mtadams_tiles = mtadams_tiles[['file_name', 'geometry']]\n",
    "mtadams_tiles.crs"
   ]
  },
  {
   "cell_type": "code",
   "execution_count": 4,
   "metadata": {},
   "outputs": [
    {
     "name": "stdout",
     "output_type": "stream",
     "text": [
      "<class 'geopandas.geodataframe.GeoDataFrame'>\n",
      "Int64Index: 1223 entries, 0 to 1222\n",
      "Data columns (total 10 columns):\n",
      "comments     0 non-null object\n",
      "lat          1223 non-null float64\n",
      "lon          1223 non-null float64\n",
      "meas_date    0 non-null object\n",
      "orig_id      1223 non-null object\n",
      "plot_id      0 non-null object\n",
      "source       1223 non-null object\n",
      "meas_yr      1223 non-null int64\n",
      "uuid         1223 non-null object\n",
      "geometry     1223 non-null object\n",
      "dtypes: float64(2), int64(1), object(7)\n",
      "memory usage: 105.1+ KB\n"
     ]
    }
   ],
   "source": [
    "HA_PLOTS_SHP = '../data/processed/blm_usfs_wadnr_plots_1ha.shp'\n",
    "plots = gpd.read_file(HA_PLOTS_SHP)\n",
    "plots = plots.loc[plots.source.str.contains('USFS')]\n",
    "plots.info()"
   ]
  },
  {
   "cell_type": "code",
   "execution_count": 5,
   "metadata": {},
   "outputs": [],
   "source": [
    "sp_plots = plots.to_crs({'init': 'epsg:2927'})\n",
    "sp_plots['x'] = sp_plots.centroid.x\n",
    "sp_plots['y'] = sp_plots.centroid.y\n",
    "sp_plots = sp_plots[['uuid','x','y', 'geometry']].set_index('uuid')"
   ]
  },
  {
   "cell_type": "code",
   "execution_count": 6,
   "metadata": {},
   "outputs": [
    {
     "data": {
      "text/plain": [
       "({'init': 'epsg:2927'}, {'init': 'epsg:2927'})"
      ]
     },
     "execution_count": 6,
     "metadata": {},
     "output_type": "execute_result"
    }
   ],
   "source": [
    "sp_plots.crs, mtadams_tiles.crs"
   ]
  },
  {
   "cell_type": "code",
   "execution_count": 7,
   "metadata": {},
   "outputs": [],
   "source": [
    "joined = gpd.sjoin(sp_plots, mtadams_tiles)[['x', 'y', 'file_name']]"
   ]
  },
  {
   "cell_type": "code",
   "execution_count": 8,
   "metadata": {},
   "outputs": [],
   "source": [
    "@dask.delayed\n",
    "def clip_1ha_plot(uuid, acq_name, tile_dir, odir):\n",
    "    basename = '{}_{}.laz'.format(uuid, acq_name)\n",
    "    outfile = os.path.join(odir, basename)\n",
    "    \n",
    "    match = sp_plots.loc[uuid][['x', 'y']]\n",
    "    x, y = match.x, match.y\n",
    "    intersecting_tiles = joined.loc[uuid][['file_name']].values.flatten()\n",
    "    \n",
    "    tiles = [os.path.join(tile_dir, t) for t in intersecting_tiles]\n",
    "    \n",
    "    proc = subprocess.run(['wine', '/storage/lidar/LAStools/bin/las2las.exe',\n",
    "                           '-i', *tiles, '-merged',\n",
    "                           '-o', outfile,\n",
    "                           # 1ha plot radius in feet\n",
    "                           '-keep_circle', str(x), str(y), '185.1'], \n",
    "                          stderr=subprocess.PIPE,\n",
    "                          stdout=subprocess.PIPE)\n",
    "#     print(outfile)\n",
    "    return proc"
   ]
  },
  {
   "cell_type": "code",
   "execution_count": 9,
   "metadata": {},
   "outputs": [],
   "source": [
    "@dask.delayed\n",
    "def clip_smaller_plot(infile, odir):\n",
    "    basename = os.path.basename(infile)\n",
    "    outfile = os.path.join(odir, basename)\n",
    "    \n",
    "    uuid = basename.split('_')[0]\n",
    "    match = sp_plots.loc[uuid][['x', 'y']]\n",
    "    x, y = match.x, match.y\n",
    "    \n",
    "    proc = subprocess.run(['wine', '/storage/lidar/LAStools/bin/las2las.exe',\n",
    "                           '-i', infile,\n",
    "                           '-o', outfile,\n",
    "                           # 1/4 acre plot radius in feet\n",
    "                           '-keep_circle', str(x), str(y), '58.9'], \n",
    "                          stderr=subprocess.PIPE,\n",
    "                          stdout=subprocess.PIPE)\n",
    "#     print(outfile)\n",
    "    return proc"
   ]
  },
  {
   "cell_type": "code",
   "execution_count": 10,
   "metadata": {},
   "outputs": [],
   "source": [
    "@dask.delayed\n",
    "def get_boundary(infile, odir):\n",
    "    proc = subprocess.run(['wine', '/storage/lidar/LAStools/bin/lasboundary.exe',\n",
    "                           '-i', infile,\n",
    "                           '-odir', odir,\n",
    "                           '-oshp',\n",
    "                           '-labels'], \n",
    "                          stderr=subprocess.PIPE,\n",
    "                          stdout=subprocess.PIPE)\n",
    "#     print(outfile)\n",
    "    return proc"
   ]
  },
  {
   "cell_type": "code",
   "execution_count": 11,
   "metadata": {},
   "outputs": [],
   "source": [
    "cluster=LocalCluster(scheduler_port=7001, diagnostics_port=7002)\n",
    "c = Client(cluster)"
   ]
  },
  {
   "cell_type": "code",
   "execution_count": 12,
   "metadata": {},
   "outputs": [
    {
     "data": {
      "application/vnd.jupyter.widget-view+json": {
       "model_id": "a23bb2d6c99b4f3d9a574d2204fa420e",
       "version_major": 2,
       "version_minor": 0
      },
      "text/plain": [
       "VBox()"
      ]
     },
     "metadata": {},
     "output_type": "display_data"
    }
   ],
   "source": [
    "uuids = pd.unique(joined.index)\n",
    "TILE_DIR = '../data/raw/lidar/dnr_portal/dnr_portal_tiles/mt-adams_2016/tiles_epsg2927/'\n",
    "ODIR = '../data/raw/lidar/dnr_portal/dnr_portal_tiles/usfs_plots/hectare_clips_epsg2927/'\n",
    "clip_1ha = partial(clip_1ha_plot, acq_name='mt-adams_2016', tile_dir=TILE_DIR, odir=ODIR)\n",
    "\n",
    "res = c.persist([clip_1ha(i) for i in uuids])\n",
    "progress(res)"
   ]
  },
  {
   "cell_type": "code",
   "execution_count": null,
   "metadata": {},
   "outputs": [],
   "source": [
    "# c.cancel(res)"
   ]
  },
  {
   "cell_type": "code",
   "execution_count": 13,
   "metadata": {},
   "outputs": [
    {
     "data": {
      "text/plain": [
       "x                                                 1.49784e+06\n",
       "y                                                      663999\n",
       "geometry    POLYGON ((1498085.1413097 664003.9091376604, 1...\n",
       "Name: 50ef6d0c-d1ed-42f4-8e72-1f8572d02e79, dtype: object"
      ]
     },
     "execution_count": 13,
     "metadata": {},
     "output_type": "execute_result"
    }
   ],
   "source": [
    "yak_plot = sp_plots.loc['50ef6d0c-d1ed-42f4-8e72-1f8572d02e79']\n",
    "yak_plot"
   ]
  },
  {
   "cell_type": "code",
   "execution_count": 14,
   "metadata": {},
   "outputs": [
    {
     "data": {
      "text/plain": [
       "(CompletedProcess(args=['wine', '/storage/lidar/LAStools/bin/las2las.exe', '-i', '../data/raw/lidar/dnr_portal/dnr_portal_tiles/yakima-k2k_2014/tiles_epsg2927/Yakima_000879.laz', '-o', '../data/raw/lidar/dnr_portal/dnr_portal_tiles/usfs_plots/hectare_clips_epsg2927/50ef6d0c-d1ed-42f4-8e72-1f8572d02e79_yakima-k2k_2014.laz', '-keep_circle', '1497841.2161545136', '663999.1072647399', '185.1'], returncode=0, stdout=b'', stderr=b''),\n",
       " CompletedProcess(args=['wine', '/storage/lidar/LAStools/bin/las2las.exe', '-i', '../data/raw/lidar/dnr_portal/dnr_portal_tiles/usfs_plots/hectare_clips_epsg2927/50ef6d0c-d1ed-42f4-8e72-1f8572d02e79_yakima-k2k_2014.laz', '-o', '../data/raw/lidar/dnr_portal/dnr_portal_tiles/usfs_plots/plot_clips_epsg2927/50ef6d0c-d1ed-42f4-8e72-1f8572d02e79_yakima-k2k_2014.laz', '-keep_circle', '1497841.2161545136', '663999.1072647399', '58.9'], returncode=0, stdout=b'', stderr=b''))"
      ]
     },
     "execution_count": 14,
     "metadata": {},
     "output_type": "execute_result"
    }
   ],
   "source": [
    "x, y = yak_plot.x, yak_plot.y\n",
    "\n",
    "INFILE = '../data/raw/lidar/dnr_portal/dnr_portal_tiles/yakima-k2k_2014/tiles_epsg2927/Yakima_000879.laz'\n",
    "HA_OUTFILE = '../data/raw/lidar/dnr_portal/dnr_portal_tiles/usfs_plots/hectare_clips_epsg2927/50ef6d0c-d1ed-42f4-8e72-1f8572d02e79_yakima-k2k_2014.laz'\n",
    "\n",
    "ha_proc = subprocess.run(['wine', '/storage/lidar/LAStools/bin/las2las.exe',\n",
    "                          '-i', INFILE,\n",
    "                          '-o', HA_OUTFILE,\n",
    "                          # 1ha plot radius in feet\n",
    "                          '-keep_circle', str(x), str(y), '185.1'], \n",
    "                         stderr=subprocess.PIPE,\n",
    "                         stdout=subprocess.PIPE)\n",
    "\n",
    "PLOT_OUTFILE = '../data/raw/lidar/dnr_portal/dnr_portal_tiles/usfs_plots/plot_clips_epsg2927/50ef6d0c-d1ed-42f4-8e72-1f8572d02e79_yakima-k2k_2014.laz'\n",
    "plot_proc = subprocess.run(['wine', '/storage/lidar/LAStools/bin/las2las.exe',\n",
    "                            '-i', HA_OUTFILE,\n",
    "                            '-o', PLOT_OUTFILE,\n",
    "                            # 1/4 acre plot radius in feet\n",
    "                            '-keep_circle', str(x), str(y), '58.9'],\n",
    "                           stderr=subprocess.PIPE,\n",
    "                           stdout=subprocess.PIPE)\n",
    "\n",
    "ha_proc, plot_proc"
   ]
  },
  {
   "cell_type": "code",
   "execution_count": 15,
   "metadata": {},
   "outputs": [
    {
     "name": "stdout",
     "output_type": "stream",
     "text": [
      "<class 'geopandas.geodataframe.GeoDataFrame'>\n",
      "RangeIndex: 3 entries, 0 to 2\n",
      "Data columns (total 12 columns):\n",
      "file_name     3 non-null object\n",
      "version       3 non-null object\n",
      "num_points    3 non-null int64\n",
      "point_type    3 non-null int64\n",
      "point_size    3 non-null int64\n",
      "min_x         3 non-null float64\n",
      "max_x         3 non-null float64\n",
      "min_y         3 non-null float64\n",
      "max_y         3 non-null float64\n",
      "min_z         3 non-null float64\n",
      "max_z         3 non-null float64\n",
      "geometry      3 non-null object\n",
      "dtypes: float64(6), int64(3), object(3)\n",
      "memory usage: 368.0+ bytes\n"
     ]
    },
    {
     "data": {
      "text/plain": [
       "({'init': 'epsg:2927'}, None)"
      ]
     },
     "execution_count": 15,
     "metadata": {},
     "output_type": "execute_result"
    }
   ],
   "source": [
    "KLICK_SHP = '../data/raw/lidar/dnr_portal/dnr_portal_tiles/dnr-klickitat_2015/dnr-klickitat_2015_tiles_with_usfs_plots.shp'\n",
    "klick_tiles = gpd.read_file(KLICK_SHP)\n",
    "klick_tiles.crs, klick_tiles.info()"
   ]
  },
  {
   "cell_type": "code",
   "execution_count": 16,
   "metadata": {},
   "outputs": [
    {
     "data": {
      "text/html": [
       "<div>\n",
       "<style scoped>\n",
       "    .dataframe tbody tr th:only-of-type {\n",
       "        vertical-align: middle;\n",
       "    }\n",
       "\n",
       "    .dataframe tbody tr th {\n",
       "        vertical-align: top;\n",
       "    }\n",
       "\n",
       "    .dataframe thead th {\n",
       "        text-align: right;\n",
       "    }\n",
       "</style>\n",
       "<table border=\"1\" class=\"dataframe\">\n",
       "  <thead>\n",
       "    <tr style=\"text-align: right;\">\n",
       "      <th></th>\n",
       "      <th>x</th>\n",
       "      <th>y</th>\n",
       "      <th>file_name</th>\n",
       "    </tr>\n",
       "  </thead>\n",
       "  <tbody>\n",
       "    <tr>\n",
       "      <th>6a58bde4-1620-4085-a3cf-8561d3a91b51</th>\n",
       "      <td>1.350166e+06</td>\n",
       "      <td>201230.758782</td>\n",
       "      <td>q45121h6424.laz</td>\n",
       "    </tr>\n",
       "    <tr>\n",
       "      <th>95257f68-148e-47dc-9fa6-4f40e29563c2</th>\n",
       "      <td>1.352443e+06</td>\n",
       "      <td>201255.644842</td>\n",
       "      <td>q45121h6425.laz</td>\n",
       "    </tr>\n",
       "    <tr>\n",
       "      <th>df4de597-4a16-400d-9aed-4b9107b5d969</th>\n",
       "      <td>1.363657e+06</td>\n",
       "      <td>201330.561863</td>\n",
       "      <td>q45121h5324.laz</td>\n",
       "    </tr>\n",
       "  </tbody>\n",
       "</table>\n",
       "</div>"
      ],
      "text/plain": [
       "                                                 x              y  \\\n",
       "6a58bde4-1620-4085-a3cf-8561d3a91b51  1.350166e+06  201230.758782   \n",
       "95257f68-148e-47dc-9fa6-4f40e29563c2  1.352443e+06  201255.644842   \n",
       "df4de597-4a16-400d-9aed-4b9107b5d969  1.363657e+06  201330.561863   \n",
       "\n",
       "                                            file_name  \n",
       "6a58bde4-1620-4085-a3cf-8561d3a91b51  q45121h6424.laz  \n",
       "95257f68-148e-47dc-9fa6-4f40e29563c2  q45121h6425.laz  \n",
       "df4de597-4a16-400d-9aed-4b9107b5d969  q45121h5324.laz  "
      ]
     },
     "execution_count": 16,
     "metadata": {},
     "output_type": "execute_result"
    }
   ],
   "source": [
    "joined = gpd.sjoin(sp_plots, klick_tiles)[['x', 'y', 'file_name']]\n",
    "joined"
   ]
  },
  {
   "cell_type": "code",
   "execution_count": 17,
   "metadata": {},
   "outputs": [
    {
     "data": {
      "application/vnd.jupyter.widget-view+json": {
       "model_id": "a7991d8232c14989bc218a6ed2724328",
       "version_major": 2,
       "version_minor": 0
      },
      "text/plain": [
       "VBox()"
      ]
     },
     "metadata": {},
     "output_type": "display_data"
    }
   ],
   "source": [
    "uuids = pd.unique(joined.index)\n",
    "TILE_DIR = '../data/raw/lidar/dnr_portal/dnr_portal_tiles/dnr-klickitat_2015/tiles_epsg2927/'\n",
    "ODIR = '../data/raw/lidar/dnr_portal/dnr_portal_tiles/usfs_plots/hectare_clips_epsg2927/'\n",
    "clip_1ha = partial(clip_1ha_plot, acq_name='dnr-klickitat_2015', tile_dir=TILE_DIR, odir=ODIR)\n",
    "\n",
    "res = c.persist([clip_1ha(i) for i in uuids])\n",
    "progress(res)"
   ]
  },
  {
   "cell_type": "code",
   "execution_count": 18,
   "metadata": {},
   "outputs": [
    {
     "data": {
      "application/vnd.jupyter.widget-view+json": {
       "model_id": "d2f55e9885cd4c4d85f7fcafe7fdeb99",
       "version_major": 2,
       "version_minor": 0
      },
      "text/plain": [
       "VBox()"
      ]
     },
     "metadata": {},
     "output_type": "display_data"
    }
   ],
   "source": [
    "ha_clips = glob.glob(os.path.join(ODIR, '*.laz'))\n",
    "# set new ODIR for plot-sized clips\n",
    "ODIR = '../data/raw/lidar/dnr_portal/dnr_portal_tiles/usfs_plots/plot_clips_epsg2927/'\n",
    "res = c.persist([clip_smaller_plot(f, odir=ODIR) for f in ha_clips])\n",
    "progress(res)"
   ]
  },
  {
   "cell_type": "code",
   "execution_count": 19,
   "metadata": {},
   "outputs": [
    {
     "data": {
      "text/plain": [
       "105"
      ]
     },
     "execution_count": 19,
     "metadata": {},
     "output_type": "execute_result"
    }
   ],
   "source": [
    "PLOT_CLIPS = os.path.join(ODIR, '*.laz')\n",
    "clipped = glob.glob(PLOT_CLIPS)\n",
    "len(clipped)"
   ]
  },
  {
   "cell_type": "code",
   "execution_count": 20,
   "metadata": {},
   "outputs": [
    {
     "data": {
      "application/vnd.jupyter.widget-view+json": {
       "model_id": "a07ad26da643427a9cac049e4e44a9f1",
       "version_major": 2,
       "version_minor": 0
      },
      "text/plain": [
       "VBox()"
      ]
     },
     "metadata": {},
     "output_type": "display_data"
    }
   ],
   "source": [
    "res = c.persist([get_boundary(p, odir=ODIR) for p in clipped])\n",
    "progress(res)"
   ]
  },
  {
   "cell_type": "code",
   "execution_count": 21,
   "metadata": {},
   "outputs": [
    {
     "data": {
      "text/plain": [
       "105"
      ]
     },
     "execution_count": 21,
     "metadata": {},
     "output_type": "execute_result"
    }
   ],
   "source": [
    "HA_ODIR = '../data/raw/lidar/dnr_portal/dnr_portal_tiles/usfs_plots/hectare_clips_epsg2927/'\n",
    "HA_PLOT_CLIPS = os.path.join(HA_ODIR, '*.laz')\n",
    "ha_clipped = glob.glob(HA_PLOT_CLIPS)\n",
    "len(ha_clipped)"
   ]
  },
  {
   "cell_type": "code",
   "execution_count": 22,
   "metadata": {},
   "outputs": [
    {
     "data": {
      "application/vnd.jupyter.widget-view+json": {
       "model_id": "0ea1d3289cda412a926057388ade9e48",
       "version_major": 2,
       "version_minor": 0
      },
      "text/plain": [
       "VBox()"
      ]
     },
     "metadata": {},
     "output_type": "display_data"
    }
   ],
   "source": [
    "res = c.persist([get_boundary(p, odir=HA_ODIR) for p in ha_clipped])\n",
    "progress(res)"
   ]
  },
  {
   "cell_type": "code",
   "execution_count": 23,
   "metadata": {},
   "outputs": [],
   "source": [
    "# c.close()\n",
    "# cluster.close()"
   ]
  },
  {
   "cell_type": "code",
   "execution_count": 24,
   "metadata": {},
   "outputs": [
    {
     "data": {
      "text/plain": [
       "105"
      ]
     },
     "execution_count": 24,
     "metadata": {},
     "output_type": "execute_result"
    }
   ],
   "source": [
    "# inspect coverages\n",
    "SHPS = '../data/raw/lidar/dnr_portal/dnr_portal_tiles/usfs_plots/plot_clips_epsg2927/*.shp'\n",
    "shps = glob.glob(SHPS)\n",
    "len(shps)"
   ]
  },
  {
   "cell_type": "code",
   "execution_count": 25,
   "metadata": {},
   "outputs": [
    {
     "name": "stdout",
     "output_type": "stream",
     "text": [
      "<class 'geopandas.geodataframe.GeoDataFrame'>\n",
      "RangeIndex: 105 entries, 0 to 104\n",
      "Data columns (total 12 columns):\n",
      "file_name     105 non-null object\n",
      "version       105 non-null object\n",
      "num_points    105 non-null int64\n",
      "point_type    105 non-null int64\n",
      "point_size    105 non-null int64\n",
      "min_x         105 non-null float64\n",
      "max_x         105 non-null float64\n",
      "min_y         105 non-null float64\n",
      "max_y         105 non-null float64\n",
      "min_z         105 non-null float64\n",
      "max_z         105 non-null float64\n",
      "geometry      105 non-null object\n",
      "dtypes: float64(6), int64(3), object(3)\n",
      "memory usage: 9.9+ KB\n"
     ]
    }
   ],
   "source": [
    "# read in all the shapefiles of clipped plot boundaries into a list\n",
    "gdfs = [gpd.read_file(shp) for shp in shps]\n",
    "# concatentate them into a single geodataframe\n",
    "gdf = pd.concat(gdfs, axis=0, ignore_index=True)\n",
    "gdf.info()"
   ]
  },
  {
   "cell_type": "code",
   "execution_count": 26,
   "metadata": {},
   "outputs": [
    {
     "data": {
      "text/plain": [
       "105"
      ]
     },
     "execution_count": 26,
     "metadata": {},
     "output_type": "execute_result"
    }
   ],
   "source": [
    "# inspect coverages\n",
    "HA_SHPS = '../data/raw/lidar/dnr_portal/dnr_portal_tiles/usfs_plots/hectare_clips_epsg2927/*.shp'\n",
    "ha_shps = glob.glob(HA_SHPS)\n",
    "len(ha_shps)"
   ]
  },
  {
   "cell_type": "code",
   "execution_count": 27,
   "metadata": {},
   "outputs": [
    {
     "name": "stdout",
     "output_type": "stream",
     "text": [
      "<class 'geopandas.geodataframe.GeoDataFrame'>\n",
      "RangeIndex: 105 entries, 0 to 104\n",
      "Data columns (total 12 columns):\n",
      "file_name     105 non-null object\n",
      "version       105 non-null object\n",
      "num_points    105 non-null int64\n",
      "point_type    105 non-null int64\n",
      "point_size    105 non-null int64\n",
      "min_x         105 non-null float64\n",
      "max_x         105 non-null float64\n",
      "min_y         105 non-null float64\n",
      "max_y         105 non-null float64\n",
      "min_z         105 non-null float64\n",
      "max_z         105 non-null float64\n",
      "geometry      105 non-null object\n",
      "dtypes: float64(6), int64(3), object(3)\n",
      "memory usage: 9.9+ KB\n"
     ]
    }
   ],
   "source": [
    "# read in all the shapefiles of clipped plot boundaries into a list\n",
    "ha_gdfs = [gpd.read_file(shp) for shp in ha_shps]\n",
    "# concatentate them into a single geodataframe\n",
    "ha_gdf = pd.concat(ha_gdfs, axis=0, ignore_index=True)\n",
    "ha_gdf.info()"
   ]
  },
  {
   "cell_type": "code",
   "execution_count": 28,
   "metadata": {},
   "outputs": [],
   "source": [
    "gdf['acres'] = gdf.area / 43560  # sq ft per acre\n",
    "ha_gdf['acres'] = ha_gdf.area / 43560"
   ]
  },
  {
   "cell_type": "code",
   "execution_count": 29,
   "metadata": {},
   "outputs": [
    {
     "data": {
      "image/png": "[encoded data removed]",
      "text/plain": [
       "<Figure size 432x288 with 1 Axes>"
      ]
     },
     "metadata": {
      "needs_background": "light"
     },
     "output_type": "display_data"
    }
   ],
   "source": [
    "plt.hist(gdf.acres, bins=50);"
   ]
  },
  {
   "cell_type": "code",
   "execution_count": 30,
   "metadata": {},
   "outputs": [
    {
     "data": {
      "image/png": "[encoded data removed]",
      "text/plain": [
       "<Figure size 432x288 with 1 Axes>"
      ]
     },
     "metadata": {
      "needs_background": "light"
     },
     "output_type": "display_data"
    }
   ],
   "source": [
    "plt.hist(ha_gdf.acres, bins=50);"
   ]
  }
 ],
 "metadata": {
  "kernelspec": {
   "display_name": "Python [conda env:pyFIRS] *",
   "language": "python",
   "name": "conda-env-pyFIRS-py"
  },
  "language_info": {
   "codemirror_mode": {
    "name": "ipython",
    "version": 3
   },
   "file_extension": ".py",
   "mimetype": "text/x-python",
   "name": "python",
   "nbconvert_exporter": "python",
   "pygments_lexer": "ipython3",
   "version": "3.6.7"
  }
 },
 "nbformat": 4,
 "nbformat_minor": 2
}
