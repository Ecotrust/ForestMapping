{
 "cells": [
  {
   "cell_type": "code",
   "execution_count": 1,
   "metadata": {},
   "outputs": [],
   "source": [
    "import rasterio\n",
    "from rasterio.enums import Resampling\n",
    "from rasterio import Affine as A\n",
    "import numpy as np\n",
    "import os\n",
    "import glob\n",
    "import pandas as pd\n",
    "import geopandas as gpd\n",
    "from matplotlib import pyplot as plt\n",
    "%matplotlib inline"
   ]
  },
  {
   "cell_type": "code",
   "execution_count": 2,
   "metadata": {},
   "outputs": [],
   "source": [
    "ACQ_NAME = 'klamath_2010'"
   ]
  },
  {
   "cell_type": "code",
   "execution_count": 3,
   "metadata": {},
   "outputs": [],
   "source": [
    "CLIMATE = '../data/processed/rasters_for_modeling/{}_annual_climate_{}.tif'.format(ACQ_NAME, ACQ_NAME.split('_')[-1])\n",
    "LIDARMETS = '../data/processed/rasters_for_modeling/{}_lidar_rescaled.tif'.format(ACQ_NAME)\n",
    "SOILS = '../data/processed/rasters_for_modeling/{}_soils.tif'.format(ACQ_NAME)\n",
    "POTVEG = '../data/processed/rasters_for_modeling/{}_potveg.tif'.format(ACQ_NAME)\n",
    "WATER = '../data/processed/rasters_for_modeling/{}_water.tif'.format(ACQ_NAME)\n",
    "LANDSAT = '../data/processed/rasters_for_modeling/{}_landsat.tif'.format(ACQ_NAME)"
   ]
  },
  {
   "cell_type": "code",
   "execution_count": 4,
   "metadata": {},
   "outputs": [],
   "source": [
    "# join order = climate, water, cloudmets, gridsurf, topomets, soils, landsat, potveg"
   ]
  },
  {
   "cell_type": "code",
   "execution_count": 5,
   "metadata": {},
   "outputs": [],
   "source": [
    "LIDAR_COLS = ['strat0_return-proportion', 'strat1_return-proportion', \n",
    "              'strat2_return-proportion', 'strat3_return-proportion', 'strat4_return-proportion', \n",
    "              'strat5_return-proportion', 'strat0_intensity-median', 'strat1_intensity-median', \n",
    "              'strat2_intensity-median', 'strat3_intensity-median', 'strat4_intensity-median', \n",
    "              'strat5_intensity-median', 'height_05-percentile', 'height_25-percentile', \n",
    "              'height_50-percentile', 'height_75-percentile', 'height_95_percentile', \n",
    "              'height_max', 'cover', 'potential_volume', 'stddev_height', 'surface_area_ratio', \n",
    "              'surface_volume', 'surface_volume_ratio', 'aspect', 'elevation', 'overall_curvature', \n",
    "              'plan_curvature', 'profile_curvature', 'slope', 'solar_radiation_index',\n",
    "              'num_returns', 'skewness', 'kurtosis']"
   ]
  },
  {
   "cell_type": "code",
   "execution_count": 6,
   "metadata": {},
   "outputs": [
    {
     "name": "stdout",
     "output_type": "stream",
     "text": [
      "{'driver': 'GTiff', 'dtype': 'float32', 'nodata': -9999.0, 'width': 5701, 'height': 5251, 'count': 31, 'crs': CRS.from_epsg(6339), 'transform': Affine(20.0, 0.0, 565995.0,\n",
      "       0.0, -20.0, 4770005.0)}\n"
     ]
    }
   ],
   "source": [
    "with rasterio.open(LIDARMETS) as lidar_src:\n",
    "    lidar = lidar_src.read(masked=True,\n",
    "#         out_shape=(lidar_src.count, lidar_src.height // 2, lidar_src.width //2),\n",
    "#         resampling=Resampling.average\n",
    "                          )\n",
    "    meta = lidar_src.meta\n",
    "    transform = lidar_src.transform\n",
    "    print(lidar_src.meta)\n",
    "# plt.imshow(lidar[18,:,:])\n",
    "# plt.show()"
   ]
  },
  {
   "cell_type": "code",
   "execution_count": 7,
   "metadata": {},
   "outputs": [
    {
     "name": "stdout",
     "output_type": "stream",
     "text": [
      "{'driver': 'GTiff', 'dtype': 'float32', 'nodata': -3.4028234663852886e+38, 'width': 11401, 'height': 10501, 'count': 1, 'crs': CRS.from_epsg(6339), 'transform': Affine(10.0, 0.0, 565995.0,\n",
      "       0.0, -10.0, 4770004.999999999)}\n"
     ]
    }
   ],
   "source": [
    "with rasterio.open(WATER) as water_src:\n",
    "    water = water_src.read(\n",
    "        out_shape=(water_src.count, \n",
    "                   lidar_src.height,# //2 , \n",
    "                   lidar_src.width),# //2 ),\n",
    "        resampling=Resampling.nearest,\n",
    "        masked=True)\n",
    "    print(water_src.meta)\n",
    "# plt.imshow(water[0,:,:])\n",
    "# plt.show()"
   ]
  },
  {
   "cell_type": "code",
   "execution_count": 8,
   "metadata": {},
   "outputs": [
    {
     "name": "stdout",
     "output_type": "stream",
     "text": [
      "{'driver': 'GTiff', 'dtype': 'float32', 'nodata': -9999.0, 'width': 1050, 'height': 1140, 'count': 23, 'crs': CRS.from_epsg(6339), 'transform': Affine(1000.0, 0.0, 565995.0,\n",
      "       0.0, -1000.0, 4770005.0)}\n"
     ]
    }
   ],
   "source": [
    "CLIMATE_COLS =  [\"MAT\", \"MWMT\", \"MCMT\", \"TD\", \"MAP\", \"MSP\", \"AHM\", \"SHM\", \n",
    "               \"DD_0\", \"DD5\", \"DD_18\", \"DD18\", \"NFFD\", \"bFFP\", \"eFFP\", \n",
    "               \"FFP\", \"PAS\", \"EMT\", \"EXT\", \"MAR\", \"Eref\", \"CMD\", \"RH\"]\n",
    "with rasterio.open(CLIMATE) as climate_src:\n",
    "    climate = climate_src.read(\n",
    "        out_shape=(climate_src.count, \n",
    "                   lidar_src.height,# //2 , \n",
    "                   lidar_src.width),# //2 ),\n",
    "        resampling=Resampling.nearest,\n",
    "        masked=True)\n",
    "    print(climate_src.meta)\n",
    "\n",
    "# fig, axs = plt.subplots(6,4, figsize=(10,10), sharex=True, sharey=True)\n",
    "# for i, name in enumerate(CLIMATE_COLS):\n",
    "#     axs.ravel()[i].imshow(climate[i,:,:])\n",
    "#     axs.ravel()[i].set_title(CLIMATE_COLS[i])\n",
    "    \n",
    "# fig.delaxes(axs.ravel()[-1])\n",
    "# plt.tight_layout()"
   ]
  },
  {
   "cell_type": "code",
   "execution_count": 9,
   "metadata": {},
   "outputs": [
    {
     "name": "stdout",
     "output_type": "stream",
     "text": [
      "{'driver': 'GTiff', 'dtype': 'float32', 'nodata': -9999.0, 'width': 133, 'height': 123, 'count': 10, 'crs': CRS.from_epsg(6339), 'transform': Affine(860.5525535087121, 0.0, 565995.0,\n",
      "       0.0, -860.5525535087121, 4770005.0)}\n"
     ]
    }
   ],
   "source": [
    "SOIL_README = '../data/processed/soils/readMe_metaSoils.csv'\n",
    "soil_readme = pd.read_csv(SOIL_README, index_col='band')\n",
    "\n",
    "with rasterio.open(SOILS) as soil_src:\n",
    "    soil = soil_src.read(\n",
    "        out_shape=(soil_src.count, \n",
    "                   lidar_src.height,# // 2 , \n",
    "                   lidar_src.width),# // 2),\n",
    "        resampling=Resampling.nearest,\n",
    "        masked=True)\n",
    "    print(soil_src.meta)\n",
    "\n",
    "# fig, axs = plt.subplots(2,5, figsize=(15,5))\n",
    "# for i in range(soil_src.count):\n",
    "#     axs.ravel()[i].imshow(soil[i,:,:])\n",
    "#     axs.ravel()[i].set_title(soil_readme.loc[i+1].values[0])\n",
    "# plt.tight_layout()"
   ]
  },
  {
   "cell_type": "code",
   "execution_count": 10,
   "metadata": {},
   "outputs": [
    {
     "name": "stdout",
     "output_type": "stream",
     "text": [
      "{'driver': 'GTiff', 'dtype': 'float32', 'nodata': None, 'width': 3801, 'height': 3501, 'count': 12, 'crs': CRS.from_epsg(6339), 'transform': Affine(30.0, 0.0, 565995.0,\n",
      "       0.0, -30.0, 4770005.0)}\n"
     ]
    }
   ],
   "source": [
    "README_LANDSAT = '../data/processed/landsat/readMe_metaLandsat.csv'\n",
    "readme_landsat = pd.read_csv(README_LANDSAT, index_col='band')\n",
    "\n",
    "with rasterio.open(LANDSAT) as landsat_src:\n",
    "    landsat = landsat_src.read(\n",
    "        out_shape=(landsat_src.count, \n",
    "                   lidar_src.height,# // 2 , \n",
    "                   lidar_src.width),# // 2),\n",
    "        resampling=Resampling.nearest,\n",
    "        masked=True)\n",
    "    print(landsat_src.meta)\n",
    "\n",
    "# fig, axs = plt.subplots(3,4, figsize=(20,15))\n",
    "# for i in range(landsat_src.count):\n",
    "#     axs.ravel()[i].imshow(landsat[i,:,:])\n",
    "#     axs.ravel()[i].set_title(readme_landsat.loc[i+1].values[0])\n",
    "# plt.tight_layout()"
   ]
  },
  {
   "cell_type": "code",
   "execution_count": 11,
   "metadata": {},
   "outputs": [
    {
     "name": "stdout",
     "output_type": "stream",
     "text": [
      "{'driver': 'GTiff', 'dtype': 'int16', 'nodata': None, 'width': 3798, 'height': 3499, 'count': 1, 'crs': CRS.from_epsg(6339), 'transform': Affine(30.01879412478754, 0.0, 565995.0,\n",
      "       0.0, -30.01879412478754, 4770005.0)}\n"
     ]
    }
   ],
   "source": [
    "with rasterio.open(POTVEG) as potveg_src:\n",
    "    potveg = potveg_src.read(\n",
    "        out_shape=(potveg_src.count, \n",
    "                   lidar_src.height,# // 2 , \n",
    "                   lidar_src.width),# // 2),\n",
    "        resampling=Resampling.nearest,\n",
    "        masked=True)\n",
    "    print(potveg_src.meta)\n",
    "# plt.imshow(potveg[0,:,:])\n",
    "# plt.show()"
   ]
  },
  {
   "cell_type": "code",
   "execution_count": 12,
   "metadata": {},
   "outputs": [],
   "source": [
    "# join order = climate, water, cloudmets, gridsurf, topomets, soils, landsat, potveg\n",
    "data = pd.DataFrame()\n",
    "\n",
    "for i, name in enumerate(CLIMATE_COLS):\n",
    "    if name != 'MAR':\n",
    "        data[name.lower().strip()] = climate[i,:,:].flatten()\n",
    "        data[name.lower().strip()] = data[name.lower().strip()].replace(-9999.0, np.nan)\n",
    "\n",
    "data['distance_to_water_m'] = water[0,:,:].flatten()\n",
    "data['distance_to_water_m'] = data['distance_to_water_m'].replace(-9999.0, np.nan)\n",
    "\n",
    "for i, name in enumerate(LIDAR_COLS):\n",
    "    data[name.lower().strip()] = lidar[i,:,:].flatten()\n",
    "    data[name.lower().strip()] = data[name.lower()].replace(-9999.0, np.nan)\n",
    "\n",
    "KEEP_SOILS = ['bulk_dens', 'soil_depth', 'pct_clay_surf', 'pct_rock_surf', 'pct_sand_surf']\n",
    "for i, name in enumerate(soil_readme.values.flatten()):\n",
    "    if name.strip() in KEEP_SOILS:\n",
    "        data[name.lower().strip()] = soil[i,:,:].flatten()\n",
    "        data[name.lower().strip()] = data[name.lower().strip()].replace(-9999.0, np.nan)\n",
    "        \n",
    "for i, name in enumerate(readme_landsat.values.flatten()):\n",
    "    data[name.lower().strip()] = landsat[i,:,:].flatten()\n",
    "    data[name.lower().strip()] = data[name.lower().strip()].replace(-9999.0, np.nan)\n",
    "\n",
    "data['pot_veg_type'] = potveg[0,:,:].flatten()\n",
    "data['year_diff'] = 2019 - int(ACQ_NAME.split('_')[-1])"
   ]
  },
  {
   "cell_type": "code",
   "execution_count": 13,
   "metadata": {},
   "outputs": [],
   "source": [
    "LIDAR_COLS = ['strat0_return-proportion', 'strat1_return-proportion', \n",
    "              'strat2_return-proportion', 'strat3_return-proportion', 'strat4_return-proportion', \n",
    "              'strat5_return-proportion', 'strat0_intensity-median', 'strat1_intensity-median', \n",
    "              'strat2_intensity-median', 'strat3_intensity-median', 'strat4_intensity-median', \n",
    "              'strat5_intensity-median', 'height_05-percentile', 'height_25-percentile', \n",
    "              'height_50-percentile', 'height_75-percentile', 'height_95_percentile', \n",
    "              'height_max', 'cover', 'potential_volume', 'stddev_height', 'surface_area_ratio', \n",
    "              'surface_volume', 'surface_volume_ratio', 'aspect', 'elevation', 'overall_curvature', \n",
    "              'plan_curvature', 'profile_curvature', 'slope', 'solar_radiation_index']\n",
    "LANDSAT_COLS = ['green', 'blue', 'red', 'nir', 'endvi', 'ndvi', 'savi', 'swir1',\n",
    "                'swir2', 'wetness', 'greenness', 'brightness']\n",
    "CLIMATE_COLS = ['mat','mwmt','mcmt','td','map','msp',\n",
    "                'ahm','shm','dd_0','dd5','dd_18','dd18',\n",
    "                'nffd','bffp','effp','ffp','pas','emt',\n",
    "                'ext','eref','cmd','rh']\n",
    "SOIL_COLS = ['bulk_dens', 'soil_depth', 'pct_clay_surf', 'pct_rock_surf', 'pct_sand_surf']"
   ]
  },
  {
   "cell_type": "code",
   "execution_count": 14,
   "metadata": {},
   "outputs": [],
   "source": [
    "good_data = data.dropna(subset=['elevation'] + LANDSAT_COLS + ['mat'] + SOIL_COLS + ['pot_veg_type', 'distance_to_water_m', 'year_diff'])\n",
    "\n",
    "# FILTER OUT CANOPY COVER < 10 % AND HT95 < 1.3m here... we don't need to predict forest types for pixels that don't meet these criteria\n",
    "good_data = good_data.loc[(good_data['cover'] >= 10)&(good_data['height_95_percentile'] >= 1.3)]"
   ]
  },
  {
   "cell_type": "code",
   "execution_count": 15,
   "metadata": {},
   "outputs": [],
   "source": [
    "good_data.to_csv('../data/processed/{}_features.csv'.format(ACQ_NAME))"
   ]
  }
 ],
 "metadata": {
  "kernelspec": {
   "display_name": "Python [conda env:forest_mapping]",
   "language": "python",
   "name": "conda-env-forest_mapping-py"
  },
  "language_info": {
   "codemirror_mode": {
    "name": "ipython",
    "version": 3
   },
   "file_extension": ".py",
   "mimetype": "text/x-python",
   "name": "python",
   "nbconvert_exporter": "python",
   "pygments_lexer": "ipython3",
   "version": "3.6.7"
  }
 },
 "nbformat": 4,
 "nbformat_minor": 4
}
