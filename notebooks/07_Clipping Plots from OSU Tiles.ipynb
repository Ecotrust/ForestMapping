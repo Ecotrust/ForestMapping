{
 "cells": [
  {
   "cell_type": "markdown",
   "metadata": {},
   "source": [
    "In this notebook, we will clip 1-hectare and smaller plot-sized excerpts from lidar point cloud tiles retrieved from the Oregon State University lidar server. "
   ]
  },
  {
   "cell_type": "code",
   "execution_count": 1,
   "metadata": {},
   "outputs": [],
   "source": [
    "import geopandas as gpd\n",
    "import pandas as pd\n",
    "import os\n",
    "import glob\n",
    "import subprocess\n",
    "import dask\n",
    "from dask.distributed import LocalCluster, Client, progress"
   ]
  },
  {
   "cell_type": "code",
   "execution_count": 2,
   "metadata": {},
   "outputs": [
    {
     "name": "stdout",
     "output_type": "stream",
     "text": [
      "<class 'geopandas.geodataframe.GeoDataFrame'>\n",
      "RangeIndex: 5089 entries, 0 to 5088\n",
      "Data columns (total 10 columns):\n",
      "comments     496 non-null object\n",
      "lat          5089 non-null float64\n",
      "lon          5089 non-null float64\n",
      "meas_date    3866 non-null object\n",
      "orig_id      5089 non-null object\n",
      "plot_id      3866 non-null object\n",
      "source       5089 non-null object\n",
      "meas_yr      5089 non-null int64\n",
      "uuid         5089 non-null object\n",
      "geometry     5089 non-null object\n",
      "dtypes: float64(2), int64(1), object(7)\n",
      "memory usage: 397.7+ KB\n"
     ]
    }
   ],
   "source": [
    "PLOTS = '../data/processed/blm_usfs_wadnr_plots_1ha.shp'\n",
    "plots = gpd.read_file(PLOTS)\n",
    "plots['geometry'] = plots.centroid\n",
    "plots.info()"
   ]
  },
  {
   "cell_type": "code",
   "execution_count": 3,
   "metadata": {},
   "outputs": [
    {
     "data": {
      "text/plain": [
       "{'init': 'epsg:4326'}"
      ]
     },
     "execution_count": 3,
     "metadata": {},
     "output_type": "execute_result"
    }
   ],
   "source": [
    "plots.crs"
   ]
  },
  {
   "cell_type": "code",
   "execution_count": 4,
   "metadata": {},
   "outputs": [
    {
     "name": "stdout",
     "output_type": "stream",
     "text": [
      "<class 'geopandas.geodataframe.GeoDataFrame'>\n",
      "RangeIndex: 378 entries, 0 to 377\n",
      "Data columns (total 13 columns):\n",
      "file_name     378 non-null object\n",
      "version       378 non-null object\n",
      "num_points    378 non-null int64\n",
      "point_type    378 non-null int64\n",
      "point_size    378 non-null int64\n",
      "min_x         378 non-null float64\n",
      "max_x         378 non-null float64\n",
      "min_y         378 non-null float64\n",
      "max_y         378 non-null float64\n",
      "min_z         378 non-null float64\n",
      "max_z         378 non-null float64\n",
      "acq_name      378 non-null object\n",
      "geometry      378 non-null object\n",
      "dtypes: float64(6), int64(3), object(4)\n",
      "memory usage: 38.5+ KB\n"
     ]
    }
   ],
   "source": [
    "TILE_IDX = '../data/raw/lidar/osu_tiles/osu_server_tiles_with_plots.shp'\n",
    "tile_idx = gpd.read_file(TILE_IDX)\n",
    "tile_idx.info()"
   ]
  },
  {
   "cell_type": "code",
   "execution_count": 5,
   "metadata": {},
   "outputs": [
    {
     "data": {
      "text/plain": [
       "{'init': 'epsg:4326'}"
      ]
     },
     "execution_count": 5,
     "metadata": {},
     "output_type": "execute_result"
    }
   ],
   "source": [
    "tile_idx.crs"
   ]
  },
  {
   "cell_type": "code",
   "execution_count": 6,
   "metadata": {},
   "outputs": [
    {
     "name": "stdout",
     "output_type": "stream",
     "text": [
      "<class 'geopandas.geodataframe.GeoDataFrame'>\n",
      "RangeIndex: 2 entries, 0 to 1\n",
      "Data columns (total 2 columns):\n",
      "geometry    2 non-null object\n",
      "ZONE        2 non-null object\n",
      "dtypes: object(2)\n",
      "memory usage: 112.0+ bytes\n"
     ]
    }
   ],
   "source": [
    "UTM_10 = '../data/external/utm_zone10_epsg4326.shp'\n",
    "UTM_11 = '../data/external/utm_zone11_epsg4326.shp'\n",
    "utm_10 = gpd.read_file(UTM_10)\n",
    "utm_11 = gpd.read_file(UTM_11)\n",
    "utm_zones = pd.concat((utm_10, utm_11),\n",
    "                      axis=0,\n",
    "                      ignore_index=True)[['geometry', 'ZONE']]\n",
    "utm_zones.info()"
   ]
  },
  {
   "cell_type": "code",
   "execution_count": 7,
   "metadata": {},
   "outputs": [
    {
     "data": {
      "text/plain": [
       "5089"
      ]
     },
     "execution_count": 7,
     "metadata": {},
     "output_type": "execute_result"
    }
   ],
   "source": [
    "plot_utm = gpd.sjoin(plots, utm_zones)[['uuid', 'ZONE', 'source', 'geometry']].set_index('uuid')\n",
    "plot_utm['epsg'] = plot_utm.ZONE.apply(lambda x: 6339 if (x == '10') else 6340)\n",
    "len(plot_utm)"
   ]
  },
  {
   "cell_type": "code",
   "execution_count": 8,
   "metadata": {},
   "outputs": [],
   "source": [
    "# define the utm coordinates of the centroid of each plot in that zone\n",
    "for epsg in [6339, 6340]:\n",
    "    plot_utm.loc[plot_utm.epsg == epsg, 'utm_x'] = plot_utm.loc[plot_utm.epsg == epsg].to_crs({'init': 'epsg:{}'.format(epsg)}).centroid.x\n",
    "    plot_utm.loc[plot_utm.epsg == epsg, 'utm_y'] = plot_utm.loc[plot_utm.epsg == epsg].to_crs({'init': 'epsg:{}'.format(epsg)}).centroid.y"
   ]
  },
  {
   "cell_type": "code",
   "execution_count": 9,
   "metadata": {},
   "outputs": [],
   "source": [
    "joined = gpd.sjoin(plot_utm, tile_idx[['geometry', 'file_name', 'acq_name']]).drop('index_right', axis=1)"
   ]
  },
  {
   "cell_type": "code",
   "execution_count": 10,
   "metadata": {},
   "outputs": [
    {
     "name": "stdout",
     "output_type": "stream",
     "text": [
      "<class 'geopandas.geodataframe.GeoDataFrame'>\n",
      "Index: 314 entries, b983d10e-c3ae-4e0e-90e4-e5018bb47860 to 0691746f-e133-4091-a40a-fb96a2685efb\n",
      "Data columns (total 8 columns):\n",
      "ZONE         314 non-null object\n",
      "source       314 non-null object\n",
      "geometry     314 non-null object\n",
      "epsg         314 non-null int64\n",
      "utm_x        314 non-null float64\n",
      "utm_y        314 non-null float64\n",
      "file_name    314 non-null object\n",
      "acq_name     314 non-null object\n",
      "dtypes: float64(2), int64(1), object(5)\n",
      "memory usage: 22.1+ KB\n"
     ]
    }
   ],
   "source": [
    "joined.info()"
   ]
  },
  {
   "cell_type": "code",
   "execution_count": 11,
   "metadata": {},
   "outputs": [],
   "source": [
    "# we'll need to do a groupby forest data source (USFS, BLM, DNR) \n",
    "# as well as lidar acquisition name so that each combo can be processed separately\n",
    "# we'll need to do this for both UTM 10 and 11"
   ]
  },
  {
   "cell_type": "code",
   "execution_count": 12,
   "metadata": {},
   "outputs": [],
   "source": [
    "GROUP_COLS = ['acq_name', 'source', 'uuid', 'file_name']\n",
    "matching_tiles = joined.reset_index().rename({'index':'uuid'}, axis=1).groupby(by=GROUP_COLS).sum().reset_index()[GROUP_COLS].set_index('uuid')"
   ]
  },
  {
   "cell_type": "code",
   "execution_count": 13,
   "metadata": {},
   "outputs": [],
   "source": [
    "plot_utm = plot_utm.loc[pd.unique(joined.index)]"
   ]
  },
  {
   "cell_type": "code",
   "execution_count": 23,
   "metadata": {},
   "outputs": [],
   "source": [
    "@dask.delayed\n",
    "def clip_1ha_plots(uuid):\n",
    "    source = plot_utm.loc[uuid]['source']\n",
    "    TILE_DIR = '../data/raw/lidar/osu_tiles/'\n",
    "    \n",
    "    if 'BLM' in source:\n",
    "        ODIR = '../data/interim/lidar/plot_clips/osu/blm_plots/hectare_clips/'\n",
    "    elif 'USFS' in source:\n",
    "        ODIR = '../data/interim/lidar/plot_clips/osu/usfs_plots/hectare_clips/'\n",
    "    \n",
    "    # grab the coordinates of the plot for clipping\n",
    "    x, y = plot_utm.loc[uuid][['utm_x', 'utm_y']]\n",
    "    \n",
    "    PLOT_RADIUS_M = 56.418  # radius of 1-hectare plot (185.1 ft)\n",
    "    \n",
    "    # find all matching tiles \n",
    "    all_matching_tiles = matching_tiles.loc[[uuid]]\n",
    "    # loop through each lidar acquisition to clip the plots\n",
    "    procs = []\n",
    "    for acq in pd.unique(all_matching_tiles['acq_name']):\n",
    "        out_name = uuid + '_' + acq + '.laz'\n",
    "        outfile = os.path.join(ODIR, out_name)\n",
    "        \n",
    "        tiles = all_matching_tiles.loc[all_matching_tiles['acq_name'] == acq]['file_name'].values\n",
    "        tiles = [os.path.join(TILE_DIR, acq, 'utm_laz', t) for t in tiles]\n",
    "        print(tiles)\n",
    "\n",
    "        proc = subprocess.run(['wine', '/storage/lidar/LAStools/bin/las2las.exe',\n",
    "                               '-i', *tiles, '-merged',\n",
    "                               '-o', outfile,\n",
    "                               '-keep_circle', str(x), str(y), str(PLOT_RADIUS_M)],\n",
    "                              stderr=subprocess.PIPE,\n",
    "                              stdout=subprocess.PIPE)\n",
    "        procs.append(proc)\n",
    "#         print(outfile, flush=True)\n",
    "#     print(uuid, flush=True)\n",
    "    return procs"
   ]
  },
  {
   "cell_type": "code",
   "execution_count": 24,
   "metadata": {},
   "outputs": [],
   "source": [
    "@dask.delayed\n",
    "def clip_smaller_plots(ha_clip):\n",
    "    dirname, basename = os.path.split(ha_clip)\n",
    "    outfile = os.path.abspath(os.path.join(dirname, '..', 'plot_clips', basename))\n",
    "\n",
    "    uuid = os.path.basename(ha_clip).split('_')[0]\n",
    "    \n",
    "    # grab the coordinates of the plot for clipping\n",
    "    x, y = plot_utm.loc[uuid][['utm_x', 'utm_y']]\n",
    "    \n",
    "    source = plot_utm.loc[uuid]['source']\n",
    "    if 'WA-DNR' in source:\n",
    "        # radius of 1/10th acre plot (37.2 ft)\n",
    "        PLOT_RADIUS_M = 11.35  \n",
    "    elif 'USFS' in source:\n",
    "        # radius of 1/4 acre plot (58.9 ft)\n",
    "        PLOT_RADIUS_M = 17.9454 \n",
    "    elif 'BLM' in source:\n",
    "        # radius of 1/8th acre plot (41.6 ft)\n",
    "        PLOT_RADIUS_M = 12.69  \n",
    "    \n",
    "    proc = subprocess.run(['wine', '/storage/lidar/LAStools/bin/las2las.exe',\n",
    "                           '-i', ha_clip,\n",
    "                           '-o', outfile,\n",
    "                           '-keep_circle', str(x), str(y), str(PLOT_RADIUS_M)],\n",
    "                          stderr=subprocess.PIPE,\n",
    "                          stdout=subprocess.PIPE)\n",
    "#     print(outfile, flush=True)\n",
    "    return proc"
   ]
  },
  {
   "cell_type": "code",
   "execution_count": 22,
   "metadata": {},
   "outputs": [],
   "source": [
    "cluster=LocalCluster(scheduler_port=7001, diagnostics_port=7002)\n",
    "c = Client(cluster)"
   ]
  },
  {
   "cell_type": "code",
   "execution_count": 17,
   "metadata": {},
   "outputs": [
    {
     "data": {
      "text/plain": [
       "[<Future: status: finished, type: GeoDataFrame, key: GeoDataFrame-5070d4700031bc29c0dcc93f5e897a4a>,\n",
       " <Future: status: finished, type: GeoDataFrame, key: GeoDataFrame-eb28ce3dacd7fd61ea1f0c599ae43c5d>,\n",
       " <Future: status: finished, type: DataFrame, key: DataFrame-6b89590235e6aa0112f474a808882143>]"
      ]
     },
     "execution_count": 17,
     "metadata": {},
     "output_type": "execute_result"
    }
   ],
   "source": [
    "# c.scatter([joined, plot_utm, matching_tiles])"
   ]
  },
  {
   "cell_type": "code",
   "execution_count": 25,
   "metadata": {},
   "outputs": [
    {
     "data": {
      "text/plain": [
       "313"
      ]
     },
     "execution_count": 25,
     "metadata": {},
     "output_type": "execute_result"
    }
   ],
   "source": [
    "plot_ids = pd.unique(plot_utm.index)\n",
    "len(plot_ids)"
   ]
  },
  {
   "cell_type": "code",
   "execution_count": 29,
   "metadata": {},
   "outputs": [
    {
     "data": {
      "application/vnd.jupyter.widget-view+json": {
       "model_id": "daa762a878cc4ecabdc9afd16c964b59",
       "version_major": 2,
       "version_minor": 0
      },
      "text/plain": [
       "VBox()"
      ]
     },
     "metadata": {},
     "output_type": "display_data"
    }
   ],
   "source": [
    "res = c.persist([clip_1ha_plots(i) for i in plot_ids])\n",
    "progress(res)"
   ]
  },
  {
   "cell_type": "code",
   "execution_count": 30,
   "metadata": {},
   "outputs": [
    {
     "data": {
      "application/vnd.jupyter.widget-view+json": {
       "model_id": "722d3bbbc1bd4cc391062c1838715c6f",
       "version_major": 2,
       "version_minor": 0
      },
      "text/plain": [
       "VBox()"
      ]
     },
     "metadata": {},
     "output_type": "display_data"
    }
   ],
   "source": [
    "usfs_ha = glob.glob('../data/interim/lidar/plot_clips/osu/usfs_plots/hectare_clips/*.laz') \n",
    "blm_ha = glob.glob('../data/interim/lidar/plot_clips/osu/blm_plots/hectare_clips/*.laz')\n",
    "ha_clips = usfs_ha + blm_ha\n",
    "\n",
    "res = c.persist([clip_smaller_plots(f) for f in ha_clips])\n",
    "progress(res)"
   ]
  },
  {
   "cell_type": "code",
   "execution_count": 32,
   "metadata": {},
   "outputs": [
    {
     "data": {
      "text/plain": [
       "308"
      ]
     },
     "execution_count": 32,
     "metadata": {},
     "output_type": "execute_result"
    }
   ],
   "source": [
    "usfs_plot = glob.glob('../data/interim/lidar/plot_clips/osu/usfs_plots/plot_clips/*.laz') \n",
    "blm_plot = glob.glob('../data/interim/lidar/plot_clips/osu/blm_plots/plot_clips/*.laz')\n",
    "plot_clips = usfs_plot + blm_plot\n",
    "len(plot_clips)"
   ]
  },
  {
   "cell_type": "code",
   "execution_count": 33,
   "metadata": {},
   "outputs": [],
   "source": [
    "@dask.delayed\n",
    "def get_boundary(infile, odir):\n",
    "    proc = subprocess.run(['wine', '/storage/lidar/LAStools/bin/lasboundary.exe',\n",
    "                           '-i', infile,\n",
    "                           '-odir', odir,\n",
    "                           '-oshp',\n",
    "                           '-labels'], \n",
    "                          stderr=subprocess.PIPE,\n",
    "                          stdout=subprocess.PIPE)\n",
    "#     print(outfile)\n",
    "    return proc"
   ]
  },
  {
   "cell_type": "code",
   "execution_count": 34,
   "metadata": {},
   "outputs": [],
   "source": [
    "USFS_HA = glob.glob('../data/interim/lidar/plot_clips/osu/usfs_plots/hectare_clips/*.laz')\n",
    "USFS_PLOT = glob.glob('../data/interim/lidar/plot_clips/osu/usfs_plots/plot_clips/*.laz')\n",
    "BLM_HA = glob.glob('../data/interim/lidar/plot_clips/osu/blm_plots/hectare_clips/*.laz')\n",
    "BLM_PLOT = glob.glob('../data/interim/lidar/plot_clips/osu/blm_plots/plot_clips/*.laz')\n",
    "\n",
    "jobs_to_do = []\n",
    "PLOT_SETS = [USFS_HA, USFS_PLOT, BLM_HA, BLM_PLOT]\n",
    "ODIRS = ['../data/interim/lidar/plot_clips/noaa/usfs_plots/hectare_clips/',\n",
    "         '../data/interim/lidar/plot_clips/noaa/usfs_plots/plot_clips/',\n",
    "         '../data/interim/lidar/plot_clips/noaa/blm_plots/hectare_clips/',\n",
    "         '../data/interim/lidar/plot_clips/noaa/blm_plots/plot_clips/']\n",
    "\n",
    "for plot_set, odir in zip(PLOT_SETS, ODIRS):\n",
    "    jobs_to_do += [get_boundary(p, odir=odir) for p in plot_set]"
   ]
  },
  {
   "cell_type": "code",
   "execution_count": 35,
   "metadata": {},
   "outputs": [
    {
     "data": {
      "application/vnd.jupyter.widget-view+json": {
       "model_id": "9a42fb108fe1441596da4fbb95dcb586",
       "version_major": 2,
       "version_minor": 0
      },
      "text/plain": [
       "VBox()"
      ]
     },
     "metadata": {},
     "output_type": "display_data"
    }
   ],
   "source": [
    "res = c.persist(jobs_to_do)\n",
    "progress(res)"
   ]
  },
  {
   "cell_type": "code",
   "execution_count": 20,
   "metadata": {},
   "outputs": [],
   "source": [
    "# c.cancel(res)"
   ]
  },
  {
   "cell_type": "code",
   "execution_count": 36,
   "metadata": {},
   "outputs": [],
   "source": [
    "# c.close()\n",
    "# cluster.close()"
   ]
  }
 ],
 "metadata": {
  "kernelspec": {
   "display_name": "Python [conda env:pyFIRS] *",
   "language": "python",
   "name": "conda-env-pyFIRS-py"
  },
  "language_info": {
   "codemirror_mode": {
    "name": "ipython",
    "version": 3
   },
   "file_extension": ".py",
   "mimetype": "text/x-python",
   "name": "python",
   "nbconvert_exporter": "python",
   "pygments_lexer": "ipython3",
   "version": "3.6.7"
  }
 },
 "nbformat": 4,
 "nbformat_minor": 2
}
