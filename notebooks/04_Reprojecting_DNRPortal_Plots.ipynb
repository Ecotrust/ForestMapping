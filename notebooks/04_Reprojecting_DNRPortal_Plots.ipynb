{
 "cells": [
  {
   "cell_type": "markdown",
   "metadata": {},
   "source": [
    "In this notebook, we reproject all point clouds that have been clipped to lidar plots from the Washington State Plane coordinate reference system over to UTM. The WA DNR Lidar Portal stores all its lidar point clouds in this CRS, but we will be moving everything over to UTM."
   ]
  },
  {
   "cell_type": "code",
   "execution_count": 1,
   "metadata": {},
   "outputs": [],
   "source": [
    "import geopandas as gpd\n",
    "import pandas as pd\n",
    "import os\n",
    "import glob\n",
    "import subprocess\n",
    "import dask\n",
    "from dask.distributed import Client, LocalCluster, progress"
   ]
  },
  {
   "cell_type": "code",
   "execution_count": 2,
   "metadata": {},
   "outputs": [
    {
     "name": "stdout",
     "output_type": "stream",
     "text": [
      "<class 'geopandas.geodataframe.GeoDataFrame'>\n",
      "RangeIndex: 5089 entries, 0 to 5088\n",
      "Data columns (total 10 columns):\n",
      "comments     496 non-null object\n",
      "lat          5089 non-null float64\n",
      "lon          5089 non-null float64\n",
      "meas_date    3866 non-null object\n",
      "orig_id      5089 non-null object\n",
      "plot_id      3866 non-null object\n",
      "source       5089 non-null object\n",
      "meas_yr      5089 non-null int64\n",
      "uuid         5089 non-null object\n",
      "geometry     5089 non-null object\n",
      "dtypes: float64(2), int64(1), object(7)\n",
      "memory usage: 397.7+ KB\n"
     ]
    }
   ],
   "source": [
    "PLOTS = '../data/processed/blm_usfs_wadnr_plot_footprints.shp'\n",
    "plots = gpd.read_file(PLOTS)\n",
    "plots.info()"
   ]
  },
  {
   "cell_type": "code",
   "execution_count": 3,
   "metadata": {},
   "outputs": [
    {
     "data": {
      "text/plain": [
       "{'init': 'epsg:4326'}"
      ]
     },
     "execution_count": 3,
     "metadata": {},
     "output_type": "execute_result"
    }
   ],
   "source": [
    "plots.crs"
   ]
  },
  {
   "cell_type": "code",
   "execution_count": 4,
   "metadata": {},
   "outputs": [
    {
     "name": "stdout",
     "output_type": "stream",
     "text": [
      "<class 'geopandas.geodataframe.GeoDataFrame'>\n",
      "RangeIndex: 1 entries, 0 to 0\n",
      "Data columns (total 7 columns):\n",
      "SWLON         1 non-null object\n",
      "SWLAT         1 non-null object\n",
      "HEMISPHERE    1 non-null object\n",
      "ZONE          1 non-null object\n",
      "CM            1 non-null object\n",
      "Zone_Hemi     1 non-null object\n",
      "geometry      1 non-null object\n",
      "dtypes: object(7)\n",
      "memory usage: 136.0+ bytes\n"
     ]
    }
   ],
   "source": [
    "UTM_10 = '../data/external/utm_zone10_epsg4326.shp'\n",
    "UTM_11 = '../data/external/utm_zone11_epsg4326.shp'\n",
    "utm_10 = gpd.read_file(UTM_10)\n",
    "utm_11 = gpd.read_file(UTM_11)\n",
    "utm_10.info()"
   ]
  },
  {
   "cell_type": "code",
   "execution_count": 5,
   "metadata": {},
   "outputs": [
    {
     "data": {
      "text/plain": [
       "{'init': 'epsg:4326'}"
      ]
     },
     "execution_count": 5,
     "metadata": {},
     "output_type": "execute_result"
    }
   ],
   "source": [
    "utm_10.crs"
   ]
  },
  {
   "cell_type": "code",
   "execution_count": 6,
   "metadata": {},
   "outputs": [
    {
     "data": {
      "text/html": [
       "<div>\n",
       "<style scoped>\n",
       "    .dataframe tbody tr th:only-of-type {\n",
       "        vertical-align: middle;\n",
       "    }\n",
       "\n",
       "    .dataframe tbody tr th {\n",
       "        vertical-align: top;\n",
       "    }\n",
       "\n",
       "    .dataframe thead th {\n",
       "        text-align: right;\n",
       "    }\n",
       "</style>\n",
       "<table border=\"1\" class=\"dataframe\">\n",
       "  <thead>\n",
       "    <tr style=\"text-align: right;\">\n",
       "      <th></th>\n",
       "      <th>ZONE</th>\n",
       "      <th>epsg</th>\n",
       "    </tr>\n",
       "    <tr>\n",
       "      <th>uuid</th>\n",
       "      <th></th>\n",
       "      <th></th>\n",
       "    </tr>\n",
       "  </thead>\n",
       "  <tbody>\n",
       "    <tr>\n",
       "      <th>d7c01e3a-38e0-4bc2-a69c-7d5a204e2663</th>\n",
       "      <td>10</td>\n",
       "      <td>6339</td>\n",
       "    </tr>\n",
       "    <tr>\n",
       "      <th>c16be14e-f913-4516-9c4b-078b3d71371d</th>\n",
       "      <td>10</td>\n",
       "      <td>6339</td>\n",
       "    </tr>\n",
       "    <tr>\n",
       "      <th>b4e059b8-6f08-4d33-8c3c-2b0410d2a226</th>\n",
       "      <td>10</td>\n",
       "      <td>6339</td>\n",
       "    </tr>\n",
       "    <tr>\n",
       "      <th>e3b77390-f724-4a58-ad90-0b97cb138ce8</th>\n",
       "      <td>10</td>\n",
       "      <td>6339</td>\n",
       "    </tr>\n",
       "    <tr>\n",
       "      <th>5588b367-b5dc-4b23-9af3-bcf0d6e2a571</th>\n",
       "      <td>10</td>\n",
       "      <td>6339</td>\n",
       "    </tr>\n",
       "  </tbody>\n",
       "</table>\n",
       "</div>"
      ],
      "text/plain": [
       "                                     ZONE  epsg\n",
       "uuid                                           \n",
       "d7c01e3a-38e0-4bc2-a69c-7d5a204e2663   10  6339\n",
       "c16be14e-f913-4516-9c4b-078b3d71371d   10  6339\n",
       "b4e059b8-6f08-4d33-8c3c-2b0410d2a226   10  6339\n",
       "e3b77390-f724-4a58-ad90-0b97cb138ce8   10  6339\n",
       "5588b367-b5dc-4b23-9af3-bcf0d6e2a571   10  6339"
      ]
     },
     "execution_count": 6,
     "metadata": {},
     "output_type": "execute_result"
    }
   ],
   "source": [
    "utm10_plots = gpd.sjoin(plots, utm_10)\n",
    "utm11_plots = gpd.sjoin(plots, utm_11)\n",
    "\n",
    "utm_lookup = pd.concat((utm10_plots, utm11_plots), \n",
    "                       axis=0, \n",
    "                       ignore_index=True)[['uuid', 'ZONE']].set_index('uuid')\n",
    "utm_lookup['epsg'] = utm_lookup.ZONE.apply(lambda x: 6339 if x == '10' else 6340)\n",
    "utm_lookup.head()"
   ]
  },
  {
   "cell_type": "code",
   "execution_count": 7,
   "metadata": {},
   "outputs": [
    {
     "data": {
      "text/plain": [
       "5089"
      ]
     },
     "execution_count": 7,
     "metadata": {},
     "output_type": "execute_result"
    }
   ],
   "source": [
    "len(utm_lookup)"
   ]
  },
  {
   "cell_type": "code",
   "execution_count": 8,
   "metadata": {},
   "outputs": [],
   "source": [
    "@dask.delayed\n",
    "def reproject(infile, odir):\n",
    "    basename = os.path.basename(infile)\n",
    "    outfile = os.path.join(odir, basename)\n",
    "    \n",
    "    uuid = basename.split('_')[0]\n",
    "    target_epsg = utm_lookup.loc[uuid]['epsg']\n",
    "    \n",
    "    proc = subprocess.run(['wine', '/storage/lidar/LAStools/bin/las2las.exe',\n",
    "                           '-i', infile,\n",
    "                           '-o', outfile,\n",
    "                           '-target_epsg', str(target_epsg)],\n",
    "                          stderr=subprocess.PIPE,\n",
    "                          stdout=subprocess.PIPE)\n",
    "    return proc"
   ]
  },
  {
   "cell_type": "code",
   "execution_count": 9,
   "metadata": {},
   "outputs": [],
   "source": [
    "USFS_HA = glob.glob('../data/raw/lidar/dnr_portal/dnr_portal_tiles/usfs_plots/hectare_clips_epsg2927/*.laz')\n",
    "USFS_PLOT = glob.glob('../data/raw/lidar/dnr_portal/dnr_portal_tiles/usfs_plots/plot_clips_epsg2927/*.laz')\n",
    "DNR_HA = glob.glob('../data/raw/lidar/dnr_portal/dnrplot_clips/hectare_clips_epsg2927/*.laz')\n",
    "DNR_PLOT = glob.glob('../data/raw/lidar/dnr_portal/dnrplot_clips/plot_clips_epsg2927/*.laz')"
   ]
  },
  {
   "cell_type": "code",
   "execution_count": 10,
   "metadata": {},
   "outputs": [],
   "source": [
    "cluster=LocalCluster(scheduler_port=7001, diagnostics_port=7002)\n",
    "c = Client(cluster)"
   ]
  },
  {
   "cell_type": "code",
   "execution_count": 36,
   "metadata": {},
   "outputs": [],
   "source": [
    "jobs_to_do = []\n",
    "PLOT_SETS = [USFS_HA, USFS_PLOT, DNR_HA, DNR_PLOT]\n",
    "ODIRS = ['../data/interim/lidar/plot_clips/dnr_portal/usfs_plots/hectare_clips/',\n",
    "         '../data/interim/lidar/plot_clips/dnr_portal/usfs_plots/plot_clips/',\n",
    "         '../data/interim/lidar/plot_clips/dnr_portal/dnr_plots/hectare_clips/',\n",
    "         '../data/interim/lidar/plot_clips/dnr_portal/dnr_plots/plot_clips/']\n",
    "\n",
    "for plot_set, odir in zip(PLOT_SETS, ODIRS):\n",
    "    jobs_to_do += [reproject(p, odir=odir) for p in plot_set]"
   ]
  },
  {
   "cell_type": "code",
   "execution_count": null,
   "metadata": {},
   "outputs": [],
   "source": [
    "res = c.persist(jobs_to_do)\n",
    "progress(res)"
   ]
  },
  {
   "cell_type": "code",
   "execution_count": 11,
   "metadata": {},
   "outputs": [],
   "source": [
    "@dask.delayed\n",
    "def get_boundary(infile, odir):\n",
    "    proc = subprocess.run(['wine', '/storage/lidar/LAStools/bin/lasboundary.exe',\n",
    "                           '-i', infile,\n",
    "                           '-odir', odir,\n",
    "                           '-oshp',\n",
    "                           '-labels'], \n",
    "                          stderr=subprocess.PIPE,\n",
    "                          stdout=subprocess.PIPE)\n",
    "#     print(outfile)\n",
    "    return proc"
   ]
  },
  {
   "cell_type": "code",
   "execution_count": 12,
   "metadata": {},
   "outputs": [],
   "source": [
    "USFS_HA = glob.glob('../data/interim/lidar/plot_clips/dnr_portal/usfs_plots/hectare_clips/*.laz')\n",
    "USFS_PLOT = glob.glob('../data/interim/lidar/plot_clips/dnr_portal/usfs_plots/plot_clips/*.laz')\n",
    "DNR_HA = glob.glob('../data/interim/lidar/plot_clips/dnr_portal/dnr_plots/hectare_clips/*.laz')\n",
    "DNR_PLOT = glob.glob('../data/interim/lidar/plot_clips/dnr_portal/dnr_plots/plot_clips/*.laz')\n",
    "\n",
    "jobs_to_do = []\n",
    "PLOT_SETS = [USFS_HA, USFS_PLOT, DNR_HA, DNR_PLOT]\n",
    "ODIRS = ['../data/interim/lidar/plot_clips/dnr_portal/usfs_plots/hectare_clips/',\n",
    "         '../data/interim/lidar/plot_clips/dnr_portal/usfs_plots/plot_clips/',\n",
    "         '../data/interim/lidar/plot_clips/dnr_portal/dnr_plots/hectare_clips/',\n",
    "         '../data/interim/lidar/plot_clips/dnr_portal/dnr_plots/plot_clips/']\n",
    "\n",
    "for plot_set, odir in zip(PLOT_SETS, ODIRS):\n",
    "    jobs_to_do += [get_boundary(p, odir=odir) for p in plot_set]"
   ]
  },
  {
   "cell_type": "code",
   "execution_count": 13,
   "metadata": {},
   "outputs": [
    {
     "data": {
      "application/vnd.jupyter.widget-view+json": {
       "model_id": "9314710fc1b54084b83598ba742a8530",
       "version_major": 2,
       "version_minor": 0
      },
      "text/plain": [
       "VBox()"
      ]
     },
     "metadata": {},
     "output_type": "display_data"
    }
   ],
   "source": [
    "res = c.persist(jobs_to_do)\n",
    "progress(res)"
   ]
  },
  {
   "cell_type": "code",
   "execution_count": 38,
   "metadata": {},
   "outputs": [],
   "source": [
    "# c.close()\n",
    "# cluster.close()"
   ]
  }
 ],
 "metadata": {
  "kernelspec": {
   "display_name": "Python [conda env:pyFIRS] *",
   "language": "python",
   "name": "conda-env-pyFIRS-py"
  },
  "language_info": {
   "codemirror_mode": {
    "name": "ipython",
    "version": 3
   },
   "file_extension": ".py",
   "mimetype": "text/x-python",
   "name": "python",
   "nbconvert_exporter": "python",
   "pygments_lexer": "ipython3",
   "version": "3.6.7"
  }
 },
 "nbformat": 4,
 "nbformat_minor": 2
}
