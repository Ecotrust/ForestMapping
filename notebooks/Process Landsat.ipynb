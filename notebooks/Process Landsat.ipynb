{
 "cells": [
  {
   "cell_type": "markdown",
   "metadata": {},
   "source": [
    "*Technology transfer for rapid family forest assessments and stewardship planning*"
   ]
  },
  {
   "cell_type": "markdown",
   "metadata": {},
   "source": [
    "## Compile Landsat Data and Calculate Vegetation Indicies"
   ]
  },
  {
   "cell_type": "markdown",
   "metadata": {},
   "source": [
    "This notebook facilitates the process of collecting 17 years of Landsat multispectral data (2002-2018) and calculating several vegetation indices from these images using Google Earth Engine Python API. Indices include tasseled cap brightness, greenness, and wetness, NDVI, SAVI, and ENDVI.\n",
    "Images are then exported to Google drive. "
   ]
  },
  {
   "cell_type": "code",
   "execution_count": 50,
   "metadata": {},
   "outputs": [],
   "source": [
    "import ee\n",
    "import IPython.display \n",
    "import pprint\n",
    "import bqplot\n",
    "import datetime\n",
    "import dateutil.parser\n",
    "import ipywidgets\n",
    "import numpy as np\n",
    "import pandas as pd\n",
    "import traitlets\n",
    "import ipyleaflet\n",
    "from geetools import batch\n",
    "\n",
    "# Configure the pretty printing output.\n",
    "pp = pprint.PrettyPrinter(depth=4)"
   ]
  },
  {
   "cell_type": "code",
   "execution_count": 51,
   "metadata": {},
   "outputs": [],
   "source": [
    "##Initialize connection to server\n",
    "ee.Initialize()"
   ]
  },
  {
   "cell_type": "code",
   "execution_count": 52,
   "metadata": {},
   "outputs": [],
   "source": [
    "#specify coordinates for area of interest.\n",
    "#this region covers western Oregon\n",
    "aoi = ee.Geometry.Polygon([\n",
    "                    [-123.6, 42.0], [-119.9, 41.9], [-121.1, 45.6],\n",
    "                     [-123.8, 45.9], [-123.6, 42.0]])"
   ]
  },
  {
   "cell_type": "code",
   "execution_count": 111,
   "metadata": {},
   "outputs": [
    {
     "name": "stdout",
     "output_type": "stream",
     "text": [
      "469\n"
     ]
    }
   ],
   "source": [
    "#pull in Landsat 8 collection for 2013-2018\n",
    "#filter to aoi\n",
    "l8sr = ee.ImageCollection('LANDSAT/LC08/C01/T1_SR').filter(ee.Filter.lt('CLOUD_COVER', 5))\\\n",
    "        .select(['B2', 'B3', 'B4', 'B5', 'B6', 'B7'])\\\n",
    "        .filterBounds(aoi)\n",
    "\n",
    "#print number of images in Landsat 8 collection\n",
    "pp.pprint(l8sr.size().getInfo())"
   ]
  },
  {
   "cell_type": "code",
   "execution_count": 54,
   "metadata": {},
   "outputs": [
    {
     "name": "stdout",
     "output_type": "stream",
     "text": [
      "1554\n"
     ]
    }
   ],
   "source": [
    "#pull in Landsat 7 collection for 2012\n",
    "#filter to aoi\n",
    "l7sr = ee.ImageCollection('LANDSAT/LE07/C01/T1_SR').filter(ee.Filter.lt('CLOUD_COVER', 5))\\\n",
    "        .select(['B1', 'B2', 'B3', 'B4', 'B5', 'B7'])\\\n",
    "        .filterBounds(aoi)\n",
    "\n",
    "#print number of images in Landsat 7 collection\n",
    "pp.pprint(l7sr.size().getInfo())"
   ]
  },
  {
   "cell_type": "code",
   "execution_count": 55,
   "metadata": {},
   "outputs": [
    {
     "name": "stdout",
     "output_type": "stream",
     "text": [
      "1917\n"
     ]
    }
   ],
   "source": [
    "#pull in Landsat 5 collection for 2002-2011\n",
    "#filter to aoi\n",
    "l5sr = ee.ImageCollection('LANDSAT/LT05/C01/T1_SR').filter(ee.Filter.lt('CLOUD_COVER', 5))\\\n",
    "        .select(['B1', 'B2', 'B3', 'B4', 'B5', 'B7'])\\\n",
    "        .filterBounds(aoi)\n",
    "\n",
    "#print number of images in Landsat 5 collection\n",
    "pp.pprint(l5sr.size().getInfo())"
   ]
  },
  {
   "cell_type": "code",
   "execution_count": 112,
   "metadata": {},
   "outputs": [],
   "source": [
    "#create function to rename bands to common idenifiers for Landsat 8\n",
    "def renameLand8(image):\n",
    "    bands = ['B2', 'B3', 'B4', 'B5', 'B6', 'B7',]\n",
    "    new_bands = ['blue', 'green', 'red', 'nir', 'swir1', 'swir2']\n",
    "    return image.select(bands).rename(new_bands)\n",
    "\n",
    "#map function to landsat 8 collection\n",
    "land8 = ee.ImageCollection(l8sr).map(renameLand8)"
   ]
  },
  {
   "cell_type": "code",
   "execution_count": 113,
   "metadata": {},
   "outputs": [],
   "source": [
    "#create function to rename bands to common idenifiers for Landsat 7\n",
    "def renameLand7(image):\n",
    "    bands = ['B1', 'B2', 'B3', 'B4', 'B5', 'B7']\n",
    "    new_bands = ['blue', 'green', 'red', 'nir', 'swir1', 'swir2']\n",
    "    return image.select(bands).rename(new_bands)\n",
    "\n",
    "#map function to landsat 7 collection\n",
    "land7 = ee.ImageCollection(l7sr).map(renameLand7)"
   ]
  },
  {
   "cell_type": "code",
   "execution_count": 114,
   "metadata": {},
   "outputs": [],
   "source": [
    "#function to rename bands to common idenifiers for Landsat 5\n",
    "def renameLand5(image):\n",
    "    bands = ['B1', 'B2', 'B3', 'B4', 'B5', 'B7']\n",
    "    new_bands = ['blue', 'green', 'red', 'nir', 'swir1', 'swir2']\n",
    "    return image.select(bands).rename(new_bands)\n",
    "\n",
    "#map function to landsat 5 collection\n",
    "land5 = ee.ImageCollection(l5sr).map(renameLand5)"
   ]
  },
  {
   "cell_type": "code",
   "execution_count": 115,
   "metadata": {},
   "outputs": [],
   "source": [
    "#Landsat 8\n",
    "#function to calculation tasseled cap indicies - brightness, greenness, wetness\n",
    "#add these bands to the image\n",
    "def tasseled_cap_8(image):\n",
    "    blue = image.select(\"blue\")\n",
    "    green = image.select(\"green\")\n",
    "    red = image.select(\"red\")\n",
    "    nir = image.select(\"nir\")\n",
    "    swir1 = image.select(\"swir1\")\n",
    "    swir2 = image.select(\"swir2\")\n",
    "    #calculate tasseled cap transformations\n",
    "    bright = ((blue.multiply(0.03029)).add(green.multiply(0.02786)).add(red.multiply(0.04733))\\\n",
    "                .add(nir.multiply(0.05599)).add(swir1.multiply(0.0508)).add(swir2.multiply(0.01872))).rename('brightness')\n",
    "    green = ((blue.multiply(-0.02941)).add(green.multiply(-0.00243)).add(red.multiply(-0.05424))\\\n",
    "                .add(nir.multiply(0.07276)).add(swir1.multiply(00.00713)).add(swir2.multiply(-0.01608))).rename('greenness')\n",
    "    wet = ((blue.multiply(0.01511)).add(green.multiply(0.01973)).add(red.multiply(00.03283))\\\n",
    "                .add(nir.multiply(0.03407)).add(swir1.multiply(-0.07117)).add(swir2.multiply(-0.04559))).rename('wetness')\n",
    "    \n",
    "    return image.addBands(bright).addBands(green).addBands(wet)"
   ]
  },
  {
   "cell_type": "code",
   "execution_count": 116,
   "metadata": {},
   "outputs": [],
   "source": [
    "#map tasseled cap function to landsat 8 collection\n",
    "land8_tc = ee.ImageCollection(land8).map(tasseled_cap_8)"
   ]
  },
  {
   "cell_type": "code",
   "execution_count": 117,
   "metadata": {},
   "outputs": [],
   "source": [
    "#Landsat 7\n",
    "#function to calculation tasseled cap indicies - brightness, greenness, wetness\n",
    "#add these bands to the image\n",
    "def tasseled_cap_7(image):\n",
    "    blue = image.select(\"blue\")\n",
    "    green = image.select(\"green\")\n",
    "    red = image.select(\"red\")\n",
    "    nir = image.select(\"nir\")\n",
    "    swir1 = image.select(\"swir1\")\n",
    "    swir2 = image.select(\"swir2\")\n",
    "    #calculate tasseled cap transformations\n",
    "    bright = ((blue.multiply(0.03561)).add(green.multiply(0.03972)).add(red.multiply(0.03904))\\\n",
    "                .add(nir.multiply(0.06966)).add(swir1.multiply(0.02286)).add(swir2.multiply(0.01596))).rename('brightness')\n",
    "    green = ((blue.multiply(-0.03344)).add(green.multiply(-0.03544)).add(red.multiply(-0.02630))\\\n",
    "                .add(nir.multiply(0.06966)).add(swir1.multiply(-0.00242)).add(swir2.multiply(-0.01608))).rename('greenness')\n",
    "    wet = ((blue.multiply(0.02626)).add(green.multiply(0.02141)).add(red.multiply(0.00926))\\\n",
    "                .add(nir.multiply(0.00656)).add(swir1.multiply(-00.07629)).add(swir2.multiply(-0.05388))).rename('wetness')\n",
    "\n",
    "    return image.addBands(bright).addBands(green).addBands(wet)"
   ]
  },
  {
   "cell_type": "code",
   "execution_count": 118,
   "metadata": {},
   "outputs": [],
   "source": [
    "#map tasseled cap function to landsat 7 collection\n",
    "land7_tc = ee.ImageCollection(land7).map(tasseled_cap_7)"
   ]
  },
  {
   "cell_type": "code",
   "execution_count": 119,
   "metadata": {},
   "outputs": [],
   "source": [
    "#Landsat 5\n",
    "#function to calculation tasseled cap indicies - brightness, greenness, wetness\n",
    "#add these bands to the image\n",
    "def tasseled_cap_5(image):\n",
    "    blue = image.select(\"blue\")\n",
    "    green = image.select(\"green\")\n",
    "    red = image.select(\"red\")\n",
    "    nir = image.select(\"nir\")\n",
    "    swir1 = image.select(\"swir1\")\n",
    "    swir2 = image.select(\"swir2\")\n",
    "    #calculate tasseled cap transformations\n",
    "    bright = ((blue.multiply(0.02043)).add(green.multiply(0.04158)).add(red.multiply(0.05524))\\\n",
    "                .add(nir.multiply(0.05741)).add(swir1.multiply(0.03124)).add(swir2.multiply(0.02303))).rename('brightness') \n",
    "    green = ((blue.multiply(-0.01603)).add(green.multiply(-0.02819)).add(red.multiply(-0.04934))\\\n",
    "                .add(nir.multiply(0.07940)).add(swir1.multiply(-0.00002)).add(swir2.multiply(-0.01446))).rename('greenness')            \n",
    "    wet = ((blue.multiply(0.00315)).add(green.multiply(0.02021)).add(red.multiply(0.03102))\\\n",
    "                .add(nir.multiply(0.01594)).add(swir1.multiply(-0.06806)).add(swir2.multiply(-0.06109))).rename('wetness')\n",
    " \n",
    "    return image.addBands(bright).addBands(green).addBands(wet)"
   ]
  },
  {
   "cell_type": "code",
   "execution_count": 120,
   "metadata": {},
   "outputs": [],
   "source": [
    "#map tasseled cap function to landsat 5 collection\n",
    "land5_tc = ee.ImageCollection(land5).map(tasseled_cap_5)"
   ]
  },
  {
   "cell_type": "code",
   "execution_count": 121,
   "metadata": {},
   "outputs": [
    {
     "name": "stdout",
     "output_type": "stream",
     "text": [
      "3940\n"
     ]
    }
   ],
   "source": [
    "#merge landsat 5,7,8 collections into a single collection\n",
    "land_merge = ee.ImageCollection(land5_tc.merge(land7_tc.merge(land8_tc)));\n",
    "\n",
    "#print number of images in entire landsat collection\n",
    "pp.pprint(land_merge.size().getInfo())"
   ]
  },
  {
   "cell_type": "code",
   "execution_count": 122,
   "metadata": {},
   "outputs": [],
   "source": [
    "#create a list of years, 2002 - 2018\n",
    "years = ee.List.sequence(2002, 2018)"
   ]
  },
  {
   "cell_type": "code",
   "execution_count": 123,
   "metadata": {},
   "outputs": [],
   "source": [
    "#function to create a single image for each year by taking the mean value for a given year\n",
    "def make_time_series(year):\n",
    "    eefilter = ee.Filter.calendarRange(year, field='year')\n",
    "    filtered = land_merge.filter(eefilter)\n",
    "    return filtered.mean().set('system:time_start', ee.Date.fromYMD(year, 1, 1).format('yyyy-MM-dd'))\n",
    "\n",
    "#map function to each year in the years list\n",
    "time_series = ee.ImageCollection(years.map(make_time_series))"
   ]
  },
  {
   "cell_type": "code",
   "execution_count": 124,
   "metadata": {},
   "outputs": [],
   "source": [
    "#function to add ndvi, savi, and endvi value bands to each image (year)\n",
    "def indices(image):\n",
    "    red = image.select('red')\n",
    "    nir = image.select('nir')\n",
    "    green = image.select('green')\n",
    "    blue = image.select('blue')\n",
    "    ndvi = (nir.subtract(red)).divide(nir.add(red)).rename('ndvi')\n",
    "    savi = (nir.subtract(red).divide(nir.add(red).add(.5)).multiply(1.5)).rename('savi')\n",
    "    endvi = (nir.add(green).subtract(blue.multiply(2)).divide(nir.add(green).add(blue.multiply(2)))).rename('endvi')\n",
    "    #a function to compute NDVI\n",
    "    return image.addBands(ndvi).addBands(savi).addBands(endvi)"
   ]
  },
  {
   "cell_type": "code",
   "execution_count": 125,
   "metadata": {},
   "outputs": [],
   "source": [
    "#map function to yearly time series of landsat data\n",
    "land_mets = ee.ImageCollection(time_series.map(indices))"
   ]
  },
  {
   "cell_type": "code",
   "execution_count": 126,
   "metadata": {},
   "outputs": [
    {
     "name": "stdout",
     "output_type": "stream",
     "text": [
      "17\n"
     ]
    }
   ],
   "source": [
    "#count bands in each image to see if any images are missing bands\n",
    "def count(image):\n",
    "    return image.set('count', image.bandNames().length())\n",
    "\n",
    "nullimages = ee.ImageCollection(land_mets.map(count).filter(ee.Filter.eq('count', 12)))\n",
    "\n",
    "#print number of images that have 12 bands, should equal 17 for 17 years.\n",
    "pp.pprint(nullimages.size().getInfo())"
   ]
  },
  {
   "cell_type": "code",
   "execution_count": 72,
   "metadata": {},
   "outputs": [],
   "source": [
    "#function to convert all bands to float values\n",
    "#this is because all bands must have the same data type to export\n",
    "def cast(image):\n",
    "    return image.toFloat()\n",
    "\n",
    "#map float function to image collection\n",
    "land_mets = ee.ImageCollection(land_mets.map(cast))"
   ]
  },
  {
   "cell_type": "code",
   "execution_count": 74,
   "metadata": {},
   "outputs": [],
   "source": [
    "#export each image to Google Drive as an individual image\n",
    "colList = land_mets.toList(land_mets.size())\n",
    "colSize = colList.size().getInfo()"
   ]
  },
  {
   "cell_type": "code",
   "execution_count": 100,
   "metadata": {},
   "outputs": [],
   "source": [
    "for i in range(colSize):\n",
    "    img = ee.Image(colList.get(i))\n",
    "    imgdate = ee.Date(img.get('system:time_start')).format('yyyy-MM-dd').getInfo()\n",
    "    imgname = 'img-' + imgdate\n",
    "    ee.batch.Export.image.toDrive(img, name=imgname, scale=30, region=[[-123.6, 42.0], [-119.9, 41.9], \n",
    "                              [-121.1, 45.6], [-123.8, 45.9], [-123.6, 42.0]], dataype='float', \n",
    "                                 maxPixels = 10000000000).start()"
   ]
  },
  {
   "cell_type": "code",
   "execution_count": 209,
   "metadata": {},
   "outputs": [],
   "source": [
    "#Display landsat 8 image\n",
    "#thumbnail_url = sample_image.getThumbUrl({\n",
    "#    'bands': 'wetness',\n",
    "#    'min': -1,\n",
    "#    'max': +1,\n",
    "#    'palette': ['white', 'blue'],\n",
    "#    'region': sample_image.geometry().bounds().getInfo()\n",
    "#})\n",
    "#IPython.display.HTML('Thumbnail URL: <a href={0}>{0}</a>'.format(thumbnail_url))\n",
    "#IPython.display.Image(url=thumbnail_url)"
   ]
  },
  {
   "cell_type": "code",
   "execution_count": 210,
   "metadata": {},
   "outputs": [],
   "source": [
    "#Display landsat 8 image\n",
    "#thumbnail_url = sample_image.getThumbUrl({\n",
    "#    'bands': 'savi',\n",
    "#    'min': -1,\n",
    "#    'max': 1,\n",
    "#    'palette': ['blue', 'white', 'green'],\n",
    "#    'region': sample_image.geometry().bounds().getInfo()\n",
    "#})\n",
    "#IPython.display.HTML('Thumbnail URL: <a href={0}>{0}</a>'.format(thumbnail_url))\n",
    "#IPython.display.Image(url=thumbnail_url)"
   ]
  },
  {
   "cell_type": "markdown",
   "metadata": {},
   "source": [
    "The following cells create a video of the landsat time series and export it to Google Drive."
   ]
  },
  {
   "cell_type": "code",
   "execution_count": 101,
   "metadata": {},
   "outputs": [],
   "source": [
    "def image_viz(image):\n",
    "    return image.visualize({'bands': ['blue', 'green', 'red'], \n",
    "                           'region':[[-123.6, 42.0], [-119.9, 41.9], [-121.1, 45.6], [-123.8, 45.9], [-123.6, 42.0]]})"
   ]
  },
  {
   "cell_type": "code",
   "execution_count": 102,
   "metadata": {},
   "outputs": [],
   "source": [
    "images = land_mets.map(image_viz)"
   ]
  },
  {
   "cell_type": "code",
   "execution_count": 103,
   "metadata": {},
   "outputs": [],
   "source": [
    "def convertBit(image):\n",
    "    return image.multiply(512).uint8() \n",
    "imageVideo = images.map(convertBit)"
   ]
  },
  {
   "cell_type": "code",
   "execution_count": 105,
   "metadata": {},
   "outputs": [],
   "source": [
    "ee.batch.Export.video.toDrive(imageVideo, description='image_yearly', dimensions = 720, folder = \"Landsat\",\n",
    "                                 framesPerSecond = 2, region=([-123.6, 42.0], [-119.9, 41.9], [-121.1, 45.6],\n",
    "                                                              [-123.8, 45.9], [-123.6, 42.0]), \n",
    "                                 maxFrames=10000).start()"
   ]
  }
 ],
 "metadata": {
  "kernelspec": {
   "display_name": "Environment (conda_ee_py3)",
   "language": "python",
   "name": "conda_ee_py3"
  }
 },
 "nbformat": 4,
 "nbformat_minor": 2
}
