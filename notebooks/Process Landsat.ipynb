{
 "cells": [
  {
   "cell_type": "markdown",
   "metadata": {},
   "source": [
    "*Technology transfer for rapid family forest assessments and stewardship planning*"
   ]
  },
  {
   "cell_type": "markdown",
   "metadata": {},
   "source": [
    "## Compile Landsat Data and Calculate Vegetation Indicies"
   ]
  },
  {
   "cell_type": "markdown",
   "metadata": {},
   "source": [
    "This notebook facilitates the process of collecting 17 years of Landsat multispectral data (2002-2018) and calculating several vegetation indices from these images using Google Earth Engine Python API. Indices include tasseled cap brightness, greenness, and wetness, NDVI, SAVI, and ENDVI.\n",
    "Images are then exported to Google drive. "
   ]
  },
  {
   "cell_type": "code",
   "execution_count": 40,
   "metadata": {
    "collapsed": true
   },
   "outputs": [],
   "source": [
    "import ee\n",
    "import IPython.display \n",
    "import pprint\n",
    "import datetime\n",
    "import dateutil.parser\n",
    "import ipywidgets\n",
    "import numpy as np\n",
    "import pandas as pd\n",
    "import traitlets\n",
    "import ipyleaflet\n",
    "from geetools import batch\n",
    "\n",
    "# Configure the pretty printing output.\n",
    "pp = pprint.PrettyPrinter(depth=4)"
   ]
  },
  {
   "cell_type": "code",
   "execution_count": 41,
   "metadata": {
    "collapsed": true
   },
   "outputs": [],
   "source": [
    "##Initialize connection to server\n",
    "ee.Initialize()"
   ]
  },
  {
   "cell_type": "code",
   "execution_count": 42,
   "metadata": {
    "collapsed": true
   },
   "outputs": [],
   "source": [
    "#specify coordinates for area of interest.\n",
    "#this region covers western Oregon\n",
    "aoi = ee.Geometry.Polygon([\n",
    "                    [-124.6, 41.9], [-117.0, 41.9], [-117.0, 49.0],\n",
    "                     [-124.6, 49.0], [-124.6, 41.9]])"
   ]
  },
  {
   "cell_type": "code",
   "execution_count": 43,
   "metadata": {},
   "outputs": [
    {
     "name": "stdout",
     "output_type": "stream",
     "text": [
      "1093\n"
     ]
    }
   ],
   "source": [
    "#pull in Landsat 8 collection for 2013-2018\n",
    "#filter to aoi\n",
    "l8sr = ee.ImageCollection('LANDSAT/LC08/C01/T1_SR').filter(ee.Filter.lt('CLOUD_COVER', 5))\\\n",
    "        .select(['B2', 'B3', 'B4', 'B5', 'B6', 'B7'])\\\n",
    "        .filterBounds(aoi)\n",
    "\n",
    "#print number of images in Landsat 8 collection\n",
    "pp.pprint(l8sr.size().getInfo())"
   ]
  },
  {
   "cell_type": "code",
   "execution_count": 44,
   "metadata": {},
   "outputs": [
    {
     "name": "stdout",
     "output_type": "stream",
     "text": [
      "3508\n"
     ]
    }
   ],
   "source": [
    "#pull in Landsat 7 collection for 2012\n",
    "#filter to aoi\n",
    "l7sr = ee.ImageCollection('LANDSAT/LE07/C01/T1_SR').filter(ee.Filter.lt('CLOUD_COVER', 5))\\\n",
    "        .select(['B1', 'B2', 'B3', 'B4', 'B5', 'B7'])\\\n",
    "        .filterBounds(aoi)\n",
    "\n",
    "#print number of images in Landsat 7 collection\n",
    "pp.pprint(l7sr.size().getInfo())"
   ]
  },
  {
   "cell_type": "code",
   "execution_count": 45,
   "metadata": {},
   "outputs": [
    {
     "name": "stdout",
     "output_type": "stream",
     "text": [
      "4278\n"
     ]
    }
   ],
   "source": [
    "#pull in Landsat 5 collection for 2002-2011\n",
    "#filter to aoi\n",
    "l5sr = ee.ImageCollection('LANDSAT/LT05/C01/T1_SR').filter(ee.Filter.lt('CLOUD_COVER', 5))\\\n",
    "        .select(['B1', 'B2', 'B3', 'B4', 'B5', 'B7'])\\\n",
    "        .filterBounds(aoi)\n",
    "\n",
    "#print number of images in Landsat 5 collection\n",
    "pp.pprint(l5sr.size().getInfo())"
   ]
  },
  {
   "cell_type": "code",
   "execution_count": 46,
   "metadata": {
    "collapsed": true
   },
   "outputs": [],
   "source": [
    "#create function to rename bands to common idenifiers for Landsat 8\n",
    "def renameLand8(image):\n",
    "    bands = ['B2', 'B3', 'B4', 'B5', 'B6', 'B7',]\n",
    "    new_bands = ['blue', 'green', 'red', 'nir', 'swir1', 'swir2']\n",
    "    return image.select(bands).rename(new_bands)\n",
    "\n",
    "#map function to landsat 8 collection\n",
    "land8 = ee.ImageCollection(l8sr).map(renameLand8)"
   ]
  },
  {
   "cell_type": "code",
   "execution_count": 47,
   "metadata": {
    "collapsed": true
   },
   "outputs": [],
   "source": [
    "#create function to rename bands to common idenifiers for Landsat 7\n",
    "def renameLand7(image):\n",
    "    bands = ['B1', 'B2', 'B3', 'B4', 'B5', 'B7']\n",
    "    new_bands = ['blue', 'green', 'red', 'nir', 'swir1', 'swir2']\n",
    "    return image.select(bands).rename(new_bands)\n",
    "\n",
    "#map function to landsat 7 collection\n",
    "land7 = ee.ImageCollection(l7sr).map(renameLand7)"
   ]
  },
  {
   "cell_type": "code",
   "execution_count": 48,
   "metadata": {
    "collapsed": true
   },
   "outputs": [],
   "source": [
    "#function to rename bands to common idenifiers for Landsat 5\n",
    "def renameLand5(image):\n",
    "    bands = ['B1', 'B2', 'B3', 'B4', 'B5', 'B7']\n",
    "    new_bands = ['blue', 'green', 'red', 'nir', 'swir1', 'swir2']\n",
    "    return image.select(bands).rename(new_bands)\n",
    "\n",
    "#map function to landsat 5 collection\n",
    "land5 = ee.ImageCollection(l5sr).map(renameLand5)"
   ]
  },
  {
   "cell_type": "code",
   "execution_count": 49,
   "metadata": {
    "collapsed": true
   },
   "outputs": [],
   "source": [
    "#Landsat 8\n",
    "#function to calculation tasseled cap indicies - brightness, greenness, wetness\n",
    "#add these bands to the image\n",
    "def tasseled_cap_8(image):\n",
    "    blue = image.select(\"blue\")\n",
    "    green = image.select(\"green\")\n",
    "    red = image.select(\"red\")\n",
    "    nir = image.select(\"nir\")\n",
    "    swir1 = image.select(\"swir1\")\n",
    "    swir2 = image.select(\"swir2\")\n",
    "    #calculate tasseled cap transformations\n",
    "    bright = ((blue.multiply(0.03029)).add(green.multiply(0.02786)).add(red.multiply(0.04733))\\\n",
    "                .add(nir.multiply(0.05599)).add(swir1.multiply(0.0508)).add(swir2.multiply(0.01872))).toFloat().rename('brightness')\n",
    "    green = ((blue.multiply(-0.02941)).add(green.multiply(-0.00243)).add(red.multiply(-0.05424))\\\n",
    "                .add(nir.multiply(0.07276)).add(swir1.multiply(00.00713)).add(swir2.multiply(-0.01608))).toFloat().rename('greenness')\n",
    "    wet = ((blue.multiply(0.01511)).add(green.multiply(0.01973)).add(red.multiply(00.03283))\\\n",
    "                .add(nir.multiply(0.03407)).add(swir1.multiply(-0.07117)).add(swir2.multiply(-0.04559))).toFloat().rename('wetness')\n",
    "    \n",
    "    return image.addBands(bright).addBands(green).addBands(wet)"
   ]
  },
  {
   "cell_type": "code",
   "execution_count": 50,
   "metadata": {
    "collapsed": true
   },
   "outputs": [],
   "source": [
    "#map tasseled cap function to landsat 8 collection\n",
    "land8_tc = ee.ImageCollection(land8).map(tasseled_cap_8)"
   ]
  },
  {
   "cell_type": "code",
   "execution_count": 51,
   "metadata": {
    "collapsed": true
   },
   "outputs": [],
   "source": [
    "#Landsat 7\n",
    "#function to calculation tasseled cap indicies - brightness, greenness, wetness\n",
    "#add these bands to the image\n",
    "def tasseled_cap_7(image):\n",
    "    blue = image.select(\"blue\")\n",
    "    green = image.select(\"green\")\n",
    "    red = image.select(\"red\")\n",
    "    nir = image.select(\"nir\")\n",
    "    swir1 = image.select(\"swir1\")\n",
    "    swir2 = image.select(\"swir2\")\n",
    "    #calculate tasseled cap transformations\n",
    "    bright = ((blue.multiply(0.03561)).add(green.multiply(0.03972)).add(red.multiply(0.03904))\\\n",
    "                .add(nir.multiply(0.06966)).add(swir1.multiply(0.02286)).add(swir2.multiply(0.01596))).toFloat().rename('brightness')\n",
    "    green = ((blue.multiply(-0.03344)).add(green.multiply(-0.03544)).add(red.multiply(-0.02630))\\\n",
    "                .add(nir.multiply(0.06966)).add(swir1.multiply(-0.00242)).add(swir2.multiply(-0.01608))).toFloat().rename('greenness')\n",
    "    wet = ((blue.multiply(0.02626)).add(green.multiply(0.02141)).add(red.multiply(0.00926))\\\n",
    "                .add(nir.multiply(0.00656)).add(swir1.multiply(-00.07629)).add(swir2.multiply(-0.05388))).toFloat().rename('wetness')\n",
    "\n",
    "    return image.addBands(bright).addBands(green).addBands(wet)"
   ]
  },
  {
   "cell_type": "code",
   "execution_count": 52,
   "metadata": {
    "collapsed": true
   },
   "outputs": [],
   "source": [
    "#map tasseled cap function to landsat 7 collection\n",
    "land7_tc = ee.ImageCollection(land7).map(tasseled_cap_7)"
   ]
  },
  {
   "cell_type": "code",
   "execution_count": 53,
   "metadata": {
    "collapsed": true
   },
   "outputs": [],
   "source": [
    "#Landsat 5\n",
    "#function to calculation tasseled cap indicies - brightness, greenness, wetness\n",
    "#add these bands to the image\n",
    "def tasseled_cap_5(image):\n",
    "    blue = image.select(\"blue\")\n",
    "    green = image.select(\"green\")\n",
    "    red = image.select(\"red\")\n",
    "    nir = image.select(\"nir\")\n",
    "    swir1 = image.select(\"swir1\")\n",
    "    swir2 = image.select(\"swir2\")\n",
    "    #calculate tasseled cap transformations\n",
    "    bright = ((blue.multiply(0.02043)).add(green.multiply(0.04158)).add(red.multiply(0.05524))\\\n",
    "                .add(nir.multiply(0.05741)).add(swir1.multiply(0.03124)).add(swir2.multiply(0.02303))).toFloat().rename('brightness') \n",
    "    green = ((blue.multiply(-0.01603)).add(green.multiply(-0.02819)).add(red.multiply(-0.04934))\\\n",
    "                .add(nir.multiply(0.07940)).add(swir1.multiply(-0.00002)).add(swir2.multiply(-0.01446))).toFloat().rename('greenness')            \n",
    "    wet = ((blue.multiply(0.00315)).add(green.multiply(0.02021)).add(red.multiply(0.03102))\\\n",
    "                .add(nir.multiply(0.01594)).add(swir1.multiply(-0.06806)).add(swir2.multiply(-0.06109))).toFloat().rename('wetness')\n",
    " \n",
    "    return image.addBands(bright).addBands(green).addBands(wet)"
   ]
  },
  {
   "cell_type": "code",
   "execution_count": 54,
   "metadata": {
    "collapsed": true
   },
   "outputs": [],
   "source": [
    "#map tasseled cap function to landsat 5 collection\n",
    "land5_tc = ee.ImageCollection(land5).map(tasseled_cap_5)"
   ]
  },
  {
   "cell_type": "code",
   "execution_count": 55,
   "metadata": {},
   "outputs": [
    {
     "name": "stdout",
     "output_type": "stream",
     "text": [
      "8879\n"
     ]
    }
   ],
   "source": [
    "#merge landsat 5,7,8 collections into a single collection\n",
    "land_merge = ee.ImageCollection(land5_tc.merge(land7_tc.merge(land8_tc)));\n",
    "\n",
    "#print number of images in entire landsat collection\n",
    "pp.pprint(land_merge.size().getInfo())"
   ]
  },
  {
   "cell_type": "code",
   "execution_count": 56,
   "metadata": {
    "collapsed": true
   },
   "outputs": [],
   "source": [
    "#create a list of years, 2002 - 2018\n",
    "years = ee.List.sequence(2002, 2018)"
   ]
  },
  {
   "cell_type": "code",
   "execution_count": 57,
   "metadata": {
    "collapsed": true
   },
   "outputs": [],
   "source": [
    "#function to create a single image for each year by taking the mean value for a given year\n",
    "def make_time_series(year):\n",
    "    year_filter = ee.Filter.calendarRange(year, field='year')\n",
    "    month_filter = ee.Filter.calendarRange(6,9, field='month')\n",
    "    filtered = land_merge.filter(year_filter).filter(month_filter)\n",
    "    return filtered.mean().set('system:time_start', ee.Date.fromYMD(year, 1, 1).millis())\n",
    "\n",
    "#map function to each year in the years list\n",
    "time_series = ee.ImageCollection(years.map(make_time_series))"
   ]
  },
  {
   "cell_type": "code",
   "execution_count": 58,
   "metadata": {
    "collapsed": true
   },
   "outputs": [],
   "source": [
    "#function to add ndvi, savi, and endvi value bands to each image (year)\n",
    "def indices(image):\n",
    "    red = image.select('red')\n",
    "    nir = image.select('nir')\n",
    "    green = image.select('green')\n",
    "    blue = image.select('blue')\n",
    "    ndvi = (nir.subtract(red)).divide(nir.add(red)).rename('ndvi')\n",
    "    savi = (nir.subtract(red).divide(nir.add(red).add(.5)).multiply(1.5)).rename('savi')\n",
    "    endvi = (nir.add(green).subtract(blue.multiply(2)).divide(nir.add(green).add(blue.multiply(2)))).rename('endvi')\n",
    "    #a function to compute NDVI\n",
    "    return image.addBands(ndvi).addBands(savi).addBands(endvi)"
   ]
  },
  {
   "cell_type": "code",
   "execution_count": 59,
   "metadata": {
    "collapsed": true
   },
   "outputs": [],
   "source": [
    "#map function to yearly time series of landsat data\n",
    "land_mets = ee.ImageCollection(time_series.map(indices))"
   ]
  },
  {
   "cell_type": "code",
   "execution_count": 60,
   "metadata": {},
   "outputs": [
    {
     "name": "stdout",
     "output_type": "stream",
     "text": [
      "17\n"
     ]
    }
   ],
   "source": [
    "#count bands in each image to see if any images are missing bands\n",
    "def count(image):\n",
    "    return image.set('count', image.bandNames().length())\n",
    "\n",
    "nullimages = ee.ImageCollection(land_mets.map(count).filter(ee.Filter.eq('count', 12)))\n",
    "\n",
    "#print number of images that have 12 bands, should equal 17 for 17 years.\n",
    "pp.pprint(nullimages.size().getInfo())"
   ]
  },
  {
   "cell_type": "code",
   "execution_count": 61,
   "metadata": {
    "collapsed": true
   },
   "outputs": [],
   "source": [
    "#function to convert all bands to float values\n",
    "#this is because all bands must have the same data type to export\n",
    "def cast(image):\n",
    "    return image.toFloat()\n",
    "\n",
    "#map float function to image collection\n",
    "land_mets = ee.ImageCollection(land_mets.map(cast))"
   ]
  },
  {
   "cell_type": "code",
   "execution_count": 80,
   "metadata": {},
   "outputs": [
    {
     "name": "stdout",
     "output_type": "stream",
     "text": [
      "{'bands': [{'crs': 'EPSG:4326',\n",
      "            'crs_transform': [1.0, 0.0, 0.0, 0.0, 1.0, 0.0],\n",
      "            'data_type': {'precision': 'float', 'type': 'PixelType'},\n",
      "            'id': 'blue'},\n",
      "           {'crs': 'EPSG:4326',\n",
      "            'crs_transform': [1.0, 0.0, 0.0, 0.0, 1.0, 0.0],\n",
      "            'data_type': {'precision': 'float', 'type': 'PixelType'},\n",
      "            'id': 'green'},\n",
      "           {'crs': 'EPSG:4326',\n",
      "            'crs_transform': [1.0, 0.0, 0.0, 0.0, 1.0, 0.0],\n",
      "            'data_type': {'precision': 'float', 'type': 'PixelType'},\n",
      "            'id': 'red'},\n",
      "           {'crs': 'EPSG:4326',\n",
      "            'crs_transform': [1.0, 0.0, 0.0, 0.0, 1.0, 0.0],\n",
      "            'data_type': {'precision': 'float', 'type': 'PixelType'},\n",
      "            'id': 'nir'},\n",
      "           {'crs': 'EPSG:4326',\n",
      "            'crs_transform': [1.0, 0.0, 0.0, 0.0, 1.0, 0.0],\n",
      "            'data_type': {'precision': 'float', 'type': 'PixelType'},\n",
      "            'id': 'swir1'},\n",
      "           {'crs': 'EPSG:4326',\n",
      "            'crs_transform': [1.0, 0.0, 0.0, 0.0, 1.0, 0.0],\n",
      "            'data_type': {'precision': 'float', 'type': 'PixelType'},\n",
      "            'id': 'swir2'},\n",
      "           {'crs': 'EPSG:4326',\n",
      "            'crs_transform': [1.0, 0.0, 0.0, 0.0, 1.0, 0.0],\n",
      "            'data_type': {'precision': 'float', 'type': 'PixelType'},\n",
      "            'id': 'brightness'},\n",
      "           {'crs': 'EPSG:4326',\n",
      "            'crs_transform': [1.0, 0.0, 0.0, 0.0, 1.0, 0.0],\n",
      "            'data_type': {'precision': 'float', 'type': 'PixelType'},\n",
      "            'id': 'greenness'},\n",
      "           {'crs': 'EPSG:4326',\n",
      "            'crs_transform': [1.0, 0.0, 0.0, 0.0, 1.0, 0.0],\n",
      "            'data_type': {'precision': 'float', 'type': 'PixelType'},\n",
      "            'id': 'wetness'},\n",
      "           {'crs': 'EPSG:4326',\n",
      "            'crs_transform': [1.0, 0.0, 0.0, 0.0, 1.0, 0.0],\n",
      "            'data_type': {'precision': 'float', 'type': 'PixelType'},\n",
      "            'id': 'ndvi'},\n",
      "           {'crs': 'EPSG:4326',\n",
      "            'crs_transform': [1.0, 0.0, 0.0, 0.0, 1.0, 0.0],\n",
      "            'data_type': {'precision': 'float', 'type': 'PixelType'},\n",
      "            'id': 'savi'},\n",
      "           {'crs': 'EPSG:4326',\n",
      "            'crs_transform': [1.0, 0.0, 0.0, 0.0, 1.0, 0.0],\n",
      "            'data_type': {'precision': 'float', 'type': 'PixelType'},\n",
      "            'id': 'endvi'}],\n",
      " 'properties': {'system:index': '0', 'system:time_start': 1009843200000},\n",
      " 'type': 'Image'}\n"
     ]
    }
   ],
   "source": [
    "pp.pprint(land_mets.first().getInfo())"
   ]
  },
  {
   "cell_type": "code",
   "execution_count": 62,
   "metadata": {
    "collapsed": true
   },
   "outputs": [],
   "source": [
    "#load layer with inventory plot buffers for BLM/USFS/DNR \n",
    "plots = ee.FeatureCollection('users/saraloreno/blm_usfs_wadnr_plot_footprints')"
   ]
  },
  {
   "cell_type": "code",
   "execution_count": 63,
   "metadata": {
    "collapsed": true
   },
   "outputs": [],
   "source": [
    "#add year as a date column to the feature collection\n",
    "#calculate mean for each band within the buffer area\n",
    "ft = ee.FeatureCollection(ee.List([]))\n",
    "\n",
    "def fill(img, ini):\n",
    "    inift = ee.FeatureCollection(ini)\n",
    "    ft2 = img.reduceRegions(plots, ee.Reducer.mean(), scale=30)\n",
    "    \n",
    "    date = img.date().format('YYYY-MM-DD')\n",
    "    \n",
    "    ft3 = ft2.map(lambda f : f.set(\"date\", date))\n",
    "    \n",
    "    return inift.merge(ft3)\n",
    "\n",
    "plotsMean = ee.FeatureCollection(land_mets.iterate(fill, ft))"
   ]
  },
  {
   "cell_type": "code",
   "execution_count": 71,
   "metadata": {},
   "outputs": [
    {
     "data": {
      "text/plain": [
       "{'started': 'OK'}"
      ]
     },
     "execution_count": 71,
     "metadata": {},
     "output_type": "execute_result"
    }
   ],
   "source": [
    "#export mean values to a CSV table\n",
    "task = ee.batch.Export.table.toDrive(collection=plotsMean, folder='Landsat', description='plotsMean', fileFormat='CSV')\n",
    "ee.batch.data.startProcessing(task.id, task.config)"
   ]
  },
  {
   "cell_type": "code",
   "execution_count": 64,
   "metadata": {
    "collapsed": true
   },
   "outputs": [],
   "source": [
    "#upload boundaries for each acquisition year\n",
    "area2004 = ee.FeatureCollection('users/saraloreno/2004_lidar')\n",
    "area2010 = ee.FeatureCollection('users/saraloreno/2010_lidar2')\n",
    "area2012 = ee.FeatureCollection('users/saraloreno/2012_lidar')\n",
    "area2014 = ee.FeatureCollection('users/saraloreno/2014_lidar')\n",
    "area2017 = ee.FeatureCollection('users/saraloreno/2017_lidar')"
   ]
  },
  {
   "cell_type": "code",
   "execution_count": 71,
   "metadata": {},
   "outputs": [],
   "source": [
    "#filter land_merge to year of acquistion for each lidar footprint and clip to boundaries\n",
    "land2004 = ee.ImageCollection(land_mets).filterDate('2004-1-01', '2004-12-31').mean().toFloat().clip(area2004)\n",
    "land2010 = ee.ImageCollection(land_mets).filterDate('2010-1-01', '2010-12-31').mean().toFloat().clip(area2010)\n",
    "land2012 = ee.ImageCollection(land_mets).filterDate('2012-1-01', '2012-12-31').mean().toFloat().clip(area2012)\n",
    "land2014 = ee.ImageCollection(land_mets).filterDate('2014-1-01', '2014-12-31').mean().toFloat().clip(area2014)\n",
    "land2017 = ee.ImageCollection(land_mets).filterDate('2017-1-01', '2017-12-31').mean().toFloat().clip(area2017)"
   ]
  },
  {
   "cell_type": "code",
   "execution_count": 72,
   "metadata": {
    "collapsed": true
   },
   "outputs": [],
   "source": [
    "task2012 = ee.batch.Export.image.toDrive(land2012, folder='Landsat', description='land2012', scale=30,\n",
    "                                    datatype=\"float\", maxPixels = 10000000000, region=[\n",
    "                    [-122.3, 42.27], [-121.87, 42.27], [-121.87, 42.00], [-122.3, 42.00], [-122.3, 42.27]])\n",
    "task2012.start()"
   ]
  },
  {
   "cell_type": "code",
   "execution_count": 73,
   "metadata": {
    "collapsed": true
   },
   "outputs": [],
   "source": [
    "task2010 = ee.batch.Export.image.toDrive(land2010, folder='Landsat', description='land2010', scale=30,\n",
    "                                    datatype=\"float\", maxPixels = 10000000000, region=[\n",
    "                    [-122.19, 43.07], [-120.81, 43.07], [-120.81, 42.13], [-122.19, 42.13], [-122.19, 43.07]])\n",
    "task2010.start()"
   ]
  },
  {
   "cell_type": "code",
   "execution_count": 74,
   "metadata": {
    "collapsed": true
   },
   "outputs": [],
   "source": [
    "task2014 = ee.batch.Export.image.toDrive(land2014, folder='Landsat', description='land2014', scale=30,\n",
    "                                    datatype=\"float\", maxPixels = 10000000000, region=[\n",
    "                    [-123.25, 45.71], [-121.79, 45.71], [-121.79, 45.2], [-123.25, 45.2], [-123.25, 45.71]])\n",
    "task2014.start()"
   ]
  },
  {
   "cell_type": "code",
   "execution_count": 70,
   "metadata": {
    "collapsed": true
   },
   "outputs": [],
   "source": [
    "task2004 = ee.batch.Export.image.toDrive(land2004, folder='Landsat', description='land2004', scale=30,\n",
    "                                    datatype=\"float\", maxPixels = 10000000000, region=[\n",
    "                    [-122.09, 42.76], [-120.94, 42.76], [-120.94, 42.33], [-122.09, 42.33], [-122.09, 42.76]])\n",
    "task2004.start()"
   ]
  },
  {
   "cell_type": "code",
   "execution_count": 75,
   "metadata": {
    "collapsed": true
   },
   "outputs": [],
   "source": [
    "task2017 = ee.batch.Export.image.toDrive(land2017, folder='Landsat', description='land2017', scale=30,\n",
    "                                    datatype=\"float\", maxPixels = 10000000000, region=[\n",
    "                    [-122.85, 42.20], [-122.31, 42.20], [-122.31, 42.00], [-122.85, 42.00], [-122.85, 42.20]])\n",
    "task2017.start()"
   ]
  },
  {
   "cell_type": "code",
   "execution_count": 131,
   "metadata": {
    "collapsed": true
   },
   "outputs": [],
   "source": [
    "#export each image to Google Drive as an individual image\n",
    "#colList = land_mets.toList(land_mets.size())\n",
    "#colSize = colList.size().getInfo()"
   ]
  },
  {
   "cell_type": "code",
   "execution_count": 100,
   "metadata": {
    "collapsed": true
   },
   "outputs": [],
   "source": [
    "#for i in range(colSize):\n",
    "#    img = ee.Image(colList.get(i))\n",
    "#    imgdate = ee.Date(img.get('system:time_start')).format('yyyy-MM-dd').getInfo()\n",
    "#    imgname = 'img-' + imgdate\n",
    "#    ee.batch.Export.image.toDrive(img, name=imgname, scale=30, region=[[-123.6, 42.0], [-119.9, 41.9], \n",
    "#                              [-121.1, 45.6], [-123.8, 45.9], [-123.6, 42.0]], dataype='float', \n",
    " #                                maxPixels = 10000000000).start()"
   ]
  },
  {
   "cell_type": "code",
   "execution_count": 209,
   "metadata": {
    "collapsed": true
   },
   "outputs": [],
   "source": [
    "#Display landsat 8 image\n",
    "#thumbnail_url = sample_image.getThumbUrl({\n",
    "#    'bands': 'wetness',\n",
    "#    'min': -1,\n",
    "#    'max': +1,\n",
    "#    'palette': ['white', 'blue'],\n",
    "#    'region': sample_image.geometry().bounds().getInfo()\n",
    "#})\n",
    "#IPython.display.HTML('Thumbnail URL: <a href={0}>{0}</a>'.format(thumbnail_url))\n",
    "#IPython.display.Image(url=thumbnail_url)"
   ]
  },
  {
   "cell_type": "code",
   "execution_count": 210,
   "metadata": {
    "collapsed": true
   },
   "outputs": [],
   "source": [
    "#Display landsat 8 image\n",
    "#thumbnail_url = sample_image.getThumbUrl({\n",
    "#    'bands': 'savi',\n",
    "#    'min': -1,\n",
    "#    'max': 1,\n",
    "#    'palette': ['blue', 'white', 'green'],\n",
    "#    'region': sample_image.geometry().bounds().getInfo()\n",
    "#})\n",
    "#IPython.display.HTML('Thumbnail URL: <a href={0}>{0}</a>'.format(thumbnail_url))\n",
    "#IPython.display.Image(url=thumbnail_url)"
   ]
  },
  {
   "cell_type": "markdown",
   "metadata": {},
   "source": [
    "The following cells create a video of the landsat time series and export it to Google Drive."
   ]
  },
  {
   "cell_type": "code",
   "execution_count": 101,
   "metadata": {
    "collapsed": true
   },
   "outputs": [],
   "source": [
    "#def image_viz(image):\n",
    "#    return image.visualize({'bands': ['blue', 'green', 'red'], \n",
    "#                           'region':[[-123.6, 42.0], [-119.9, 41.9], [-121.1, 45.6], [-123.8, 45.9], [-123.6, 42.0]]})"
   ]
  },
  {
   "cell_type": "code",
   "execution_count": 102,
   "metadata": {
    "collapsed": true
   },
   "outputs": [],
   "source": [
    "#images = land_mets.map(image_viz)"
   ]
  },
  {
   "cell_type": "code",
   "execution_count": 103,
   "metadata": {
    "collapsed": true
   },
   "outputs": [],
   "source": [
    "#def convertBit(image):\n",
    "#    return image.multiply(512).uint8() \n",
    "#imageVideo = images.map(convertBit)"
   ]
  },
  {
   "cell_type": "code",
   "execution_count": 105,
   "metadata": {
    "collapsed": true
   },
   "outputs": [],
   "source": [
    "#ee.batch.Export.video.toDrive(imageVideo, description='image_yearly', dimensions = 720, folder = \"Landsat\",\n",
    "#                                 framesPerSecond = 2, region=([-123.6, 42.0], [-119.9, 41.9], [-121.1, 45.6],\n",
    "#                                                              [-123.8, 45.9], [-123.6, 42.0]), \n",
    "#                                 maxFrames=10000).start()"
   ]
  }
 ],
 "metadata": {
  "kernelspec": {
   "display_name": "Environment (conda_ee_py3)",
   "language": "python",
   "name": "conda_ee_py3"
  },
  "language_info": {
   "codemirror_mode": {
    "name": "ipython",
    "version": 3
   },
   "file_extension": ".py",
   "mimetype": "text/x-python",
   "name": "python",
   "nbconvert_exporter": "python",
   "pygments_lexer": "ipython3",
   "version": "3.6.6"
  }
 },
 "nbformat": 4,
 "nbformat_minor": 2
}
