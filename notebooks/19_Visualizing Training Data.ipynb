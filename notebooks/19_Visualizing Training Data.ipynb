{
 "cells": [
  {
   "cell_type": "code",
   "execution_count": 1,
   "metadata": {},
   "outputs": [],
   "source": [
    "import numpy as np\n",
    "import pandas as pd\n",
    "import geopandas as gpd\n",
    "from matplotlib import pyplot as plt\n",
    "import seaborn as sns\n",
    "sns.set_style('darkgrid')\n",
    "%matplotlib inline"
   ]
  },
  {
   "cell_type": "code",
   "execution_count": 2,
   "metadata": {},
   "outputs": [],
   "source": [
    "PLOT_LOCS = '../data/processed/blm_usfs_wadnr_plot_footprints.shp'\n",
    "ECOREGIONS = '../data/raw/epa/us_eco_l3_state_boundaries.shp'"
   ]
  },
  {
   "cell_type": "code",
   "execution_count": 3,
   "metadata": {},
   "outputs": [],
   "source": [
    "plot_locs = gpd.read_file(PLOT_LOCS)\n",
    "plot_locs['uuid_part'] = plot_locs['uuid'].apply(lambda x: x.split('-')[0])\n",
    "plot_locs['geometry'] = plot_locs.centroid"
   ]
  },
  {
   "cell_type": "code",
   "execution_count": 6,
   "metadata": {},
   "outputs": [
    {
     "name": "stdout",
     "output_type": "stream",
     "text": [
      "<class 'geopandas.geodataframe.GeoDataFrame'>\n",
      "Int64Index: 82 entries, 15 to 1630\n",
      "Data columns (total 15 columns):\n",
      "US_L3CODE     82 non-null object\n",
      "US_L3NAME     82 non-null object\n",
      "NA_L3CODE     82 non-null object\n",
      "NA_L3NAME     82 non-null object\n",
      "NA_L2CODE     82 non-null object\n",
      "NA_L2NAME     82 non-null object\n",
      "NA_L1CODE     82 non-null object\n",
      "NA_L1NAME     82 non-null object\n",
      "STATE_NAME    82 non-null object\n",
      "EPA_REGION    82 non-null int64\n",
      "L3_KEY        82 non-null object\n",
      "L2_KEY        82 non-null object\n",
      "L1_KEY        82 non-null object\n",
      "geometry      82 non-null object\n",
      "ecoregion3    82 non-null object\n",
      "dtypes: int64(1), object(14)\n",
      "memory usage: 10.2+ KB\n"
     ]
    }
   ],
   "source": [
    "ecoreg = gpd.read_file(ECOREGIONS)\n",
    "ecoreg = ecoreg.loc[ecoreg.STATE_NAME.isin(['Washington', 'Oregon'])]\n",
    "ecoreg['ecoregion3'] = ecoreg.US_L3NAME.str.lower().str.replace(' ', '_').str.replace('/', '_')\n",
    "ecoreg.crs = {'init': 'epsg:5070'}\n",
    "ecoreg.info()"
   ]
  },
  {
   "cell_type": "code",
   "execution_count": 8,
   "metadata": {},
   "outputs": [],
   "source": [
    "LIDAR_DATA = '../data/processed/lidar_structure_training_data.csv'\n",
    "SENTINEL_DATA = '../data/processed/sentinel_structure_training_data.csv'\n",
    "\n",
    "lid_train = pd.read_csv(LIDAR_DATA)\n",
    "sat_train = pd.read_csv(SENTINEL_DATA)"
   ]
  },
  {
   "cell_type": "code",
   "execution_count": 9,
   "metadata": {},
   "outputs": [
    {
     "name": "stdout",
     "output_type": "stream",
     "text": [
      "<class 'pandas.core.frame.DataFrame'>\n",
      "RangeIndex: 3834 entries, 0 to 3833\n",
      "Columns: 107 entries, uuid to meas_yr\n",
      "dtypes: float64(100), int64(2), object(5)\n",
      "memory usage: 3.1+ MB\n"
     ]
    }
   ],
   "source": [
    "lid_train.info()"
   ]
  },
  {
   "cell_type": "code",
   "execution_count": 10,
   "metadata": {},
   "outputs": [
    {
     "data": {
      "text/plain": [
       "Index(['uuid', 'lidar_year', 'lidar_acq', 'strat0_return-proportion',\n",
       "       'strat1_return-proportion', 'strat2_return-proportion',\n",
       "       'strat3_return-proportion', 'strat4_return-proportion',\n",
       "       'strat5_return-proportion', 'height_05-percentile',\n",
       "       ...\n",
       "       'JUNIPER', 'LARCH', 'year_diff', 'lat', 'lon', 'ecoregion3', 'agency',\n",
       "       'distance_to_water_m', 'plot_size_ac', 'meas_yr'],\n",
       "      dtype='object', length=107)"
      ]
     },
     "execution_count": 10,
     "metadata": {},
     "output_type": "execute_result"
    }
   ],
   "source": [
    "lid_train.columns"
   ]
  },
  {
   "cell_type": "code",
   "execution_count": 11,
   "metadata": {},
   "outputs": [
    {
     "data": {
      "text/html": [
       "<div>\n",
       "<style scoped>\n",
       "    .dataframe tbody tr th:only-of-type {\n",
       "        vertical-align: middle;\n",
       "    }\n",
       "\n",
       "    .dataframe tbody tr th {\n",
       "        vertical-align: top;\n",
       "    }\n",
       "\n",
       "    .dataframe thead th {\n",
       "        text-align: right;\n",
       "    }\n",
       "</style>\n",
       "<table border=\"1\" class=\"dataframe\">\n",
       "  <thead>\n",
       "    <tr style=\"text-align: right;\">\n",
       "      <th></th>\n",
       "      <th>uuid</th>\n",
       "      <th>lidar_year</th>\n",
       "      <th>lidar_acq</th>\n",
       "      <th>strat0_return-proportion</th>\n",
       "      <th>strat1_return-proportion</th>\n",
       "      <th>strat2_return-proportion</th>\n",
       "      <th>strat3_return-proportion</th>\n",
       "      <th>strat4_return-proportion</th>\n",
       "      <th>strat5_return-proportion</th>\n",
       "      <th>height_05-percentile</th>\n",
       "      <th>...</th>\n",
       "      <th>JUNIPER</th>\n",
       "      <th>LARCH</th>\n",
       "      <th>year_diff</th>\n",
       "      <th>lat</th>\n",
       "      <th>lon</th>\n",
       "      <th>ecoregion3</th>\n",
       "      <th>agency</th>\n",
       "      <th>distance_to_water_m</th>\n",
       "      <th>plot_size_ac</th>\n",
       "      <th>meas_yr</th>\n",
       "    </tr>\n",
       "  </thead>\n",
       "  <tbody>\n",
       "    <tr>\n",
       "      <th>0</th>\n",
       "      <td>0080963b</td>\n",
       "      <td>2008</td>\n",
       "      <td>or-south-coast_2008</td>\n",
       "      <td>0.065025</td>\n",
       "      <td>0.070458</td>\n",
       "      <td>0.024363</td>\n",
       "      <td>0.104669</td>\n",
       "      <td>0.165620</td>\n",
       "      <td>0.502377</td>\n",
       "      <td>0.0000</td>\n",
       "      <td>...</td>\n",
       "      <td>0.0</td>\n",
       "      <td>0.0</td>\n",
       "      <td>3.0</td>\n",
       "      <td>43.028673</td>\n",
       "      <td>-123.898747</td>\n",
       "      <td>coast_range</td>\n",
       "      <td>BLM</td>\n",
       "      <td>180.194859</td>\n",
       "      <td>0.125</td>\n",
       "      <td>2011</td>\n",
       "    </tr>\n",
       "    <tr>\n",
       "      <th>1</th>\n",
       "      <td>008dc9d1</td>\n",
       "      <td>2013</td>\n",
       "      <td>tulalip_2013</td>\n",
       "      <td>0.100000</td>\n",
       "      <td>0.031409</td>\n",
       "      <td>0.001270</td>\n",
       "      <td>0.005889</td>\n",
       "      <td>0.270901</td>\n",
       "      <td>0.585797</td>\n",
       "      <td>0.0000</td>\n",
       "      <td>...</td>\n",
       "      <td>0.0</td>\n",
       "      <td>0.0</td>\n",
       "      <td>1.0</td>\n",
       "      <td>48.178724</td>\n",
       "      <td>-121.981598</td>\n",
       "      <td>north_cascades</td>\n",
       "      <td>WADNR</td>\n",
       "      <td>1237.148141</td>\n",
       "      <td>0.100</td>\n",
       "      <td>2014</td>\n",
       "    </tr>\n",
       "    <tr>\n",
       "      <th>2</th>\n",
       "      <td>008dc9d1</td>\n",
       "      <td>2016</td>\n",
       "      <td>wa-western_2016</td>\n",
       "      <td>0.094860</td>\n",
       "      <td>0.039737</td>\n",
       "      <td>0.001681</td>\n",
       "      <td>0.003923</td>\n",
       "      <td>0.284375</td>\n",
       "      <td>0.570177</td>\n",
       "      <td>0.0000</td>\n",
       "      <td>...</td>\n",
       "      <td>0.0</td>\n",
       "      <td>0.0</td>\n",
       "      <td>0.0</td>\n",
       "      <td>48.178724</td>\n",
       "      <td>-121.981598</td>\n",
       "      <td>north_cascades</td>\n",
       "      <td>WADNR</td>\n",
       "      <td>1237.148141</td>\n",
       "      <td>0.100</td>\n",
       "      <td>2014</td>\n",
       "    </tr>\n",
       "    <tr>\n",
       "      <th>3</th>\n",
       "      <td>00900e38</td>\n",
       "      <td>2008</td>\n",
       "      <td>or-south-coast_2008</td>\n",
       "      <td>0.021095</td>\n",
       "      <td>0.070268</td>\n",
       "      <td>0.015251</td>\n",
       "      <td>0.076539</td>\n",
       "      <td>0.237885</td>\n",
       "      <td>0.429019</td>\n",
       "      <td>0.7275</td>\n",
       "      <td>...</td>\n",
       "      <td>0.0</td>\n",
       "      <td>0.0</td>\n",
       "      <td>2.0</td>\n",
       "      <td>43.771495</td>\n",
       "      <td>-123.753809</td>\n",
       "      <td>coast_range</td>\n",
       "      <td>BLM</td>\n",
       "      <td>64.718200</td>\n",
       "      <td>0.125</td>\n",
       "      <td>2010</td>\n",
       "    </tr>\n",
       "    <tr>\n",
       "      <th>4</th>\n",
       "      <td>00e46fbb</td>\n",
       "      <td>2008</td>\n",
       "      <td>or-south-coast_2008</td>\n",
       "      <td>0.016287</td>\n",
       "      <td>0.015253</td>\n",
       "      <td>0.036194</td>\n",
       "      <td>0.079369</td>\n",
       "      <td>0.195450</td>\n",
       "      <td>0.639736</td>\n",
       "      <td>5.0900</td>\n",
       "      <td>...</td>\n",
       "      <td>0.0</td>\n",
       "      <td>0.0</td>\n",
       "      <td>2.0</td>\n",
       "      <td>43.770491</td>\n",
       "      <td>-123.762025</td>\n",
       "      <td>coast_range</td>\n",
       "      <td>BLM</td>\n",
       "      <td>35.985424</td>\n",
       "      <td>0.125</td>\n",
       "      <td>2010</td>\n",
       "    </tr>\n",
       "  </tbody>\n",
       "</table>\n",
       "<p>5 rows × 107 columns</p>\n",
       "</div>"
      ],
      "text/plain": [
       "       uuid  lidar_year            lidar_acq  strat0_return-proportion  \\\n",
       "0  0080963b        2008  or-south-coast_2008                  0.065025   \n",
       "1  008dc9d1        2013         tulalip_2013                  0.100000   \n",
       "2  008dc9d1        2016      wa-western_2016                  0.094860   \n",
       "3  00900e38        2008  or-south-coast_2008                  0.021095   \n",
       "4  00e46fbb        2008  or-south-coast_2008                  0.016287   \n",
       "\n",
       "   strat1_return-proportion  strat2_return-proportion  \\\n",
       "0                  0.070458                  0.024363   \n",
       "1                  0.031409                  0.001270   \n",
       "2                  0.039737                  0.001681   \n",
       "3                  0.070268                  0.015251   \n",
       "4                  0.015253                  0.036194   \n",
       "\n",
       "   strat3_return-proportion  strat4_return-proportion  \\\n",
       "0                  0.104669                  0.165620   \n",
       "1                  0.005889                  0.270901   \n",
       "2                  0.003923                  0.284375   \n",
       "3                  0.076539                  0.237885   \n",
       "4                  0.079369                  0.195450   \n",
       "\n",
       "   strat5_return-proportion  height_05-percentile  ...  JUNIPER  LARCH  \\\n",
       "0                  0.502377                0.0000  ...      0.0    0.0   \n",
       "1                  0.585797                0.0000  ...      0.0    0.0   \n",
       "2                  0.570177                0.0000  ...      0.0    0.0   \n",
       "3                  0.429019                0.7275  ...      0.0    0.0   \n",
       "4                  0.639736                5.0900  ...      0.0    0.0   \n",
       "\n",
       "   year_diff        lat         lon      ecoregion3  agency  \\\n",
       "0        3.0  43.028673 -123.898747     coast_range     BLM   \n",
       "1        1.0  48.178724 -121.981598  north_cascades   WADNR   \n",
       "2        0.0  48.178724 -121.981598  north_cascades   WADNR   \n",
       "3        2.0  43.771495 -123.753809     coast_range     BLM   \n",
       "4        2.0  43.770491 -123.762025     coast_range     BLM   \n",
       "\n",
       "   distance_to_water_m  plot_size_ac  meas_yr  \n",
       "0           180.194859         0.125     2011  \n",
       "1          1237.148141         0.100     2014  \n",
       "2          1237.148141         0.100     2014  \n",
       "3            64.718200         0.125     2010  \n",
       "4            35.985424         0.125     2010  \n",
       "\n",
       "[5 rows x 107 columns]"
      ]
     },
     "execution_count": 11,
     "metadata": {},
     "output_type": "execute_result"
    }
   ],
   "source": [
    "lid_train.head()"
   ]
  },
  {
   "cell_type": "code",
   "execution_count": 60,
   "metadata": {},
   "outputs": [
    {
     "data": {
      "text/html": [
       "<div>\n",
       "<style scoped>\n",
       "    .dataframe tbody tr th:only-of-type {\n",
       "        vertical-align: middle;\n",
       "    }\n",
       "\n",
       "    .dataframe tbody tr th {\n",
       "        vertical-align: top;\n",
       "    }\n",
       "\n",
       "    .dataframe thead th {\n",
       "        text-align: right;\n",
       "    }\n",
       "</style>\n",
       "<table border=\"1\" class=\"dataframe\">\n",
       "  <thead>\n",
       "    <tr style=\"text-align: right;\">\n",
       "      <th></th>\n",
       "      <th>2010</th>\n",
       "      <th>2011</th>\n",
       "      <th>2012</th>\n",
       "      <th>2013</th>\n",
       "      <th>2014</th>\n",
       "      <th>2015</th>\n",
       "      <th>2016</th>\n",
       "      <th>2017</th>\n",
       "      <th>2018</th>\n",
       "      <th>TOTAL</th>\n",
       "    </tr>\n",
       "  </thead>\n",
       "  <tbody>\n",
       "    <tr>\n",
       "      <th>BLUE MOUNTAINS</th>\n",
       "      <td>--</td>\n",
       "      <td>--</td>\n",
       "      <td>--</td>\n",
       "      <td>--</td>\n",
       "      <td>17</td>\n",
       "      <td>68</td>\n",
       "      <td>--</td>\n",
       "      <td>--</td>\n",
       "      <td>--</td>\n",
       "      <td>85</td>\n",
       "    </tr>\n",
       "    <tr>\n",
       "      <th>CASCADES</th>\n",
       "      <td>--</td>\n",
       "      <td>--</td>\n",
       "      <td>--</td>\n",
       "      <td>89</td>\n",
       "      <td>81</td>\n",
       "      <td>27</td>\n",
       "      <td>201</td>\n",
       "      <td>167</td>\n",
       "      <td>116</td>\n",
       "      <td>681</td>\n",
       "    </tr>\n",
       "    <tr>\n",
       "      <th>COAST RANGE</th>\n",
       "      <td>456</td>\n",
       "      <td>342</td>\n",
       "      <td>5</td>\n",
       "      <td>283</td>\n",
       "      <td>185</td>\n",
       "      <td>80</td>\n",
       "      <td>130</td>\n",
       "      <td>202</td>\n",
       "      <td>61</td>\n",
       "      <td>1744</td>\n",
       "    </tr>\n",
       "    <tr>\n",
       "      <th>EASTERN CASCADES</th>\n",
       "      <td>--</td>\n",
       "      <td>--</td>\n",
       "      <td>--</td>\n",
       "      <td>--</td>\n",
       "      <td>42</td>\n",
       "      <td>31</td>\n",
       "      <td>64</td>\n",
       "      <td>5</td>\n",
       "      <td>56</td>\n",
       "      <td>198</td>\n",
       "    </tr>\n",
       "    <tr>\n",
       "      <th>KLAMATH MOUNTAINS</th>\n",
       "      <td>31</td>\n",
       "      <td>50</td>\n",
       "      <td>--</td>\n",
       "      <td>177</td>\n",
       "      <td>--</td>\n",
       "      <td>12</td>\n",
       "      <td>30</td>\n",
       "      <td>8</td>\n",
       "      <td>--</td>\n",
       "      <td>308</td>\n",
       "    </tr>\n",
       "    <tr>\n",
       "      <th>NORTH CASCADES</th>\n",
       "      <td>--</td>\n",
       "      <td>--</td>\n",
       "      <td>--</td>\n",
       "      <td>--</td>\n",
       "      <td>13</td>\n",
       "      <td>40</td>\n",
       "      <td>228</td>\n",
       "      <td>88</td>\n",
       "      <td>50</td>\n",
       "      <td>419</td>\n",
       "    </tr>\n",
       "    <tr>\n",
       "      <th>NORTHERN ROCKIES</th>\n",
       "      <td>--</td>\n",
       "      <td>--</td>\n",
       "      <td>--</td>\n",
       "      <td>--</td>\n",
       "      <td>--</td>\n",
       "      <td>5</td>\n",
       "      <td>34</td>\n",
       "      <td>25</td>\n",
       "      <td>40</td>\n",
       "      <td>104</td>\n",
       "    </tr>\n",
       "    <tr>\n",
       "      <th>PUGET LOWLAND</th>\n",
       "      <td>--</td>\n",
       "      <td>--</td>\n",
       "      <td>--</td>\n",
       "      <td>2</td>\n",
       "      <td>11</td>\n",
       "      <td>43</td>\n",
       "      <td>44</td>\n",
       "      <td>20</td>\n",
       "      <td>7</td>\n",
       "      <td>127</td>\n",
       "    </tr>\n",
       "    <tr>\n",
       "      <th>WILLAMETTE VALLEY</th>\n",
       "      <td>--</td>\n",
       "      <td>--</td>\n",
       "      <td>--</td>\n",
       "      <td>--</td>\n",
       "      <td>--</td>\n",
       "      <td>--</td>\n",
       "      <td>1</td>\n",
       "      <td>38</td>\n",
       "      <td>6</td>\n",
       "      <td>45</td>\n",
       "    </tr>\n",
       "    <tr>\n",
       "      <th>TOTAL</th>\n",
       "      <td>487</td>\n",
       "      <td>392</td>\n",
       "      <td>5</td>\n",
       "      <td>551</td>\n",
       "      <td>349</td>\n",
       "      <td>306</td>\n",
       "      <td>732</td>\n",
       "      <td>553</td>\n",
       "      <td>336</td>\n",
       "      <td>3711</td>\n",
       "    </tr>\n",
       "  </tbody>\n",
       "</table>\n",
       "</div>"
      ],
      "text/plain": [
       "                  2010 2011 2012 2013 2014 2015 2016 2017 2018  TOTAL\n",
       "BLUE MOUNTAINS      --   --   --   --   17   68   --   --   --     85\n",
       "CASCADES            --   --   --   89   81   27  201  167  116    681\n",
       "COAST RANGE        456  342    5  283  185   80  130  202   61   1744\n",
       "EASTERN CASCADES    --   --   --   --   42   31   64    5   56    198\n",
       "KLAMATH MOUNTAINS   31   50   --  177   --   12   30    8   --    308\n",
       "NORTH CASCADES      --   --   --   --   13   40  228   88   50    419\n",
       "NORTHERN ROCKIES    --   --   --   --   --    5   34   25   40    104\n",
       "PUGET LOWLAND       --   --   --    2   11   43   44   20    7    127\n",
       "WILLAMETTE VALLEY   --   --   --   --   --   --    1   38    6     45\n",
       "TOTAL              487  392    5  551  349  306  732  553  336   3711"
      ]
     },
     "execution_count": 60,
     "metadata": {},
     "output_type": "execute_result"
    }
   ],
   "source": [
    "lid_pivot = pd.pivot_table(lid_train.groupby(by=['ecoregion3', 'year'])[['uuid', 'lidar_acq']].nunique().reset_index(), index=['ecoregion3'], columns=['year'], values=['uuid'])['uuid']\n",
    "lid_pivot.index = [' '.join(idx.split('_')[0:2]).upper() for idx in lid_pivot.index]\n",
    "lid_pivot.columns = [int(col) for col in lid_pivot.columns]\n",
    "lid_pivot = lid_pivot.drop('COLUMBIA PLATEAU')\n",
    "lid_pivot['TOTAL'] = lid_pivot.sum(axis=1).astype(int)\n",
    "lid_pivot.loc['TOTAL'] = lid_pivot.sum(axis=0).astype(int)\n",
    "lid_pivot.fillna('--')"
   ]
  },
  {
   "cell_type": "code",
   "execution_count": 64,
   "metadata": {},
   "outputs": [
    {
     "data": {
      "text/plain": [
       "3594"
      ]
     },
     "execution_count": 64,
     "metadata": {},
     "output_type": "execute_result"
    }
   ],
   "source": [
    "lid_train['uuid'].nunique()"
   ]
  },
  {
   "cell_type": "code",
   "execution_count": 67,
   "metadata": {},
   "outputs": [
    {
     "data": {
      "text/plain": [
       "ecoregion3\n",
       "blue_mountains                                           87\n",
       "cascades                                                704\n",
       "coast_range                                            1760\n",
       "columbia_plateau                                         10\n",
       "eastern_cascades_slopes_and_foothills                   415\n",
       "klamath_mountains_california_high_north_coast_range     291\n",
       "north_cascades                                          411\n",
       "northern_rockies                                        103\n",
       "puget_lowland                                           159\n",
       "willamette_valley                                        45\n",
       "Name: uuid, dtype: int64"
      ]
     },
     "execution_count": 67,
     "metadata": {},
     "output_type": "execute_result"
    }
   ],
   "source": [
    "sat_train.groupby(by=['ecoregion3'])['uuid'].nunique()"
   ]
  },
  {
   "cell_type": "code",
   "execution_count": 62,
   "metadata": {},
   "outputs": [
    {
     "data": {
      "text/plain": [
       "(10, 10)"
      ]
     },
     "execution_count": 62,
     "metadata": {},
     "output_type": "execute_result"
    }
   ],
   "source": [
    "lid_pivot.shape"
   ]
  },
  {
   "cell_type": "code",
   "execution_count": 61,
   "metadata": {},
   "outputs": [
    {
     "data": {
      "text/html": [
       "<div>\n",
       "<style scoped>\n",
       "    .dataframe tbody tr th:only-of-type {\n",
       "        vertical-align: middle;\n",
       "    }\n",
       "\n",
       "    .dataframe tbody tr th {\n",
       "        vertical-align: top;\n",
       "    }\n",
       "\n",
       "    .dataframe thead th {\n",
       "        text-align: right;\n",
       "    }\n",
       "</style>\n",
       "<table border=\"1\" class=\"dataframe\">\n",
       "  <thead>\n",
       "    <tr style=\"text-align: right;\">\n",
       "      <th></th>\n",
       "      <th>2019</th>\n",
       "      <th>2020</th>\n",
       "      <th>TOTAL</th>\n",
       "    </tr>\n",
       "  </thead>\n",
       "  <tbody>\n",
       "    <tr>\n",
       "      <th>BLUE MOUNTAINS</th>\n",
       "      <td>87</td>\n",
       "      <td>87</td>\n",
       "      <td>174</td>\n",
       "    </tr>\n",
       "    <tr>\n",
       "      <th>CASCADES</th>\n",
       "      <td>704</td>\n",
       "      <td>704</td>\n",
       "      <td>1408</td>\n",
       "    </tr>\n",
       "    <tr>\n",
       "      <th>COAST RANGE</th>\n",
       "      <td>1758</td>\n",
       "      <td>1304</td>\n",
       "      <td>3062</td>\n",
       "    </tr>\n",
       "    <tr>\n",
       "      <th>EASTERN CASCADES</th>\n",
       "      <td>413</td>\n",
       "      <td>415</td>\n",
       "      <td>828</td>\n",
       "    </tr>\n",
       "    <tr>\n",
       "      <th>KLAMATH MOUNTAINS</th>\n",
       "      <td>291</td>\n",
       "      <td>260</td>\n",
       "      <td>551</td>\n",
       "    </tr>\n",
       "    <tr>\n",
       "      <th>NORTH CASCADES</th>\n",
       "      <td>411</td>\n",
       "      <td>411</td>\n",
       "      <td>822</td>\n",
       "    </tr>\n",
       "    <tr>\n",
       "      <th>NORTHERN ROCKIES</th>\n",
       "      <td>102</td>\n",
       "      <td>103</td>\n",
       "      <td>205</td>\n",
       "    </tr>\n",
       "    <tr>\n",
       "      <th>PUGET LOWLAND</th>\n",
       "      <td>158</td>\n",
       "      <td>159</td>\n",
       "      <td>317</td>\n",
       "    </tr>\n",
       "    <tr>\n",
       "      <th>WILLAMETTE VALLEY</th>\n",
       "      <td>45</td>\n",
       "      <td>45</td>\n",
       "      <td>90</td>\n",
       "    </tr>\n",
       "    <tr>\n",
       "      <th>TOTAL</th>\n",
       "      <td>3969</td>\n",
       "      <td>3488</td>\n",
       "      <td>7457</td>\n",
       "    </tr>\n",
       "  </tbody>\n",
       "</table>\n",
       "</div>"
      ],
      "text/plain": [
       "                   2019  2020  TOTAL\n",
       "BLUE MOUNTAINS       87    87    174\n",
       "CASCADES            704   704   1408\n",
       "COAST RANGE        1758  1304   3062\n",
       "EASTERN CASCADES    413   415    828\n",
       "KLAMATH MOUNTAINS   291   260    551\n",
       "NORTH CASCADES      411   411    822\n",
       "NORTHERN ROCKIES    102   103    205\n",
       "PUGET LOWLAND       158   159    317\n",
       "WILLAMETTE VALLEY    45    45     90\n",
       "TOTAL              3969  3488   7457"
      ]
     },
     "execution_count": 61,
     "metadata": {},
     "output_type": "execute_result"
    }
   ],
   "source": [
    "sat_pivot = pd.pivot_table(sat_train.groupby(by=['ecoregion3', 'year'])[['uuid']].nunique().reset_index(), index=['ecoregion3'], columns=['year'], values=['uuid'])['uuid']\n",
    "sat_pivot.index = [' '.join(idx.split('_')[0:2]).upper() for idx in sat_pivot.index]\n",
    "sat_pivot.columns = [int(col) for col in sat_pivot.columns]\n",
    "sat_pivot = sat_pivot.drop('COLUMBIA PLATEAU')\n",
    "sat_pivot['TOTAL'] = sat_pivot.sum(axis=1).astype(int)\n",
    "sat_pivot.loc['TOTAL'] = sat_pivot.sum(axis=0).astype(int)\n",
    "sat_pivot.fillna('--')"
   ]
  },
  {
   "cell_type": "code",
   "execution_count": 29,
   "metadata": {},
   "outputs": [
    {
     "data": {
      "text/plain": [
       "(3594, 3985)"
      ]
     },
     "execution_count": 29,
     "metadata": {},
     "output_type": "execute_result"
    }
   ],
   "source": [
    "len(pd.unique(lid_train.uuid)), len(pd.unique(sat_train.uuid))"
   ]
  },
  {
   "cell_type": "code",
   "execution_count": 34,
   "metadata": {},
   "outputs": [
    {
     "data": {
      "text/plain": [
       "17"
      ]
     },
     "execution_count": 34,
     "metadata": {},
     "output_type": "execute_result"
    }
   ],
   "source": [
    "USE_LIDAR_COLS = ['strat0_return-proportion', 'strat1_return-proportion', \n",
    "                  'strat2_return-proportion', 'strat3_return-proportion', \n",
    "                  'strat4_return-proportion', 'strat5_return-proportion', \n",
    "                  'height_05-percentile',  'height_25-percentile', \n",
    "                  'height_50-percentile', 'height_75-percentile',\n",
    "                  'height_95_percentile', 'cover', \n",
    "                  'potential_volume', 'stddev_height', \n",
    "                  'surface_volume', 'kurtosis', 'skewness']\n",
    "LIDAR_X_COLS = USE_LIDAR_COLS + ['elevation', 'lat', 'lon']\n",
    "len(LIDAR_X_COLS) - 3"
   ]
  },
  {
   "cell_type": "code",
   "execution_count": 31,
   "metadata": {},
   "outputs": [],
   "source": [
    "SAT_COLS = ['S2_R_LEAFOFF', 'S2_G_LEAFOFF', 'S2_B_LEAFOFF', 'S2_NIR_LEAFOFF', 'S2_SWIR1_LEAFOFF',\n",
    "            'S2_SWIR2_LEAFOFF', 'S2_RE1_LEAFOFF', 'S2_RE2_LEAFOFF', 'S2_RE3_LEAFOFF', \n",
    "            'S2_R_LEAFON', 'S2_G_LEAFON', 'S2_B_LEAFON', 'S2_NIR_LEAFON', 'S2_SWIR1_LEAFON',\n",
    "            'S2_SWIR2_LEAFON', 'S2_RE1_LEAFON', 'S2_RE2_LEAFON', 'S2_RE3_LEAFON', 'S2_RE4_LEAFON',\n",
    "            'S2_NDVI_LEAFON', 'S2_SAVI_LEAFON', 'S2_BRIGHTNESS_LEAFON', 'S2_GREENNESS_LEAFON',\n",
    "            'S2_WETNESS_LEAFON', 'S2_NDVI_LEAFOFF', 'S2_SAVI_LEAFOFF', 'S2_BRIGHTNESS_LEAFOFF',\n",
    "            'S2_GREENNESS_LEAFOFF', 'S2_WETNESS_LEAFOFF', 'S2_dR', 'S2_dG', 'S2_dB', 'S2_dNIR',\n",
    "            'S2_dSWIR1', 'S2_dSWIR2', 'S2_dRE1', 'S2_dRE2', 'S2_dNDVI', 'S2_dSAVI', 'S2_dBRIGHTNESS',\n",
    "            'S2_dGREENNESS', 'S2_dWETNESS', 'S2_dRE3', 'S2_dRE4', \n",
    "            'LT_DUR_NBR', 'LT_DUR_SWIR1', 'LT_MAG_NBR', 'LT_MAG_SWIR1', 'LT_RATE_NBR', 'LT_RATE_SWIR1',\n",
    "            'LT_YSD_NBR', 'LT_YSD_SWIR1', \n",
    "            'elevation', 'lat', 'lon']"
   ]
  },
  {
   "cell_type": "code",
   "execution_count": 33,
   "metadata": {},
   "outputs": [
    {
     "data": {
      "text/plain": [
       "52"
      ]
     },
     "execution_count": 33,
     "metadata": {},
     "output_type": "execute_result"
    }
   ],
   "source": [
    "len(SAT_COLS) - 3"
   ]
  }
 ],
 "metadata": {
  "kernelspec": {
   "display_name": "Python [conda env:forest_mapping]",
   "language": "python",
   "name": "conda-env-forest_mapping-py"
  },
  "language_info": {
   "codemirror_mode": {
    "name": "ipython",
    "version": 3
   },
   "file_extension": ".py",
   "mimetype": "text/x-python",
   "name": "python",
   "nbconvert_exporter": "python",
   "pygments_lexer": "ipython3",
   "version": "3.6.7"
  }
 },
 "nbformat": 4,
 "nbformat_minor": 4
}
