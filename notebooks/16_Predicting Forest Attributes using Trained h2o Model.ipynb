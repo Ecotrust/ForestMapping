{
 "cells": [
  {
   "cell_type": "code",
   "execution_count": 33,
   "metadata": {},
   "outputs": [],
   "source": [
    "## Load h2o and do some predictions!"
   ]
  },
  {
   "cell_type": "code",
   "execution_count": 34,
   "metadata": {},
   "outputs": [],
   "source": [
    "import pandas as pd\n",
    "import numpy as np\n",
    "import rasterio\n",
    "import h2o\n",
    "from h2o.estimators.gbm import H2OGradientBoostingEstimator\n",
    "from matplotlib import pyplot as plt\n",
    "%matplotlib inline"
   ]
  },
  {
   "cell_type": "code",
   "execution_count": 35,
   "metadata": {},
   "outputs": [
    {
     "name": "stdout",
     "output_type": "stream",
     "text": [
      "Checking whether there is an H2O instance running at http://localhost:54321 ..... not found.\n",
      "Attempting to start a local H2O server...\n",
      "  Java Version: java version \"1.8.0_45\"; Java(TM) SE Runtime Environment (build 1.8.0_45-b14); Java HotSpot(TM) 64-Bit Server VM (build 25.45-b02, mixed mode)\n",
      "  Starting server from /storage/anaconda3/envs/forest_mapping/lib/python3.6/site-packages/h2o/backend/bin/h2o.jar\n",
      "  Ice root: /tmp/tmpte8h1fe6\n",
      "  JVM stdout: /tmp/tmpte8h1fe6/h2o_ubuntu_started_from_python.out\n",
      "  JVM stderr: /tmp/tmpte8h1fe6/h2o_ubuntu_started_from_python.err\n",
      "  Server is running at http://127.0.0.1:54321\n",
      "Connecting to H2O server at http://127.0.0.1:54321 ... successful.\n"
     ]
    },
    {
     "data": {
      "text/html": [
       "<div style=\"overflow:auto\"><table style=\"width:50%\"><tr><td>H2O cluster uptime:</td>\n",
       "<td>01 secs</td></tr>\n",
       "<tr><td>H2O cluster timezone:</td>\n",
       "<td>America/Los_Angeles</td></tr>\n",
       "<tr><td>H2O data parsing timezone:</td>\n",
       "<td>UTC</td></tr>\n",
       "<tr><td>H2O cluster version:</td>\n",
       "<td>3.24.0.5</td></tr>\n",
       "<tr><td>H2O cluster version age:</td>\n",
       "<td>14 days, 13 hours and 10 minutes </td></tr>\n",
       "<tr><td>H2O cluster name:</td>\n",
       "<td>H2O_from_python_ubuntu_buxnxj</td></tr>\n",
       "<tr><td>H2O cluster total nodes:</td>\n",
       "<td>1</td></tr>\n",
       "<tr><td>H2O cluster free memory:</td>\n",
       "<td>13.98 Gb</td></tr>\n",
       "<tr><td>H2O cluster total cores:</td>\n",
       "<td>32</td></tr>\n",
       "<tr><td>H2O cluster allowed cores:</td>\n",
       "<td>32</td></tr>\n",
       "<tr><td>H2O cluster status:</td>\n",
       "<td>accepting new members, healthy</td></tr>\n",
       "<tr><td>H2O connection url:</td>\n",
       "<td>http://127.0.0.1:54321</td></tr>\n",
       "<tr><td>H2O connection proxy:</td>\n",
       "<td>None</td></tr>\n",
       "<tr><td>H2O internal security:</td>\n",
       "<td>False</td></tr>\n",
       "<tr><td>H2O API Extensions:</td>\n",
       "<td>Amazon S3, XGBoost, Algos, AutoML, Core V3, Core V4</td></tr>\n",
       "<tr><td>Python version:</td>\n",
       "<td>3.6.7 final</td></tr></table></div>"
      ],
      "text/plain": [
       "--------------------------  ---------------------------------------------------\n",
       "H2O cluster uptime:         01 secs\n",
       "H2O cluster timezone:       America/Los_Angeles\n",
       "H2O data parsing timezone:  UTC\n",
       "H2O cluster version:        3.24.0.5\n",
       "H2O cluster version age:    14 days, 13 hours and 10 minutes\n",
       "H2O cluster name:           H2O_from_python_ubuntu_buxnxj\n",
       "H2O cluster total nodes:    1\n",
       "H2O cluster free memory:    13.98 Gb\n",
       "H2O cluster total cores:    32\n",
       "H2O cluster allowed cores:  32\n",
       "H2O cluster status:         accepting new members, healthy\n",
       "H2O connection url:         http://127.0.0.1:54321\n",
       "H2O connection proxy:\n",
       "H2O internal security:      False\n",
       "H2O API Extensions:         Amazon S3, XGBoost, Algos, AutoML, Core V3, Core V4\n",
       "Python version:             3.6.7 final\n",
       "--------------------------  ---------------------------------------------------"
      ]
     },
     "metadata": {},
     "output_type": "display_data"
    }
   ],
   "source": [
    "h2o.init()"
   ]
  },
  {
   "cell_type": "code",
   "execution_count": 36,
   "metadata": {},
   "outputs": [
    {
     "name": "stdout",
     "output_type": "stream",
     "text": [
      "Parse progress: |█████████████████████████████████████████████████████████| 100%\n"
     ]
    }
   ],
   "source": [
    "ACQ_NAME = 'portland-metro_2014'\n",
    "DATA_FILE = '../data/processed/{}_features.csv'.format(ACQ_NAME)\n",
    "hf = h2o.import_file(DATA_FILE)"
   ]
  },
  {
   "cell_type": "code",
   "execution_count": 37,
   "metadata": {},
   "outputs": [
    {
     "name": "stdout",
     "output_type": "stream",
     "text": [
      "Rows:5406666\n",
      "Cols:74\n",
      "\n",
      "\n"
     ]
    },
    {
     "data": {
      "text/html": [
       "<table>\n",
       "<thead>\n",
       "<tr><th>       </th><th>C1                </th><th>mat              </th><th>mwmt              </th><th>mcmt             </th><th>td                </th><th>map               </th><th>msp               </th><th>ahm               </th><th>shm              </th><th>dd_0             </th><th>dd5               </th><th>dd_18            </th><th>dd18              </th><th>nffd              </th><th>bffp              </th><th>effp              </th><th>ffp              </th><th>pas               </th><th>emt               </th><th>ext              </th><th>eref              </th><th>cmd               </th><th>rh               </th><th>distance_to_water_m  </th><th>strat0_return-proportion  </th><th>strat1_return-proportion  </th><th>strat2_return-proportion  </th><th>strat3_return-proportion  </th><th>strat4_return-proportion  </th><th>strat5_return-proportion  </th><th>strat0_intensity-median  </th><th>strat1_intensity-median  </th><th>strat2_intensity-median  </th><th>strat3_intensity-median  </th><th>strat4_intensity-median  </th><th>strat5_intensity-median  </th><th>height_05-percentile  </th><th>height_25-percentile  </th><th>height_50-percentile  </th><th>height_75-percentile  </th><th>height_95_percentile  </th><th>height_max        </th><th>cover             </th><th>potential_volume  </th><th>stddev_height     </th><th>surface_area_ratio  </th><th>surface_volume    </th><th>surface_volume_ratio  </th><th>aspect            </th><th>elevation         </th><th>overall_curvature     </th><th>plan_curvature       </th><th>profile_curvature  </th><th>slope            </th><th>solar_radiation_index  </th><th>bulk_dens         </th><th>soil_depth        </th><th>pct_clay_surf     </th><th>pct_rock_surf     </th><th>pct_sand_surf     </th><th>blue              </th><th>green            </th><th>red               </th><th>nir              </th><th>swir1             </th><th>swir2            </th><th>brightness        </th><th>greenness         </th><th>wetness            </th><th>ndvi              </th><th>savi               </th><th>endvi              </th><th>pot_veg_type      </th><th>year_diff  </th></tr>\n",
       "</thead>\n",
       "<tbody>\n",
       "<tr><td>type   </td><td>int               </td><td>real             </td><td>real              </td><td>real             </td><td>real              </td><td>int               </td><td>int               </td><td>real              </td><td>real             </td><td>int              </td><td>int               </td><td>int              </td><td>int               </td><td>int               </td><td>int               </td><td>int               </td><td>int              </td><td>int               </td><td>real              </td><td>real             </td><td>int               </td><td>int               </td><td>int              </td><td>real                 </td><td>real                      </td><td>real                      </td><td>real                      </td><td>real                      </td><td>real                      </td><td>real                      </td><td>real                     </td><td>real                     </td><td>real                     </td><td>real                     </td><td>real                     </td><td>real                     </td><td>real                  </td><td>real                  </td><td>real                  </td><td>real                  </td><td>real                  </td><td>real              </td><td>real              </td><td>real              </td><td>real              </td><td>real                </td><td>real              </td><td>real                  </td><td>real              </td><td>real              </td><td>real                  </td><td>real                 </td><td>real               </td><td>real             </td><td>real                   </td><td>int               </td><td>int               </td><td>int               </td><td>int               </td><td>int               </td><td>real              </td><td>real             </td><td>real              </td><td>real             </td><td>real              </td><td>real             </td><td>real              </td><td>real              </td><td>real               </td><td>real              </td><td>real               </td><td>real               </td><td>int               </td><td>int        </td></tr>\n",
       "<tr><td>mins   </td><td>258179.0          </td><td>1.3              </td><td>11.7              </td><td>-14.6            </td><td>15.7              </td><td>1.0               </td><td>1.0               </td><td>4.8               </td><td>24.8             </td><td>5.0              </td><td>643.0             </td><td>526.0            </td><td>3.0               </td><td>49.0              </td><td>23.0              </td><td>224.0             </td><td>40.0             </td><td>0.0               </td><td>-49.0             </td><td>15.1             </td><td>584.0             </td><td>163.0             </td><td>17.0             </td><td>0.0                  </td><td>0.0                       </td><td>0.0                       </td><td>0.0                       </td><td>0.0                       </td><td>0.0                       </td><td>0.0                       </td><td>0.0                      </td><td>0.0                      </td><td>0.0                      </td><td>0.0                      </td><td>0.0                      </td><td>1.0                      </td><td>-0.98915              </td><td>-0.93745              </td><td>-0.811825             </td><td>0.0066                </td><td>1.3                   </td><td>1.3587251         </td><td>10.0              </td><td>0.0               </td><td>0.0               </td><td>1.0                 </td><td>0.0               </td><td>5.6e-05               </td><td>0.17985           </td><td>1.025175          </td><td>-34.44785             </td><td>-27.3895             </td><td>-23.837975         </td><td>0.0047           </td><td>0.56865                </td><td>84.0              </td><td>1.0               </td><td>9.0               </td><td>1.0               </td><td>8.0               </td><td>-827.0            </td><td>-143.33333       </td><td>-261.0            </td><td>-12.5            </td><td>-34.0             </td><td>-13.5            </td><td>21.378649         </td><td>-726.2262         </td><td>-1294.2433         </td><td>-1.1170961        </td><td>-1.671729          </td><td>-0.4201224         </td><td>1.0               </td><td>5.0        </td></tr>\n",
       "<tr><td>mean   </td><td>30561252.275844313</td><td>14.84690217594354</td><td>28.796883587778503</td><td>1.753167534299327</td><td>27.043683612044823</td><td>102.35675220181906</td><td>62.64331734196269 </td><td>1956.2183036274112</td><td>3077.088447002274</td><td>150.7515737054961</td><td>3988.9560954939725</td><td>2212.137329548377</td><td>1077.2593324610762</td><td>210.97296614956426</td><td>114.58900142897669</td><td>286.4426955539702 </td><td>171.8543050375223</td><td>7.648307478213006 </td><td>-33.88248539858018</td><td>47.67781496027316</td><td>1648.5462504989205</td><td>1563.1935582852716</td><td>33.26547117946622</td><td>531.9827976456597    </td><td>0.2699174105420877        </td><td>0.09379022227874131       </td><td>0.1196091377909754        </td><td>0.18730034136775275       </td><td>0.13196531744540224       </td><td>0.07414949506374795       </td><td>44.00169177888678        </td><td>45.712693742016704       </td><td>35.335086932218125       </td><td>31.74483340899056        </td><td>35.44843717569371        </td><td>40.18985575396967        </td><td>1.225821652870052     </td><td>6.527934179367909     </td><td>10.338525246474319    </td><td>13.895686169844161    </td><td>18.05680471566251     </td><td>21.50123864893653 </td><td>63.629235076267655</td><td>2079.0384027579616</td><td>4.2256335626433446</td><td>3.030055756400548   </td><td>1207.9484640894955</td><td>9.916113176358902e+32 </td><td>184.24338325597088</td><td>225.53114579258747</td><td>-0.0015099914270275455</td><td>-0.006054948651052529</td><td>0.00696593042349223</td><td>9.152297844569716</td><td>1.6846375133360836     </td><td>119.19389028284705</td><td>148.61845229574004</td><td>23.604133859942532</td><td>8.463835014036377 </td><td>17.974102154636522</td><td>339.99154498480294</td><td>543.7739367911643</td><td>471.16809874096447</td><td>2889.530203600292</td><td>1475.4913662066417</td><td>778.3674305288393</td><td>298.91079295365296</td><td>162.93678097901213</td><td>-47.288391808478494</td><td>0.7160775313236383</td><td>1.0739481280755208 </td><td>0.6793997642847922 </td><td>634.6872906519474 </td><td>5.0        </td></tr>\n",
       "<tr><td>maxs   </td><td>42403038.0        </td><td>24.0             </td><td>36.4              </td><td>13.4             </td><td>41.3              </td><td>4243.0            </td><td>555.0             </td><td>32506.5           </td><td>35782.1          </td><td>1220.0           </td><td>6896.0            </td><td>6061.0           </td><td>2676.0            </td><td>363.0             </td><td>196.0             </td><td>356.0             </td><td>333.0            </td><td>894.0             </td><td>-10.8             </td><td>82.2             </td><td>2114.0            </td><td>2082.0            </td><td>66.0             </td><td>5295.319             </td><td>0.899925                  </td><td>0.8988                    </td><td>1.0                       </td><td>1.0                       </td><td>1.0                       </td><td>1.0                       </td><td>2906.0                   </td><td>3512.0                   </td><td>371.16666                </td><td>568.0                    </td><td>637.0                    </td><td>1030.75                  </td><td>106.4405              </td><td>107.4618              </td><td>107.7732              </td><td>108.83403             </td><td>109.722725            </td><td>110.0             </td><td>100.0             </td><td>10992.36          </td><td>44.410072         </td><td>42.51974            </td><td>9174.665          </td><td>3.4028235e+38         </td><td>359.72095         </td><td>1449.4402         </td><td>34.759075             </td><td>17.564949            </td><td>27.5655            </td><td>73.47975         </td><td>1.999575               </td><td>200.0             </td><td>182.0             </td><td>41.0              </td><td>95.0              </td><td>52.0              </td><td>11175.333         </td><td>11613.333        </td><td>11914.333         </td><td>8655.333         </td><td>13492.167         </td><td>13967.167        </td><td>2209.8582         </td><td>463.32697         </td><td>166.42163          </td><td>1.2856101         </td><td>1.9278877          </td><td>6.022864           </td><td>1256.0            </td><td>5.0        </td></tr>\n",
       "<tr><td>sigma  </td><td>4989885.421590791 </td><td>3.257741675443142</td><td>3.5821627752808793</td><td>4.266832791205111</td><td>3.239358552570988 </td><td>162.26806676771773</td><td>59.719541833177324</td><td>5328.593413818984 </td><td>7247.99151494678 </td><td>160.7540074852326</td><td>895.5580708230541 </td><td>771.9158528391287</td><td>434.74710091773454</td><td>49.03454534855277 </td><td>24.825083271657984</td><td>18.375120235820024</td><td>42.08945593843336</td><td>34.573834102397726</td><td>4.999345469490685 </td><td>3.36284198623931 </td><td>214.91480874624816</td><td>265.54366997597015</td><td>6.212110172056858</td><td>619.3294652536539    </td><td>0.2614412361369125        </td><td>0.09919100138536685       </td><td>0.12039986664803451       </td><td>0.192353450122306         </td><td>0.1853223793216844        </td><td>0.16422767839786195       </td><td>53.06933424708015        </td><td>53.378936327536834       </td><td>44.952056149839414       </td><td>40.95808331205531        </td><td>44.5610878784483         </td><td>47.708761135146176       </td><td>2.5566064922049963    </td><td>7.783177315177428     </td><td>10.030608057387663    </td><td>11.455365762229132    </td><td>12.821847841968822    </td><td>13.923188715680665</td><td>28.450808225797118</td><td>1394.020248577274 </td><td>2.9788824015894875</td><td>1.5811987414878623  </td><td>1079.9220767422473</td><td>3.7969018405860564e+35</td><td>88.57672447707901 </td><td>279.52124090033874</td><td>1.161434565133653     </td><td>0.5794962603197015   </td><td>0.6774615094569275 </td><td>8.801643383161899</td><td>0.11581904935796039    </td><td>17.162475762647837</td><td>25.023481461261884</td><td>8.529650330707783 </td><td>10.962642258479178</td><td>7.981519409463352 </td><td>321.24248727411737</td><td>338.417563959451 </td><td>426.22767771462736</td><td>792.2715569204262</td><td>517.7855143200306 </td><td>412.5676340123994</td><td>81.80530078198814 </td><td>71.4871211398579  </td><td>44.4154429513676   </td><td>0.1961224816947255</td><td>0.29414232182458877</td><td>0.16409509986403537</td><td>207.66733785490248</td><td>0.0        </td></tr>\n",
       "<tr><td>zeros  </td><td>0                 </td><td>0                </td><td>0                 </td><td>32779            </td><td>0                 </td><td>0                 </td><td>0                 </td><td>0                 </td><td>0                </td><td>0                </td><td>0                 </td><td>0                </td><td>0                 </td><td>0                 </td><td>0                 </td><td>0                 </td><td>0                </td><td>3192178           </td><td>0                 </td><td>0                </td><td>0                 </td><td>0                 </td><td>0                </td><td>51675                </td><td>20441                     </td><td>30990                     </td><td>215227                    </td><td>842419                    </td><td>2163050                   </td><td>3383909                   </td><td>2                        </td><td>120                      </td><td>110                      </td><td>12                       </td><td>2                        </td><td>0                        </td><td>424                   </td><td>1                     </td><td>0                     </td><td>0                     </td><td>0                     </td><td>0                 </td><td>0                 </td><td>18                </td><td>141               </td><td>0                   </td><td>16                </td><td>0                     </td><td>0                 </td><td>0                 </td><td>29                    </td><td>189                  </td><td>60                 </td><td>0                </td><td>0                      </td><td>0                 </td><td>0                 </td><td>0                 </td><td>0                 </td><td>0                 </td><td>0                 </td><td>0                </td><td>0                 </td><td>0                </td><td>0                 </td><td>0                </td><td>0                 </td><td>0                 </td><td>0                  </td><td>14                </td><td>14                 </td><td>0                  </td><td>0                 </td><td>0          </td></tr>\n",
       "<tr><td>missing</td><td>0                 </td><td>0                </td><td>0                 </td><td>0                </td><td>0                 </td><td>0                 </td><td>0                 </td><td>0                 </td><td>0                </td><td>0                </td><td>0                 </td><td>0                </td><td>0                 </td><td>0                 </td><td>0                 </td><td>0                 </td><td>0                </td><td>0                 </td><td>0                 </td><td>0                </td><td>0                 </td><td>0                 </td><td>0                </td><td>0                    </td><td>0                         </td><td>0                         </td><td>0                         </td><td>0                         </td><td>0                         </td><td>0                         </td><td>22540                    </td><td>48214                    </td><td>57072                    </td><td>246155                   </td><td>883875                   </td><td>3421208                  </td><td>0                     </td><td>0                     </td><td>0                     </td><td>0                     </td><td>0                     </td><td>0                 </td><td>0                 </td><td>1864              </td><td>1731              </td><td>1864                </td><td>1864              </td><td>1880                  </td><td>0                 </td><td>0                 </td><td>0                     </td><td>0                    </td><td>0                  </td><td>0                </td><td>0                      </td><td>0                 </td><td>0                 </td><td>0                 </td><td>0                 </td><td>0                 </td><td>0                 </td><td>0                </td><td>0                 </td><td>0                </td><td>0                 </td><td>0                </td><td>0                 </td><td>0                 </td><td>0                  </td><td>0                 </td><td>0                  </td><td>0                  </td><td>0                 </td><td>0          </td></tr>\n",
       "<tr><td>0      </td><td>258179.0          </td><td>10.6             </td><td>20.4              </td><td>2.1              </td><td>18.3              </td><td>2735.0            </td><td>357.0             </td><td>7.5               </td><td>57.2             </td><td>134.0            </td><td>2448.0            </td><td>2923.0           </td><td>245.0             </td><td>241.0             </td><td>137.0             </td><td>298.0             </td><td>161.0            </td><td>165.0             </td><td>-25.3             </td><td>39.6             </td><td>978.0             </td><td>372.0             </td><td>54.0             </td><td>181.1077             </td><td>0.0792                    </td><td>0.0119                    </td><td>0.0597                    </td><td>0.60880005                </td><td>0.21885                   </td><td>0.0                       </td><td>3.0                      </td><td>3.0                      </td><td>4.0                      </td><td>4.0                      </td><td>11.5                     </td><td>nan                      </td><td>0.0714                </td><td>14.584                </td><td>16.54845              </td><td>18.619549             </td><td>24.576                </td><td>27.810001         </td><td>90.8902           </td><td>1881.9042         </td><td>1.048868          </td><td>1.759212            </td><td>34.90523          </td><td>0.018548              </td><td>282.7457          </td><td>6.86              </td><td>-0.1299               </td><td>-0.0109              </td><td>-0.0631            </td><td>0.3111           </td><td>1.6916                 </td><td>96.0              </td><td>131.0             </td><td>23.0              </td><td>8.0               </td><td>21.0              </td><td>298.0             </td><td>536.0            </td><td>313.0             </td><td>5185.0           </td><td>1812.0            </td><td>650.0            </td><td>457.10464         </td><td>309.1572          </td><td>-121.90296         </td><td>0.8861404         </td><td>1.3290898          </td><td>0.81130284         </td><td>652.0             </td><td>5.0        </td></tr>\n",
       "<tr><td>1      </td><td>258180.0          </td><td>10.6             </td><td>20.4              </td><td>2.1              </td><td>18.3              </td><td>2735.0            </td><td>357.0             </td><td>7.5               </td><td>57.2             </td><td>134.0            </td><td>2448.0            </td><td>2923.0           </td><td>245.0             </td><td>241.0             </td><td>137.0             </td><td>298.0             </td><td>161.0            </td><td>165.0             </td><td>-25.3             </td><td>39.6             </td><td>978.0             </td><td>372.0             </td><td>54.0             </td><td>161.24515            </td><td>0.04575                   </td><td>0.0301                    </td><td>0.08505                   </td><td>0.43745                   </td><td>0.38355002                </td><td>0.0147                    </td><td>5.0                      </td><td>3.0                      </td><td>1.0                      </td><td>7.0                      </td><td>7.0                      </td><td>6.0                      </td><td>0.22850001            </td><td>14.1915               </td><td>17.91255              </td><td>20.56855              </td><td>28.01675              </td><td>30.630001         </td><td>92.4147           </td><td>2080.4463         </td><td>1.8342185         </td><td>2.6030395           </td><td>136.50894         </td><td>0.0636935             </td><td>283.89645         </td><td>7.0808496         </td><td>-0.0233               </td><td>0.0384               </td><td>0.078600004        </td><td>0.8454           </td><td>1.6896999              </td><td>96.0              </td><td>131.0             </td><td>23.0              </td><td>8.0               </td><td>21.0              </td><td>317.0             </td><td>473.0            </td><td>277.0             </td><td>4918.0           </td><td>1812.0            </td><td>674.0            </td><td>435.65726         </td><td>292.71622         </td><td>-125.134026        </td><td>0.893359          </td><td>1.3399096          </td><td>0.78954357         </td><td>652.0             </td><td>5.0        </td></tr>\n",
       "<tr><td>2      </td><td>258181.0          </td><td>10.6             </td><td>20.4              </td><td>2.1              </td><td>18.3              </td><td>2735.0            </td><td>357.0             </td><td>7.5               </td><td>57.2             </td><td>134.0            </td><td>2448.0            </td><td>2923.0           </td><td>245.0             </td><td>241.0             </td><td>137.0             </td><td>298.0             </td><td>161.0            </td><td>165.0             </td><td>-25.3             </td><td>39.6             </td><td>978.0             </td><td>372.0             </td><td>54.0             </td><td>141.42136            </td><td>0.09095                   </td><td>0.0118                    </td><td>0.00655                   </td><td>0.39635003                </td><td>0.4293                    </td><td>0.0644                    </td><td>2.5                      </td><td>3.0                      </td><td>nan                      </td><td>1.5                      </td><td>5.25                     </td><td>10.0                     </td><td>2.43045               </td><td>17.854599             </td><td>20.8424               </td><td>23.08155              </td><td>28.675                </td><td>30.5              </td><td>89.72424          </td><td>2673.0205         </td><td>2.3822317         </td><td>1.9074085           </td><td>433.3072          </td><td>0.16252351            </td><td>280.425           </td><td>7.2978            </td><td>-0.0525               </td><td>0.01105              </td><td>0.00059999526      </td><td>0.61905          </td><td>1.691                  </td><td>96.0              </td><td>131.0             </td><td>23.0              </td><td>8.0               </td><td>21.0              </td><td>336.0             </td><td>536.0            </td><td>352.0             </td><td>4804.0           </td><td>1788.0            </td><td>674.0            </td><td>433.27432         </td><td>279.9925          </td><td>-123.12988         </td><td>0.86346006        </td><td>1.2950644          </td><td>0.7764471          </td><td>652.0             </td><td>5.0        </td></tr>\n",
       "<tr><td>3      </td><td>258182.0          </td><td>10.6             </td><td>20.4              </td><td>2.1              </td><td>18.3              </td><td>2735.0            </td><td>357.0             </td><td>7.5               </td><td>57.2             </td><td>134.0            </td><td>2448.0            </td><td>2923.0           </td><td>245.0             </td><td>241.0             </td><td>137.0             </td><td>298.0             </td><td>161.0            </td><td>165.0             </td><td>-25.3             </td><td>39.6             </td><td>978.0             </td><td>372.0             </td><td>54.0             </td><td>121.65525            </td><td>0.095025                  </td><td>0.0914                    </td><td>0.1477                    </td><td>0.359325                  </td><td>0.265275                  </td><td>0.0                       </td><td>14.333333                </td><td>23.666666                </td><td>4.0                      </td><td>3.6666667                </td><td>6.6666665                </td><td>nan                      </td><td>3.1997998             </td><td>8.93725               </td><td>13.20525              </td><td>15.922525             </td><td>21.3316               </td><td>23.2825           </td><td>81.35632          </td><td>1854.2535         </td><td>3.0381625         </td><td>2.309523            </td><td>692.2186          </td><td>0.3729325             </td><td>204.88704         </td><td>7.32685           </td><td>-0.43919998           </td><td>0.27875              </td><td>-0.1138            </td><td>0.96244997       </td><td>1.6835                 </td><td>96.0              </td><td>131.0             </td><td>23.0              </td><td>8.0               </td><td>21.0              </td><td>336.0             </td><td>536.0            </td><td>352.0             </td><td>4804.0           </td><td>1788.0            </td><td>674.0            </td><td>433.27432         </td><td>279.9925          </td><td>-123.12988         </td><td>0.86346006        </td><td>1.2950644          </td><td>0.7764471          </td><td>672.0             </td><td>5.0        </td></tr>\n",
       "<tr><td>4      </td><td>258183.0          </td><td>10.6             </td><td>20.4              </td><td>2.1              </td><td>18.3              </td><td>2735.0            </td><td>357.0             </td><td>7.5               </td><td>57.2             </td><td>134.0            </td><td>2448.0            </td><td>2923.0           </td><td>245.0             </td><td>241.0             </td><td>137.0             </td><td>298.0             </td><td>161.0            </td><td>165.0             </td><td>-25.3             </td><td>39.6             </td><td>978.0             </td><td>372.0             </td><td>54.0             </td><td>101.98039            </td><td>0.060374998               </td><td>0.08145                   </td><td>0.169325                  </td><td>0.25190002                </td><td>0.33505002                </td><td>0.061                     </td><td>8.75                     </td><td>9.5                      </td><td>5.3333335                </td><td>7.25                     </td><td>5.5                      </td><td>9.166667                 </td><td>0.194975              </td><td>9.924025              </td><td>17.1336               </td><td>21.218151             </td><td>27.467424             </td><td>32.140423         </td><td>85.81717          </td><td>2467.5996         </td><td>5.931382          </td><td>4.7440066           </td><td>747.2756          </td><td>0.292084              </td><td>261.8628          </td><td>7.8563995         </td><td>0.2615                </td><td>-0.04                </td><td>0.22835            </td><td>1.6956999        </td><td>1.6916499              </td><td>96.0              </td><td>131.0             </td><td>23.0              </td><td>8.0               </td><td>21.0              </td><td>317.0             </td><td>495.0            </td><td>314.0             </td><td>4689.0           </td><td>1764.0            </td><td>699.0            </td><td>421.32516         </td><td>274.72546         </td><td>-124.36391         </td><td>0.8744753         </td><td>1.3115819          </td><td>0.7820557          </td><td>652.0             </td><td>5.0        </td></tr>\n",
       "<tr><td>5      </td><td>258184.0          </td><td>10.6             </td><td>20.2              </td><td>2.4              </td><td>17.8              </td><td>2688.0            </td><td>347.0             </td><td>7.7               </td><td>58.1             </td><td>130.0            </td><td>2418.0            </td><td>2928.0           </td><td>232.0             </td><td>235.0             </td><td>140.0             </td><td>296.0             </td><td>156.0            </td><td>156.0             </td><td>-25.8             </td><td>39.5             </td><td>982.0             </td><td>385.0             </td><td>53.0             </td><td>82.46211             </td><td>0.007925                  </td><td>0.03465                   </td><td>0.01465                   </td><td>0.185975                  </td><td>0.609075                  </td><td>0.140175                  </td><td>2.6666667                </td><td>6.0                      </td><td>2.0                      </td><td>10.0                     </td><td>3.75                     </td><td>9.25                     </td><td>10.761475             </td><td>19.8891               </td><td>24.194925             </td><td>27.782475             </td><td>30.891575             </td><td>33.990124         </td><td>95.743126         </td><td>3456.0386         </td><td>3.726834          </td><td>2.772736            </td><td>2251.3828         </td><td>0.65299547            </td><td>99.75895          </td><td>7.9673            </td><td>0.2059                </td><td>-0.00034999987       </td><td>0.2187             </td><td>0.76514995       </td><td>1.6926501              </td><td>96.0              </td><td>131.0             </td><td>23.0              </td><td>8.0               </td><td>21.0              </td><td>279.0             </td><td>473.0            </td><td>314.0             </td><td>4345.0           </td><td>1740.0            </td><td>699.0            </td><td>394.58646         </td><td>252.8709          </td><td>-126.25537         </td><td>0.86520714        </td><td>1.2976714          </td><td>0.79241073         </td><td>652.0             </td><td>5.0        </td></tr>\n",
       "<tr><td>6      </td><td>258185.0          </td><td>10.6             </td><td>20.2              </td><td>2.4              </td><td>17.8              </td><td>2688.0            </td><td>347.0             </td><td>7.7               </td><td>58.1             </td><td>130.0            </td><td>2418.0            </td><td>2928.0           </td><td>232.0             </td><td>235.0             </td><td>140.0             </td><td>296.0             </td><td>156.0            </td><td>156.0             </td><td>-25.8             </td><td>39.5             </td><td>982.0             </td><td>385.0             </td><td>53.0             </td><td>63.245552            </td><td>0.11555                   </td><td>0.086500004               </td><td>0.14885                   </td><td>0.50345                   </td><td>0.1192                    </td><td>0.0                       </td><td>6.5                      </td><td>5.875                    </td><td>4.0                      </td><td>3.25                     </td><td>5.25                     </td><td>nan                      </td><td>0.0752                </td><td>7.2868                </td><td>12.392775             </td><td>16.978075             </td><td>20.398525             </td><td>25.899124         </td><td>79.794975         </td><td>2468.4849         </td><td>4.4854074         </td><td>3.1092644           </td><td>1447.812          </td><td>0.58610797            </td><td>68.6983           </td><td>7.307             </td><td>-0.58335              </td><td>0.14905              </td><td>-0.21079999        </td><td>2.3037           </td><td>1.67795                </td><td>96.0              </td><td>131.0             </td><td>23.0              </td><td>8.0               </td><td>21.0              </td><td>279.0             </td><td>473.0            </td><td>314.0             </td><td>4345.0           </td><td>1740.0            </td><td>699.0            </td><td>394.58646         </td><td>252.8709          </td><td>-126.25537         </td><td>0.86520714        </td><td>1.2976714          </td><td>0.79241073         </td><td>672.0             </td><td>5.0        </td></tr>\n",
       "<tr><td>7      </td><td>258186.0          </td><td>10.6             </td><td>20.2              </td><td>2.4              </td><td>17.8              </td><td>2688.0            </td><td>347.0             </td><td>7.7               </td><td>58.1             </td><td>130.0            </td><td>2418.0            </td><td>2928.0           </td><td>232.0             </td><td>235.0             </td><td>140.0             </td><td>296.0             </td><td>156.0            </td><td>156.0             </td><td>-25.8             </td><td>39.5             </td><td>982.0             </td><td>385.0             </td><td>53.0             </td><td>44.72136             </td><td>0.1033                    </td><td>0.01775                   </td><td>0.04145                   </td><td>0.39425                   </td><td>0.422225                  </td><td>0.0092                    </td><td>9.0                      </td><td>5.0                      </td><td>2.0                      </td><td>3.25                     </td><td>3.5                      </td><td>8.5                      </td><td>0.030775              </td><td>13.045549             </td><td>18.8473               </td><td>22.041374             </td><td>25.281975             </td><td>29.367249         </td><td>87.8955           </td><td>2550.5945         </td><td>2.4654574         </td><td>2.0962734           </td><td>2022.5674         </td><td>0.79046845            </td><td>263.90912         </td><td>7.4425            </td><td>-0.0846               </td><td>-0.1356              </td><td>-0.21204999        </td><td>2.7319999        </td><td>1.6961                 </td><td>96.0              </td><td>131.0             </td><td>23.0              </td><td>8.0               </td><td>21.0              </td><td>299.0             </td><td>515.0            </td><td>333.0             </td><td>4191.0           </td><td>1859.0            </td><td>773.0            </td><td>390.8824          </td><td>238.00838         </td><td>-139.9483          </td><td>0.85278517        </td><td>1.2790364          </td><td>0.7745098          </td><td>672.0             </td><td>5.0        </td></tr>\n",
       "<tr><td>8      </td><td>258190.0          </td><td>10.6             </td><td>20.2              </td><td>2.4              </td><td>17.8              </td><td>2688.0            </td><td>347.0             </td><td>7.7               </td><td>58.1             </td><td>130.0            </td><td>2418.0            </td><td>2928.0           </td><td>232.0             </td><td>235.0             </td><td>140.0             </td><td>296.0             </td><td>156.0            </td><td>156.0             </td><td>-25.8             </td><td>39.5             </td><td>982.0             </td><td>385.0             </td><td>53.0             </td><td>20.0                 </td><td>0.67345                   </td><td>0.031875                  </td><td>0.081575                  </td><td>0.0002                    </td><td>0.0                       </td><td>0.0                       </td><td>33.25                    </td><td>23.333334                </td><td>7.6666665                </td><td>7.5                      </td><td>nan                      </td><td>nan                      </td><td>-0.006425             </td><td>0.01575               </td><td>0.707425              </td><td>2.090975              </td><td>4.2566752             </td><td>6.04235           </td><td>29.464224         </td><td>319.14816         </td><td>1.0410337         </td><td>1.6520475           </td><td>57.763687         </td><td>0.22438149            </td><td>54.0225           </td><td>7.772875          </td><td>-0.137325             </td><td>0.072425             </td><td>-0.080524996       </td><td>0.83675          </td><td>1.686525               </td><td>96.0              </td><td>131.0             </td><td>23.0              </td><td>8.0               </td><td>21.0              </td><td>491.0             </td><td>828.0            </td><td>799.0             </td><td>3615.0           </td><td>2429.0            </td><td>1359.0           </td><td>410.60312         </td><td>157.31294         </td><td>-211.15646         </td><td>0.6379701         </td><td>0.9568468          </td><td>0.63797235         </td><td>665.0             </td><td>5.0        </td></tr>\n",
       "<tr><td>9      </td><td>258195.0          </td><td>10.5             </td><td>20.1              </td><td>2.5              </td><td>17.6              </td><td>2668.0            </td><td>343.0             </td><td>7.7               </td><td>58.4             </td><td>129.0            </td><td>2396.0            </td><td>2939.0           </td><td>223.0             </td><td>233.0             </td><td>142.0             </td><td>296.0             </td><td>154.0            </td><td>154.0             </td><td>-26.1             </td><td>39.4             </td><td>981.0             </td><td>389.0             </td><td>52.0             </td><td>102.9563             </td><td>0.58863336                </td><td>0.13016666                </td><td>0.25016665                </td><td>0.0                       </td><td>0.0                       </td><td>0.0                       </td><td>10.0                     </td><td>24.5                     </td><td>31.0                     </td><td>18.5                     </td><td>nan                      </td><td>nan                      </td><td>-0.0045666667         </td><td>0.024333332           </td><td>2.6701999             </td><td>2.8341                </td><td>3.2594333             </td><td>5.8977666         </td><td>28.120167         </td><td>74.97618          </td><td>0.117158495       </td><td>1.0148695           </td><td>5.458828          </td><td>0.061269              </td><td>177.40979         </td><td>7.9849997         </td><td>0.40185               </td><td>-0.14555             </td><td>0.22405            </td><td>0.8546           </td><td>1.69735                </td><td>96.0              </td><td>131.0             </td><td>23.0              </td><td>8.0               </td><td>21.0              </td><td>396.0             </td><td>787.0            </td><td>557.0             </td><td>4726.0           </td><td>2144.0            </td><td>919.0            </td><td>459.99872         </td><td>253.46454         </td><td>-161.09546         </td><td>0.789135          </td><td>1.1835904          </td><td>0.74877083         </td><td>516.0             </td><td>5.0        </td></tr>\n",
       "</tbody>\n",
       "</table>"
      ]
     },
     "metadata": {},
     "output_type": "display_data"
    }
   ],
   "source": [
    "hf.describe()"
   ]
  },
  {
   "cell_type": "code",
   "execution_count": 38,
   "metadata": {},
   "outputs": [],
   "source": [
    "LIDAR_COLS = ['strat0_return-proportion', 'strat1_return-proportion', \n",
    "              'strat2_return-proportion', 'strat3_return-proportion', 'strat4_return-proportion', \n",
    "              'strat5_return-proportion', 'strat0_intensity-median', 'strat1_intensity-median', \n",
    "              'strat2_intensity-median', 'strat3_intensity-median', 'strat4_intensity-median', \n",
    "              'strat5_intensity-median', 'height_05-percentile', 'height_25-percentile', \n",
    "              'height_50-percentile', 'height_75-percentile', 'height_95_percentile', \n",
    "              'height_max', 'cover', 'potential_volume', 'stddev_height', 'surface_area_ratio', \n",
    "              'surface_volume', 'surface_volume_ratio', 'aspect', 'elevation', 'overall_curvature', \n",
    "              'plan_curvature', 'profile_curvature', 'slope', 'solar_radiation_index']\n",
    "LANDSAT_COLS = ['green', 'blue', 'red', 'nir', 'endvi', 'ndvi', 'savi', 'swir1',\n",
    "                'swir2', 'wetness', 'greenness', 'brightness']\n",
    "CLIMATE_COLS = ['mat','mwmt','mcmt','td','map','msp',\n",
    "                'ahm','shm','dd_0','dd5','dd_18','dd18',\n",
    "                'nffd','bffp','effp','ffp','pas','emt',\n",
    "                'ext','eref','cmd','rh']\n",
    "SOIL_COLS = ['bulk_dens', 'soil_depth', 'pct_clay_surf', 'pct_rock_surf', 'pct_sand_surf']"
   ]
  },
  {
   "cell_type": "code",
   "execution_count": 39,
   "metadata": {},
   "outputs": [],
   "source": [
    "hf['eref'] = hf['eref'].asnumeric()\n",
    "hf['pot_veg_type'] = hf['pot_veg_type'].asfactor()\n",
    "hf[LIDAR_COLS] = hf[LIDAR_COLS].asnumeric()"
   ]
  },
  {
   "cell_type": "code",
   "execution_count": 40,
   "metadata": {},
   "outputs": [],
   "source": [
    "FOREST_TYPE_MODEL = '../models/gbm_forest_type_rebalance/gbm_type_rebalance'\n",
    "gbm_forest_type_model = h2o.load_model(FOREST_TYPE_MODEL)\n",
    "\n",
    "SIZE_CLASS_MODEL = '../models/gbm_size_class/gbm_size_class'\n",
    "gbm_size_class_model = h2o.load_model(SIZE_CLASS_MODEL)\n",
    "\n",
    "COVER_MODEL = '../models/gbm_cov_class/gbm_cov_class'\n",
    "gbm_cover_model = h2o.load_model(COVER_MODEL)"
   ]
  },
  {
   "cell_type": "code",
   "execution_count": 41,
   "metadata": {},
   "outputs": [
    {
     "name": "stdout",
     "output_type": "stream",
     "text": [
      "gbm prediction progress: |████████████████████████████████████████████████| 100%\n"
     ]
    },
    {
     "name": "stderr",
     "output_type": "stream",
     "text": [
      "/storage/anaconda3/envs/forest_mapping/lib/python3.6/site-packages/h2o/job.py:69: UserWarning: Test/Validation dataset column 'pot_veg_type' has levels not trained on: [1, 3, 4, 5, 6, 7, 8, 9, 10, 18, 19, 20, 21, 23, 24, 25, 32, 52, 56, 57, 59, 72, 76, 77, 79, 92, 93, 94, 95, 96, 97, 98, 99, 100, 101, 122, 142, 146, 147, 182, 184, 185, 186, 187, 189, 243, 244, 245, 247, 248, 250, 251, 252, 322, 323, 324, 325, 326, 327, 328, 329, 330, 331, 335, 336, 338, 339, 340, 341, 342, 343, 344, 345, 346, 347, 348, 349, 350, 388, 403, 405, 406, 407, 408, 409, 412, 413, 433, 447, 456, 460, 461, 463, 506, 507, 510, 511, 513, 514, 515, 516, 518, 519, 520, 521, 522, 523, 524, 525, 526, 527, 528, 529, 530, 531, 532, 533, 534, 535, 536, 537, 538, 539, 540, 541, 542, 543, 544, 545, 546, 548, 549, 551, 552, 553, 554, 555, 556, 557, 558, 559, 560, 561, 562, 572, 573, 574, 575, 576, 577, 579, 580, 581, 582, 583, 584, 585, 586, 587, 588, 591, 592, 593, 594, 595, 604, 605, 606, 607, 608, 609, 610, 611, 634, 635, 645, 646, 647, 648, 649, 650, 651, 652, 653, 654, 665, 667, 668, 669, 670, 671, 672, 673, 674, 675, 679, 680, 682, 683, 685, 687, 688, 689, 690, 691, 692, 693, 694, 701, 702, 703, 704, 705, 796, 797, 848, 849, 851, 852, 853, 855, 858, 859, 860, 861, 862, 877, 881, 883, 884, 885, 886, 887, 889, 891, 892, 893, 896, 899, 900, 901, 902, 903, 905, 906, 907, 909, 911, 912, 913, 936, 939, 940, 941, 983, 985, 987, 988, 1130, 1131, 1132, 1133, 1134, 1135, 1136, 1137, 1138, 1150, 1153, 1155, 1161, 1162, 1163, 1164, 1166, 1168, 1169, 1170, 1171, 1175, 1176, 1177, 1179, 1180, 1181, 1182, 1183, 1184, 1185, 1186, 1187, 1188, 1189, 1244, 1245, 1246, 1247, 1248, 1250, 1251, 1252, 1253, 1254, 1255, 1256]\n",
      "  warnings.warn(w)\n"
     ]
    }
   ],
   "source": [
    "type_res = gbm_forest_type_model.predict(hf)"
   ]
  },
  {
   "cell_type": "code",
   "execution_count": 42,
   "metadata": {},
   "outputs": [
    {
     "name": "stdout",
     "output_type": "stream",
     "text": [
      "gbm prediction progress: |████████████████████████████████████████████████| 100%\n"
     ]
    }
   ],
   "source": [
    "size_res = gbm_size_class_model.predict(hf)"
   ]
  },
  {
   "cell_type": "code",
   "execution_count": 43,
   "metadata": {},
   "outputs": [
    {
     "name": "stdout",
     "output_type": "stream",
     "text": [
      "gbm prediction progress: |████████████████████████████████████████████████| 100%\n"
     ]
    }
   ],
   "source": [
    "cover_res = gbm_cover_model.predict(hf)"
   ]
  },
  {
   "cell_type": "code",
   "execution_count": 44,
   "metadata": {},
   "outputs": [],
   "source": [
    "type_preds = type_res['predict'].as_data_frame()\n",
    "size_preds = size_res['predict'].as_data_frame()\n",
    "cover_preds = cover_res['predict'].as_data_frame()"
   ]
  },
  {
   "cell_type": "code",
   "execution_count": 45,
   "metadata": {},
   "outputs": [
    {
     "data": {
      "text/html": [
       "<div>\n",
       "<style scoped>\n",
       "    .dataframe tbody tr th:only-of-type {\n",
       "        vertical-align: middle;\n",
       "    }\n",
       "\n",
       "    .dataframe tbody tr th {\n",
       "        vertical-align: top;\n",
       "    }\n",
       "\n",
       "    .dataframe thead th {\n",
       "        text-align: right;\n",
       "    }\n",
       "</style>\n",
       "<table border=\"1\" class=\"dataframe\">\n",
       "  <thead>\n",
       "    <tr style=\"text-align: right;\">\n",
       "      <th></th>\n",
       "      <th>id</th>\n",
       "    </tr>\n",
       "  </thead>\n",
       "  <tbody>\n",
       "    <tr>\n",
       "      <th>Nonstocked</th>\n",
       "      <td>1</td>\n",
       "    </tr>\n",
       "    <tr>\n",
       "      <th>Seedling-Sapling</th>\n",
       "      <td>2</td>\n",
       "    </tr>\n",
       "    <tr>\n",
       "      <th>Small</th>\n",
       "      <td>3</td>\n",
       "    </tr>\n",
       "    <tr>\n",
       "      <th>Medium</th>\n",
       "      <td>4</td>\n",
       "    </tr>\n",
       "    <tr>\n",
       "      <th>Large</th>\n",
       "      <td>5</td>\n",
       "    </tr>\n",
       "  </tbody>\n",
       "</table>\n",
       "</div>"
      ],
      "text/plain": [
       "                  id\n",
       "Nonstocked         1\n",
       "Seedling-Sapling   2\n",
       "Small              3\n",
       "Medium             4\n",
       "Large              5"
      ]
     },
     "execution_count": 45,
     "metadata": {},
     "output_type": "execute_result"
    }
   ],
   "source": [
    "size_classes = {'Nonstocked':1, 'Seedling-Sapling':2, 'Small':3, 'Medium':4, 'Large':5, 'Very Large':6}\n",
    "size_lookup = pd.DataFrame(size_classes.values(), index=size_classes.keys(), columns=['id'])\n",
    "size_lookup.head()"
   ]
  },
  {
   "cell_type": "code",
   "execution_count": 46,
   "metadata": {},
   "outputs": [
    {
     "data": {
      "text/html": [
       "<div>\n",
       "<style scoped>\n",
       "    .dataframe tbody tr th:only-of-type {\n",
       "        vertical-align: middle;\n",
       "    }\n",
       "\n",
       "    .dataframe tbody tr th {\n",
       "        vertical-align: top;\n",
       "    }\n",
       "\n",
       "    .dataframe thead th {\n",
       "        text-align: right;\n",
       "    }\n",
       "</style>\n",
       "<table border=\"1\" class=\"dataframe\">\n",
       "  <thead>\n",
       "    <tr style=\"text-align: right;\">\n",
       "      <th></th>\n",
       "      <th>id</th>\n",
       "    </tr>\n",
       "  </thead>\n",
       "  <tbody>\n",
       "    <tr>\n",
       "      <th>Sparse</th>\n",
       "      <td>1</td>\n",
       "    </tr>\n",
       "    <tr>\n",
       "      <th>Open</th>\n",
       "      <td>2</td>\n",
       "    </tr>\n",
       "    <tr>\n",
       "      <th>Moderate</th>\n",
       "      <td>3</td>\n",
       "    </tr>\n",
       "    <tr>\n",
       "      <th>Closed</th>\n",
       "      <td>4</td>\n",
       "    </tr>\n",
       "  </tbody>\n",
       "</table>\n",
       "</div>"
      ],
      "text/plain": [
       "          id\n",
       "Sparse     1\n",
       "Open       2\n",
       "Moderate   3\n",
       "Closed     4"
      ]
     },
     "execution_count": 46,
     "metadata": {},
     "output_type": "execute_result"
    }
   ],
   "source": [
    "cover_classes = {'Sparse':1, 'Open':2, 'Moderate':3, 'Closed':4}\n",
    "cover_lookup = pd.DataFrame(cover_classes.values(), index=cover_classes.keys(), columns=['id'])\n",
    "cover_lookup.head()"
   ]
  },
  {
   "cell_type": "code",
   "execution_count": 47,
   "metadata": {},
   "outputs": [
    {
     "data": {
      "text/html": [
       "<div>\n",
       "<style scoped>\n",
       "    .dataframe tbody tr th:only-of-type {\n",
       "        vertical-align: middle;\n",
       "    }\n",
       "\n",
       "    .dataframe tbody tr th {\n",
       "        vertical-align: top;\n",
       "    }\n",
       "\n",
       "    .dataframe thead th {\n",
       "        text-align: right;\n",
       "    }\n",
       "</style>\n",
       "<table border=\"1\" class=\"dataframe\">\n",
       "  <thead>\n",
       "    <tr style=\"text-align: right;\">\n",
       "      <th></th>\n",
       "      <th>id</th>\n",
       "    </tr>\n",
       "    <tr>\n",
       "      <th>name</th>\n",
       "      <th></th>\n",
       "    </tr>\n",
       "  </thead>\n",
       "  <tbody>\n",
       "    <tr>\n",
       "      <th>COTTONWOOD-AND-ASPEN</th>\n",
       "      <td>1</td>\n",
       "    </tr>\n",
       "    <tr>\n",
       "      <th>COTTONWOOD-AND-ASPEN_LODGEPOLE-PINE</th>\n",
       "      <td>2</td>\n",
       "    </tr>\n",
       "    <tr>\n",
       "      <th>DOUGLAS-FIR</th>\n",
       "      <td>3</td>\n",
       "    </tr>\n",
       "    <tr>\n",
       "      <th>DOUGLAS-FIR_ENGELMANN-AND-OTHER-SPRUCES</th>\n",
       "      <td>4</td>\n",
       "    </tr>\n",
       "    <tr>\n",
       "      <th>DOUGLAS-FIR_INCENSE-CEDAR</th>\n",
       "      <td>5</td>\n",
       "    </tr>\n",
       "  </tbody>\n",
       "</table>\n",
       "</div>"
      ],
      "text/plain": [
       "                                         id\n",
       "name                                       \n",
       "COTTONWOOD-AND-ASPEN                      1\n",
       "COTTONWOOD-AND-ASPEN_LODGEPOLE-PINE       2\n",
       "DOUGLAS-FIR                               3\n",
       "DOUGLAS-FIR_ENGELMANN-AND-OTHER-SPRUCES   4\n",
       "DOUGLAS-FIR_INCENSE-CEDAR                 5"
      ]
     },
     "execution_count": 47,
     "metadata": {},
     "output_type": "execute_result"
    }
   ],
   "source": [
    "forest_type_lookup = pd.read_csv('../data/processed/sppgrp_forest_type_crosswalk.csv', \n",
    "                                 names=['id', 'name'], \n",
    "                                 header=0, \n",
    "                                 index_col='name')\n",
    "forest_type_lookup['id'] = forest_type_lookup['id'] + 1\n",
    "forest_type_lookup.head()          "
   ]
  },
  {
   "cell_type": "code",
   "execution_count": 48,
   "metadata": {},
   "outputs": [],
   "source": [
    "LIDARMETS = '../data/processed/rasters_for_modeling/{}_lidar_rescaled.tif'.format(ACQ_NAME)\n",
    "with rasterio.open(LIDARMETS) as lidar_src:\n",
    "    raster_meta = lidar_src.meta.copy()\n",
    "    ht95 = lidar_src.read(17 , masked=True)  # 'height_95_percentile', \n",
    "    cover = lidar_src.read(19 , masked=True)  # 'cover'"
   ]
  },
  {
   "cell_type": "code",
   "execution_count": 49,
   "metadata": {},
   "outputs": [
    {
     "data": {
      "text/plain": [
       "<matplotlib.image.AxesImage at 0x7fa28ec96f60>"
      ]
     },
     "execution_count": 49,
     "metadata": {},
     "output_type": "execute_result"
    },
    {
     "data": {
      "image/png": "[encoded data removed]",
      "text/plain": [
       "<Figure size 432x288 with 1 Axes>"
      ]
     },
     "metadata": {
      "needs_background": "light"
     },
     "output_type": "display_data"
    }
   ],
   "source": [
    "non_forest = (ht95 < 1.3) * (cover < 10)\n",
    "plt.imshow(non_forest)"
   ]
  },
  {
   "cell_type": "code",
   "execution_count": 50,
   "metadata": {},
   "outputs": [],
   "source": [
    "non_forest = np.ma.masked_where(~non_forest, non_forest)"
   ]
  },
  {
   "cell_type": "code",
   "execution_count": 51,
   "metadata": {},
   "outputs": [],
   "source": [
    "good_data = hf['C1'].as_data_frame()\n",
    "good_data = good_data.set_index('C1')"
   ]
  },
  {
   "cell_type": "code",
   "execution_count": 52,
   "metadata": {},
   "outputs": [],
   "source": [
    "data = pd.DataFrame(np.zeros(lidar_src.shape).flatten()).drop(0, axis=1)"
   ]
  },
  {
   "cell_type": "code",
   "execution_count": 53,
   "metadata": {},
   "outputs": [
    {
     "data": {
      "text/html": [
       "<div>\n",
       "<style scoped>\n",
       "    .dataframe tbody tr th:only-of-type {\n",
       "        vertical-align: middle;\n",
       "    }\n",
       "\n",
       "    .dataframe tbody tr th {\n",
       "        vertical-align: top;\n",
       "    }\n",
       "\n",
       "    .dataframe thead th {\n",
       "        text-align: right;\n",
       "    }\n",
       "</style>\n",
       "<table border=\"1\" class=\"dataframe\">\n",
       "  <thead>\n",
       "    <tr style=\"text-align: right;\">\n",
       "      <th></th>\n",
       "    </tr>\n",
       "  </thead>\n",
       "  <tbody>\n",
       "    <tr>\n",
       "      <th>0</th>\n",
       "    </tr>\n",
       "    <tr>\n",
       "      <th>1</th>\n",
       "    </tr>\n",
       "    <tr>\n",
       "      <th>2</th>\n",
       "    </tr>\n",
       "    <tr>\n",
       "      <th>3</th>\n",
       "    </tr>\n",
       "    <tr>\n",
       "      <th>4</th>\n",
       "    </tr>\n",
       "  </tbody>\n",
       "</table>\n",
       "</div>"
      ],
      "text/plain": [
       "Empty DataFrame\n",
       "Columns: []\n",
       "Index: [0, 1, 2, 3, 4]"
      ]
     },
     "execution_count": 53,
     "metadata": {},
     "output_type": "execute_result"
    }
   ],
   "source": [
    "data.head()"
   ]
  },
  {
   "cell_type": "code",
   "execution_count": 54,
   "metadata": {},
   "outputs": [],
   "source": [
    "good_data.loc[:, 'forest_type_prediction'] = type_preds.values\n",
    "good_data.loc[:, 'size_class_prediction'] = size_preds.values\n",
    "good_data.loc[:, 'cover_class_prediction'] = cover_preds.values"
   ]
  },
  {
   "cell_type": "code",
   "execution_count": 55,
   "metadata": {},
   "outputs": [],
   "source": [
    "good_data['forest_type_id'] = forest_type_lookup.loc[good_data['forest_type_prediction']].values\n",
    "good_data['size_class_id'] = size_lookup.loc[good_data['size_class_prediction']].values\n",
    "good_data['cover_class_id'] = cover_lookup.loc[good_data['cover_class_prediction']].values"
   ]
  },
  {
   "cell_type": "code",
   "execution_count": 56,
   "metadata": {},
   "outputs": [
    {
     "data": {
      "text/html": [
       "<div>\n",
       "<style scoped>\n",
       "    .dataframe tbody tr th:only-of-type {\n",
       "        vertical-align: middle;\n",
       "    }\n",
       "\n",
       "    .dataframe tbody tr th {\n",
       "        vertical-align: top;\n",
       "    }\n",
       "\n",
       "    .dataframe thead th {\n",
       "        text-align: right;\n",
       "    }\n",
       "</style>\n",
       "<table border=\"1\" class=\"dataframe\">\n",
       "  <thead>\n",
       "    <tr style=\"text-align: right;\">\n",
       "      <th></th>\n",
       "      <th>forest_type_prediction</th>\n",
       "      <th>forest_type_id</th>\n",
       "      <th>size_class_prediction</th>\n",
       "      <th>size_class_id</th>\n",
       "      <th>cover_class_prediction</th>\n",
       "      <th>cover_class_id</th>\n",
       "    </tr>\n",
       "    <tr>\n",
       "      <th>C1</th>\n",
       "      <th></th>\n",
       "      <th></th>\n",
       "      <th></th>\n",
       "      <th></th>\n",
       "      <th></th>\n",
       "      <th></th>\n",
       "    </tr>\n",
       "  </thead>\n",
       "  <tbody>\n",
       "    <tr>\n",
       "      <th>258179</th>\n",
       "      <td>DOUGLAS-FIR</td>\n",
       "      <td>3</td>\n",
       "      <td>Small</td>\n",
       "      <td>3</td>\n",
       "      <td>Open</td>\n",
       "      <td>2</td>\n",
       "    </tr>\n",
       "    <tr>\n",
       "      <th>258180</th>\n",
       "      <td>DOUGLAS-FIR</td>\n",
       "      <td>3</td>\n",
       "      <td>Small</td>\n",
       "      <td>3</td>\n",
       "      <td>Open</td>\n",
       "      <td>2</td>\n",
       "    </tr>\n",
       "    <tr>\n",
       "      <th>258181</th>\n",
       "      <td>DOUGLAS-FIR</td>\n",
       "      <td>3</td>\n",
       "      <td>Medium</td>\n",
       "      <td>4</td>\n",
       "      <td>Open</td>\n",
       "      <td>2</td>\n",
       "    </tr>\n",
       "    <tr>\n",
       "      <th>258182</th>\n",
       "      <td>DOUGLAS-FIR</td>\n",
       "      <td>3</td>\n",
       "      <td>Small</td>\n",
       "      <td>3</td>\n",
       "      <td>Open</td>\n",
       "      <td>2</td>\n",
       "    </tr>\n",
       "    <tr>\n",
       "      <th>258183</th>\n",
       "      <td>DOUGLAS-FIR</td>\n",
       "      <td>3</td>\n",
       "      <td>Medium</td>\n",
       "      <td>4</td>\n",
       "      <td>Open</td>\n",
       "      <td>2</td>\n",
       "    </tr>\n",
       "  </tbody>\n",
       "</table>\n",
       "</div>"
      ],
      "text/plain": [
       "       forest_type_prediction  forest_type_id size_class_prediction  \\\n",
       "C1                                                                    \n",
       "258179            DOUGLAS-FIR               3                 Small   \n",
       "258180            DOUGLAS-FIR               3                 Small   \n",
       "258181            DOUGLAS-FIR               3                Medium   \n",
       "258182            DOUGLAS-FIR               3                 Small   \n",
       "258183            DOUGLAS-FIR               3                Medium   \n",
       "\n",
       "        size_class_id cover_class_prediction  cover_class_id  \n",
       "C1                                                            \n",
       "258179              3                   Open               2  \n",
       "258180              3                   Open               2  \n",
       "258181              4                   Open               2  \n",
       "258182              3                   Open               2  \n",
       "258183              4                   Open               2  "
      ]
     },
     "execution_count": 56,
     "metadata": {},
     "output_type": "execute_result"
    }
   ],
   "source": [
    "good_data[['forest_type_prediction', 'forest_type_id', \n",
    "           'size_class_prediction', 'size_class_id',\n",
    "           'cover_class_prediction', 'cover_class_id'\n",
    "          ]].head()"
   ]
  },
  {
   "cell_type": "code",
   "execution_count": 57,
   "metadata": {},
   "outputs": [],
   "source": [
    "data['forest_type_id'] = good_data['forest_type_id']\n",
    "data['forest_type_id'] = data['forest_type_id'].fillna(0).astype(int)\n",
    "\n",
    "data['size_class_id'] = good_data['size_class_id']\n",
    "data['size_class_id'] = data['size_class_id'].fillna(0).astype(int)\n",
    "\n",
    "data['cover_class_id'] = good_data['cover_class_id']\n",
    "data['cover_class_id'] = data['cover_class_id'].fillna(0).astype(int)"
   ]
  },
  {
   "cell_type": "code",
   "execution_count": 58,
   "metadata": {},
   "outputs": [
    {
     "data": {
      "text/plain": [
       "array([[ True,  True,  True, ...,  True,  True,  True],\n",
       "       [ True,  True,  True, ...,  True,  True,  True],\n",
       "       [ True,  True,  True, ...,  True,  True,  True],\n",
       "       ...,\n",
       "       [ True,  True,  True, ...,  True,  True,  True],\n",
       "       [ True,  True,  True, ...,  True,  True,  True],\n",
       "       [ True,  True,  True, ...,  True,  True,  True]])"
      ]
     },
     "execution_count": 58,
     "metadata": {},
     "output_type": "execute_result"
    }
   ],
   "source": [
    "non_forest.mask"
   ]
  },
  {
   "cell_type": "code",
   "execution_count": 59,
   "metadata": {},
   "outputs": [
    {
     "data": {
      "image/png": "[encoded data removed]",
      "text/plain": [
       "<Figure size 720x360 with 3 Axes>"
      ]
     },
     "metadata": {
      "needs_background": "light"
     },
     "output_type": "display_data"
    }
   ],
   "source": [
    "type_reshaped = data['forest_type_id'].values.reshape(lidar_src.shape)\n",
    "size_reshaped = data['size_class_id'].values.reshape(lidar_src.shape)\n",
    "cover_reshaped = data['cover_class_id'].values.reshape(lidar_src.shape)\n",
    "\n",
    "type_reshaped[~non_forest.mask] = 0\n",
    "size_reshaped[~non_forest.mask] = 0\n",
    "cover_reshaped[~non_forest.mask] = 0\n",
    "\n",
    "\n",
    "fig, axs = plt.subplots(1,3, figsize=(10,5))\n",
    "axs[0].imshow(type_reshaped)\n",
    "axs[1].imshow(size_reshaped)\n",
    "axs[2].imshow(cover_reshaped)\n",
    "\n",
    "plt.show()"
   ]
  },
  {
   "cell_type": "code",
   "execution_count": 60,
   "metadata": {},
   "outputs": [
    {
     "data": {
      "text/plain": [
       "{'driver': 'GTiff',\n",
       " 'dtype': 'uint8',\n",
       " 'nodata': 0,\n",
       " 'width': 7801,\n",
       " 'height': 5451,\n",
       " 'count': 3,\n",
       " 'crs': CRS.from_epsg(6339),\n",
       " 'transform': Affine(20.0, 0.0, 438995.0,\n",
       "        0.0, -20.0, 5114005.0)}"
      ]
     },
     "execution_count": 60,
     "metadata": {},
     "output_type": "execute_result"
    }
   ],
   "source": [
    "raster_meta.update(dtype = 'uint8',\n",
    "                nodata=0,\n",
    "                count = 3)\n",
    "raster_meta"
   ]
  },
  {
   "cell_type": "code",
   "execution_count": 61,
   "metadata": {},
   "outputs": [],
   "source": [
    "with rasterio.open('../data/processed/predictions/{}_forest_type_predictions.tif'.format(ACQ_NAME), \n",
    "                   'w', **raster_meta) as dst:\n",
    "    dst.write(type_reshaped.astype(rasterio.uint8), 1)\n",
    "    dst.set_band_description(1, 'forest_type')\n",
    "    \n",
    "    dst.write(size_reshaped.astype(rasterio.uint8), 2)\n",
    "    dst.set_band_description(2, 'size_class')\n",
    "    \n",
    "    dst.write(cover_reshaped.astype(rasterio.uint8), 3)\n",
    "    dst.set_band_description(3, 'cover_class')"
   ]
  },
  {
   "cell_type": "code",
   "execution_count": 62,
   "metadata": {},
   "outputs": [
    {
     "data": {
      "text/plain": [
       "<matplotlib.image.AxesImage at 0x7fa19f58c400>"
      ]
     },
     "execution_count": 62,
     "metadata": {},
     "output_type": "execute_result"
    },
    {
     "data": {
      "image/png": "[encoded data removed]",
      "text/plain": [
       "<Figure size 432x288 with 1 Axes>"
      ]
     },
     "metadata": {
      "needs_background": "light"
     },
     "output_type": "display_data"
    }
   ],
   "source": [
    "with rasterio.open('../data/processed/predictions/{}_forest_type_predictions.tif'.format(ACQ_NAME), \n",
    "                   'r') as src:\n",
    "    img = src.read(1, masked=True)\n",
    "plt.imshow(img)"
   ]
  },
  {
   "cell_type": "code",
   "execution_count": 63,
   "metadata": {},
   "outputs": [],
   "source": [
    "# h2o.cluster().shutdown()"
   ]
  },
  {
   "cell_type": "code",
   "execution_count": null,
   "metadata": {},
   "outputs": [],
   "source": []
  }
 ],
 "metadata": {
  "kernelspec": {
   "display_name": "Python [conda env:forest_mapping]",
   "language": "python",
   "name": "conda-env-forest_mapping-py"
  },
  "language_info": {
   "codemirror_mode": {
    "name": "ipython",
    "version": 3
   },
   "file_extension": ".py",
   "mimetype": "text/x-python",
   "name": "python",
   "nbconvert_exporter": "python",
   "pygments_lexer": "ipython3",
   "version": "3.6.7"
  }
 },
 "nbformat": 4,
 "nbformat_minor": 2
}
