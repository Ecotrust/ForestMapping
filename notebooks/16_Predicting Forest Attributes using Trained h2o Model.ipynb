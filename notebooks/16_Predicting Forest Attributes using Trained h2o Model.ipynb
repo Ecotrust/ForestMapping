{
 "cells": [
  {
   "cell_type": "code",
   "execution_count": null,
   "metadata": {},
   "outputs": [],
   "source": [
    "## Load h2o and do some predictions!"
   ]
  },
  {
   "cell_type": "code",
   "execution_count": null,
   "metadata": {},
   "outputs": [],
   "source": [
    "import pandas as pd\n",
    "import numpy as np\n",
    "import rasterio\n",
    "import h2o\n",
    "from h2o.estimators.gbm import H2OGradientBoostingEstimator\n",
    "from matplotlib import pyplot as plt\n",
    "%matplotlib inline"
   ]
  },
  {
   "cell_type": "code",
   "execution_count": null,
   "metadata": {},
   "outputs": [],
   "source": [
    "h2o.init()"
   ]
  },
  {
   "cell_type": "code",
   "execution_count": null,
   "metadata": {},
   "outputs": [],
   "source": [
    "ACQ_NAME = 'klamath_2010'\n",
    "DATA_FILE = '../data/processed/{}_features.csv'.format(ACQ_NAME)\n",
    "hf = h2o.import_file(DATA_FILE)"
   ]
  },
  {
   "cell_type": "code",
   "execution_count": null,
   "metadata": {},
   "outputs": [],
   "source": [
    "hf.describe()"
   ]
  },
  {
   "cell_type": "code",
   "execution_count": null,
   "metadata": {},
   "outputs": [],
   "source": [
    "LIDAR_COLS = ['strat0_return-proportion', 'strat1_return-proportion', \n",
    "              'strat2_return-proportion', 'strat3_return-proportion', 'strat4_return-proportion', \n",
    "              'strat5_return-proportion', 'strat0_intensity-median', 'strat1_intensity-median', \n",
    "              'strat2_intensity-median', 'strat3_intensity-median', 'strat4_intensity-median', \n",
    "              'strat5_intensity-median', 'height_05-percentile', 'height_25-percentile', \n",
    "              'height_50-percentile', 'height_75-percentile', 'height_95_percentile', \n",
    "              'height_max', 'cover', 'potential_volume', 'stddev_height', 'surface_area_ratio', \n",
    "              'surface_volume', 'surface_volume_ratio', 'aspect', 'elevation', 'overall_curvature', \n",
    "              'plan_curvature', 'profile_curvature', 'slope', 'solar_radiation_index']\n",
    "LANDSAT_COLS = ['green', 'blue', 'red', 'nir', 'endvi', 'ndvi', 'savi', 'swir1',\n",
    "                'swir2', 'wetness', 'greenness', 'brightness']\n",
    "CLIMATE_COLS = ['mat','mwmt','mcmt','td','map','msp',\n",
    "                'ahm','shm','dd_0','dd5','dd_18','dd18',\n",
    "                'nffd','bffp','effp','ffp','pas','emt',\n",
    "                'ext','eref','cmd','rh']\n",
    "SOIL_COLS = ['bulk_dens', 'soil_depth', 'pct_clay_surf', 'pct_rock_surf', 'pct_sand_surf']"
   ]
  },
  {
   "cell_type": "code",
   "execution_count": null,
   "metadata": {},
   "outputs": [],
   "source": [
    "hf['eref'] = hf['eref'].asnumeric()\n",
    "hf['pot_veg_type'] = hf['pot_veg_type'].asfactor()\n",
    "hf[LIDAR_COLS] = hf[LIDAR_COLS].asnumeric()"
   ]
  },
  {
   "cell_type": "code",
   "execution_count": null,
   "metadata": {},
   "outputs": [],
   "source": [
    "FOREST_TYPE_MODEL = '../models/gbm_forest_type_rebalance/gbm_type_rebalance'\n",
    "gbm_forest_type_model = h2o.load_model(FOREST_TYPE_MODEL)\n",
    "\n",
    "SIZE_CLASS_MODEL = '../models/gbm_size_class/gbm_size_class'\n",
    "gbm_size_class_model = h2o.load_model(SIZE_CLASS_MODEL)\n",
    "\n",
    "COVER_MODEL = '../models/gbm_cov_class/gbm_cov_class'\n",
    "gbm_cover_model = h2o.load_model(COVER_MODEL)"
   ]
  },
  {
   "cell_type": "code",
   "execution_count": null,
   "metadata": {},
   "outputs": [],
   "source": [
    "type_res = gbm_forest_type_model.predict(hf)"
   ]
  },
  {
   "cell_type": "code",
   "execution_count": null,
   "metadata": {},
   "outputs": [],
   "source": [
    "size_res = gbm_size_class_model.predict(hf)"
   ]
  },
  {
   "cell_type": "code",
   "execution_count": null,
   "metadata": {},
   "outputs": [],
   "source": [
    "cover_res = gbm_cover_model.predict(hf)"
   ]
  },
  {
   "cell_type": "code",
   "execution_count": null,
   "metadata": {},
   "outputs": [],
   "source": [
    "type_preds = type_res['predict'].as_data_frame()\n",
    "size_preds = size_res['predict'].as_data_frame()\n",
    "cover_preds = cover_res['predict'].as_data_frame()"
   ]
  },
  {
   "cell_type": "code",
   "execution_count": null,
   "metadata": {},
   "outputs": [],
   "source": [
    "size_classes = {'Nonstocked':1, 'Seedling-Sapling':2, 'Small':3, 'Medium':4, 'Large':5, 'Very Large':6}\n",
    "size_lookup = pd.DataFrame(size_classes.values(), index=size_classes.keys(), columns=['id'])\n",
    "size_lookup.head()"
   ]
  },
  {
   "cell_type": "code",
   "execution_count": null,
   "metadata": {},
   "outputs": [],
   "source": [
    "cover_classes = {'Sparse':1, 'Open':2, 'Moderate':3, 'Closed':4}\n",
    "cover_lookup = pd.DataFrame(cover_classes.values(), index=cover_classes.keys(), columns=['id'])\n",
    "cover_lookup.head()"
   ]
  },
  {
   "cell_type": "code",
   "execution_count": null,
   "metadata": {},
   "outputs": [],
   "source": [
    "forest_type_lookup = pd.read_csv('../data/processed/sppgrp_forest_type_crosswalk.csv', \n",
    "                                 names=['id', 'name'], \n",
    "                                 header=0, \n",
    "                                 index_col='name')\n",
    "forest_type_lookup['id'] = forest_type_lookup['id'] + 1\n",
    "forest_type_lookup.head()          "
   ]
  },
  {
   "cell_type": "code",
   "execution_count": null,
   "metadata": {},
   "outputs": [],
   "source": [
    "LIDARMETS = '../data/processed/rasters_for_modeling/{}_lidar_rescaled.tif'.format(ACQ_NAME)\n",
    "with rasterio.open(LIDARMETS) as lidar_src:\n",
    "    raster_meta = lidar_src.meta.copy()\n",
    "    ht95 = lidar_src.read(17 , masked=True)  # 'height_95_percentile', \n",
    "    cover = lidar_src.read(19 , masked=True)  # 'cover'"
   ]
  },
  {
   "cell_type": "code",
   "execution_count": null,
   "metadata": {},
   "outputs": [],
   "source": [
    "non_forest = (ht95 < 1.3) * (cover < 10)\n",
    "plt.imshow(non_forest)"
   ]
  },
  {
   "cell_type": "code",
   "execution_count": null,
   "metadata": {},
   "outputs": [],
   "source": [
    "non_forest = np.ma.masked_where(~non_forest, non_forest)"
   ]
  },
  {
   "cell_type": "code",
   "execution_count": null,
   "metadata": {},
   "outputs": [],
   "source": [
    "good_data = hf['C1'].as_data_frame()\n",
    "good_data = good_data.set_index('C1')"
   ]
  },
  {
   "cell_type": "code",
   "execution_count": null,
   "metadata": {},
   "outputs": [],
   "source": [
    "data = pd.DataFrame(np.zeros(lidar_src.shape).flatten()).drop(0, axis=1)"
   ]
  },
  {
   "cell_type": "code",
   "execution_count": null,
   "metadata": {},
   "outputs": [],
   "source": [
    "data.head()"
   ]
  },
  {
   "cell_type": "code",
   "execution_count": null,
   "metadata": {},
   "outputs": [],
   "source": [
    "good_data.loc[:, 'forest_type_prediction'] = type_preds.values\n",
    "good_data.loc[:, 'size_class_prediction'] = size_preds.values\n",
    "good_data.loc[:, 'cover_class_prediction'] = cover_preds.values"
   ]
  },
  {
   "cell_type": "code",
   "execution_count": null,
   "metadata": {},
   "outputs": [],
   "source": [
    "good_data['forest_type_id'] = forest_type_lookup.loc[good_data['forest_type_prediction']].values\n",
    "good_data['size_class_id'] = size_lookup.loc[good_data['size_class_prediction']].values\n",
    "good_data['cover_class_id'] = cover_lookup.loc[good_data['cover_class_prediction']].values"
   ]
  },
  {
   "cell_type": "code",
   "execution_count": null,
   "metadata": {},
   "outputs": [],
   "source": [
    "good_data[['forest_type_prediction', 'forest_type_id', \n",
    "           'size_class_prediction', 'size_class_id',\n",
    "           'cover_class_prediction', 'cover_class_id'\n",
    "          ]].head()"
   ]
  },
  {
   "cell_type": "code",
   "execution_count": null,
   "metadata": {},
   "outputs": [],
   "source": [
    "data['forest_type_id'] = good_data['forest_type_id']\n",
    "data['forest_type_id'] = data['forest_type_id'].fillna(0).astype(int)\n",
    "\n",
    "data['size_class_id'] = good_data['size_class_id']\n",
    "data['size_class_id'] = data['size_class_id'].fillna(0).astype(int)\n",
    "\n",
    "data['cover_class_id'] = good_data['cover_class_id']\n",
    "data['cover_class_id'] = data['cover_class_id'].fillna(0).astype(int)"
   ]
  },
  {
   "cell_type": "code",
   "execution_count": null,
   "metadata": {},
   "outputs": [],
   "source": [
    "non_forest.mask"
   ]
  },
  {
   "cell_type": "code",
   "execution_count": null,
   "metadata": {},
   "outputs": [],
   "source": [
    "type_reshaped = data['forest_type_id'].values.reshape(lidar_src.shape)\n",
    "size_reshaped = data['size_class_id'].values.reshape(lidar_src.shape)\n",
    "cover_reshaped = data['cover_class_id'].values.reshape(lidar_src.shape)\n",
    "\n",
    "type_reshaped[~non_forest.mask] = 0\n",
    "size_reshaped[~non_forest.mask] = 0\n",
    "cover_reshaped[~non_forest.mask] = 0\n",
    "\n",
    "\n",
    "fig, axs = plt.subplots(1,3, figsize=(10,5))\n",
    "axs[0].imshow(type_reshaped)\n",
    "axs[1].imshow(size_reshaped)\n",
    "axs[2].imshow(cover_reshaped)\n",
    "\n",
    "plt.show()"
   ]
  },
  {
   "cell_type": "code",
   "execution_count": null,
   "metadata": {},
   "outputs": [],
   "source": [
    "raster_meta.update(dtype = 'uint8',\n",
    "                nodata=0,\n",
    "                count = 3)\n",
    "raster_meta"
   ]
  },
  {
   "cell_type": "code",
   "execution_count": null,
   "metadata": {},
   "outputs": [],
   "source": [
    "with rasterio.open('../data/processed/predictions/{}_forest_type_predictions.tif'.format(ACQ_NAME), \n",
    "                   'w', **raster_meta) as dst:\n",
    "    dst.write(type_reshaped.astype(rasterio.uint8), 1)\n",
    "    dst.set_band_description(1, 'forest_type')\n",
    "    \n",
    "    dst.write(size_reshaped.astype(rasterio.uint8), 2)\n",
    "    dst.set_band_description(2, 'size_class')\n",
    "    \n",
    "    dst.write(cover_reshaped.astype(rasterio.uint8), 3)\n",
    "    dst.set_band_description(3, 'cover_class')"
   ]
  },
  {
   "cell_type": "code",
   "execution_count": null,
   "metadata": {},
   "outputs": [],
   "source": [
    "with rasterio.open('../data/processed/predictions/{}_forest_type_predictions.tif'.format(ACQ_NAME), \n",
    "                   'r') as src:\n",
    "    img = src.read(1, masked=True)\n",
    "plt.imshow(img)"
   ]
  },
  {
   "cell_type": "code",
   "execution_count": null,
   "metadata": {},
   "outputs": [],
   "source": [
    "# h2o.cluster().shutdown()"
   ]
  }
 ],
 "metadata": {
  "kernelspec": {
   "display_name": "Python [conda env:forest_mapping]",
   "language": "python",
   "name": "conda-env-forest_mapping-py"
  },
  "language_info": {
   "codemirror_mode": {
    "name": "ipython",
    "version": 3
   },
   "file_extension": ".py",
   "mimetype": "text/x-python",
   "name": "python",
   "nbconvert_exporter": "python",
   "pygments_lexer": "ipython3",
   "version": "3.6.7"
  }
 },
 "nbformat": 4,
 "nbformat_minor": 2
}
