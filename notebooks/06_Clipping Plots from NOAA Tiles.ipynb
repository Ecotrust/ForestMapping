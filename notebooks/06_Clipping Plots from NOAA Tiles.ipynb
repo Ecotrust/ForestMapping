{
 "cells": [
  {
   "cell_type": "markdown",
   "metadata": {},
   "source": [
    "In this notebook, we will clip 1-hectare and smaller plot-sized excerpts from lidar point cloud tiles provided by NOAA. We will update the names of these acquisitions for consistency with other data sources we're combining them with (instead of the NOAA ID #s)"
   ]
  },
  {
   "cell_type": "code",
   "execution_count": 1,
   "metadata": {},
   "outputs": [],
   "source": [
    "import geopandas as gpd\n",
    "import pandas as pd\n",
    "import os\n",
    "import glob\n",
    "import subprocess\n",
    "import dask\n",
    "from dask.distributed import LocalCluster, Client, progress"
   ]
  },
  {
   "cell_type": "code",
   "execution_count": 13,
   "metadata": {},
   "outputs": [
    {
     "name": "stdout",
     "output_type": "stream",
     "text": [
      "<class 'geopandas.geodataframe.GeoDataFrame'>\n",
      "RangeIndex: 5089 entries, 0 to 5088\n",
      "Data columns (total 10 columns):\n",
      "comments     496 non-null object\n",
      "lat          5089 non-null float64\n",
      "lon          5089 non-null float64\n",
      "meas_date    3866 non-null object\n",
      "orig_id      5089 non-null object\n",
      "plot_id      3866 non-null object\n",
      "source       5089 non-null object\n",
      "meas_yr      5089 non-null int64\n",
      "uuid         5089 non-null object\n",
      "geometry     5089 non-null object\n",
      "dtypes: float64(2), int64(1), object(7)\n",
      "memory usage: 397.7+ KB\n"
     ]
    }
   ],
   "source": [
    "PLOTS = '../data/processed/blm_usfs_wadnr_plots_1ha.shp'\n",
    "plots = gpd.read_file(PLOTS)\n",
    "plots['geometry'] = plots.centroid\n",
    "plots.info()"
   ]
  },
  {
   "cell_type": "code",
   "execution_count": 14,
   "metadata": {},
   "outputs": [
    {
     "data": {
      "text/plain": [
       "{'init': 'epsg:4326'}"
      ]
     },
     "execution_count": 14,
     "metadata": {},
     "output_type": "execute_result"
    }
   ],
   "source": [
    "plots.crs"
   ]
  },
  {
   "cell_type": "code",
   "execution_count": 15,
   "metadata": {},
   "outputs": [
    {
     "name": "stdout",
     "output_type": "stream",
     "text": [
      "<class 'geopandas.geodataframe.GeoDataFrame'>\n",
      "RangeIndex: 3617 entries, 0 to 3616\n",
      "Data columns (total 12 columns):\n",
      "file_name     3617 non-null object\n",
      "version       3617 non-null object\n",
      "num_points    3617 non-null int64\n",
      "point_type    3617 non-null int64\n",
      "point_size    3617 non-null int64\n",
      "min_x         3617 non-null float64\n",
      "max_x         3617 non-null float64\n",
      "min_y         3617 non-null float64\n",
      "max_y         3617 non-null float64\n",
      "min_z         3617 non-null float64\n",
      "max_z         3617 non-null float64\n",
      "geometry      3617 non-null object\n",
      "dtypes: float64(6), int64(3), object(3)\n",
      "memory usage: 339.2+ KB\n"
     ]
    }
   ],
   "source": [
    "TILE_IDX = '../data/raw/lidar/noaa_tiles/noaa_tileindex.shp'\n",
    "tile_idx = gpd.read_file(TILE_IDX)\n",
    "tile_idx.info()"
   ]
  },
  {
   "cell_type": "code",
   "execution_count": 16,
   "metadata": {},
   "outputs": [
    {
     "data": {
      "text/plain": [
       "{'init': 'epsg:4326'}"
      ]
     },
     "execution_count": 16,
     "metadata": {},
     "output_type": "execute_result"
    }
   ],
   "source": [
    "tile_idx.crs"
   ]
  },
  {
   "cell_type": "code",
   "execution_count": 17,
   "metadata": {},
   "outputs": [],
   "source": [
    "tile_idx['noaa_id'] = tile_idx.file_name.apply(lambda x: x.split('_')[0].split('NOAA')[-1]).astype(int)\n",
    "tile_idx = tile_idx.to_crs({'init':'epsg:4326'})"
   ]
  },
  {
   "cell_type": "code",
   "execution_count": 18,
   "metadata": {},
   "outputs": [
    {
     "data": {
      "text/html": [
       "<div>\n",
       "<style scoped>\n",
       "    .dataframe tbody tr th:only-of-type {\n",
       "        vertical-align: middle;\n",
       "    }\n",
       "\n",
       "    .dataframe tbody tr th {\n",
       "        vertical-align: top;\n",
       "    }\n",
       "\n",
       "    .dataframe thead th {\n",
       "        text-align: right;\n",
       "    }\n",
       "</style>\n",
       "<table border=\"1\" class=\"dataframe\">\n",
       "  <thead>\n",
       "    <tr style=\"text-align: right;\">\n",
       "      <th></th>\n",
       "      <th>acq_name</th>\n",
       "    </tr>\n",
       "    <tr>\n",
       "      <th>noaa_id</th>\n",
       "      <th></th>\n",
       "    </tr>\n",
       "  </thead>\n",
       "  <tbody>\n",
       "    <tr>\n",
       "      <th>3</th>\n",
       "      <td>west-coast_1997</td>\n",
       "    </tr>\n",
       "    <tr>\n",
       "      <th>4</th>\n",
       "      <td>west-coast_1998</td>\n",
       "    </tr>\n",
       "    <tr>\n",
       "      <th>12</th>\n",
       "      <td>willapa_2002</td>\n",
       "    </tr>\n",
       "    <tr>\n",
       "      <th>14</th>\n",
       "      <td>pacific-coast-shoreline_2002</td>\n",
       "    </tr>\n",
       "    <tr>\n",
       "      <th>81</th>\n",
       "      <td>panther-creek-leaf-on_2007</td>\n",
       "    </tr>\n",
       "  </tbody>\n",
       "</table>\n",
       "</div>"
      ],
      "text/plain": [
       "                             acq_name\n",
       "noaa_id                              \n",
       "3                     west-coast_1997\n",
       "4                     west-coast_1998\n",
       "12                       willapa_2002\n",
       "14       pacific-coast-shoreline_2002\n",
       "81         panther-creek-leaf-on_2007"
      ]
     },
     "execution_count": 18,
     "metadata": {},
     "output_type": "execute_result"
    }
   ],
   "source": [
    "NOAA_NAMES = '../data/raw/lidar/noaa_tiles/noaa_acq_name_lookup.csv'\n",
    "noaa_name_lookup = pd.read_csv(NOAA_NAMES).set_index('noaa_id')\n",
    "noaa_name_lookup.head()"
   ]
  },
  {
   "cell_type": "code",
   "execution_count": 19,
   "metadata": {},
   "outputs": [],
   "source": [
    "# assign acquisition names to noaa tiles based on tile_ids\n",
    "tile_idx['acq_name'] = tile_idx.noaa_id.apply(lambda x: noaa_name_lookup.loc[x])"
   ]
  },
  {
   "cell_type": "code",
   "execution_count": 20,
   "metadata": {},
   "outputs": [
    {
     "name": "stdout",
     "output_type": "stream",
     "text": [
      "<class 'geopandas.geodataframe.GeoDataFrame'>\n",
      "RangeIndex: 2 entries, 0 to 1\n",
      "Data columns (total 2 columns):\n",
      "geometry    2 non-null object\n",
      "ZONE        2 non-null object\n",
      "dtypes: object(2)\n",
      "memory usage: 112.0+ bytes\n"
     ]
    }
   ],
   "source": [
    "UTM_10 = '../data/external/utm_zone10_epsg4326.shp'\n",
    "UTM_11 = '../data/external/utm_zone11_epsg4326.shp'\n",
    "utm_10 = gpd.read_file(UTM_10)\n",
    "utm_11 = gpd.read_file(UTM_11)\n",
    "utm_zones = pd.concat((utm_10, utm_11),\n",
    "                      axis=0,\n",
    "                      ignore_index=True)[['geometry', 'ZONE']]\n",
    "utm_zones.info()"
   ]
  },
  {
   "cell_type": "code",
   "execution_count": 25,
   "metadata": {},
   "outputs": [
    {
     "data": {
      "text/plain": [
       "5089"
      ]
     },
     "execution_count": 25,
     "metadata": {},
     "output_type": "execute_result"
    }
   ],
   "source": [
    "plot_utm = gpd.sjoin(plots, utm_zones)[['uuid', 'ZONE', 'source', 'geometry']].set_index('uuid')\n",
    "plot_utm['epsg'] = plot_utm.ZONE.apply(lambda x: 6339 if (x == '10') else 6340)\n",
    "len(plot_utm)"
   ]
  },
  {
   "cell_type": "code",
   "execution_count": 85,
   "metadata": {},
   "outputs": [],
   "source": [
    "# define the utm coordinates of the centroid of each plot in that zone\n",
    "for epsg in [6339, 6340]:\n",
    "    plot_utm.loc[plot_utm.epsg == epsg, 'utm_x'] = plot_utm.loc[plot_utm.epsg == epsg].to_crs({'init': 'epsg:{}'.format(epsg)}).centroid.x\n",
    "    plot_utm.loc[plot_utm.epsg == epsg, 'utm_y'] = plot_utm.loc[plot_utm.epsg == epsg].to_crs({'init': 'epsg:{}'.format(epsg)}).centroid.y"
   ]
  },
  {
   "cell_type": "code",
   "execution_count": 31,
   "metadata": {},
   "outputs": [],
   "source": [
    "joined = gpd.sjoin(plot_utm, tile_idx[['geometry', 'file_name', 'acq_name']]).drop('index_right', axis=1)"
   ]
  },
  {
   "cell_type": "code",
   "execution_count": 32,
   "metadata": {},
   "outputs": [
    {
     "name": "stdout",
     "output_type": "stream",
     "text": [
      "<class 'geopandas.geodataframe.GeoDataFrame'>\n",
      "Index: 3714 entries, 672f4279-a744-44ba-86b9-933cae1639cb to b4d87c56-955b-4184-aac2-5db1ab1fd4ba\n",
      "Data columns (total 8 columns):\n",
      "ZONE         3714 non-null object\n",
      "source       3714 non-null object\n",
      "geometry     3714 non-null object\n",
      "epsg         3714 non-null int64\n",
      "utm_x        3714 non-null float64\n",
      "utm_y        3714 non-null float64\n",
      "file_name    3714 non-null object\n",
      "acq_name     3714 non-null object\n",
      "dtypes: float64(2), int64(1), object(5)\n",
      "memory usage: 261.1+ KB\n"
     ]
    }
   ],
   "source": [
    "joined.info()"
   ]
  },
  {
   "cell_type": "code",
   "execution_count": 38,
   "metadata": {},
   "outputs": [
    {
     "data": {
      "text/html": [
       "<div>\n",
       "<style scoped>\n",
       "    .dataframe tbody tr th:only-of-type {\n",
       "        vertical-align: middle;\n",
       "    }\n",
       "\n",
       "    .dataframe tbody tr th {\n",
       "        vertical-align: top;\n",
       "    }\n",
       "\n",
       "    .dataframe thead th {\n",
       "        text-align: right;\n",
       "    }\n",
       "</style>\n",
       "<table border=\"1\" class=\"dataframe\">\n",
       "  <thead>\n",
       "    <tr style=\"text-align: right;\">\n",
       "      <th></th>\n",
       "      <th>uuid</th>\n",
       "      <th>ZONE</th>\n",
       "      <th>source</th>\n",
       "      <th>geometry</th>\n",
       "      <th>epsg</th>\n",
       "      <th>utm_x</th>\n",
       "      <th>utm_y</th>\n",
       "      <th>file_name</th>\n",
       "      <th>acq_name</th>\n",
       "    </tr>\n",
       "  </thead>\n",
       "  <tbody>\n",
       "    <tr>\n",
       "      <th>0</th>\n",
       "      <td>672f4279-a744-44ba-86b9-933cae1639cb</td>\n",
       "      <td>10</td>\n",
       "      <td>USFS-GIFFORD-PINCHOT</td>\n",
       "      <td>POINT (-122.2449995 45.75772433102937)</td>\n",
       "      <td>6339</td>\n",
       "      <td>558716.024317</td>\n",
       "      <td>5.067407e+06</td>\n",
       "      <td>NOAA6331_20170403_USGS_LPC_WA_Western_South_20...</td>\n",
       "      <td>wa-western_2016</td>\n",
       "    </tr>\n",
       "    <tr>\n",
       "      <th>1</th>\n",
       "      <td>c5a52bf7-6d95-47d4-b319-00d3f34a6d42</td>\n",
       "      <td>10</td>\n",
       "      <td>USFS-GIFFORD-PINCHOT</td>\n",
       "      <td>POINT (-121.8728871000001 45.99883556102178)</td>\n",
       "      <td>6339</td>\n",
       "      <td>587276.602779</td>\n",
       "      <td>5.094536e+06</td>\n",
       "      <td>NOAA6341_45121H71101A.laz</td>\n",
       "      <td>wasco_2015</td>\n",
       "    </tr>\n",
       "    <tr>\n",
       "      <th>2</th>\n",
       "      <td>dc5667e6-18e6-426b-9ea7-a6c52a74d2db</td>\n",
       "      <td>10</td>\n",
       "      <td>USFS-GIFFORD-PINCHOT</td>\n",
       "      <td>POINT (-121.8637798000001 45.98675064102214)</td>\n",
       "      <td>6339</td>\n",
       "      <td>588000.966298</td>\n",
       "      <td>5.093203e+06</td>\n",
       "      <td>NOAA6341_45121H71106B.laz</td>\n",
       "      <td>wasco_2015</td>\n",
       "    </tr>\n",
       "    <tr>\n",
       "      <th>3</th>\n",
       "      <td>154f562f-c3b2-4d5a-a303-f62900fd8a60</td>\n",
       "      <td>10</td>\n",
       "      <td>USFS-GIFFORD-PINCHOT</td>\n",
       "      <td>POINT (-121.9608099999999 45.98510501102219)</td>\n",
       "      <td>6339</td>\n",
       "      <td>580488.330145</td>\n",
       "      <td>5.092918e+06</td>\n",
       "      <td>NOAA6341_45121H81109A.laz</td>\n",
       "      <td>wasco_2015</td>\n",
       "    </tr>\n",
       "    <tr>\n",
       "      <th>4</th>\n",
       "      <td>ac47ea0b-14fc-43cb-9b24-610102be8dd5</td>\n",
       "      <td>10</td>\n",
       "      <td>USFS-GIFFORD-PINCHOT</td>\n",
       "      <td>POINT (-121.934112 45.97933816102238)</td>\n",
       "      <td>6339</td>\n",
       "      <td>582564.733951</td>\n",
       "      <td>5.092304e+06</td>\n",
       "      <td>NOAA6341_45121H82206C.laz</td>\n",
       "      <td>wasco_2015</td>\n",
       "    </tr>\n",
       "  </tbody>\n",
       "</table>\n",
       "</div>"
      ],
      "text/plain": [
       "                                   uuid ZONE                source  \\\n",
       "0  672f4279-a744-44ba-86b9-933cae1639cb   10  USFS-GIFFORD-PINCHOT   \n",
       "1  c5a52bf7-6d95-47d4-b319-00d3f34a6d42   10  USFS-GIFFORD-PINCHOT   \n",
       "2  dc5667e6-18e6-426b-9ea7-a6c52a74d2db   10  USFS-GIFFORD-PINCHOT   \n",
       "3  154f562f-c3b2-4d5a-a303-f62900fd8a60   10  USFS-GIFFORD-PINCHOT   \n",
       "4  ac47ea0b-14fc-43cb-9b24-610102be8dd5   10  USFS-GIFFORD-PINCHOT   \n",
       "\n",
       "                                       geometry  epsg          utm_x  \\\n",
       "0        POINT (-122.2449995 45.75772433102937)  6339  558716.024317   \n",
       "1  POINT (-121.8728871000001 45.99883556102178)  6339  587276.602779   \n",
       "2  POINT (-121.8637798000001 45.98675064102214)  6339  588000.966298   \n",
       "3  POINT (-121.9608099999999 45.98510501102219)  6339  580488.330145   \n",
       "4         POINT (-121.934112 45.97933816102238)  6339  582564.733951   \n",
       "\n",
       "          utm_y                                          file_name  \\\n",
       "0  5.067407e+06  NOAA6331_20170403_USGS_LPC_WA_Western_South_20...   \n",
       "1  5.094536e+06                          NOAA6341_45121H71101A.laz   \n",
       "2  5.093203e+06                          NOAA6341_45121H71106B.laz   \n",
       "3  5.092918e+06                          NOAA6341_45121H81109A.laz   \n",
       "4  5.092304e+06                          NOAA6341_45121H82206C.laz   \n",
       "\n",
       "          acq_name  \n",
       "0  wa-western_2016  \n",
       "1       wasco_2015  \n",
       "2       wasco_2015  \n",
       "3       wasco_2015  \n",
       "4       wasco_2015  "
      ]
     },
     "execution_count": 38,
     "metadata": {},
     "output_type": "execute_result"
    }
   ],
   "source": [
    "joined.reset_index().rename({'index':'uuid'}, axis=1).head()"
   ]
  },
  {
   "cell_type": "code",
   "execution_count": 33,
   "metadata": {},
   "outputs": [],
   "source": [
    "# we'll need to do a groupby forest data source (USFS, BLM, DNR) \n",
    "# as well as lidar acquisition name so that each combo can be processed separately\n",
    "# we'll need to do this for both UTM 10 and 11"
   ]
  },
  {
   "cell_type": "code",
   "execution_count": 39,
   "metadata": {},
   "outputs": [],
   "source": [
    "GROUP_COLS = ['acq_name', 'source', 'uuid', 'file_name']\n",
    "matching_tiles = joined.reset_index().rename({'index':'uuid'}, axis=1).groupby(by=GROUP_COLS).sum().reset_index()[GROUP_COLS].set_index('uuid')"
   ]
  },
  {
   "cell_type": "code",
   "execution_count": null,
   "metadata": {},
   "outputs": [],
   "source": [
    "plot_utm = plot_utm.loc[joined.index]"
   ]
  },
  {
   "cell_type": "code",
   "execution_count": 73,
   "metadata": {},
   "outputs": [],
   "source": [
    "@dask.delayed\n",
    "def clip_1ha_plots(uuid):\n",
    "    source = plot_utm.loc[uuid]['source']\n",
    "    TILE_DIR = '../data/raw/lidar/noaa_tiles/utm_laz/'\n",
    "    \n",
    "    if 'BLM' in source:\n",
    "        ODIR = '../data/interim/lidar/plot_clips/noaa/blm_plots/hectare_clips/'\n",
    "    elif 'USFS' in source:\n",
    "        ODIR = '../data/interim/lidar/plot_clips/noaa/usfs_plots/hectare_clips/'\n",
    "    elif 'WA-DNR' in source:\n",
    "        ODIR = '../data/interim/lidar/plot_clips/noaa/dnr_plots/hectare_clips/'\n",
    "    \n",
    "    # grab the coordinates of the plot for clipping\n",
    "    x, y = plot_utm.loc[uuid][['utm_x', 'utm_y']]\n",
    "    \n",
    "    PLOT_RADIUS_M = 56.418  # radius of 1-hectare plot (185.1 ft)\n",
    "    \n",
    "    # find all matching tiles \n",
    "    all_matching_tiles = matching_tiles.loc[[uuid]]\n",
    "    # loop through each lidar acquisition to clip the plots\n",
    "    procs = []\n",
    "    for acq in pd.unique(all_matching_tiles['acq_name']):\n",
    "        out_name = uuid + '_' + acq + '.laz'\n",
    "        outfile = os.path.join(ODIR, out_name)\n",
    "        \n",
    "        tiles = all_matching_tiles.loc[all_matching_tiles['acq_name'] == acq]['file_name'].values\n",
    "        tiles = [os.path.join(TILE_DIR, t) for t in tiles]\n",
    "        print(tiles)\n",
    "\n",
    "        proc = subprocess.run(['wine', '/storage/lidar/LAStools/bin/las2las.exe',\n",
    "                               '-i', *tiles, '-merged',\n",
    "                               '-o', outfile,\n",
    "                               '-keep_circle', str(x), str(y), str(PLOT_RADIUS_M)],\n",
    "                              stderr=subprocess.PIPE,\n",
    "                              stdout=subprocess.PIPE)\n",
    "        procs.append(proc)\n",
    "#         print(outfile, flush=True)\n",
    "#     print(uuid, flush=True)\n",
    "    return procs"
   ]
  },
  {
   "cell_type": "code",
   "execution_count": 74,
   "metadata": {},
   "outputs": [],
   "source": [
    "@dask.delayed\n",
    "def clip_smaller_plots(ha_clip):\n",
    "    dirname, basename = os.path.split(ha_clip)\n",
    "    outfile = os.path.abspath(os.path.join(dirname, '..', 'plot_clips', basename))\n",
    "\n",
    "    uuid = os.path.basename(ha_clip).split('_')[0]\n",
    "    \n",
    "    # grab the coordinates of the plot for clipping\n",
    "    x, y = plot_utm.loc[uuid][['utm_x', 'utm_y']]\n",
    "    \n",
    "    source = plot_utm.loc[uuid]['source']\n",
    "    if 'WA-DNR' in source:\n",
    "        # radius of 1/10th acre plot (37.2 ft)\n",
    "        PLOT_RADIUS_M = 11.35  \n",
    "    elif 'USFS' in source:\n",
    "        # radius of 1/4 acre plot (58.9 ft)\n",
    "        PLOT_RADIUS_M = 17.9454 \n",
    "    elif 'BLM' in source:\n",
    "        # radius of 1/8th acre plot (41.6 ft)\n",
    "        PLOT_RADIUS_M = 12.69  \n",
    "    \n",
    "    proc = subprocess.run(['wine', '/storage/lidar/LAStools/bin/las2las.exe',\n",
    "                           '-i', ha_clip,\n",
    "                           '-o', outfile,\n",
    "                           '-keep_circle', str(x), str(y), str(PLOT_RADIUS_M)],\n",
    "                          stderr=subprocess.PIPE,\n",
    "                          stdout=subprocess.PIPE)\n",
    "#     print(outfile, flush=True)\n",
    "    return proc"
   ]
  },
  {
   "cell_type": "code",
   "execution_count": 43,
   "metadata": {},
   "outputs": [],
   "source": [
    "cluster=LocalCluster(scheduler_port=7001, diagnostics_port=7002)\n",
    "c = Client(cluster)"
   ]
  },
  {
   "cell_type": "code",
   "execution_count": 72,
   "metadata": {},
   "outputs": [
    {
     "data": {
      "text/plain": [
       "[<Future: status: finished, type: GeoDataFrame, key: GeoDataFrame-93930e39aabe2cab9ce0185177e747c9>,\n",
       " <Future: status: finished, type: GeoDataFrame, key: GeoDataFrame-c3a6361187a28d5d274966292ae97c9f>,\n",
       " <Future: status: finished, type: DataFrame, key: DataFrame-b9922fe204a2a9b8925c6d4007d7bcc1>]"
      ]
     },
     "execution_count": 72,
     "metadata": {},
     "output_type": "execute_result"
    }
   ],
   "source": [
    "c.scatter([plot_utm, joined, matching_tiles])"
   ]
  },
  {
   "cell_type": "code",
   "execution_count": 75,
   "metadata": {},
   "outputs": [
    {
     "data": {
      "text/plain": [
       "3140"
      ]
     },
     "execution_count": 75,
     "metadata": {},
     "output_type": "execute_result"
    }
   ],
   "source": [
    "plot_ids = pd.unique(joined.index)\n",
    "len(plot_ids)"
   ]
  },
  {
   "cell_type": "code",
   "execution_count": 76,
   "metadata": {},
   "outputs": [
    {
     "data": {
      "application/vnd.jupyter.widget-view+json": {
       "model_id": "9f3fcaf80d1644ad82e30f6a2a6ef820",
       "version_major": 2,
       "version_minor": 0
      },
      "text/plain": [
       "VBox()"
      ]
     },
     "metadata": {},
     "output_type": "display_data"
    }
   ],
   "source": [
    "res = c.persist([clip_1ha_plots(i) for i in plot_ids])\n",
    "progress(res)"
   ]
  },
  {
   "cell_type": "code",
   "execution_count": 77,
   "metadata": {},
   "outputs": [
    {
     "data": {
      "application/vnd.jupyter.widget-view+json": {
       "model_id": "417c30b490354eb29fc672c2be71bf49",
       "version_major": 2,
       "version_minor": 0
      },
      "text/plain": [
       "VBox()"
      ]
     },
     "metadata": {},
     "output_type": "display_data"
    }
   ],
   "source": [
    "usfs_ha = glob.glob('../data/interim/lidar/plot_clips/noaa/usfs_plots/hectare_clips/*.laz') \n",
    "blm_ha = glob.glob('../data/interim/lidar/plot_clips/noaa/blm_plots/hectare_clips/*.laz')\n",
    "dnr_ha = glob.glob('../data/interim/lidar/plot_clips/noaa/dnr_plots/hectare_clips/*.laz')\n",
    "ha_clips = usfs_ha + blm_ha + dnr_ha\n",
    "\n",
    "res = c.persist([clip_smaller_plots(f) for f in ha_clips])\n",
    "progress(res)"
   ]
  },
  {
   "cell_type": "code",
   "execution_count": 78,
   "metadata": {},
   "outputs": [
    {
     "data": {
      "text/plain": [
       "3212"
      ]
     },
     "execution_count": 78,
     "metadata": {},
     "output_type": "execute_result"
    }
   ],
   "source": [
    "usfs_plot = glob.glob('../data/interim/lidar/plot_clips/noaa/usfs_plots/plot_clips/*.laz') \n",
    "blm_plot = glob.glob('../data/interim/lidar/plot_clips/noaa/blm_plots/plot_clips/*.laz')\n",
    "dnr_plot = glob.glob('../data/interim/lidar/plot_clips/noaa/dnr_plots/plot_clips/*.laz')\n",
    "plot_clips = usfs_plot + blm_plot + dnr_plot\n",
    "len(plot_clips)"
   ]
  },
  {
   "cell_type": "code",
   "execution_count": 81,
   "metadata": {},
   "outputs": [],
   "source": [
    "@dask.delayed\n",
    "def get_boundary(infile, odir):\n",
    "    proc = subprocess.run(['wine', '/storage/lidar/LAStools/bin/lasboundary.exe',\n",
    "                           '-i', infile,\n",
    "                           '-odir', odir,\n",
    "                           '-oshp',\n",
    "                           '-labels'], \n",
    "                          stderr=subprocess.PIPE,\n",
    "                          stdout=subprocess.PIPE)\n",
    "#     print(outfile)\n",
    "    return proc"
   ]
  },
  {
   "cell_type": "code",
   "execution_count": 82,
   "metadata": {},
   "outputs": [],
   "source": [
    "USFS_HA = glob.glob('../data/interim/lidar/plot_clips/noaa/usfs_plots/hectare_clips/*.laz')\n",
    "USFS_PLOT = glob.glob('../data/interim/lidar/plot_clips/noaa/usfs_plots/plot_clips/*.laz')\n",
    "DNR_HA = glob.glob('../data/interim/lidar/plot_clips/noaa/dnr_plots/hectare_clips/*.laz')\n",
    "DNR_PLOT = glob.glob('../data/interim/lidar/plot_clips/noaa/dnr_plots/plot_clips/*.laz')\n",
    "BLM_HA = glob.glob('../data/interim/lidar/plot_clips/noaa/blm_plots/hectare_clips/*.laz')\n",
    "BLM_PLOT = glob.glob('../data/interim/lidar/plot_clips/noaa/blm_plots/plot_clips/*.laz')\n",
    "\n",
    "jobs_to_do = []\n",
    "PLOT_SETS = [USFS_HA, USFS_PLOT, DNR_HA, DNR_PLOT, BLM_HA, BLM_PLOT]\n",
    "ODIRS = ['../data/interim/lidar/plot_clips/noaa/usfs_plots/hectare_clips/',\n",
    "         '../data/interim/lidar/plot_clips/noaa/usfs_plots/plot_clips/',\n",
    "         '../data/interim/lidar/plot_clips/noaa/dnr_plots/hectare_clips/',\n",
    "         '../data/interim/lidar/plot_clips/noaa/dnr_plots/plot_clips/',\n",
    "         '../data/interim/lidar/plot_clips/noaa/blm_plots/hectare_clips/',\n",
    "         '../data/interim/lidar/plot_clips/noaa/blm_plots/plot_clips/']\n",
    "\n",
    "for plot_set, odir in zip(PLOT_SETS, ODIRS):\n",
    "    jobs_to_do += [get_boundary(p, odir=odir) for p in plot_set]"
   ]
  },
  {
   "cell_type": "code",
   "execution_count": 83,
   "metadata": {},
   "outputs": [
    {
     "data": {
      "application/vnd.jupyter.widget-view+json": {
       "model_id": "09fdf31bc3054d35881ab0eb00782088",
       "version_major": 2,
       "version_minor": 0
      },
      "text/plain": [
       "VBox()"
      ]
     },
     "metadata": {},
     "output_type": "display_data"
    }
   ],
   "source": [
    "res = c.persist(jobs_to_do)\n",
    "progress(res)"
   ]
  },
  {
   "cell_type": "code",
   "execution_count": 79,
   "metadata": {},
   "outputs": [],
   "source": [
    "# c.cancel(res)"
   ]
  },
  {
   "cell_type": "code",
   "execution_count": 86,
   "metadata": {},
   "outputs": [],
   "source": [
    "# c.close()\n",
    "# cluster.close()"
   ]
  }
 ],
 "metadata": {
  "kernelspec": {
   "display_name": "Python [conda env:pyFIRS] *",
   "language": "python",
   "name": "conda-env-pyFIRS-py"
  },
  "language_info": {
   "codemirror_mode": {
    "name": "ipython",
    "version": 3
   },
   "file_extension": ".py",
   "mimetype": "text/x-python",
   "name": "python",
   "nbconvert_exporter": "python",
   "pygments_lexer": "ipython3",
   "version": "3.6.7"
  }
 },
 "nbformat": 4,
 "nbformat_minor": 2
}
