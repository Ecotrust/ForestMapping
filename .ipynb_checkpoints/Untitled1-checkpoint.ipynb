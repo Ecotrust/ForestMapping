{
 "cells": [
  {
   "cell_type": "code",
   "execution_count": 1,
   "metadata": {},
   "outputs": [],
   "source": [
    "import ee\n",
    "import IPython.display \n",
    "import pprint\n",
    "import bqplot\n",
    "import datetime\n",
    "import dateutil.parser\n",
    "import ipywidgets\n",
    "import numpy as np\n",
    "import pandas as pd\n",
    "import traitlets\n",
    "\n",
    "# Configure the pretty printing output.\n",
    "pp = pprint.PrettyPrinter(depth=4)"
   ]
  },
  {
   "cell_type": "code",
   "execution_count": 2,
   "metadata": {},
   "outputs": [],
   "source": [
    "##Initialize connection to server\n",
    "ee.Initialize()"
   ]
  },
  {
   "cell_type": "code",
   "execution_count": 3,
   "metadata": {},
   "outputs": [],
   "source": [
    "aoi = ee.Geometry.Polygon([\n",
    "                    [-123.6, 42.0], [-119.9, 41.9], [-121.1, 45.6],\n",
    "                     [-123.8, 45.9], [-123.6, 42.0]])"
   ]
  },
  {
   "cell_type": "code",
   "execution_count": null,
   "metadata": {},
   "outputs": [],
   "source": [
    "l8sr = ee.ImageCollection('LANDSAT/LC08/C01/T1_SR')\\\n",
    "        .filterBounds(aoi)\\\n",
    "        .filter(ee.Filter.lt('CLOUD_COVER', 5))\\\n",
    "        .filterDate('2013-01-01', Date.now())\\\n",
    "        .map(function(image) {\n",
    "            return image.addBands(image.normalizedDifference(['B4', 'B3']).rename('ndvi'))\n",
    "        .select(['B2', 'B3', 'B4', 'B5', 'B6', 'B7', \"ndvi\"])\\\n",
    "        .rename(['blue', 'green', 'red', 'nir', 'swir1', 'swir2', 'ndvi'])\n",
    "\n",
    "})\n",
    "pp.pprint(l8sr.size().getInfo())"
   ]
  }
 ],
 "metadata": {
  "kernelspec": {
   "display_name": "Environment (conda_ee_py3)",
   "language": "python",
   "name": "conda_ee_py3"
  },
  "language_info": {
   "codemirror_mode": {
    "name": "ipython",
    "version": 3
   },
   "file_extension": ".py",
   "mimetype": "text/x-python",
   "name": "python",
   "nbconvert_exporter": "python",
   "pygments_lexer": "ipython3",
   "version": "3.6.6"
  }
 },
 "nbformat": 4,
 "nbformat_minor": 2
}
