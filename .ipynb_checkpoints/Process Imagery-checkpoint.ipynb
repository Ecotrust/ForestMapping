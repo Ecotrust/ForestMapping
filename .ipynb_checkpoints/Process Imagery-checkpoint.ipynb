{
 "cells": [
  {
   "cell_type": "code",
   "execution_count": 239,
   "metadata": {},
   "outputs": [],
   "source": [
    "import ee\n",
    "import IPython.display \n",
    "import pprint\n",
    "import bqplot\n",
    "import datetime\n",
    "import dateutil.parser\n",
    "import ipywidgets\n",
    "import numpy as np\n",
    "import pandas as pd\n",
    "import traitlets\n",
    "\n",
    "# Configure the pretty printing output.\n",
    "pp = pprint.PrettyPrinter(depth=4)"
   ]
  },
  {
   "cell_type": "code",
   "execution_count": 240,
   "metadata": {},
   "outputs": [],
   "source": [
    "##Initialize connection to server\n",
    "ee.Initialize()"
   ]
  },
  {
   "cell_type": "code",
   "execution_count": 241,
   "metadata": {},
   "outputs": [],
   "source": [
    "aoi = ee.Geometry.Polygon([\n",
    "                    [-123.6, 42.0], [-119.9, 41.9], [-121.1, 45.6],\n",
    "                     [-123.8, 45.9], [-123.6, 42.0]])"
   ]
  },
  {
   "cell_type": "code",
   "execution_count": 242,
   "metadata": {},
   "outputs": [],
   "source": [
    "l8sr = ee.ImageCollection('LANDSAT/LC08/C01/T1_SR')\n",
    "l7sr = ee.ImageCollection('LANDSAT/LE07/C01/T1_SR')\n",
    "l5sr = ee.ImageCollection('LANDSAT/LT05/C01/T1_SR')"
   ]
  },
  {
   "cell_type": "code",
   "execution_count": 234,
   "metadata": {},
   "outputs": [],
   "source": [
    "def NDVI_57(image):\n",
    "    red = image.select('B3')\n",
    "    nir = image.select('B4')\n",
    "    ndvi = (nir.subtract(red)).divide(nir.add(red)).rename('ndvi')\n",
    "    #a function to compute NDVI\n",
    "    return image.addBands(ndvi)"
   ]
  },
  {
   "cell_type": "code",
   "execution_count": 235,
   "metadata": {},
   "outputs": [],
   "source": [
    "def NDVI_8(image):\n",
    "    return image.normalizedDifference(['B5', 'B4'])"
   ]
  },
  {
   "cell_type": "code",
   "execution_count": 200,
   "metadata": {},
   "outputs": [],
   "source": [
    "def SAVI_57(image):\n",
    "  #A function to compute Soil Adjusted Vegetation Index\n",
    "  return ee.Image(0).expression(\n",
    "      '(1 + L) * float(nir - red)/ (nir + red + L)',\n",
    "      {\n",
    "          'nir': image.select('B4'),\n",
    "          'red': image.select('B3'),\n",
    "          'L': 0.2\n",
    "      })"
   ]
  },
  {
   "cell_type": "code",
   "execution_count": 201,
   "metadata": {},
   "outputs": [],
   "source": [
    "def SAVI_8(image):\n",
    "    #A function to compute Soil Adjusted Vegetation Index\n",
    "    return ee.Image(0).expression(\n",
    "      '(1 + L) * float(nir - red)/ (nir + red + L)',\n",
    "      {\n",
    "          'nir': image.select('B5'),\n",
    "          'red': image.select('B4'),\n",
    "          'L': 0.2\n",
    "      })"
   ]
  },
  {
   "cell_type": "code",
   "execution_count": 202,
   "metadata": {},
   "outputs": [],
   "source": [
    "def ENDVI_57(image):\n",
    "    #A function to computer ENDVI\n",
    "    return ee.Image(0).expression(\n",
    "        \"(((nir+green)-(factor*blue))/((nir+green)+(factor*blue)))\",\n",
    "        {\n",
    "            \"factor\":2,\n",
    "            \"nir\": image.select('B4'),\n",
    "            \"blue\": image.select('B1'),\n",
    "            \"green\": image.select('B2')\n",
    "        }\n",
    "    )"
   ]
  },
  {
   "cell_type": "code",
   "execution_count": 203,
   "metadata": {},
   "outputs": [],
   "source": [
    "def ENDVI_8(image):\n",
    "    #A function to compute ENDVI\n",
    "    return ee.Image(0).expression(\n",
    "        \"(((nir+green)-(factor*blue))/((nir+green)+(factor*blue)))\",\n",
    "        {\n",
    "            \"factor\":2,\n",
    "            \"nir\":image.select('B5'),\n",
    "            \"blue\":image.select('B2'),\n",
    "            \"green\":image.select('B3')\n",
    "        }\n",
    "    )"
   ]
  },
  {
   "cell_type": "code",
   "execution_count": 204,
   "metadata": {},
   "outputs": [],
   "source": [
    "def tasseled_cap_8(image):\n",
    "    blue = image.select(\"B2\")\n",
    "    green = image.select(\"B3\")\n",
    "    red = image.select(\"B4\")\n",
    "    nir = image.select(\"B5\")\n",
    "    swir1 = image.select(\"B6\")\n",
    "    swir2 = image.select(\"B7\")\n",
    "    #calculate tasseled cap transformation\n",
    "    brightness = (blue * 0.3029) + (green * 0.2786) + (red * 0.4733) + (nir * 0.5599) + (swir1 * 0.508) + (swir2 * 0.1872)\n",
    "    greenness = (blue * -0.2941) + (green * -0.243) + (red * -0.5424) + (nir * 0.7276) + (swir1 * 0.0713) + (swir2 * -0.1608)\n",
    "    wetness = (blue * 0.1511) + (green * 0.1973) + (red * 0.3283) + (nir * 0.3407) + (swir1 * -0.7117) + (swir2 * -0.4559)\n",
    "    \n",
    "    return image.addBands(brightness).addBands(greenness).addBands(wetness)"
   ]
  },
  {
   "cell_type": "code",
   "execution_count": 205,
   "metadata": {},
   "outputs": [],
   "source": [
    "def tasseled_cap_5(image):\n",
    "    blue = image.select(\"B1\")\n",
    "    green = image.select(\"B2\")\n",
    "    red = image.select(\"B3\")\n",
    "    nir = image.select(\"B4\")\n",
    "    swir1 = image.select(\"B5\")\n",
    "    swir2 = image.select(\"B7\")\n",
    "    #calculate tasseled cap transformation\n",
    "    brightness = (blue * 0.2043) + (green * 0.4158) + (red * 0.5524) + (nir * 0.5741) + (swir1 * 0.3124) + (swir2 * 0.2303)\n",
    "    greenness = (blue * -0.1603) + (green * -0.2819) + (red * -0.4934) + (nir * 0.7940) + (swir1 * 0.0002) + (swir2 * -0.1446)\n",
    "    wetness = (blue * 0.0315) + (green * 0.2021) + (red * 0.3102) + (nir * 0.1594) + (swir1 * -0.6806) + (swir2 * -0.6109)\n",
    "    \n",
    "    return image.addBands(brightness).addBands(greenness).addBands(wetness)"
   ]
  },
  {
   "cell_type": "code",
   "execution_count": 206,
   "metadata": {},
   "outputs": [],
   "source": [
    "def tasseled_cap_7(image):\n",
    "    blue = image.select(\"B1\")\n",
    "    green = image.select(\"B2\")\n",
    "    red = image.select(\"B3\")\n",
    "    nir = image.select(\"B4\")\n",
    "    swir1 = image.select(\"B5\")\n",
    "    swir2 = image.select(\"B7\")\n",
    "    #calculate tasseled cap transformation\n",
    "    brightness = (blue * -0.3344) + (green * -0.3544) + (red * -0.4556) + (nir * 0.6966) + (swir1 * -0.0242) + (swir2 * -0.2630)\n",
    "    greenness = (blue * 0.3561) + (green * 0.3972) + (red * 0.3904) + (nir * 0.6966) + (swir1 * 0.2286) + (swir2 * 0.1596)\n",
    "    wetness = (blue * 0.2626) + (green * 0.2141) + (red * 0.0926) + (nir * 0.0656) + (swir1 * -0.7629) + (swir2 * -0.5388)\n",
    "    \n",
    "    return image.addBands(brightness).addBands(greenness).addBands(wetness)"
   ]
  },
  {
   "cell_type": "code",
   "execution_count": 236,
   "metadata": {},
   "outputs": [],
   "source": [
    "#l8sr = l8sr.map(NDVI_8)\n",
    "#.map(ENDVI_8)\\\n",
    "#.map(SAVI_8)\n",
    "#.map(tasseled_cap_8)"
   ]
  },
  {
   "cell_type": "code",
   "execution_count": 243,
   "metadata": {},
   "outputs": [],
   "source": [
    "#load landsat 8 2018\n",
    "land8_2018 = ee.Image(\n",
    "    l8sr.filterDate('2018-01-01', '2018-12-31').filterBounds(aoi).filter(ee.Filter.lt('CLOUD_COVER', 5)).median().clip(aoi)\n",
    ")"
   ]
  },
  {
   "cell_type": "code",
   "execution_count": 245,
   "metadata": {},
   "outputs": [
    {
     "data": {
      "text/plain": [
       "<ee.image.Image at 0x1a05674fa58>"
      ]
     },
     "execution_count": 245,
     "metadata": {},
     "output_type": "execute_result"
    }
   ],
   "source": [
    "NDVI_8(land8_2018)"
   ]
  },
  {
   "cell_type": "code",
   "execution_count": 246,
   "metadata": {},
   "outputs": [
    {
     "name": "stdout",
     "output_type": "stream",
     "text": [
      "{'bands': [{'crs': 'EPSG:4326',\n",
      "            'crs_transform': [1.0, 0.0, 0.0, 0.0, 1.0, 0.0],\n",
      "            'data_type': {'max': 32767.0,\n",
      "                          'min': -32768.0,\n",
      "                          'precision': 'double',\n",
      "                          'type': 'PixelType'},\n",
      "            'dimensions': [5, 5],\n",
      "            'id': 'B1',\n",
      "            'origin': [-124, 41]},\n",
      "           {'crs': 'EPSG:4326',\n",
      "            'crs_transform': [1.0, 0.0, 0.0, 0.0, 1.0, 0.0],\n",
      "            'data_type': {'max': 32767.0,\n",
      "                          'min': -32768.0,\n",
      "                          'precision': 'double',\n",
      "                          'type': 'PixelType'},\n",
      "            'dimensions': [5, 5],\n",
      "            'id': 'B2',\n",
      "            'origin': [-124, 41]},\n",
      "           {'crs': 'EPSG:4326',\n",
      "            'crs_transform': [1.0, 0.0, 0.0, 0.0, 1.0, 0.0],\n",
      "            'data_type': {'max': 32767.0,\n",
      "                          'min': -32768.0,\n",
      "                          'precision': 'double',\n",
      "                          'type': 'PixelType'},\n",
      "            'dimensions': [5, 5],\n",
      "            'id': 'B3',\n",
      "            'origin': [-124, 41]},\n",
      "           {'crs': 'EPSG:4326',\n",
      "            'crs_transform': [1.0, 0.0, 0.0, 0.0, 1.0, 0.0],\n",
      "            'data_type': {'max': 32767.0,\n",
      "                          'min': -32768.0,\n",
      "                          'precision': 'double',\n",
      "                          'type': 'PixelType'},\n",
      "            'dimensions': [5, 5],\n",
      "            'id': 'B4',\n",
      "            'origin': [-124, 41]},\n",
      "           {'crs': 'EPSG:4326',\n",
      "            'crs_transform': [1.0, 0.0, 0.0, 0.0, 1.0, 0.0],\n",
      "            'data_type': {'max': 32767.0,\n",
      "                          'min': -32768.0,\n",
      "                          'precision': 'double',\n",
      "                          'type': 'PixelType'},\n",
      "            'dimensions': [5, 5],\n",
      "            'id': 'B5',\n",
      "            'origin': [-124, 41]},\n",
      "           {'crs': 'EPSG:4326',\n",
      "            'crs_transform': [1.0, 0.0, 0.0, 0.0, 1.0, 0.0],\n",
      "            'data_type': {'max': 32767.0,\n",
      "                          'min': -32768.0,\n",
      "                          'precision': 'double',\n",
      "                          'type': 'PixelType'},\n",
      "            'dimensions': [5, 5],\n",
      "            'id': 'B6',\n",
      "            'origin': [-124, 41]},\n",
      "           {'crs': 'EPSG:4326',\n",
      "            'crs_transform': [1.0, 0.0, 0.0, 0.0, 1.0, 0.0],\n",
      "            'data_type': {'max': 32767.0,\n",
      "                          'min': -32768.0,\n",
      "                          'precision': 'double',\n",
      "                          'type': 'PixelType'},\n",
      "            'dimensions': [5, 5],\n",
      "            'id': 'B7',\n",
      "            'origin': [-124, 41]},\n",
      "           {'crs': 'EPSG:4326',\n",
      "            'crs_transform': [1.0, 0.0, 0.0, 0.0, 1.0, 0.0],\n",
      "            'data_type': {'max': 32767.0,\n",
      "                          'min': -32768.0,\n",
      "                          'precision': 'double',\n",
      "                          'type': 'PixelType'},\n",
      "            'dimensions': [5, 5],\n",
      "            'id': 'B10',\n",
      "            'origin': [-124, 41]},\n",
      "           {'crs': 'EPSG:4326',\n",
      "            'crs_transform': [1.0, 0.0, 0.0, 0.0, 1.0, 0.0],\n",
      "            'data_type': {'max': 32767.0,\n",
      "                          'min': -32768.0,\n",
      "                          'precision': 'double',\n",
      "                          'type': 'PixelType'},\n",
      "            'dimensions': [5, 5],\n",
      "            'id': 'B11',\n",
      "            'origin': [-124, 41]},\n",
      "           {'crs': 'EPSG:4326',\n",
      "            'crs_transform': [1.0, 0.0, 0.0, 0.0, 1.0, 0.0],\n",
      "            'data_type': {'max': 255.0,\n",
      "                          'min': 0.0,\n",
      "                          'precision': 'double',\n",
      "                          'type': 'PixelType'},\n",
      "            'dimensions': [5, 5],\n",
      "            'id': 'sr_aerosol',\n",
      "            'origin': [-124, 41]},\n",
      "           {'crs': 'EPSG:4326',\n",
      "            'crs_transform': [1.0, 0.0, 0.0, 0.0, 1.0, 0.0],\n",
      "            'data_type': {'max': 65535.0,\n",
      "                          'min': 0.0,\n",
      "                          'precision': 'double',\n",
      "                          'type': 'PixelType'},\n",
      "            'dimensions': [5, 5],\n",
      "            'id': 'pixel_qa',\n",
      "            'origin': [-124, 41]},\n",
      "           {'crs': 'EPSG:4326',\n",
      "            'crs_transform': [1.0, 0.0, 0.0, 0.0, 1.0, 0.0],\n",
      "            'data_type': {'max': 65535.0,\n",
      "                          'min': 0.0,\n",
      "                          'precision': 'double',\n",
      "                          'type': 'PixelType'},\n",
      "            'dimensions': [5, 5],\n",
      "            'id': 'radsat_qa',\n",
      "            'origin': [-124, 41]}],\n",
      " 'properties': {'system:footprint': {'coordinates': [[...]],\n",
      "                                     'geodesic': True,\n",
      "                                     'type': 'Polygon'}},\n",
      " 'type': 'Image'}\n"
     ]
    }
   ],
   "source": [
    "pp.pprint(land8_2018.getInfo())"
   ]
  },
  {
   "cell_type": "code",
   "execution_count": 71,
   "metadata": {},
   "outputs": [
    {
     "data": {
      "text/html": [
       "<img src=\"https://earthengine.googleapis.com/api/thumb?thumbid=9bd73ab32cf5402c978f72e4d055b74a&token=8ff9afa044e189a1497bf3ae68b8fa9f\"/>"
      ],
      "text/plain": [
       "<IPython.core.display.Image object>"
      ]
     },
     "execution_count": 71,
     "metadata": {},
     "output_type": "execute_result"
    }
   ],
   "source": [
    "#Display landsat 8 image\n",
    "thumbnail_url = land8_2018.getThumbUrl({\n",
    "    'bands': 'red,green,blue',\n",
    "    'min': 0,\n",
    "    'max': 3000,\n",
    "    'region': land8_2018.geometry().bounds().getInfo()\n",
    "})\n",
    "IPython.display.HTML('Thumbnail URL: <a href={0}>{0}</a>'.format(thumbnail_url))\n",
    "IPython.display.Image(url=thumbnail_url)"
   ]
  },
  {
   "cell_type": "code",
   "execution_count": 41,
   "metadata": {},
   "outputs": [],
   "source": [
    "import ipyleaflet\n",
    "map1 = ipyleaflet.Map(zoom=5, layout={'height':'400px'})\n",
    "dc = ipyleaflet.DrawControl()\n",
    "map1.add_control(dc)"
   ]
  },
  {
   "cell_type": "code",
   "execution_count": 42,
   "metadata": {},
   "outputs": [],
   "source": [
    "def GetTileLayerUrl(ee_image_object):\n",
    "  map_id = ee.Image(ee_image_object).getMapId()\n",
    "  tile_url_template = \"https://earthengine.googleapis.com/map/{mapid}/{{z}}/{{x}}/{{y}}?token={token}\"\n",
    "  return tile_url_template.format(**map_id)"
   ]
  },
  {
   "cell_type": "code",
   "execution_count": 44,
   "metadata": {
    "scrolled": true
   },
   "outputs": [],
   "source": [
    "# Style the image.\n",
    "tile_url = GetTileLayerUrl(land8_2018.visualize(min=0, max=3000, gamma=1.5, bands= ['red', 'green', 'blue']))\n",
    "map1.add_layer(ipyleaflet.TileLayer(url=tile_url))"
   ]
  },
  {
   "cell_type": "code",
   "execution_count": 122,
   "metadata": {},
   "outputs": [],
   "source": [
    "#load landsat 8 2017\n",
    "land8_2017 = ee.Image(\n",
    "    l8sr.filterDate('2017-01-01', '2017-12-31')\\\n",
    "            .filterBounds(aoi).median()filter(ee.Filter.lt('CLOUD_COVER', 5)).clip(aoi)"
   ]
  },
  {
   "cell_type": "code",
   "execution_count": 123,
   "metadata": {},
   "outputs": [],
   "source": [
    "#load landsat 8 2016\n",
    "land8_2016 = ee.Image(\n",
    "    l8sr.filterDate('2016-01-01', '2016-12-31')\\\n",
    "            .filterBounds(aoi).median()filter(ee.Filter.lt('CLOUD_COVER', 5)).clip(aoi)"
   ]
  },
  {
   "cell_type": "code",
   "execution_count": 124,
   "metadata": {},
   "outputs": [],
   "source": [
    "#load landsat 8 2015\n",
    "land5_2015 = ee.Image(\n",
    "    l8sr.filterDate('2015-01-01', '2015-12-31')\\\n",
    "            .filterBounds(aoi).median()filter(ee.Filter.lt('CLOUD_COVER', 5)).clip(aoi)"
   ]
  },
  {
   "cell_type": "code",
   "execution_count": 125,
   "metadata": {},
   "outputs": [],
   "source": [
    "#load landsat 8 2014\n",
    "land5_2014 = ee.Image(\n",
    "    l8sr.filterDate('2014-01-01', '2014-12-31')\\\n",
    "            .filterBounds(aoi).median()filter(ee.Filter.lt('CLOUD_COVER', 5)).clip(aoi)"
   ]
  },
  {
   "cell_type": "code",
   "execution_count": 126,
   "metadata": {},
   "outputs": [],
   "source": [
    "#load landsat 8 2013\n",
    "land5_2013 = ee.Image(\n",
    "    l8sr.filterDate('2013-01-01', '2013-12-31')\\\n",
    "            .filterBounds(aoi).median()filter(ee.Filter.lt('CLOUD_COVER', 5)).clip(aoi)"
   ]
  },
  {
   "cell_type": "code",
   "execution_count": null,
   "metadata": {},
   "outputs": [],
   "source": [
    "### LANDSAT 7, 2012"
   ]
  },
  {
   "cell_type": "code",
   "execution_count": 83,
   "metadata": {},
   "outputs": [],
   "source": [
    "## Landsat 7 2012\n",
    "l7sr = ee.ImageCollection('LANDSAT/LE07/C01/T1_SR')\n",
    "#load landsat 7 2012\n",
    "land7_2012 = ee.Image(\n",
    "    l7sr.filterDate('2012-01-01', '2012-12-31')\n",
    "        .filterBounds(aoi)\n",
    "        .median()\n",
    "        .clip(aoi)\n",
    ")"
   ]
  },
  {
   "cell_type": "code",
   "execution_count": 84,
   "metadata": {},
   "outputs": [],
   "source": [
    "band_names_original = land7_2012.bandNames()"
   ]
  },
  {
   "cell_type": "code",
   "execution_count": 85,
   "metadata": {},
   "outputs": [],
   "source": [
    "l7_bands = ee.Dictionary({\n",
    "    'B1': 'blue',\n",
    "    'B2': 'green',\n",
    "    'B3': 'red',\n",
    "    'B4': 'nir',\n",
    "    'B5': 'swir_1',\n",
    "    'B6': 'twir',\n",
    "    'B7': 'swir_2', \n",
    "    'sr_atmos_opacity': 'sr_atoms',\n",
    "    'sr_cloud_qa': 'sr_cloud',\n",
    "    'pixel_qa': 'pixal_qa',\n",
    "    'radsat_qa': 'radsat_qa'\n",
    "})"
   ]
  },
  {
   "cell_type": "code",
   "execution_count": 86,
   "metadata": {},
   "outputs": [],
   "source": [
    "band_names_new = l7_bands.values(land7_2012 .bandNames())\n",
    "l7sr = l7sr.select(band_names_original, band_names_new)"
   ]
  },
  {
   "cell_type": "code",
   "execution_count": 87,
   "metadata": {},
   "outputs": [],
   "source": [
    "#load landsat 7 2017\n",
    "land7_2012 = ee.Image(\n",
    "    l7sr.filterDate('2012-01-01', '2012-12-31').filterBounds(aoi).filter(ee.Filter.lt('CLOUD_COVER', 5)).median().clip(aoi)\n",
    ")"
   ]
  },
  {
   "cell_type": "code",
   "execution_count": 88,
   "metadata": {
    "scrolled": true
   },
   "outputs": [
    {
     "data": {
      "text/html": [
       "<img src=\"https://earthengine.googleapis.com/api/thumb?thumbid=7fbb77f53bac844c78c1b27255752ba3&token=109b146f561b817391b7e9482e4f55ba\"/>"
      ],
      "text/plain": [
       "<IPython.core.display.Image object>"
      ]
     },
     "execution_count": 88,
     "metadata": {},
     "output_type": "execute_result"
    }
   ],
   "source": [
    "#Display landsat 7 image\n",
    "thumbnail_url = land7_2012.getThumbUrl({\n",
    "    'bands': 'red,green,blue',\n",
    "    'min': 0,\n",
    "    'max': 3000,\n",
    "    'region': land7_2012.geometry().bounds().getInfo()\n",
    "})\n",
    "IPython.display.HTML('Thumbnail URL: <a href={0}>{0}</a>'.format(thumbnail_url))\n",
    "IPython.display.Image(url=thumbnail_url)"
   ]
  },
  {
   "cell_type": "code",
   "execution_count": 89,
   "metadata": {},
   "outputs": [],
   "source": [
    "### LANDSAT 5, 2002-2011"
   ]
  },
  {
   "cell_type": "code",
   "execution_count": 90,
   "metadata": {},
   "outputs": [],
   "source": [
    "## Landsat 5 2011\n",
    "l5sr = ee.ImageCollection(\"LANDSAT/LT05/C01/T1_SR\")\n",
    "#load landsat 5 2011\n",
    "land5_2011 = ee.Image(\n",
    "    l5sr.filterDate('2011-01-01', '2011-12-31')\n",
    "        .filterBounds(aoi)\n",
    "        .median()\n",
    "        .clip(aoi)\n",
    ")"
   ]
  },
  {
   "cell_type": "code",
   "execution_count": 91,
   "metadata": {},
   "outputs": [],
   "source": [
    "band_names_original = land5_2011.bandNames()\n"
   ]
  },
  {
   "cell_type": "code",
   "execution_count": 92,
   "metadata": {},
   "outputs": [],
   "source": [
    "l5_bands = ee.Dictionary({\n",
    "    'B1': 'blue',\n",
    "    'B2': 'green',\n",
    "    'B3': 'red',\n",
    "    'B4': 'nir',\n",
    "    'B5': 'swir_1',\n",
    "    'B6': 'twir',\n",
    "    'B7': 'swir_2', \n",
    "    'sr_atmos_opacity': 'sr_atoms',\n",
    "    'sr_cloud_qa': 'sr_cloud',\n",
    "    'pixel_qa': 'pixal_qa',\n",
    "    'radsat_qa': 'radsat_qa'\n",
    "})"
   ]
  },
  {
   "cell_type": "code",
   "execution_count": 93,
   "metadata": {},
   "outputs": [],
   "source": [
    "band_names_new = l5_bands.values(land5_2011 .bandNames())\n",
    "l5sr = l5sr.select(band_names_original, band_names_new)"
   ]
  },
  {
   "cell_type": "code",
   "execution_count": 94,
   "metadata": {},
   "outputs": [],
   "source": [
    "#load landsat 5 2011\n",
    "land5_2011 = ee.Image(\n",
    "    l5sr.filterDate('2011-01-01', '2011-12-31').filterBounds(aoi).filter(ee.Filter.lt('CLOUD_COVER', 5)).median().clip(aoi)\n",
    ")"
   ]
  },
  {
   "cell_type": "code",
   "execution_count": 95,
   "metadata": {
    "scrolled": true
   },
   "outputs": [
    {
     "data": {
      "text/html": [
       "<img src=\"https://earthengine.googleapis.com/api/thumb?thumbid=7ed618b385e647c7a82f8291527cf1b9&token=969d5f1615184ab38a64b716b4d6a9e0\"/>"
      ],
      "text/plain": [
       "<IPython.core.display.Image object>"
      ]
     },
     "execution_count": 95,
     "metadata": {},
     "output_type": "execute_result"
    }
   ],
   "source": [
    "#Display landsat 5 image\n",
    "thumbnail_url = land5_2011.getThumbUrl({\n",
    "    'bands': 'red,green,blue',\n",
    "    'min': 0,\n",
    "    'max': 3000,\n",
    "    'region': land5_2011.geometry().bounds().getInfo()\n",
    "})\n",
    "IPython.display.HTML('Thumbnail URL: <a href={0}>{0}</a>'.format(thumbnail_url))\n",
    "IPython.display.Image(url=thumbnail_url)"
   ]
  },
  {
   "cell_type": "code",
   "execution_count": 96,
   "metadata": {},
   "outputs": [],
   "source": [
    "#load landsat 5 2010\n",
    "land5_2010 = ee.Image(\n",
    "    l5sr.filterDate('2010-01-01', '2010-12-31').filterBounds(aoi).filter(ee.Filter.lt('CLOUD_COVER', 5)).median().clip(aoi)\n",
    ")"
   ]
  },
  {
   "cell_type": "code",
   "execution_count": 97,
   "metadata": {},
   "outputs": [],
   "source": [
    "#load landsat 5 2009\n",
    "land5_2009 = ee.Image(\n",
    "    l5sr.filterDate('2009-01-01', '2009-12-31').filterBounds(aoi).filter(ee.Filter.lt('CLOUD_COVER', 5)).median().clip(aoi)\n",
    ")"
   ]
  },
  {
   "cell_type": "code",
   "execution_count": 98,
   "metadata": {},
   "outputs": [],
   "source": [
    "#load landsat 5 2008\n",
    "land5_2009 = ee.Image(\n",
    "    l5sr.filterDate('2009-01-01', '2009-12-31').filterBounds(aoi).filter(ee.Filter.lt('CLOUD_COVER', 5)).median().clip(aoi)\n",
    ")"
   ]
  },
  {
   "cell_type": "code",
   "execution_count": 99,
   "metadata": {},
   "outputs": [],
   "source": [
    "#load landsat 5 2008\n",
    "land5_2008 = ee.Image(\n",
    "    l5sr.filterDate('2008-01-01', '2008-12-31').filterBounds(aoi).filter(ee.Filter.lt('CLOUD_COVER', 5)).median().clip(aoi)\n",
    ")"
   ]
  },
  {
   "cell_type": "code",
   "execution_count": 100,
   "metadata": {},
   "outputs": [],
   "source": [
    "#load landsat 5 2007\n",
    "land5_2007 = ee.Image(\n",
    "    l5sr.filterDate('2007-01-01', '2007-12-31').filterBounds(aoi).filter(ee.Filter.lt('CLOUD_COVER', 5)).median().clip(aoi)\n",
    ")"
   ]
  },
  {
   "cell_type": "code",
   "execution_count": 101,
   "metadata": {},
   "outputs": [],
   "source": [
    "#load landsat 5 2006\n",
    "land5_2006 = ee.Image(\n",
    "    l5sr.filterDate('2006-01-01', '2006-12-31').filterBounds(aoi).filter(ee.Filter.lt('CLOUD_COVER', 5)).median().clip(aoi)\n",
    ")"
   ]
  },
  {
   "cell_type": "code",
   "execution_count": 102,
   "metadata": {},
   "outputs": [],
   "source": [
    "#load landsat 5 2005\n",
    "land5_2005 = ee.Image(\n",
    "    l5sr.filterDate('2005-01-01', '2005-12-31').filterBounds(aoi).filter(ee.Filter.lt('CLOUD_COVER', 5)).median().clip(aoi)\n",
    ")"
   ]
  },
  {
   "cell_type": "code",
   "execution_count": 103,
   "metadata": {},
   "outputs": [],
   "source": [
    "#load landsat 5 2004\n",
    "land5_2004 = ee.Image(\n",
    "    l5sr.filterDate('2004-01-01', '2004-12-31').filterBounds(aoi).filter(ee.Filter.lt('CLOUD_COVER', 5)).median().clip(aoi)\n",
    ")"
   ]
  },
  {
   "cell_type": "code",
   "execution_count": 104,
   "metadata": {},
   "outputs": [],
   "source": [
    "#load landsat 5 2003\n",
    "land5_2003 = ee.Image(\n",
    "    l5sr.filterDate('2003-01-01', '2003-12-31').filterBounds(aoi).filter(ee.Filter.lt('CLOUD_COVER', 5)).median().clip(aoi)\n",
    ")"
   ]
  },
  {
   "cell_type": "code",
   "execution_count": 105,
   "metadata": {},
   "outputs": [],
   "source": [
    "#load landsat 5 2002\n",
    "land5_2002 = ee.Image(\n",
    "    l5sr.filterDate('2002-01-01', '2002-12-31').filterBounds(aoi).filter(ee.Filter.lt('CLOUD_COVER', 5)).median().clip(aoi)\n",
    ")"
   ]
  },
  {
   "cell_type": "code",
   "execution_count": 108,
   "metadata": {},
   "outputs": [
    {
     "data": {
      "text/html": [
       "<img src=\"https://earthengine.googleapis.com/api/thumb?thumbid=07cf7d8338cece9b110bc15eb51e42de&token=b9c998fd6aeddc4c7743c3a9b8c934b7\"/>"
      ],
      "text/plain": [
       "<IPython.core.display.Image object>"
      ]
     },
     "execution_count": 108,
     "metadata": {},
     "output_type": "execute_result"
    }
   ],
   "source": [
    "#Display landsat 5 image\n",
    "thumbnail_url = land5_2002.getThumbUrl({\n",
    "    'bands': 'red,green,blue',\n",
    "    'min': 0,\n",
    "    'max': 3000,\n",
    "    'region': land5_2002.geometry().bounds().getInfo()\n",
    "})\n",
    "IPython.display.HTML('Thumbnail URL: <a href={0}>{0}</a>'.format(thumbnail_url))\n",
    "IPython.display.Image(url=thumbnail_url)"
   ]
  },
  {
   "cell_type": "code",
   "execution_count": 113,
   "metadata": {},
   "outputs": [],
   "source": [
    "#function to calculate band and band ratio metrics \n",
    "def calc_landMets(image):\n",
    "    b = image.select(\"blue\")\n",
    "    g = image.select(\"green\")\n",
    "    r = image.select(\"red\")\n",
    "    nr = image.select(\"nir\")\n",
    "    s1 = image.select(\"swir_1\")\n",
    "    s2 = image.select(\"swir_2\")\n",
    "    #calculate ndvi\n",
    "    ndvi = image.normalizedDifference([\"nir\", \"red\"])\n",
    "    #calculate gndvi\n",
    "    gndvi = image.normalizedDifference([\"nir\", \"green\"])\n",
    "    #calcuate ENDVI\n",
    "    factor = ee.Image(2)\n",
    "    endvi = image.expression(\n",
    "        \"(((NIR+GREEN)-(factor*BLUE))/((NIR+GREEN)+(factor*BLUE)))\",\n",
    "        {\n",
    "            \"factor\":factor,\n",
    "            \"NIR\":nr,\n",
    "            \"BLUE\":b,\n",
    "            \"GREEN\":g\n",
    "        }\n",
    "    )\n",
    "    calc_mets = ee.Image(ndvi).addBands(gndvi).addBands(endvi).addBands(b). addBands(g)\\\n",
    "                .addBands(r).addBands(nr).addBands(s1).addBands(s2)\n",
    "    \n",
    "    return calc_mets.rename('ndvi', 'gndvi', 'endvi', 'blue', 'green', 'red', 'nir', 'swir_1', 'swir_2')"
   ]
  },
  {
   "cell_type": "code",
   "execution_count": 115,
   "metadata": {},
   "outputs": [],
   "source": [
    "calc_2002 = calc_landMets(land5_2002)\n",
    "#pp.pprint(calc_2002.getInfo())"
   ]
  },
  {
   "cell_type": "code",
   "execution_count": 130,
   "metadata": {},
   "outputs": [
    {
     "data": {
      "text/plain": [
       "<map at 0x1a0566ed898>"
      ]
     },
     "execution_count": 130,
     "metadata": {},
     "output_type": "execute_result"
    }
   ],
   "source": [
    "#run calc_landMets for all landsat years\n",
    "landsat_years = [\"land8_2018\", \"land8_2017\", \"land8_2016\", \"land8_2015\", \"land8_2014\", \"land8_2013\", \n",
    "                 \"land7_2012\", \"land5_2011\", \"land5_2010\", \"land5_2009\", \"land5_2008\", \"land5_2007\", \n",
    "                 \"land5_2006\", \"land5_2005\", \"land5_2004\", \"land5_2003\", \"land5_2002\"]\n",
    "\n",
    "map(calc_landMets, landsat_years)\n",
    "    "
   ]
  },
  {
   "cell_type": "code",
   "execution_count": null,
   "metadata": {},
   "outputs": [],
   "source": []
  },
  {
   "cell_type": "code",
   "execution_count": null,
   "metadata": {},
   "outputs": [],
   "source": [
    "## tasseled cap coefficients - land8\n",
    "refB = c(0.3029, 0.2786, 0.4733, 0.5599, 0.508, 0.1872) \n",
    "refG = c(-0.2941, -0.243, -0.5424, 0.7276, -0.0713,-0.1608)\n",
    "refW = c(0.1511, 0.1973, 0.3283, 0.3407, -0.7117, -0.4559)"
   ]
  }
 ],
 "metadata": {
  "kernelspec": {
   "display_name": "Environment (conda_ee_py3)",
   "language": "python",
   "name": "conda_ee_py3"
  },
  "language_info": {
   "codemirror_mode": {
    "name": "ipython",
    "version": 3
   },
   "file_extension": ".py",
   "mimetype": "text/x-python",
   "name": "python",
   "nbconvert_exporter": "python",
   "pygments_lexer": "ipython3",
   "version": "3.6.6"
  }
 },
 "nbformat": 4,
 "nbformat_minor": 2
}
